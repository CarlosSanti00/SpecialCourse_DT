{
 "cells": [
  {
   "cell_type": "markdown",
   "metadata": {},
   "source": [
    "# RNN for the original whole dataset"
   ]
  },
  {
   "cell_type": "code",
   "execution_count": 1,
   "metadata": {
    "scrolled": false
   },
   "outputs": [
    {
     "name": "stderr",
     "output_type": "stream",
     "text": [
      "C:\\Users\\minij\\anaconda3\\envs\\special_course\\lib\\site-packages\\tqdm\\auto.py:22: TqdmWarning: IProgress not found. Please update jupyter and ipywidgets. See https://ipywidgets.readthedocs.io/en/stable/user_install.html\n",
      "  from .autonotebook import tqdm as notebook_tqdm\n"
     ]
    }
   ],
   "source": [
    "# Import of required libraries and functions from 'make_dataset' script\n",
    "import os\n",
    "from make_dataset import Discotope_Dataset\n",
    "import numpy as np\n",
    "import torch\n",
    "import pandas as pd\n",
    "import re\n",
    "import matplotlib.pyplot as plt\n",
    "from sklearn.utils.class_weight import compute_class_weight\n",
    "from sklearn.preprocessing import MinMaxScaler, StandardScaler\n",
    "from sklearn import metrics\n",
    "from sklearn.metrics import accuracy_score, log_loss, confusion_matrix, roc_auc_score\n",
    "from tqdm import tqdm\n",
    "from IPython.display import clear_output\n",
    "import random\n",
    "\n",
    "# Importing the style package\n",
    "from matplotlib import style"
   ]
  },
  {
   "cell_type": "code",
   "execution_count": 2,
   "metadata": {},
   "outputs": [],
   "source": [
    "# Import tensorflow and keras\n",
    "import tensorflow as tf\n",
    "from tensorflow import keras"
   ]
  },
  {
   "cell_type": "code",
   "execution_count": 3,
   "metadata": {},
   "outputs": [],
   "source": [
    "tf.random.set_seed(1234)"
   ]
  },
  {
   "cell_type": "code",
   "execution_count": 4,
   "metadata": {},
   "outputs": [],
   "source": [
    "def data_load(name_set, data_dir, separate=False):\n",
    "    \n",
    "    '''\n",
    "    Function to load training, validation or test data from the folder/directory you have storaged the whole dataset\n",
    "        - 'name_set': text variable with the type of data set to load ('train', 'test', 'valid')\n",
    "        - 'data_dir': directory where you have storaged the data set (in my case is '../Data/')\n",
    "        - 'separate': boolean that returns the PDBs and AF2 sets separately (only when True)\n",
    "    \n",
    "    Output:\n",
    "        - 'X_all': all observations from both solved and predicted structures all together\n",
    "        - 'y_all': all labels from both solved and predicted structures all together\n",
    "        - 'N_solved': number of observations from solved structures (in case of wanted to unmerge the 'all' array)\n",
    "        - 'N_af2': number of observations from predicted structures (in case of wanted to unmerge the 'all' array)\n",
    "    '''\n",
    "    \n",
    "    # 'Pathlib module' load to work with windows path\n",
    "    import pathlib\n",
    "    temp = pathlib.PosixPath\n",
    "    pathlib.PosixPath = pathlib.WindowsPath\n",
    "    \n",
    "    # List of all subdirectories inside the data directory\n",
    "    dirs = [d for d in os.listdir(data_dir)]\n",
    "    \n",
    "    # 're' module to use regex for filtering the specific directories according to the type of data set to load\n",
    "    pattern = '.*' + name_set + '.*'\n",
    "    R = re.compile(pattern)\n",
    "    filtered = [folder for folder in dirs if R.match(folder)]\n",
    "    \n",
    "    # Loading the data set for solved structures and AlphaFold2 predicted structures\n",
    "    path_af2 = data_dir + filtered[0] + '/dataset.pt'\n",
    "    path_solved = data_dir + filtered[1] + '/dataset.pt'\n",
    "    set_af2 = torch.load(path_af2)\n",
    "    set_solved = torch.load(path_solved)\n",
    "    \n",
    "    # Stack all features and targets to one big array (removing NaN entries)\n",
    "    X_set_solved = np.concatenate([set_solved[i][\"X_arr\"] for i in range(0, len(set_solved), 1) if not set_solved[i]['df_stats']['rsa'].isna().any()])\n",
    "    y_set_solved = np.concatenate([set_solved[i][\"y_arr\"] for i in range(0, len(set_solved), 1) if not set_solved[i]['df_stats']['rsa'].isna().any()])\n",
    "    X_set_af2 = np.concatenate([set_af2[i][\"X_arr\"] for i in range(0, len(set_solved), 1) if not set_solved[i]['df_stats']['rsa'].isna().any()])\n",
    "    y_set_af2 = np.concatenate([set_af2[i][\"y_arr\"] for i in range(0, len(set_solved), 1) if not set_solved[i]['df_stats']['rsa'].isna().any()])\n",
    "    \n",
    "    # Nº of observations for each subtype of data set\n",
    "    N_set_solved = X_set_solved.shape[0]\n",
    "    N_set_af2 = X_set_af2.shape[0]\n",
    "    \n",
    "    # Stack all features and targets from solved and predicted structures into only one big\n",
    "    X_set_all = np.concatenate((X_set_solved, X_set_af2), axis=0)\n",
    "    y_set_all = np.concatenate((y_set_solved, y_set_af2), axis=0)\n",
    "    \n",
    "    if (separate==True):\n",
    "        return(X_set_all, y_set_all, X_set_solved, y_set_solved, X_set_af2, y_set_af2)\n",
    "    else:\n",
    "        return(X_set_all, y_set_all, N_set_solved, N_set_af2)"
   ]
  },
  {
   "cell_type": "code",
   "execution_count": 5,
   "metadata": {},
   "outputs": [],
   "source": [
    "def results_df_stats_creation(name_set, data_dir):\n",
    "    \n",
    "    '''\n",
    "    Function to store the stats information from each pdb of the original dataset\n",
    "        - 'name_set': text variable with the type of data set to load ('train', 'test', 'valid')\n",
    "        - 'data_dir': directory where you have storaged the data set (in my case is '../Data/')\n",
    "    \n",
    "    Output:\n",
    "        - 'stats_df_solved': dataframe for the solved structures (removing NaN entries of RSA values)\n",
    "        - 'stats_df_af2': dataframe for the AF2 structures (removing NaN entries of RSA values)\n",
    "    '''\n",
    "    \n",
    "    # 'Pathlib module' load to work with windows path\n",
    "    import pathlib\n",
    "    temp = pathlib.PosixPath\n",
    "    pathlib.PosixPath = pathlib.WindowsPath\n",
    "    \n",
    "    # List of all subdirectories inside the data directory\n",
    "    dirs = [d for d in os.listdir(data_dir)]\n",
    "    \n",
    "    # 're' module to use regex for filtering the specific directories according to the type of data set to load\n",
    "    pattern = '.*' + name_set + '.*'\n",
    "    R = re.compile(pattern)\n",
    "    filtered = [folder for folder in dirs if R.match(folder)]\n",
    "    \n",
    "    # Loading the data set for solved structures and AlphaFold2 predicted structures\n",
    "    path_af2 = data_dir + filtered[0] + '/dataset.pt'\n",
    "    path_solved = data_dir + filtered[1] + '/dataset.pt'\n",
    "    set_af2 = torch.load(path_af2)\n",
    "    set_solved = torch.load(path_solved)\n",
    "    \n",
    "    # Stats dataframe creation for SOLVED and AF2 structures (removing 'NaN' entries according the PDB set)\n",
    "    stats_dfs_solved = []\n",
    "    stats_dfs_af2 = []\n",
    "    for i in range(0, len(set_solved), 1):\n",
    "        sample = set_solved[i]\n",
    "        sample_af2 = set_af2[i]\n",
    "        df_sample = sample['df_stats']\n",
    "        df_sample_af2 = sample_af2['df_stats']\n",
    "        \n",
    "        # Removing 'NaN' entries and adding the epitope column\n",
    "        if(df_sample['rsa'].isna().any() == False):\n",
    "            df_sample['epitope'] = sample['y_arr'].astype(bool)\n",
    "            df_sample_af2['epitope'] = sample_af2['y_arr'].astype(bool)\n",
    "            stats_dfs_solved.append(df_sample)\n",
    "            stats_dfs_af2.append(df_sample_af2)\n",
    "    \n",
    "    return(stats_dfs_solved, stats_dfs_af2)"
   ]
  },
  {
   "cell_type": "code",
   "execution_count": 6,
   "metadata": {},
   "outputs": [],
   "source": [
    "def dataframe_load(name_set, data_dir):\n",
    "    \n",
    "    '''\n",
    "    Function to load training, validation or test dataframes from the folder/directory you have storaged the whole dataset.\n",
    "    This function is specifically to have the original dataframes of the data, and their corresponding description\n",
    "        - 'name_set': text variable with the type of data set to load ('train', 'test', 'valid')\n",
    "        - 'data_dir': directory where you have storaged the data set (in my case is '../Data/')\n",
    "    \n",
    "    Output:\n",
    "        - 'set_af2': dataframe for AF2 predicted structures\n",
    "        - 'set_solved': dataframe for PDB solved structures\n",
    "    '''\n",
    "    \n",
    "    # 'Pathlib module' load to work with windows path\n",
    "    import pathlib\n",
    "    temp = pathlib.PosixPath\n",
    "    pathlib.PosixPath = pathlib.WindowsPath\n",
    "    \n",
    "    # List of all subdirectories inside the data directory\n",
    "    dirs = [d for d in os.listdir(data_dir)]\n",
    "    \n",
    "    # 're' module to use regex for filtering the specific directories according to the type of data set to load\n",
    "    pattern = '.*' + name_set + '.*'\n",
    "    R = re.compile(pattern)\n",
    "    filtered = [folder for folder in dirs if R.match(folder)]\n",
    "    \n",
    "    # Loading the data set for solved structures and AlphaFold2 predicted structures\n",
    "    path_af2 = data_dir + filtered[0] + '/dataset.pt'\n",
    "    path_solved = data_dir + filtered[1] + '/dataset.pt'\n",
    "    set_af2 = torch.load(path_af2)\n",
    "    set_solved = torch.load(path_solved)\n",
    "    \n",
    "    return(set_af2, set_solved)"
   ]
  },
  {
   "cell_type": "code",
   "execution_count": 7,
   "metadata": {},
   "outputs": [],
   "source": [
    "def remove_NaN(data, y):\n",
    "    \n",
    "    '''\n",
    "    Function to remove NaN values (some PDB entries have RSA NaN values)\n",
    "        - 'data': numpy array with the specific (train, valid, test) data\n",
    "        - 'y': numpy array with the specific (train, valid, test) labels\n",
    "    \n",
    "    Output:\n",
    "        - 'data_noNaN': array withouth the entries/observations that contain NaN values\n",
    "    '''\n",
    "    \n",
    "    # Merging X and y arrays all together\n",
    "    joint_data = np.hstack((data, y.reshape(-1, 1)))\n",
    "    \n",
    "    # Removal of NaN entries\n",
    "    nan_rows = np.isnan(joint_data).any(axis=1)\n",
    "    data_noNaN = joint_data[~nan_rows, :]\n",
    "    \n",
    "    # Demerging the final array into X and y\n",
    "    X_noNaN = data_noNaN[:, 0:data.shape[1]]\n",
    "    y_noNaN = data_noNaN[:,-1]\n",
    "    \n",
    "    return(X_noNaN, y_noNaN)"
   ]
  },
  {
   "cell_type": "code",
   "execution_count": 8,
   "metadata": {},
   "outputs": [],
   "source": [
    "def normalize_train(X):\n",
    "    \n",
    "    '''\n",
    "    Function to normalize the columns 532 (pLLDT) and 533 (length) because they have high length\n",
    "        - 'X': data to normalize\n",
    "    '''\n",
    "    \n",
    "    # Create a copy of the X vector to do the normalization\n",
    "    X_scaled = X.copy()\n",
    "    \n",
    "    # Create an instance of MinMaxScaler\n",
    "    scaler = StandardScaler()\n",
    "    \n",
    "    # Fit the scaler to the data \n",
    "    #scaler.fit(X_scaled[:, 532:534])\n",
    "    scaler.fit(X_scaled)\n",
    "    \n",
    "    # Transform the data\n",
    "    #X_scaled[:, 532:534] = scaler.fit_transform(X_scaled[:, 532:534])\n",
    "    X_scaled = scaler.fit_transform(X_scaled)\n",
    "    return(X_scaled)"
   ]
  },
  {
   "cell_type": "code",
   "execution_count": 9,
   "metadata": {},
   "outputs": [],
   "source": [
    "def Z_transform_train(X, cols_to_select):\n",
    "    \n",
    "    '''\n",
    "    Function to normalize the columns 532 (pLLDT) and 533 (length) because they have high length\n",
    "        - 'X': data to normalize\n",
    "    '''\n",
    "    \n",
    "    # Obtain the mean and standard deviation for each feature on the array\n",
    "    X_mean = np.mean(X[:, cols_to_select], axis=0)\n",
    "    X_std = np.std(X[:, cols_to_select], axis=0)\n",
    "    \n",
    "    # Correcting pLDDT column sd in case of using only PDB set\n",
    "    X_std[X_std == 0] = 1\n",
    "    \n",
    "    # Z-transform (standardization)\n",
    "    X[:, cols_to_select] = (X[:, cols_to_select] - X_mean)/X_std\n",
    "    return(X, X_mean, X_std)"
   ]
  },
  {
   "cell_type": "code",
   "execution_count": 10,
   "metadata": {},
   "outputs": [],
   "source": [
    "def Z_transform_valid(X, mean_train, sd_train, cols_to_select):\n",
    "    \n",
    "    '''\n",
    "    Function to normalize the columns 532 (pLLDT) and 533 (length) because they have high length\n",
    "        - 'X': data to normalize\n",
    "        - 'mean_train': mean from standardized training set\n",
    "        - 'sd_train': standard deviation from standardized training set\n",
    "    '''\n",
    "    \n",
    "    # Z-transform (standardization)\n",
    "    X[:, cols_to_select] = (X[:, cols_to_select] - mean_train)/sd_train\n",
    "    return(X)"
   ]
  },
  {
   "cell_type": "code",
   "execution_count": 11,
   "metadata": {},
   "outputs": [],
   "source": [
    "def class_weight_calculator(y_train):\n",
    "        \n",
    "    '''\n",
    "    Function to calculate the class weights for the unbalanced data\n",
    "        - 'y_train': training labels (contains 0 and 1)\n",
    "    '''\n",
    "    \n",
    "    # Compute the class weights with sklearn function\n",
    "    class_weights = compute_class_weight('balanced', classes=np.unique(y_train), y=y_train)\n",
    "\n",
    "    # Convert the class weights to a dictionary\n",
    "    class_weight = dict(enumerate(class_weights))\n",
    "    return(class_weight)"
   ]
  },
  {
   "cell_type": "code",
   "execution_count": 12,
   "metadata": {},
   "outputs": [],
   "source": [
    "# Neuronal network model with one layer and one hidden unit\n",
    "def nn1_model(train_data, y_train, act_fun, loss_fun, alpha, class_weight_fn, batch = None, balancing=True):\n",
    "    \n",
    "    '''\n",
    "    Function to create and train/validate the feed-forward neuronal network with only 1 hidden layer\n",
    "        -'train_data': X train standardized\n",
    "        -'y_train': training labels\n",
    "        -'act_fun': activation function\n",
    "        -'loss_fun': loss function\n",
    "        -'class_weight_calculator': function to calculate the weights for each class\n",
    "        -'batch': batch_size (baseline is None, but can be changed by adding a integer as new value)\n",
    "        -'balancing': True/False argument for incorporating balancing in classes\n",
    "    \n",
    "    Output:\n",
    "        -'model': neural network model trained\n",
    "        -'history': attributes obtained during fitting the model\n",
    "    '''\n",
    "    \n",
    "    # Calculation of the class weights with function previously defined\n",
    "    class_weight = class_weight_fn(y_train)\n",
    "    \n",
    "    # Normalization of the class_weight to sum 1\n",
    "    tot = class_weight[0] + class_weight[1]\n",
    "    class_weight[0] = class_weight[0]/tot\n",
    "    class_weight[1] = class_weight[1]/tot\n",
    "    \n",
    "    # Implementation of keras for creating a sequential model with 1 layer\n",
    "    tf.random.set_seed(1234)\n",
    "    from keras.layers import Dense, Dropout\n",
    "    from keras import regularizers, metrics\n",
    "    \n",
    "    model = keras.Sequential()\n",
    "    # Input layer with train_data.shape neurons and a hidden layer with 1 neuron\n",
    "    model.add(Dense(1, activation=act_fun, input_shape=train_data.shape[1:], kernel_regularizer=regularizers.l2(alpha)))\n",
    "    # Output layer with sigmoid activation (better for binary classification)\n",
    "    model.add(Dense(1, activation='sigmoid'))\n",
    "    \n",
    "    opt = tf.keras.optimizers.Adam(learning_rate=0.0001)\n",
    "    model.compile(optimizer=opt, loss=loss_fun, metrics=\n",
    "                  ['accuracy', metrics.Precision(), metrics.Recall(), metrics.AUC(), loss_fun])\n",
    "    \n",
    "    if (balancing == True):\n",
    "        history = model.fit(train_data, y_train, epochs = 100, batch_size=batch, verbose=0, class_weight=class_weight)\n",
    "    else:\n",
    "        history = model.fit(train_data, y_train, epochs = 100, batch_size=batch, verbose=0)\n",
    "    \n",
    "    return(model, history)"
   ]
  },
  {
   "cell_type": "code",
   "execution_count": 13,
   "metadata": {},
   "outputs": [],
   "source": [
    "# Neuronal network model with one layer and 10 hidden unit\n",
    "def nn10_model(train_data, y_train, act_fun, loss_fun, alpha, class_weight_fn, drop_rate, batch = None, balancing=True):\n",
    "    \n",
    "    '''\n",
    "    Function to create and train/validate the feed-forward neuronal network with only 1 hidden layer\n",
    "        -'train_data': X train standardized\n",
    "        -'y_train': training labels\n",
    "        -'act_fun': activation function\n",
    "        -'loss_fun': loss function\n",
    "        -'class_weight_calculator': function to calculate the weights for each class\n",
    "        -'batch': batch_size (baseline is None, but can be changed by adding a integer as new value)\n",
    "        -'balancing': True/False argument for incorporating balancing in classes\n",
    "    \n",
    "    Output:\n",
    "        -'model': neural network model trained\n",
    "        -'history': attributes obtained during fitting the model\n",
    "    '''\n",
    "    \n",
    "    # Calculation of the class weights with function previously defined\n",
    "    class_weight = class_weight_fn(y_train)\n",
    "    \n",
    "    # Normalization of the class_weight to sum 1\n",
    "    tot = class_weight[0] + class_weight[1]\n",
    "    class_weight[0] = class_weight[0]/tot\n",
    "    class_weight[1] = class_weight[1]/tot\n",
    "    \n",
    "    # Implementation of keras for creating a sequential model with 1 layer\n",
    "    tf.random.set_seed(1234)\n",
    "    from keras.layers import Dense, Dropout\n",
    "    from keras import regularizers, metrics\n",
    "    \n",
    "    model = keras.Sequential()\n",
    "    # Input layer with train_data.shape neurons and a hidden layer with 1 neuron\n",
    "    model.add(Dense(10, activation=act_fun, input_shape=train_data.shape[1:], kernel_regularizer=regularizers.l2(alpha)))\n",
    "    model.add(Dropout(drop_rate))\n",
    "    # Output layer with sigmoid activation (better for binary classification)\n",
    "    model.add(Dense(1, activation='sigmoid'))\n",
    "    \n",
    "    opt = tf.keras.optimizers.Adam(learning_rate=0.0001)\n",
    "    model.compile(optimizer=opt, loss=loss_fun, metrics=\n",
    "                  ['accuracy', metrics.Precision(), metrics.Recall(), metrics.AUC(), loss_fun])\n",
    "    \n",
    "    if (balancing == True):\n",
    "        history = model.fit(train_data, y_train, epochs = 100, batch_size=batch, verbose=0, class_weight=class_weight)\n",
    "    else:\n",
    "        history = model.fit(train_data, y_train, epochs = 100, batch_size=batch, verbose=0)\n",
    "    \n",
    "    return(model, history)"
   ]
  },
  {
   "cell_type": "code",
   "execution_count": 14,
   "metadata": {},
   "outputs": [],
   "source": [
    "def loss_plot(loss_values):\n",
    "    \n",
    "    '''\n",
    "    Function to plot the loss curve of the training of the model\n",
    "        - 'loss_values': array with the loss values for each iteration of the training\n",
    "    '''\n",
    "    \n",
    "    plt.plot(loss_values, label = 'Train')\n",
    "    plt.title('Model loss')\n",
    "    plt.ylabel('Loss')\n",
    "    plt.xlabel('Epoch')\n",
    "    plt.legend(loc='upper right')\n",
    "    plt.show()"
   ]
  },
  {
   "cell_type": "code",
   "execution_count": 15,
   "metadata": {},
   "outputs": [],
   "source": [
    "def ROC_AUC(y_true, y_hat):\n",
    "    \n",
    "    '''\n",
    "    Function to obtain the AUC value based on the ROC curve\n",
    "        - 'y_true': y original values\n",
    "        - 'y_hat': y predicted values\n",
    "        \n",
    "    Output:\n",
    "        - 'ROC_auc': AUC value\n",
    "    '''\n",
    "    \n",
    "    fpr, tpr, _ = metrics.roc_curve(y_true, y_hat)\n",
    "    ROC_auc = metrics.auc(fpr, tpr)\n",
    "    return(ROC_auc)"
   ]
  },
  {
   "cell_type": "code",
   "execution_count": 16,
   "metadata": {},
   "outputs": [],
   "source": [
    "def PR_AUC(y_true, y_hat):\n",
    "    \n",
    "    '''\n",
    "    Function to obtain the AUC value based on the precision and recall parameters\n",
    "        - 'y_true': y original values\n",
    "        - 'y_hat': y predicted values\n",
    "        \n",
    "    Output:\n",
    "        - 'PR_auc': AUC value\n",
    "    '''\n",
    "    \n",
    "    precision, recall, thresholds = metrics.precision_recall_curve(y_true, y_hat)\n",
    "    PR_auc = metrics.auc(recall, precision)\n",
    "    return(PR_auc)"
   ]
  },
  {
   "cell_type": "code",
   "execution_count": 17,
   "metadata": {},
   "outputs": [],
   "source": [
    "# Epitope rank percentile score\n",
    "# https://github.com/Magnushhoie/discotope3/blob/main/src/models/mlscripts.py#L55\n",
    "\n",
    "def get_percentile_score_arr(\n",
    "    scores: np.array,\n",
    "    epitopes: np.array,\n",
    "):\n",
    "    \n",
    "    \"\"\"Find mean predicted epitope rank percentile score from the scores (y_hat) and the epitopes (y_true)\"\"\"\n",
    "    epitopes_bool = epitopes.astype(bool)\n",
    "    assert epitopes_bool.dtype == \"bool\"\n",
    "\n",
    "    c = scores[epitopes_bool].mean()\n",
    "    c_percentile = (c > scores).mean()\n",
    "\n",
    "    return c_percentile"
   ]
  },
  {
   "cell_type": "code",
   "execution_count": 18,
   "metadata": {
    "scrolled": true
   },
   "outputs": [
    {
     "data": {
      "text/plain": [
       "((446835, 536), (446835,), (115978, 536), (115978,), (11882, 536), (11882,))"
      ]
     },
     "execution_count": 18,
     "metadata": {},
     "output_type": "execute_result"
    }
   ],
   "source": [
    "# Data loading for training, validation, and test data sets (needs a couple of minutes)\n",
    "X_train, y_train, X_train_PDB, y_train_PDB, X_train_af2, y_train_af2 = data_load(name_set='train', data_dir='../Data/', separate = True)\n",
    "X_valid, y_valid, X_valid_PDB, y_valid_PDB, X_valid_af2, y_valid_af2 = data_load(name_set='valid', data_dir='../Data/', separate = True)\n",
    "X_test, y_test, X_test_PDB, y_test_PDB, X_test_af2, y_test_af2 = data_load(name_set='test', data_dir='../Data/', separate = True)\n",
    "\n",
    "X_train.shape, y_train.shape, X_valid.shape, y_valid.shape, X_test.shape, y_test.shape"
   ]
  },
  {
   "cell_type": "code",
   "execution_count": 19,
   "metadata": {
    "scrolled": true
   },
   "outputs": [],
   "source": [
    "## NOT NEEDED: ALREADY REMOVED WHEN LOADING THE DATA\n",
    "# Data manipulation to remove all PDB entries with NaN values in the RSA feature (535)\n",
    "\n",
    "# X_train, y_train = remove_NaN(data=X_train, y=y_train)\n",
    "# X_valid, y_valid = remove_NaN(data=X_valid, y=y_valid)\n",
    "# X_test, y_test = remove_NaN(data=X_test, y=y_test)\n",
    "\n",
    "# X_train.shape, y_train.shape, X_valid.shape, y_valid.shape, X_test.shape, y_test.shape"
   ]
  },
  {
   "cell_type": "code",
   "execution_count": 20,
   "metadata": {},
   "outputs": [
    {
     "data": {
      "text/plain": [
       "((446835, 536), (115978, 536), (11882, 536))"
      ]
     },
     "execution_count": 20,
     "metadata": {},
     "output_type": "execute_result"
    }
   ],
   "source": [
    "# Data normalization\n",
    "cols = list(range(0, 512)) + [532] + [533] + [535]\n",
    "X_train_sc, mean_X_train, sd_X_train = Z_transform_train(X_train, cols_to_select=cols)\n",
    "X_valid_sc = Z_transform_valid(X_valid, mean_X_train, sd_X_train, cols_to_select=cols)\n",
    "X_test_sc = Z_transform_valid(X_test, mean_X_train, sd_X_train, cols_to_select=cols)\n",
    "\n",
    "X_train_sc.shape, X_valid_sc.shape, X_test_sc.shape"
   ]
  },
  {
   "cell_type": "code",
   "execution_count": 21,
   "metadata": {},
   "outputs": [
    {
     "data": {
      "text/plain": [
       "((223346, 536), (57989, 536), (5941, 536))"
      ]
     },
     "execution_count": 21,
     "metadata": {},
     "output_type": "execute_result"
    }
   ],
   "source": [
    "# Data normalization (PDB only)\n",
    "cols = list(range(0, 512)) + [532] + [533] + [535]\n",
    "X_train_PDB_sc, mean_X_train_PDB, sd_X_train_PDB = Z_transform_train(X_train_PDB, cols_to_select=cols)\n",
    "X_valid_PDB_sc = Z_transform_valid(X_valid_PDB, mean_X_train_PDB, sd_X_train_PDB, cols_to_select=cols)\n",
    "X_test_PDB_sc = Z_transform_valid(X_test_PDB, mean_X_train_PDB, sd_X_train_PDB, cols_to_select=cols)\n",
    "\n",
    "X_train_PDB_sc.shape, X_valid_PDB_sc.shape, X_test_PDB_sc.shape"
   ]
  },
  {
   "cell_type": "code",
   "execution_count": 22,
   "metadata": {},
   "outputs": [
    {
     "data": {
      "text/plain": [
       "((223489, 536), (57989, 536), (5941, 536))"
      ]
     },
     "execution_count": 22,
     "metadata": {},
     "output_type": "execute_result"
    }
   ],
   "source": [
    "# Data normalization (AF2 only)\n",
    "cols = list(range(0, 512)) + [532] + [533] + [535]\n",
    "X_train_af2_sc, mean_X_train_af2, sd_X_train_af2 = Z_transform_train(X_train_af2, cols_to_select=cols)\n",
    "X_valid_af2_sc = Z_transform_valid(X_valid_af2, mean_X_train_af2, sd_X_train_af2, cols_to_select=cols)\n",
    "X_test_af2_sc = Z_transform_valid(X_test_af2, mean_X_train_af2, sd_X_train_af2, cols_to_select=cols)\n",
    "\n",
    "X_train_af2_sc.shape, X_valid_af2_sc.shape, X_test_af2_sc.shape"
   ]
  },
  {
   "cell_type": "code",
   "execution_count": 23,
   "metadata": {},
   "outputs": [
    {
     "name": "stdout",
     "output_type": "stream",
     "text": [
      "Class count (train):\n",
      "\n",
      "      Total: 446835\n",
      "      Epitope label: 40938 (9.16% of total)\n"
     ]
    }
   ],
   "source": [
    "# Class unbalanced in train\n",
    "zero, one = np.bincount(y_train.astype(int))\n",
    "total = zero + one\n",
    "print(\"Class count (train):\\n\\n      Total: {}\\n      Epitope label: {} ({:.2f}% of total)\".format(total, one, 100*one/total))"
   ]
  },
  {
   "cell_type": "code",
   "execution_count": 24,
   "metadata": {},
   "outputs": [
    {
     "name": "stdout",
     "output_type": "stream",
     "text": [
      "Class count (validation):\n",
      "\n",
      "      Total: 115978\n",
      "      Epitope label: 9578 (8.26% of total)\n"
     ]
    }
   ],
   "source": [
    "# Class unbalanced in valid\n",
    "zero, one = np.bincount(y_valid.astype(int))\n",
    "total = zero + one\n",
    "print(\"Class count (validation):\\n\\n      Total: {}\\n      Epitope label: {} ({:.2f}% of total)\".format(total, one, 100*one/total))"
   ]
  },
  {
   "cell_type": "code",
   "execution_count": 25,
   "metadata": {},
   "outputs": [
    {
     "name": "stdout",
     "output_type": "stream",
     "text": [
      "Class count (test):\n",
      "\n",
      "      Total: 11882\n",
      "      Epitope label: 712 (5.99% of total)\n"
     ]
    }
   ],
   "source": [
    "# Class unbalanced in train\n",
    "zero, one = np.bincount(y_test.astype(int))\n",
    "total = zero + one\n",
    "print(\"Class count (test):\\n\\n      Total: {}\\n      Epitope label: {} ({:.2f}% of total)\".format(total, one, 100*one/total))"
   ]
  },
  {
   "cell_type": "code",
   "execution_count": 26,
   "metadata": {
    "scrolled": true
   },
   "outputs": [
    {
     "name": "stdout",
     "output_type": "stream",
     "text": [
      "Class weight implemented\n"
     ]
    },
    {
     "data": {
      "text/plain": [
       "{0: 0.09161771123569103, 1: 0.9083822887643089}"
      ]
     },
     "execution_count": 26,
     "metadata": {},
     "output_type": "execute_result"
    }
   ],
   "source": [
    "# Calculation of the class weights with function previously defined\n",
    "class_weight = class_weight_calculator(y_train)\n",
    "    \n",
    "# Normalization of the class_weight to sum 1\n",
    "tot = class_weight[0] + class_weight[1]\n",
    "class_weight[0] = class_weight[0]/tot\n",
    "class_weight[1] = class_weight[1]/tot\n",
    "    \n",
    "print(\"Class weight implemented\")\n",
    "class_weight"
   ]
  },
  {
   "cell_type": "markdown",
   "metadata": {},
   "source": [
    "## Ensemble method for the neural network of 1 hidden unit"
   ]
  },
  {
   "cell_type": "code",
   "execution_count": 27,
   "metadata": {},
   "outputs": [],
   "source": [
    "# Parameters definition\n",
    "loss = 'binary_crossentropy'\n",
    "act = 'relu'\n",
    "l2_value = 0.0001\n",
    "batch_size = 128\n",
    "class_balancing = False"
   ]
  },
  {
   "cell_type": "code",
   "execution_count": 28,
   "metadata": {},
   "outputs": [],
   "source": [
    "# Nº of ensembles\n",
    "K = 20"
   ]
  },
  {
   "cell_type": "code",
   "execution_count": 29,
   "metadata": {},
   "outputs": [
    {
     "name": "stdout",
     "output_type": "stream",
     "text": [
      "Starting round 1 of 20\n",
      "Starting round 2 of 20\n",
      "Starting round 3 of 20\n",
      "Starting round 4 of 20\n",
      "Starting round 5 of 20\n",
      "Starting round 6 of 20\n",
      "Starting round 7 of 20\n",
      "Starting round 8 of 20\n",
      "Starting round 9 of 20\n",
      "Starting round 10 of 20\n",
      "Starting round 11 of 20\n",
      "Starting round 12 of 20\n",
      "Starting round 13 of 20\n"
     ]
    },
    {
     "ename": "MemoryError",
     "evalue": "Unable to allocate 1.78 GiB for an array with shape (446835, 536) and data type float64",
     "output_type": "error",
     "traceback": [
      "\u001b[1;31m---------------------------------------------------------------------------\u001b[0m",
      "\u001b[1;31mMemoryError\u001b[0m                               Traceback (most recent call last)",
      "Cell \u001b[1;32mIn[29], line 43\u001b[0m\n\u001b[0;32m     40\u001b[0m neg_idx_af2_resampled \u001b[38;5;241m=\u001b[39m np\u001b[38;5;241m.\u001b[39mrandom\u001b[38;5;241m.\u001b[39mchoice(neg_idx_af2, size\u001b[38;5;241m=\u001b[39m(\u001b[38;5;28mlen\u001b[39m(y_train_af2)\u001b[38;5;241m-\u001b[39m\u001b[38;5;28mlen\u001b[39m(pos_idx_af2)), replace\u001b[38;5;241m=\u001b[39m\u001b[38;5;28;01mTrue\u001b[39;00m)\n\u001b[0;32m     42\u001b[0m \u001b[38;5;66;03m# Rearranging the new data\u001b[39;00m\n\u001b[1;32m---> 43\u001b[0m X_train_random \u001b[38;5;241m=\u001b[39m \u001b[43mX_train_sc\u001b[49m\u001b[43m[\u001b[49m\u001b[43mnp\u001b[49m\u001b[38;5;241;43m.\u001b[39;49m\u001b[43mconcatenate\u001b[49m\u001b[43m(\u001b[49m\u001b[43m[\u001b[49m\u001b[43mpos_idx\u001b[49m\u001b[43m,\u001b[49m\u001b[43m \u001b[49m\u001b[43mneg_idx_resampled\u001b[49m\u001b[43m]\u001b[49m\u001b[43m)\u001b[49m\u001b[43m]\u001b[49m\n\u001b[0;32m     44\u001b[0m X_train_PDB_random \u001b[38;5;241m=\u001b[39m X_train_PDB_sc[np\u001b[38;5;241m.\u001b[39mconcatenate([pos_idx_PDB, neg_idx_PDB_resampled])]\n\u001b[0;32m     45\u001b[0m X_train_af2_random \u001b[38;5;241m=\u001b[39m X_train_af2_sc[np\u001b[38;5;241m.\u001b[39mconcatenate([pos_idx_af2, neg_idx_af2_resampled])]\n",
      "\u001b[1;31mMemoryError\u001b[0m: Unable to allocate 1.78 GiB for an array with shape (446835, 536) and data type float64"
     ]
    }
   ],
   "source": [
    "# Array for storing the scores for each model trained in each ensemble round\n",
    "score_both_solved = np.empty((len(X_valid_PDB_sc), K))\n",
    "score_both_af2 = np.empty((len(X_valid_af2_sc), K))\n",
    "score_solved_solved = np.empty((len(X_valid_PDB_sc), K))\n",
    "score_solved_af2 = np.empty((len(X_valid_af2_sc), K))\n",
    "score_af2_solved = np.empty((len(X_valid_PDB_sc), K))\n",
    "score_af2_af2 = np.empty((len(X_valid_af2_sc), K))\n",
    "\n",
    "# Array for storing the mean scores for the ensemble methodology\n",
    "ensemble_score_both_solved = np.empty((len(X_valid_PDB_sc), K))\n",
    "ensemble_score_both_af2 = np.empty((len(X_valid_af2_sc), K))\n",
    "ensemble_score_solved_solved = np.empty((len(X_valid_PDB_sc), K))\n",
    "ensemble_score_solved_af2 = np.empty((len(X_valid_af2_sc), K))\n",
    "ensemble_score_af2_solved = np.empty((len(X_valid_PDB_sc), K))\n",
    "ensemble_score_af2_af2 = np.empty((len(X_valid_af2_sc), K))\n",
    "\n",
    "# Array for storing the AUC values from the ensemble scores\n",
    "ROC_AUC_both_solved = np.empty(K)\n",
    "ROC_AUC_both_af2 = np.empty(K)\n",
    "ROC_AUC_solved_solved = np.empty(K)\n",
    "ROC_AUC_solved_af2 = np.empty(K)\n",
    "ROC_AUC_af2_solved = np.empty(K)\n",
    "ROC_AUC_af2_af2 = np.empty(K)\n",
    "\n",
    "for i in range(0,K,1):\n",
    "    \n",
    "    print('Starting round {} of {}'.format(i+1, K))\n",
    "    \n",
    "    # Identify indices of positive and negative examples\n",
    "    pos_idx = np.where(y_train == 1)[0]\n",
    "    neg_idx = np.where(y_train == 0)[0]\n",
    "    pos_idx_PDB = np.where(y_train_PDB == 1)[0]\n",
    "    neg_idx_PDB = np.where(y_train_PDB == 0)[0]\n",
    "    pos_idx_af2 = np.where(y_train_af2 == 1)[0]\n",
    "    neg_idx_af2 = np.where(y_train_af2 == 0)[0]\n",
    "\n",
    "    # Keep all positive examples and resample negative examples with replacement\n",
    "    neg_idx_resampled = np.random.choice(neg_idx, size=(len(y_train)-len(pos_idx)), replace=True)\n",
    "    neg_idx_PDB_resampled = np.random.choice(neg_idx_PDB, size=(len(y_train_PDB)-len(pos_idx_PDB)), replace=True)\n",
    "    neg_idx_af2_resampled = np.random.choice(neg_idx_af2, size=(len(y_train_af2)-len(pos_idx_af2)), replace=True)\n",
    "    \n",
    "    # Rearranging the new data\n",
    "    X_train_random = X_train_sc[np.concatenate([pos_idx, neg_idx_resampled])]\n",
    "    X_train_PDB_random = X_train_PDB_sc[np.concatenate([pos_idx_PDB, neg_idx_PDB_resampled])]\n",
    "    X_train_af2_random = X_train_af2_sc[np.concatenate([pos_idx_af2, neg_idx_af2_resampled])]\n",
    "    y_train_random = y_train[np.concatenate([pos_idx, neg_idx_resampled])]\n",
    "    y_train_PDB_random = y_train_PDB[np.concatenate([pos_idx_PDB, neg_idx_PDB_resampled])]\n",
    "    y_train_af2_random = y_train_af2[np.concatenate([pos_idx_af2, neg_idx_af2_resampled])]\n",
    "\n",
    "    # # Resampling randomly with replacement\n",
    "    # X_train_index_random = random.choices(range(len(X_train_sc)), k=len(X_train_sc))\n",
    "    # X_train_PDB_index_random = random.choices(range(len(X_train_PDB_sc)), k=len(X_train_PDB_sc))\n",
    "    # X_train_af2_index_random = random.choices(range(len(X_train_af2_sc)), k=len(X_train_af2_sc))\n",
    "\n",
    "    # X_train_random = X_train_sc[X_train_index_random]\n",
    "    # X_train_PDB_random = X_train_PDB_sc[X_train_PDB_index_random]\n",
    "    # X_train_af2_random = X_train_af2_sc[X_train_af2_index_random]\n",
    "    # y_train_random = y_train[X_train_index_random]\n",
    "    # y_train_PDB_random = y_train_PDB[X_train_PDB_index_random]\n",
    "    # y_train_af2_random = y_train_af2[X_train_af2_index_random]\n",
    "    \n",
    "    # Training of the model\n",
    "    model_both, history_both = nn1_model(train_data=X_train_random, y_train=y_train_random, act_fun=act, loss_fun=loss, alpha=l2_value, \n",
    "                                        class_weight_fn=class_weight_calculator, batch = batch_size, balancing = class_balancing)    \n",
    "    \n",
    "    model_solved, history_solved = nn1_model(train_data=X_train_PDB_random, y_train=y_train_PDB_random, act_fun=act, loss_fun=loss, alpha=l2_value, \n",
    "                                            class_weight_fn=class_weight_calculator, batch = batch_size, balancing = class_balancing)    \n",
    "\n",
    "    model_af2, history_af2 = nn1_model(train_data=X_train_af2_random, y_train=y_train_af2_random, act_fun=act, loss_fun=loss, alpha=l2_value, \n",
    "                                      class_weight_fn=class_weight_calculator, batch = batch_size, balancing = class_balancing)    \n",
    "\n",
    "    # Obtaining probablities values\n",
    "    y_pred_both_solved = model_both.predict(X_valid_PDB_sc, verbose = 0)\n",
    "    y_pred_both_af2 = model_both.predict(X_valid_af2_sc, verbose = 0)\n",
    "    y_pred_solved_solved = model_solved.predict(X_valid_PDB_sc, verbose = 0)\n",
    "    y_pred_solved_af2 = model_solved.predict(X_valid_af2_sc, verbose = 0)\n",
    "    y_pred_af2_solved = model_af2.predict(X_valid_PDB_sc, verbose = 0)\n",
    "    y_pred_af2_af2 = model_af2.predict(X_valid_af2_sc, verbose = 0)\n",
    "    \n",
    "    # Updating the score arrays\n",
    "    score_both_solved[:, i] = y_pred_both_solved.reshape(len(y_pred_both_solved))\n",
    "    score_both_af2[:, i] = y_pred_both_af2.reshape(len(y_pred_both_af2))\n",
    "    score_solved_solved[:, i] = y_pred_solved_solved.reshape(len(y_pred_solved_solved))\n",
    "    score_solved_af2[:, i] = y_pred_solved_af2.reshape(len(y_pred_solved_af2))\n",
    "    score_af2_solved[:, i] = y_pred_af2_solved.reshape(len(y_pred_af2_solved))\n",
    "    score_af2_af2[:, i] = y_pred_af2_af2.reshape(len(y_pred_af2_af2))\n",
    "    \n",
    "    # Save each prediction array as a .csv file\n",
    "    np.savetxt(f'score_both_solved_2.csv', score_both_solved[:, 0:i+1], delimiter=',')\n",
    "    np.savetxt(f'score_both_af2_2.csv', score_both_af2[:, 0:i+1], delimiter=',')\n",
    "    np.savetxt(f'score_solved_solved_2.csv', score_solved_solved[:, 0:i+1], delimiter=',')\n",
    "    np.savetxt(f'score_solved_af2_2.csv', score_solved_af2[:, 0:i+1], delimiter=',')\n",
    "    np.savetxt(f'score_af2_solved_2.csv', score_af2_solved[:, 0:i+1], delimiter=',')\n",
    "    np.savetxt(f'score_af2_af2_2.csv', score_af2_af2[:, 0:i+1], delimiter=',')\n",
    "    \n",
    "    # Updating the ensemble score arrays\n",
    "    ensemble_score_both_solved[:, i] = np.mean(score_both_solved[:, :(i+1)], axis=1)\n",
    "    ensemble_score_both_af2[:, i] = np.mean(score_both_af2[:, :(i+1)], axis=1)\n",
    "    ensemble_score_solved_solved[:, i] = np.mean(score_solved_solved[:, :(i+1)], axis=1)\n",
    "    ensemble_score_solved_af2[:, i] = np.mean(score_solved_af2[:, :(i+1)], axis=1)\n",
    "    ensemble_score_af2_solved[:, i] = np.mean(score_af2_solved[:, :(i+1)], axis=1)\n",
    "    ensemble_score_af2_af2[:, i] = np.mean(score_af2_af2[:, :(i+1)], axis=1)\n",
    "    \n",
    "    # ROC-AUC values update according to the ensemble scores\n",
    "    ROC_AUC_both_solved[i] = ROC_AUC(y_valid_PDB, ensemble_score_both_solved[:, i])\n",
    "    ROC_AUC_both_af2[i] = ROC_AUC(y_valid_af2, ensemble_score_both_af2[:, i])\n",
    "    ROC_AUC_solved_solved[i] = ROC_AUC(y_valid_PDB, ensemble_score_solved_solved[:, i])\n",
    "    ROC_AUC_solved_af2[i] = ROC_AUC(y_valid_af2, ensemble_score_solved_af2[:, i])\n",
    "    ROC_AUC_af2_solved[i] = ROC_AUC(y_valid_PDB, ensemble_score_af2_solved[:, i])\n",
    "    ROC_AUC_af2_af2[i] = ROC_AUC(y_valid_af2, ensemble_score_af2_af2[:, i])"
   ]
  },
  {
   "cell_type": "code",
   "execution_count": null,
   "metadata": {},
   "outputs": [],
   "source": [
    "# Using the style for the plot\n",
    "plt.style.use('ggplot')\n",
    "\n",
    "# Plot ensemble curve\n",
    "plt.plot(ROC_AUC_both_solved, label = 'Both - Solved')\n",
    "plt.plot(ROC_AUC_both_af2, label = 'Both - AF2')\n",
    "plt.plot(ROC_AUC_solved_solved, label = 'Solved - Solved')\n",
    "plt.plot(ROC_AUC_solved_af2, label = 'Solved - AF2')\n",
    "plt.plot(ROC_AUC_af2_solved, label = 'AF2 - Solved')\n",
    "plt.plot(ROC_AUC_af2_af2, label = 'AF2 - AF2')\n",
    "\n",
    "plt.ylabel('ROC-AUC')\n",
    "plt.xlabel('Ensemble size')\n",
    "plt.legend(loc='lower right', fontsize = 8)\n",
    "plt.savefig('1NN_ensemble', format='png', dpi=1200, facecolor='white', bbox_inches='tight')"
   ]
  },
  {
   "cell_type": "markdown",
   "metadata": {},
   "source": [
    "## Ensemble method for the neural network of 10 hidden unit"
   ]
  },
  {
   "cell_type": "code",
   "execution_count": 29,
   "metadata": {},
   "outputs": [],
   "source": [
    "# Parameters definition\n",
    "loss = 'binary_crossentropy'\n",
    "act = 'relu'\n",
    "l2_value = 0.01\n",
    "drop = 0.4\n",
    "batch_size = 128\n",
    "class_balancing = False"
   ]
  },
  {
   "cell_type": "code",
   "execution_count": 31,
   "metadata": {
    "scrolled": true
   },
   "outputs": [
    {
     "name": "stdout",
     "output_type": "stream",
     "text": [
      "Starting round 1 of 20\n",
      "Starting round 2 of 20\n",
      "Starting round 3 of 20\n",
      "Starting round 4 of 20\n",
      "Starting round 5 of 20\n",
      "Starting round 6 of 20\n",
      "Starting round 7 of 20\n",
      "Starting round 8 of 20\n",
      "Starting round 9 of 20\n",
      "Starting round 10 of 20\n",
      "Starting round 11 of 20\n",
      "Starting round 12 of 20\n",
      "Starting round 13 of 20\n",
      "Starting round 14 of 20\n",
      "Starting round 15 of 20\n",
      "Starting round 16 of 20\n",
      "Starting round 17 of 20\n",
      "Starting round 18 of 20\n",
      "Starting round 19 of 20\n",
      "Starting round 20 of 20\n"
     ]
    }
   ],
   "source": [
    "# Nº of ensembles\n",
    "K = 20\n",
    "\n",
    "# Array for storing the scores for each model trained in each ensemble round\n",
    "score_both_solved = np.empty((len(X_valid_PDB_sc), K))\n",
    "score_both_af2 = np.empty((len(X_valid_af2_sc), K))\n",
    "score_solved_solved = np.empty((len(X_valid_PDB_sc), K))\n",
    "score_solved_af2 = np.empty((len(X_valid_af2_sc), K))\n",
    "score_af2_solved = np.empty((len(X_valid_PDB_sc), K))\n",
    "score_af2_af2 = np.empty((len(X_valid_af2_sc), K))\n",
    "\n",
    "# Array for storing the mean scores for the ensemble methodology\n",
    "ensemble_score_both_solved = np.empty((len(X_valid_PDB_sc), K))\n",
    "ensemble_score_both_af2 = np.empty((len(X_valid_af2_sc), K))\n",
    "ensemble_score_solved_solved = np.empty((len(X_valid_PDB_sc), K))\n",
    "ensemble_score_solved_af2 = np.empty((len(X_valid_af2_sc), K))\n",
    "ensemble_score_af2_solved = np.empty((len(X_valid_PDB_sc), K))\n",
    "ensemble_score_af2_af2 = np.empty((len(X_valid_af2_sc), K))\n",
    "\n",
    "# Array for storing the AUC values from the ensemble scores\n",
    "ROC_AUC_both_solved = np.empty(K)\n",
    "ROC_AUC_both_af2 = np.empty(K)\n",
    "ROC_AUC_solved_solved = np.empty(K)\n",
    "ROC_AUC_solved_af2 = np.empty(K)\n",
    "ROC_AUC_af2_solved = np.empty(K)\n",
    "ROC_AUC_af2_af2 = np.empty(K)\n",
    "\n",
    "for i in range(0,K,1):\n",
    "    \n",
    "    print('Starting round {} of {}'.format(i+1, K))\n",
    "    \n",
    "    # Identify indices of positive and negative examples\n",
    "    pos_idx = np.where(y_train == 1)[0]\n",
    "    neg_idx = np.where(y_train == 0)[0]\n",
    "    pos_idx_PDB = np.where(y_train_PDB == 1)[0]\n",
    "    neg_idx_PDB = np.where(y_train_PDB == 0)[0]\n",
    "    pos_idx_af2 = np.where(y_train_af2 == 1)[0]\n",
    "    neg_idx_af2 = np.where(y_train_af2 == 0)[0]\n",
    "\n",
    "    # Keep all positive examples and resample negative examples with replacement\n",
    "    neg_idx_resampled = np.random.choice(neg_idx, size=(len(y_train)-len(pos_idx)), replace=True)\n",
    "    neg_idx_PDB_resampled = np.random.choice(neg_idx_PDB, size=(len(y_train_PDB)-len(pos_idx_PDB)), replace=True)\n",
    "    neg_idx_af2_resampled = np.random.choice(neg_idx_af2, size=(len(y_train_af2)-len(pos_idx_af2)), replace=True)\n",
    "    \n",
    "    # Rearranging the new data\n",
    "    X_train_random = X_train_sc[np.concatenate([pos_idx, neg_idx_resampled])]\n",
    "    X_train_PDB_random = X_train_PDB_sc[np.concatenate([pos_idx_PDB, neg_idx_PDB_resampled])]\n",
    "    X_train_af2_random = X_train_af2_sc[np.concatenate([pos_idx_af2, neg_idx_af2_resampled])]\n",
    "    y_train_random = y_train[np.concatenate([pos_idx, neg_idx_resampled])]\n",
    "    y_train_PDB_random = y_train_PDB[np.concatenate([pos_idx_PDB, neg_idx_PDB_resampled])]\n",
    "    y_train_af2_random = y_train_af2[np.concatenate([pos_idx_af2, neg_idx_af2_resampled])]\n",
    "\n",
    "    # # Resampling randomly with replacement\n",
    "    # X_train_index_random = random.choices(range(len(X_train_sc)), k=len(X_train_sc))\n",
    "    # X_train_PDB_index_random = random.choices(range(len(X_train_PDB_sc)), k=len(X_train_PDB_sc))\n",
    "    # X_train_af2_index_random = random.choices(range(len(X_train_af2_sc)), k=len(X_train_af2_sc))\n",
    "\n",
    "    # X_train_random = X_train_sc[X_train_index_random]\n",
    "    # X_train_PDB_random = X_train_PDB_sc[X_train_PDB_index_random]\n",
    "    # X_train_af2_random = X_train_af2_sc[X_train_af2_index_random]\n",
    "    # y_train_random = y_train[X_train_index_random]\n",
    "    # y_train_PDB_random = y_train_PDB[X_train_PDB_index_random]\n",
    "    # y_train_af2_random = y_train_af2[X_train_af2_index_random]\n",
    "    \n",
    "    # Training of the model\n",
    "    model_both, history_both = nn10_model(train_data=X_train_random, y_train=y_train_random, act_fun=act, \n",
    "                                          loss_fun=loss, alpha=l2_value, class_weight_fn=class_weight_calculator, \n",
    "                                          drop_rate = drop, batch = batch_size, balancing = class_balancing)    \n",
    "    \n",
    "    model_solved, history_solved = nn10_model(train_data=X_train_PDB_random, y_train=y_train_PDB_random, act_fun=act, \n",
    "                                              loss_fun=loss, alpha=l2_value, class_weight_fn=class_weight_calculator, \n",
    "                                              drop_rate = drop, batch = batch_size, balancing = class_balancing)    \n",
    "\n",
    "    model_af2, history_af2 = nn10_model(train_data=X_train_af2_random, y_train=y_train_af2_random, act_fun=act, \n",
    "                                        loss_fun=loss, alpha=l2_value, class_weight_fn=class_weight_calculator, \n",
    "                                        drop_rate = drop, batch = batch_size, balancing = class_balancing)    \n",
    "\n",
    "    # Obtaining probablities values\n",
    "    y_pred_both_solved = model_both.predict(X_valid_PDB_sc, verbose = 0)\n",
    "    y_pred_both_af2 = model_both.predict(X_valid_af2_sc, verbose = 0)\n",
    "    y_pred_solved_solved = model_solved.predict(X_valid_PDB_sc, verbose = 0)\n",
    "    y_pred_solved_af2 = model_solved.predict(X_valid_af2_sc, verbose = 0)\n",
    "    y_pred_af2_solved = model_af2.predict(X_valid_PDB_sc, verbose = 0)\n",
    "    y_pred_af2_af2 = model_af2.predict(X_valid_af2_sc, verbose = 0)\n",
    "    \n",
    "    # Updating the score arrays\n",
    "    score_both_solved[:, i] = y_pred_both_solved.reshape(len(y_pred_both_solved))\n",
    "    score_both_af2[:, i] = y_pred_both_af2.reshape(len(y_pred_both_af2))\n",
    "    score_solved_solved[:, i] = y_pred_solved_solved.reshape(len(y_pred_solved_solved))\n",
    "    score_solved_af2[:, i] = y_pred_solved_af2.reshape(len(y_pred_solved_af2))\n",
    "    score_af2_solved[:, i] = y_pred_af2_solved.reshape(len(y_pred_af2_solved))\n",
    "    score_af2_af2[:, i] = y_pred_af2_af2.reshape(len(y_pred_af2_af2))\n",
    "    \n",
    "    # Save each prediction array as a .csv file\n",
    "    np.savetxt(f'score_both_solved_10.csv', score_both_solved[:, 0:i+1], delimiter=',')\n",
    "    np.savetxt(f'score_both_af2_10.csv', score_both_af2[:, 0:i+1], delimiter=',')\n",
    "    np.savetxt(f'score_solved_solved_10.csv', score_solved_solved[:, 0:i+1], delimiter=',')\n",
    "    np.savetxt(f'score_solved_af2_10.csv', score_solved_af2[:, 0:i+1], delimiter=',')\n",
    "    np.savetxt(f'score_af2_solved_10.csv', score_af2_solved[:, 0:i+1], delimiter=',')\n",
    "    np.savetxt(f'score_af2_af2_10.csv', score_af2_af2[:, 0:i+1], delimiter=',')\n",
    "    \n",
    "    # Updating the ensemble score arrays\n",
    "    ensemble_score_both_solved[:, i] = np.mean(score_both_solved[:, :(i+1)], axis=1)\n",
    "    ensemble_score_both_af2[:, i] = np.mean(score_both_af2[:, :(i+1)], axis=1)\n",
    "    ensemble_score_solved_solved[:, i] = np.mean(score_solved_solved[:, :(i+1)], axis=1)\n",
    "    ensemble_score_solved_af2[:, i] = np.mean(score_solved_af2[:, :(i+1)], axis=1)\n",
    "    ensemble_score_af2_solved[:, i] = np.mean(score_af2_solved[:, :(i+1)], axis=1)\n",
    "    ensemble_score_af2_af2[:, i] = np.mean(score_af2_af2[:, :(i+1)], axis=1)\n",
    "    \n",
    "    # ROC-AUC values update according to the ensemble scores\n",
    "    ROC_AUC_both_solved[i] = ROC_AUC(y_valid_PDB, ensemble_score_both_solved[:, i])\n",
    "    ROC_AUC_both_af2[i] = ROC_AUC(y_valid_af2, ensemble_score_both_af2[:, i])\n",
    "    ROC_AUC_solved_solved[i] = ROC_AUC(y_valid_PDB, ensemble_score_solved_solved[:, i])\n",
    "    ROC_AUC_solved_af2[i] = ROC_AUC(y_valid_af2, ensemble_score_solved_af2[:, i])\n",
    "    ROC_AUC_af2_solved[i] = ROC_AUC(y_valid_PDB, ensemble_score_af2_solved[:, i])\n",
    "    ROC_AUC_af2_af2[i] = ROC_AUC(y_valid_af2, ensemble_score_af2_af2[:, i])"
   ]
  },
  {
   "cell_type": "code",
   "execution_count": 33,
   "metadata": {},
   "outputs": [
    {
     "data": {
      "image/png": "[encoded data removed]",
      "text/plain": [
       "<Figure size 640x480 with 1 Axes>"
      ]
     },
     "metadata": {},
     "output_type": "display_data"
    }
   ],
   "source": [
    "# Using the style for the plot\n",
    "plt.style.use('ggplot')\n",
    "\n",
    "# Plot ensemble curve\n",
    "plt.plot(ROC_AUC_both_solved, label = 'Both - Solved')\n",
    "plt.plot(ROC_AUC_both_af2, label = 'Both - AF2')\n",
    "plt.plot(ROC_AUC_solved_solved, label = 'Solved - Solved')\n",
    "plt.plot(ROC_AUC_solved_af2, label = 'Solved - AF2')\n",
    "plt.plot(ROC_AUC_af2_solved, label = 'AF2 - Solved')\n",
    "plt.plot(ROC_AUC_af2_af2, label = 'AF2 - AF2')\n",
    "\n",
    "plt.ylabel('ROC-AUC')\n",
    "plt.xlabel('Ensemble size')\n",
    "plt.legend(loc='lower right', fontsize = 8)\n",
    "plt.savefig('10NN_ensemble.png', format='png', dpi=1200, facecolor='white', bbox_inches='tight')"
   ]
  },
  {
   "cell_type": "code",
   "execution_count": 39,
   "metadata": {},
   "outputs": [
    {
     "name": "stdout",
     "output_type": "stream",
     "text": [
      "Ensemble results for structure of 10 hidden units: \n",
      "\n",
      "Solved - Solved: 0.8080206872893237\n",
      "Both - Solved:\t 0.8048532547174996\n",
      "AF2 - AF2:\t 0.790806264983821\n",
      "Both - AF2:\t 0.7911271601429968\n",
      "AF2 - Solved:\t 0.781288408429719\n",
      "Solved - AF2:\t 0.7719932210720997\n"
     ]
    }
   ],
   "source": [
    "print('Ensemble results for structure of 10 hidden units: \\n')\n",
    "print('Solved - Solved:', str(ROC_AUC_solved_solved[-1]))\n",
    "print('Both - Solved:\\t', str(ROC_AUC_both_solved[-1]))\n",
    "print('AF2 - AF2:\\t', str(ROC_AUC_af2_af2[-1]))\n",
    "print('Both - AF2:\\t', str(ROC_AUC_both_af2[-1]))\n",
    "print('AF2 - Solved:\\t', str(ROC_AUC_af2_solved[-1]))\n",
    "print('Solved - AF2:\\t', str(ROC_AUC_solved_af2[-1]))"
   ]
  },
  {
   "cell_type": "code",
   "execution_count": null,
   "metadata": {},
   "outputs": [],
   "source": []
  }
 ],
 "metadata": {
  "kernelspec": {
   "display_name": "Python 3 (ipykernel)",
   "language": "python",
   "name": "python3"
  },
  "language_info": {
   "codemirror_mode": {
    "name": "ipython",
    "version": 3
   },
   "file_extension": ".py",
   "mimetype": "text/x-python",
   "name": "python",
   "nbconvert_exporter": "python",
   "pygments_lexer": "ipython3",
   "version": "3.10.9"
  },
  "vscode": {
   "interpreter": {
    "hash": "98d96843242ea63546b941eb98e2ac308b462277a7c4020ae14ccf41d9fe0ade"
   }
  }
 },
 "nbformat": 4,
 "nbformat_minor": 2
}
