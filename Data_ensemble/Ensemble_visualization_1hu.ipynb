{
 "cells": [
  {
   "cell_type": "code",
   "execution_count": 1,
   "id": "d7a212ae",
   "metadata": {},
   "outputs": [
    {
     "name": "stderr",
     "output_type": "stream",
     "text": [
      "C:\\Users\\minij\\anaconda3\\envs\\special_course\\lib\\site-packages\\tqdm\\auto.py:22: TqdmWarning: IProgress not found. Please update jupyter and ipywidgets. See https://ipywidgets.readthedocs.io/en/stable/user_install.html\n",
      "  from .autonotebook import tqdm as notebook_tqdm\n"
     ]
    }
   ],
   "source": [
    "# Import of required libraries and functions from 'make_dataset' script\n",
    "import os\n",
    "from make_dataset import Discotope_Dataset\n",
    "import numpy as np\n",
    "import torch\n",
    "import pandas as pd\n",
    "import re\n",
    "import matplotlib.pyplot as plt\n",
    "from sklearn.utils.class_weight import compute_class_weight\n",
    "from sklearn.preprocessing import MinMaxScaler, StandardScaler\n",
    "from sklearn import metrics\n",
    "from sklearn.metrics import accuracy_score, log_loss, confusion_matrix, roc_auc_score\n",
    "from tqdm import tqdm\n",
    "from IPython.display import clear_output\n",
    "import random\n",
    "\n",
    "# Importing the style package\n",
    "from matplotlib import style"
   ]
  },
  {
   "cell_type": "code",
   "execution_count": 2,
   "id": "5991893c",
   "metadata": {},
   "outputs": [],
   "source": [
    "def data_load(name_set, data_dir, separate=False):\n",
    "    \n",
    "    '''\n",
    "    Function to load training, validation or test data from the folder/directory you have storaged the whole dataset\n",
    "        - 'name_set': text variable with the type of data set to load ('train', 'test', 'valid')\n",
    "        - 'data_dir': directory where you have storaged the data set (in my case is '../Data/')\n",
    "        - 'separate': boolean that returns the PDBs and AF2 sets separately (only when True)\n",
    "    \n",
    "    Output:\n",
    "        - 'X_all': all observations from both solved and predicted structures all together\n",
    "        - 'y_all': all labels from both solved and predicted structures all together\n",
    "        - 'N_solved': number of observations from solved structures (in case of wanted to unmerge the 'all' array)\n",
    "        - 'N_af2': number of observations from predicted structures (in case of wanted to unmerge the 'all' array)\n",
    "    '''\n",
    "    \n",
    "    # 'Pathlib module' load to work with windows path\n",
    "    import pathlib\n",
    "    temp = pathlib.PosixPath\n",
    "    pathlib.PosixPath = pathlib.WindowsPath\n",
    "    \n",
    "    # List of all subdirectories inside the data directory\n",
    "    dirs = [d for d in os.listdir(data_dir)]\n",
    "    \n",
    "    # 're' module to use regex for filtering the specific directories according to the type of data set to load\n",
    "    pattern = '.*' + name_set + '.*'\n",
    "    R = re.compile(pattern)\n",
    "    filtered = [folder for folder in dirs if R.match(folder)]\n",
    "    \n",
    "    # Loading the data set for solved structures and AlphaFold2 predicted structures\n",
    "    path_af2 = data_dir + filtered[0] + '/dataset.pt'\n",
    "    path_solved = data_dir + filtered[1] + '/dataset.pt'\n",
    "    set_af2 = torch.load(path_af2)\n",
    "    set_solved = torch.load(path_solved)\n",
    "    \n",
    "    # Stack all features and targets to one big array (removing NaN entries)\n",
    "    X_set_solved = np.concatenate([set_solved[i][\"X_arr\"] for i in range(0, len(set_solved), 1) if not set_solved[i]['df_stats']['rsa'].isna().any()])\n",
    "    y_set_solved = np.concatenate([set_solved[i][\"y_arr\"] for i in range(0, len(set_solved), 1) if not set_solved[i]['df_stats']['rsa'].isna().any()])\n",
    "    X_set_af2 = np.concatenate([set_af2[i][\"X_arr\"] for i in range(0, len(set_solved), 1) if not set_solved[i]['df_stats']['rsa'].isna().any()])\n",
    "    y_set_af2 = np.concatenate([set_af2[i][\"y_arr\"] for i in range(0, len(set_solved), 1) if not set_solved[i]['df_stats']['rsa'].isna().any()])\n",
    "    \n",
    "    # Nº of observations for each subtype of data set\n",
    "    N_set_solved = X_set_solved.shape[0]\n",
    "    N_set_af2 = X_set_af2.shape[0]\n",
    "    \n",
    "    # Stack all features and targets from solved and predicted structures into only one big\n",
    "    X_set_all = np.concatenate((X_set_solved, X_set_af2), axis=0)\n",
    "    y_set_all = np.concatenate((y_set_solved, y_set_af2), axis=0)\n",
    "    \n",
    "    if (separate==True):\n",
    "        return(X_set_all, y_set_all, X_set_solved, y_set_solved, X_set_af2, y_set_af2)\n",
    "    else:\n",
    "        return(X_set_all, y_set_all, N_set_solved, N_set_af2)"
   ]
  },
  {
   "cell_type": "code",
   "execution_count": 3,
   "id": "aca94edf",
   "metadata": {},
   "outputs": [],
   "source": [
    "def Z_transform_train(X, cols_to_select):\n",
    "    \n",
    "    '''\n",
    "    Function to normalize the columns 532 (pLLDT) and 533 (length) because they have high length\n",
    "        - 'X': data to normalize\n",
    "    '''\n",
    "    \n",
    "    # Obtain the mean and standard deviation for each feature on the array\n",
    "    X_mean = np.mean(X[:, cols_to_select], axis=0)\n",
    "    X_std = np.std(X[:, cols_to_select], axis=0)\n",
    "    \n",
    "    # Correcting pLDDT column sd in case of using only PDB set\n",
    "    X_std[X_std == 0] = 1\n",
    "    \n",
    "    # Z-transform (standardization)\n",
    "    X[:, cols_to_select] = (X[:, cols_to_select] - X_mean)/X_std\n",
    "    return(X, X_mean, X_std)"
   ]
  },
  {
   "cell_type": "code",
   "execution_count": 4,
   "id": "34a03e4d",
   "metadata": {},
   "outputs": [],
   "source": [
    "def Z_transform_valid(X, mean_train, sd_train, cols_to_select):\n",
    "    \n",
    "    '''\n",
    "    Function to normalize the columns 532 (pLLDT) and 533 (length) because they have high length\n",
    "        - 'X': data to normalize\n",
    "        - 'mean_train': mean from standardized training set\n",
    "        - 'sd_train': standard deviation from standardized training set\n",
    "    '''\n",
    "    \n",
    "    # Z-transform (standardization)\n",
    "    X[:, cols_to_select] = (X[:, cols_to_select] - mean_train)/sd_train\n",
    "    return(X)"
   ]
  },
  {
   "cell_type": "code",
   "execution_count": 5,
   "id": "6d367941",
   "metadata": {},
   "outputs": [],
   "source": [
    "def ROC_AUC(y_true, y_hat):\n",
    "    \n",
    "    '''\n",
    "    Function to obtain the AUC value based on the ROC curve\n",
    "        - 'y_true': y original values\n",
    "        - 'y_hat': y predicted values\n",
    "        \n",
    "    Output:\n",
    "        - 'ROC_auc': AUC value\n",
    "    '''\n",
    "    \n",
    "    fpr, tpr, _ = metrics.roc_curve(y_true, y_hat)\n",
    "    ROC_auc = metrics.auc(fpr, tpr)\n",
    "    return(ROC_auc)"
   ]
  },
  {
   "cell_type": "code",
   "execution_count": 6,
   "id": "f0875b24",
   "metadata": {},
   "outputs": [
    {
     "data": {
      "text/plain": [
       "((446835, 536), (446835,), (115978, 536), (115978,), (11882, 536), (11882,))"
      ]
     },
     "execution_count": 6,
     "metadata": {},
     "output_type": "execute_result"
    }
   ],
   "source": [
    "# Data loading for training, validation, and test data sets (needs a couple of minutes)\n",
    "X_train, y_train, X_train_PDB, y_train_PDB, X_train_af2, y_train_af2 = data_load(name_set='train', data_dir='../Data/', separate = True)\n",
    "X_valid, y_valid, X_valid_PDB, y_valid_PDB, X_valid_af2, y_valid_af2 = data_load(name_set='valid', data_dir='../Data/', separate = True)\n",
    "X_test, y_test, X_test_PDB, y_test_PDB, X_test_af2, y_test_af2 = data_load(name_set='test', data_dir='../Data/', separate = True)\n",
    "\n",
    "X_train.shape, y_train.shape, X_valid.shape, y_valid.shape, X_test.shape, y_test.shape"
   ]
  },
  {
   "cell_type": "code",
   "execution_count": 7,
   "id": "aff9c51a",
   "metadata": {},
   "outputs": [
    {
     "data": {
      "text/plain": [
       "((446835, 536), (115978, 536), (11882, 536))"
      ]
     },
     "execution_count": 7,
     "metadata": {},
     "output_type": "execute_result"
    }
   ],
   "source": [
    "# Data normalization\n",
    "cols = list(range(0, 512)) + [532] + [533] + [535]\n",
    "X_train_sc, mean_X_train, sd_X_train = Z_transform_train(X_train, cols_to_select=cols)\n",
    "X_valid_sc = Z_transform_valid(X_valid, mean_X_train, sd_X_train, cols_to_select=cols)\n",
    "X_test_sc = Z_transform_valid(X_test, mean_X_train, sd_X_train, cols_to_select=cols)\n",
    "\n",
    "X_train_sc.shape, X_valid_sc.shape, X_test_sc.shape"
   ]
  },
  {
   "cell_type": "code",
   "execution_count": 8,
   "id": "c622cef4",
   "metadata": {},
   "outputs": [
    {
     "data": {
      "text/plain": [
       "((223346, 536), (57989, 536), (5941, 536))"
      ]
     },
     "execution_count": 8,
     "metadata": {},
     "output_type": "execute_result"
    }
   ],
   "source": [
    "# Data normalization (PDB only)\n",
    "cols = list(range(0, 512)) + [532] + [533] + [535]\n",
    "X_train_PDB_sc, mean_X_train_PDB, sd_X_train_PDB = Z_transform_train(X_train_PDB, cols_to_select=cols)\n",
    "X_valid_PDB_sc = Z_transform_valid(X_valid_PDB, mean_X_train_PDB, sd_X_train_PDB, cols_to_select=cols)\n",
    "X_test_PDB_sc = Z_transform_valid(X_test_PDB, mean_X_train_PDB, sd_X_train_PDB, cols_to_select=cols)\n",
    "\n",
    "X_train_PDB_sc.shape, X_valid_PDB_sc.shape, X_test_PDB_sc.shape"
   ]
  },
  {
   "cell_type": "code",
   "execution_count": 9,
   "id": "977c1c12",
   "metadata": {},
   "outputs": [
    {
     "data": {
      "text/plain": [
       "((223489, 536), (57989, 536), (5941, 536))"
      ]
     },
     "execution_count": 9,
     "metadata": {},
     "output_type": "execute_result"
    }
   ],
   "source": [
    "# Data normalization (AF2 only)\n",
    "cols = list(range(0, 512)) + [532] + [533] + [535]\n",
    "X_train_af2_sc, mean_X_train_af2, sd_X_train_af2 = Z_transform_train(X_train_af2, cols_to_select=cols)\n",
    "X_valid_af2_sc = Z_transform_valid(X_valid_af2, mean_X_train_af2, sd_X_train_af2, cols_to_select=cols)\n",
    "X_test_af2_sc = Z_transform_valid(X_test_af2, mean_X_train_af2, sd_X_train_af2, cols_to_select=cols)\n",
    "\n",
    "X_train_af2_sc.shape, X_valid_af2_sc.shape, X_test_af2_sc.shape"
   ]
  },
  {
   "cell_type": "markdown",
   "id": "3f4ca866",
   "metadata": {},
   "source": [
    "## Reading the ensemble results"
   ]
  },
  {
   "cell_type": "code",
   "execution_count": 10,
   "id": "4babc823",
   "metadata": {},
   "outputs": [
    {
     "name": "stdout",
     "output_type": "stream",
     "text": [
      "score_af2_af2.csv\n",
      "score_af2_af2_2.csv\n",
      "score_af2_solved.csv\n",
      "score_af2_solved_2.csv\n",
      "score_both_af2.csv\n",
      "score_both_af2_2.csv\n",
      "score_both_solved.csv\n",
      "score_both_solved_2.csv\n",
      "score_solved_af2.csv\n",
      "score_solved_af2_2.csv\n",
      "score_solved_solved.csv\n",
      "score_solved_solved_2.csv\n"
     ]
    }
   ],
   "source": [
    "# Path to directory containing CSV files\n",
    "directory_path = '1_Ensemble'\n",
    "\n",
    "# List to store numpy arrays from CSV files\n",
    "numpy_arrays = []\n",
    "\n",
    "# Loop over all CSV files in directory\n",
    "filenames = []\n",
    "for filename in os.listdir(directory_path):\n",
    "    \n",
    "    # Save the filename in a list\n",
    "    print(filename)\n",
    "    filenames.append(filename)\n",
    "    \n",
    "    # Load CSV file as numpy array and append to list\n",
    "    if filename.endswith('.csv'):\n",
    "        file_path = os.path.join(directory_path, filename)\n",
    "        numpy_array = np.loadtxt(file_path, delimiter=',')\n",
    "        numpy_arrays.append(numpy_array)"
   ]
  },
  {
   "cell_type": "code",
   "execution_count": 11,
   "id": "90a3690f",
   "metadata": {},
   "outputs": [
    {
     "data": {
      "text/plain": [
       "(57989, 20)"
      ]
     },
     "execution_count": 11,
     "metadata": {},
     "output_type": "execute_result"
    }
   ],
   "source": [
    "# Concatenate the ensemble arrays\n",
    "score_af2_af2 = np.concatenate((numpy_arrays[0], numpy_arrays[1]), axis=1)\n",
    "score_af2_af2 = score_af2_af2[:, 0:20]\n",
    "\n",
    "score_af2_af2.shape"
   ]
  },
  {
   "cell_type": "code",
   "execution_count": 12,
   "id": "54af7296",
   "metadata": {},
   "outputs": [
    {
     "data": {
      "text/plain": [
       "(57989, 20)"
      ]
     },
     "execution_count": 12,
     "metadata": {},
     "output_type": "execute_result"
    }
   ],
   "source": [
    "# Concatenate the arrays\n",
    "score_af2_solved = np.concatenate((numpy_arrays[2], numpy_arrays[3]), axis=1)\n",
    "score_af2_solved = score_af2_solved[:, 0:20]\n",
    "\n",
    "score_af2_solved.shape"
   ]
  },
  {
   "cell_type": "code",
   "execution_count": 13,
   "id": "c7f0aeda",
   "metadata": {},
   "outputs": [
    {
     "data": {
      "text/plain": [
       "(57989, 20)"
      ]
     },
     "execution_count": 13,
     "metadata": {},
     "output_type": "execute_result"
    }
   ],
   "source": [
    "# Concatenate the arrays\n",
    "score_both_af2 = np.concatenate((numpy_arrays[4], numpy_arrays[5]), axis=1)\n",
    "score_both_af2 = score_both_af2[:, 0:20]\n",
    "\n",
    "score_both_af2.shape"
   ]
  },
  {
   "cell_type": "code",
   "execution_count": 14,
   "id": "f7fba267",
   "metadata": {},
   "outputs": [
    {
     "data": {
      "text/plain": [
       "(57989, 20)"
      ]
     },
     "execution_count": 14,
     "metadata": {},
     "output_type": "execute_result"
    }
   ],
   "source": [
    "# Concatenate the arrays\n",
    "score_both_solved = np.concatenate((numpy_arrays[6], numpy_arrays[7]), axis=1)\n",
    "score_both_solved = score_both_solved[:, 0:20]\n",
    "\n",
    "score_both_solved.shape"
   ]
  },
  {
   "cell_type": "code",
   "execution_count": 15,
   "id": "cfef509d",
   "metadata": {},
   "outputs": [
    {
     "data": {
      "text/plain": [
       "(57989, 20)"
      ]
     },
     "execution_count": 15,
     "metadata": {},
     "output_type": "execute_result"
    }
   ],
   "source": [
    "# Concatenate the arrays\n",
    "score_solved_af2 = np.concatenate((numpy_arrays[8], numpy_arrays[9]), axis=1)\n",
    "score_solved_af2 = score_solved_af2[:, 0:20]\n",
    "\n",
    "score_solved_af2.shape"
   ]
  },
  {
   "cell_type": "code",
   "execution_count": 16,
   "id": "39c4660c",
   "metadata": {},
   "outputs": [
    {
     "data": {
      "text/plain": [
       "(57989, 20)"
      ]
     },
     "execution_count": 16,
     "metadata": {},
     "output_type": "execute_result"
    }
   ],
   "source": [
    "# Concatenate the arrays\n",
    "score_solved_solved = np.concatenate((numpy_arrays[10], numpy_arrays[11]), axis=1)\n",
    "score_solved_solved = score_solved_solved[:, 0:20]\n",
    "\n",
    "score_solved_solved.shape"
   ]
  },
  {
   "cell_type": "code",
   "execution_count": 17,
   "id": "819f50d1",
   "metadata": {},
   "outputs": [],
   "source": [
    "# Nº of ensembles\n",
    "K = 20\n",
    "\n",
    "# Array for storing the mean scores for the ensemble methodology\n",
    "ensemble_score_both_solved = np.empty((len(X_valid_PDB_sc), K))\n",
    "ensemble_score_both_af2 = np.empty((len(X_valid_af2_sc), K))\n",
    "ensemble_score_solved_solved = np.empty((len(X_valid_PDB_sc), K))\n",
    "ensemble_score_solved_af2 = np.empty((len(X_valid_af2_sc), K))\n",
    "ensemble_score_af2_solved = np.empty((len(X_valid_PDB_sc), K))\n",
    "ensemble_score_af2_af2 = np.empty((len(X_valid_af2_sc), K))\n",
    "\n",
    "# Array for storing the AUC values from the ensemble scores\n",
    "ROC_AUC_both_solved = np.empty(K)\n",
    "ROC_AUC_both_af2 = np.empty(K)\n",
    "ROC_AUC_solved_solved = np.empty(K)\n",
    "ROC_AUC_solved_af2 = np.empty(K)\n",
    "ROC_AUC_af2_solved = np.empty(K)\n",
    "ROC_AUC_af2_af2 = np.empty(K)\n",
    "\n",
    "for i in range(0,K,1):\n",
    "\n",
    "    # Updating the ensemble score arrays\n",
    "    ensemble_score_both_solved[:, i] = np.mean(score_both_solved[:, :(i+1)], axis=1)\n",
    "    ensemble_score_both_af2[:, i] = np.mean(score_both_af2[:, :(i+1)], axis=1)\n",
    "    ensemble_score_solved_solved[:, i] = np.mean(score_solved_solved[:, :(i+1)], axis=1)\n",
    "    ensemble_score_solved_af2[:, i] = np.mean(score_solved_af2[:, :(i+1)], axis=1)\n",
    "    ensemble_score_af2_solved[:, i] = np.mean(score_af2_solved[:, :(i+1)], axis=1)\n",
    "    ensemble_score_af2_af2[:, i] = np.mean(score_af2_af2[:, :(i+1)], axis=1)\n",
    "    \n",
    "    # ROC-AUC values update according to the ensemble scores\n",
    "    ROC_AUC_both_solved[i] = ROC_AUC(y_valid_PDB, ensemble_score_both_solved[:, i])\n",
    "    ROC_AUC_both_af2[i] = ROC_AUC(y_valid_af2, ensemble_score_both_af2[:, i])\n",
    "    ROC_AUC_solved_solved[i] = ROC_AUC(y_valid_PDB, ensemble_score_solved_solved[:, i])\n",
    "    ROC_AUC_solved_af2[i] = ROC_AUC(y_valid_af2, ensemble_score_solved_af2[:, i])\n",
    "    ROC_AUC_af2_solved[i] = ROC_AUC(y_valid_PDB, ensemble_score_af2_solved[:, i])\n",
    "    ROC_AUC_af2_af2[i] = ROC_AUC(y_valid_af2, ensemble_score_af2_af2[:, i])"
   ]
  },
  {
   "cell_type": "code",
   "execution_count": 18,
   "id": "42462e18",
   "metadata": {
    "scrolled": false
   },
   "outputs": [
    {
     "data": {
      "image/png": "[encoded data removed]",
      "text/plain": [
       "<Figure size 640x480 with 1 Axes>"
      ]
     },
     "metadata": {},
     "output_type": "display_data"
    }
   ],
   "source": [
    "# Using the style for the plot\n",
    "plt.style.use('ggplot')\n",
    "\n",
    "# Plot ensemble curve\n",
    "plt.plot(range(1, len(ROC_AUC_both_solved) + 1), ROC_AUC_both_solved, label = 'Both - Solved')\n",
    "plt.plot(range(1, len(ROC_AUC_both_af2) + 1), ROC_AUC_both_af2, label = 'Both - AF2')\n",
    "plt.plot(range(1, len(ROC_AUC_solved_solved) + 1), ROC_AUC_solved_solved, label = 'Solved - Solved')\n",
    "plt.plot(range(1, len(ROC_AUC_solved_af2) + 1), ROC_AUC_solved_af2, label = 'Solved - AF2')\n",
    "plt.plot(range(1, len(ROC_AUC_af2_solved) + 1), ROC_AUC_af2_solved, label = 'AF2 - Solved')\n",
    "plt.plot(range(1, len(ROC_AUC_af2_af2) + 1), ROC_AUC_af2_af2, label = 'AF2 - AF2')\n",
    "\n",
    "plt.ylabel('ROC-AUC')\n",
    "plt.xlabel('Ensemble size')\n",
    "plt.xticks(range(1, len(ROC_AUC_both_solved) + 1))\n",
    "plt.legend(loc='lower right', fontsize = 8)\n",
    "plt.savefig('1NN_ensemble.png', format='png', dpi=1200, facecolor='white', bbox_inches='tight')"
   ]
  },
  {
   "cell_type": "code",
   "execution_count": 19,
   "id": "0adafc11",
   "metadata": {},
   "outputs": [
    {
     "name": "stdout",
     "output_type": "stream",
     "text": [
      "Ensemble results for structure of 1 hidden units: \n",
      "\n",
      "Solved - Solved: 0.7964398245038363\n",
      "Both - Solved:\t 0.7936288832333496\n",
      "AF2 - AF2:\t 0.7776410363191336\n",
      "Both - AF2:\t 0.7750035600067197\n",
      "AF2 - Solved:\t 0.7728633267497413\n",
      "Solved - AF2:\t 0.7555849224491591\n"
     ]
    }
   ],
   "source": [
    "print('Ensemble results for structure of 1 hidden units: \\n')\n",
    "print('Solved - Solved:', str(ROC_AUC_solved_solved[-1]))\n",
    "print('Both - Solved:\\t', str(ROC_AUC_both_solved[-1]))\n",
    "print('AF2 - AF2:\\t', str(ROC_AUC_af2_af2[-1]))\n",
    "print('Both - AF2:\\t', str(ROC_AUC_both_af2[-1]))\n",
    "print('AF2 - Solved:\\t', str(ROC_AUC_af2_solved[-1]))\n",
    "print('Solved - AF2:\\t', str(ROC_AUC_solved_af2[-1]))"
   ]
  },
  {
   "cell_type": "code",
   "execution_count": 20,
   "id": "fa8f0b75",
   "metadata": {},
   "outputs": [],
   "source": [
    "gain_both_solved = ROC_AUC_both_solved[-1] - ROC_AUC_both_solved[0]\n",
    "gain_both_af2 = ROC_AUC_both_af2[-1] - ROC_AUC_both_af2[0]\n",
    "gain_solved_solved = ROC_AUC_solved_solved[-1] - ROC_AUC_solved_solved[0]\n",
    "gain_solved_af2 = ROC_AUC_solved_af2[-1] - ROC_AUC_solved_af2[0]\n",
    "gain_af2_solved = ROC_AUC_af2_solved[-1] - ROC_AUC_af2_solved[0]\n",
    "gain_af2_af2 = ROC_AUC_af2_af2[-1] - ROC_AUC_af2_af2[0]"
   ]
  },
  {
   "cell_type": "code",
   "execution_count": 21,
   "id": "89ec3d0f",
   "metadata": {},
   "outputs": [
    {
     "name": "stdout",
     "output_type": "stream",
     "text": [
      "Gain from the data-ensemble for structure of 1 hidden units: \n",
      "\n",
      "Both - Solved: 0.03775608890674853 %\n",
      "Both - AF2:\t 0.029191858849464403 %\n",
      "Solved - Solved:\t 0.29886550789166577 %\n",
      "Solved - AF2:\t 0.46625137179973075 %\n",
      "AF2 - Solved:\t 1.0672837344980701 %\n",
      "AF2 - AF2:\t 0.11153673754232818 %\n"
     ]
    }
   ],
   "source": [
    "print('Gain from the data-ensemble for structure of 1 hidden units: \\n')\n",
    "print('Both - Solved:', str(gain_both_solved*100), '%')\n",
    "print('Both - AF2:\\t', str(gain_both_af2*100), '%')\n",
    "print('Solved - Solved:\\t', str(gain_solved_solved*100), '%')\n",
    "print('Solved - AF2:\\t', str(gain_solved_af2*100), '%')\n",
    "print('AF2 - Solved:\\t', str(gain_af2_solved*100), '%')\n",
    "print('AF2 - AF2:\\t', str(gain_af2_af2*100), '%')"
   ]
  },
  {
   "cell_type": "markdown",
   "id": "a476f41f",
   "metadata": {},
   "source": [
    "## Reading the ensemble results (10 hu)"
   ]
  },
  {
   "cell_type": "code",
   "execution_count": 22,
   "id": "01188f82",
   "metadata": {},
   "outputs": [
    {
     "name": "stdout",
     "output_type": "stream",
     "text": [
      "score_af2_af2_10.csv\n",
      "score_af2_solved_10.csv\n",
      "score_both_af2_10.csv\n",
      "score_both_solved_10.csv\n",
      "score_solved_af2_10.csv\n",
      "score_solved_solved_10.csv\n"
     ]
    }
   ],
   "source": [
    "# Path to directory containing CSV files\n",
    "directory_path = '10_Ensemble'\n",
    "\n",
    "# List to store numpy arrays from CSV files\n",
    "numpy_arrays = []\n",
    "\n",
    "# Loop over all CSV files in directory\n",
    "filenames = []\n",
    "for filename in os.listdir(directory_path):\n",
    "    \n",
    "    # Save the filename in a list\n",
    "    print(filename)\n",
    "    filenames.append(filename)\n",
    "    \n",
    "    # Load CSV file as numpy array and append to list\n",
    "    if filename.endswith('.csv'):\n",
    "        file_path = os.path.join(directory_path, filename)\n",
    "        numpy_array = np.loadtxt(file_path, delimiter=',')\n",
    "        numpy_arrays.append(numpy_array)"
   ]
  },
  {
   "cell_type": "code",
   "execution_count": 23,
   "id": "7e19717c",
   "metadata": {},
   "outputs": [
    {
     "data": {
      "text/plain": [
       "(57989, 20)"
      ]
     },
     "execution_count": 23,
     "metadata": {},
     "output_type": "execute_result"
    }
   ],
   "source": [
    "# Concatenate the ensemble arrays\n",
    "score_af2_af2 = numpy_arrays[1]\n",
    "score_af2_af2 = score_af2_af2[:, 0:20]\n",
    "\n",
    "score_af2_af2.shape"
   ]
  },
  {
   "cell_type": "code",
   "execution_count": 24,
   "id": "4aa7f2a5",
   "metadata": {},
   "outputs": [
    {
     "data": {
      "text/plain": [
       "(57989, 20)"
      ]
     },
     "execution_count": 24,
     "metadata": {},
     "output_type": "execute_result"
    }
   ],
   "source": [
    "# Concatenate the arrays\n",
    "score_af2_solved = numpy_arrays[1]\n",
    "score_af2_solved = score_af2_solved[:, 0:20]\n",
    "\n",
    "score_af2_solved.shape"
   ]
  },
  {
   "cell_type": "code",
   "execution_count": 25,
   "id": "0fce1d4b",
   "metadata": {},
   "outputs": [
    {
     "data": {
      "text/plain": [
       "(57989, 20)"
      ]
     },
     "execution_count": 25,
     "metadata": {},
     "output_type": "execute_result"
    }
   ],
   "source": [
    "# Concatenate the arrays\n",
    "score_both_af2 = numpy_arrays[2]\n",
    "score_both_af2 = score_both_af2[:, 0:20]\n",
    "\n",
    "score_both_af2.shape"
   ]
  },
  {
   "cell_type": "code",
   "execution_count": 26,
   "id": "cd55e579",
   "metadata": {},
   "outputs": [
    {
     "data": {
      "text/plain": [
       "(57989, 20)"
      ]
     },
     "execution_count": 26,
     "metadata": {},
     "output_type": "execute_result"
    }
   ],
   "source": [
    "# Concatenate the arrays\n",
    "score_both_solved = numpy_arrays[3]\n",
    "score_both_solved = score_both_solved[:, 0:20]\n",
    "\n",
    "score_both_solved.shape"
   ]
  },
  {
   "cell_type": "code",
   "execution_count": 27,
   "id": "d620b36d",
   "metadata": {},
   "outputs": [
    {
     "data": {
      "text/plain": [
       "(57989, 20)"
      ]
     },
     "execution_count": 27,
     "metadata": {},
     "output_type": "execute_result"
    }
   ],
   "source": [
    "# Concatenate the arrays\n",
    "score_solved_af2 = numpy_arrays[4]\n",
    "score_solved_af2 = score_solved_af2[:, 0:20]\n",
    "\n",
    "score_solved_af2.shape"
   ]
  },
  {
   "cell_type": "code",
   "execution_count": 28,
   "id": "7ceac906",
   "metadata": {},
   "outputs": [
    {
     "data": {
      "text/plain": [
       "(57989, 20)"
      ]
     },
     "execution_count": 28,
     "metadata": {},
     "output_type": "execute_result"
    }
   ],
   "source": [
    "# Concatenate the arrays\n",
    "score_solved_solved = numpy_arrays[5]\n",
    "score_solved_solved = score_solved_solved[:, 0:20]\n",
    "\n",
    "score_solved_solved.shape"
   ]
  },
  {
   "cell_type": "code",
   "execution_count": 29,
   "id": "b4cc3e04",
   "metadata": {},
   "outputs": [],
   "source": [
    "# Nº of ensembles\n",
    "K = 20\n",
    "\n",
    "# Array for storing the mean scores for the ensemble methodology\n",
    "ensemble_score_both_solved = np.empty((len(X_valid_PDB_sc), K))\n",
    "ensemble_score_both_af2 = np.empty((len(X_valid_af2_sc), K))\n",
    "ensemble_score_solved_solved = np.empty((len(X_valid_PDB_sc), K))\n",
    "ensemble_score_solved_af2 = np.empty((len(X_valid_af2_sc), K))\n",
    "ensemble_score_af2_solved = np.empty((len(X_valid_PDB_sc), K))\n",
    "ensemble_score_af2_af2 = np.empty((len(X_valid_af2_sc), K))\n",
    "\n",
    "# Array for storing the AUC values from the ensemble scores\n",
    "ROC_AUC_both_solved = np.empty(K)\n",
    "ROC_AUC_both_af2 = np.empty(K)\n",
    "ROC_AUC_solved_solved = np.empty(K)\n",
    "ROC_AUC_solved_af2 = np.empty(K)\n",
    "ROC_AUC_af2_solved = np.empty(K)\n",
    "ROC_AUC_af2_af2 = np.empty(K)\n",
    "\n",
    "for i in range(0,K,1):\n",
    "\n",
    "    # Updating the ensemble score arrays\n",
    "    ensemble_score_both_solved[:, i] = np.mean(score_both_solved[:, :(i+1)], axis=1)\n",
    "    ensemble_score_both_af2[:, i] = np.mean(score_both_af2[:, :(i+1)], axis=1)\n",
    "    ensemble_score_solved_solved[:, i] = np.mean(score_solved_solved[:, :(i+1)], axis=1)\n",
    "    ensemble_score_solved_af2[:, i] = np.mean(score_solved_af2[:, :(i+1)], axis=1)\n",
    "    ensemble_score_af2_solved[:, i] = np.mean(score_af2_solved[:, :(i+1)], axis=1)\n",
    "    ensemble_score_af2_af2[:, i] = np.mean(score_af2_af2[:, :(i+1)], axis=1)\n",
    "    \n",
    "    # ROC-AUC values update according to the ensemble scores\n",
    "    ROC_AUC_both_solved[i] = ROC_AUC(y_valid_PDB, ensemble_score_both_solved[:, i])\n",
    "    ROC_AUC_both_af2[i] = ROC_AUC(y_valid_af2, ensemble_score_both_af2[:, i])\n",
    "    ROC_AUC_solved_solved[i] = ROC_AUC(y_valid_PDB, ensemble_score_solved_solved[:, i])\n",
    "    ROC_AUC_solved_af2[i] = ROC_AUC(y_valid_af2, ensemble_score_solved_af2[:, i])\n",
    "    ROC_AUC_af2_solved[i] = ROC_AUC(y_valid_PDB, ensemble_score_af2_solved[:, i])\n",
    "    ROC_AUC_af2_af2[i] = ROC_AUC(y_valid_af2, ensemble_score_af2_af2[:, i])"
   ]
  },
  {
   "cell_type": "code",
   "execution_count": 30,
   "id": "74023514",
   "metadata": {
    "scrolled": false
   },
   "outputs": [
    {
     "data": {
      "image/png": "[encoded data removed]",
      "text/plain": [
       "<Figure size 640x480 with 1 Axes>"
      ]
     },
     "metadata": {},
     "output_type": "display_data"
    }
   ],
   "source": [
    "# Using the style for the plot\n",
    "plt.style.use('ggplot')\n",
    "\n",
    "# Plot ensemble curve\n",
    "plt.plot(range(1, len(ROC_AUC_both_solved) + 1), ROC_AUC_both_solved, label = 'Both - Solved')\n",
    "plt.plot(range(1, len(ROC_AUC_both_af2) + 1), ROC_AUC_both_af2, label = 'Both - AF2')\n",
    "plt.plot(range(1, len(ROC_AUC_solved_solved) + 1), ROC_AUC_solved_solved, label = 'Solved - Solved')\n",
    "plt.plot(range(1, len(ROC_AUC_solved_af2) + 1), ROC_AUC_solved_af2, label = 'Solved - AF2')\n",
    "plt.plot(range(1, len(ROC_AUC_af2_solved) + 1), ROC_AUC_af2_solved, label = 'AF2 - Solved')\n",
    "plt.plot(range(1, len(ROC_AUC_af2_af2) + 1), ROC_AUC_af2_af2, label = 'AF2 - AF2')\n",
    "\n",
    "plt.ylabel('ROC-AUC')\n",
    "plt.xlabel('Ensemble size')\n",
    "plt.xticks(range(1, len(ROC_AUC_both_solved) + 1))\n",
    "plt.legend(loc='lower right', fontsize = 8)\n",
    "plt.savefig('10NN_ensemble.png', format='png', dpi=1200, facecolor='white', bbox_inches='tight')"
   ]
  },
  {
   "cell_type": "code",
   "execution_count": 31,
   "id": "166bd2cc",
   "metadata": {},
   "outputs": [
    {
     "name": "stdout",
     "output_type": "stream",
     "text": [
      "Ensemble results for structure of 10 hidden units: \n",
      "\n",
      "Solved - Solved: 0.8080206872893237\n",
      "Both - Solved:\t 0.8048532547174996\n",
      "AF2 - AF2:\t 0.781288408429719\n",
      "Both - AF2:\t 0.7911271601429968\n",
      "AF2 - Solved:\t 0.781288408429719\n",
      "Solved - AF2:\t 0.7719932210720997\n"
     ]
    }
   ],
   "source": [
    "print('Ensemble results for structure of 10 hidden units: \\n')\n",
    "print('Solved - Solved:', str(ROC_AUC_solved_solved[-1]))\n",
    "print('Both - Solved:\\t', str(ROC_AUC_both_solved[-1]))\n",
    "print('AF2 - AF2:\\t', str(ROC_AUC_af2_af2[-1]))\n",
    "print('Both - AF2:\\t', str(ROC_AUC_both_af2[-1]))\n",
    "print('AF2 - Solved:\\t', str(ROC_AUC_af2_solved[-1]))\n",
    "print('Solved - AF2:\\t', str(ROC_AUC_solved_af2[-1]))"
   ]
  },
  {
   "cell_type": "code",
   "execution_count": 32,
   "id": "3292c7d4",
   "metadata": {},
   "outputs": [],
   "source": [
    "gain_both_solved = ROC_AUC_both_solved[-1] - ROC_AUC_both_solved[0]\n",
    "gain_both_af2 = ROC_AUC_both_af2[-1] - ROC_AUC_both_af2[0]\n",
    "gain_solved_solved = ROC_AUC_solved_solved[-1] - ROC_AUC_solved_solved[0]\n",
    "gain_solved_af2 = ROC_AUC_solved_af2[-1] - ROC_AUC_solved_af2[0]\n",
    "gain_af2_solved = ROC_AUC_af2_solved[-1] - ROC_AUC_af2_solved[0]\n",
    "gain_af2_af2 = ROC_AUC_af2_af2[-1] - ROC_AUC_af2_af2[0]"
   ]
  },
  {
   "cell_type": "code",
   "execution_count": 33,
   "id": "eeb6a241",
   "metadata": {},
   "outputs": [
    {
     "name": "stdout",
     "output_type": "stream",
     "text": [
      "Gain from the data-ensemble for structure of 10 hidden units: \n",
      "\n",
      "Both - Solved: 0.7274960082394366 %\n",
      "Both - AF2:\t 0.6373308898682262 %\n",
      "Solved - Solved:\t 0.47420506266711016 %\n",
      "Solved - AF2:\t 0.376817879947311 %\n",
      "AF2 - Solved:\t 0.36213353910982127 %\n",
      "AF2 - AF2:\t 0.36213353910982127 %\n"
     ]
    }
   ],
   "source": [
    "print('Gain from the data-ensemble for structure of 10 hidden units: \\n')\n",
    "print('Both - Solved:', str(gain_both_solved*100), '%')\n",
    "print('Both - AF2:\\t', str(gain_both_af2*100), '%')\n",
    "print('Solved - Solved:\\t', str(gain_solved_solved*100), '%')\n",
    "print('Solved - AF2:\\t', str(gain_solved_af2*100), '%')\n",
    "print('AF2 - Solved:\\t', str(gain_af2_solved*100), '%')\n",
    "print('AF2 - AF2:\\t', str(gain_af2_af2*100), '%')"
   ]
  },
  {
   "cell_type": "code",
   "execution_count": null,
   "id": "2f7e3480",
   "metadata": {},
   "outputs": [],
   "source": []
  }
 ],
 "metadata": {
  "kernelspec": {
   "display_name": "Python 3 (ipykernel)",
   "language": "python",
   "name": "python3"
  },
  "language_info": {
   "codemirror_mode": {
    "name": "ipython",
    "version": 3
   },
   "file_extension": ".py",
   "mimetype": "text/x-python",
   "name": "python",
   "nbconvert_exporter": "python",
   "pygments_lexer": "ipython3",
   "version": "3.10.9"
  }
 },
 "nbformat": 4,
 "nbformat_minor": 5
}
