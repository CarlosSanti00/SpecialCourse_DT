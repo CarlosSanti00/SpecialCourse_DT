{
 "cells": [
  {
   "cell_type": "markdown",
   "metadata": {},
   "source": [
    "# 1. RNN for the original whole dataset"
   ]
  },
  {
   "cell_type": "code",
   "execution_count": 1,
   "metadata": {
    "scrolled": false
   },
   "outputs": [
    {
     "name": "stderr",
     "output_type": "stream",
     "text": [
      "C:\\Users\\minij\\anaconda3\\envs\\special_course\\lib\\site-packages\\tqdm\\auto.py:22: TqdmWarning: IProgress not found. Please update jupyter and ipywidgets. See https://ipywidgets.readthedocs.io/en/stable/user_install.html\n",
      "  from .autonotebook import tqdm as notebook_tqdm\n"
     ]
    }
   ],
   "source": [
    "# Import of required libraries and functions from 'make_dataset' script\n",
    "import os\n",
    "from make_dataset import Discotope_Dataset\n",
    "import numpy as np\n",
    "import torch\n",
    "import pandas as pd\n",
    "import re\n",
    "import matplotlib.pyplot as plt\n",
    "from sklearn.utils.class_weight import compute_class_weight\n",
    "from sklearn.preprocessing import MinMaxScaler, StandardScaler\n",
    "from sklearn import metrics\n",
    "from sklearn.metrics import accuracy_score, log_loss\n",
    "from tqdm import tqdm"
   ]
  },
  {
   "cell_type": "code",
   "execution_count": 2,
   "metadata": {},
   "outputs": [],
   "source": [
    "# Import tensorflow and keras\n",
    "import tensorflow as tf\n",
    "from tensorflow import keras"
   ]
  },
  {
   "cell_type": "code",
   "execution_count": 3,
   "metadata": {},
   "outputs": [],
   "source": [
    "tf.random.set_seed(1234)"
   ]
  },
  {
   "cell_type": "code",
   "execution_count": 4,
   "metadata": {},
   "outputs": [],
   "source": [
    "def data_load(name_set, data_dir, separate=False):\n",
    "    \n",
    "    '''\n",
    "    Function to load training, validation or test data from the folder/directory you have storaged the whole dataset\n",
    "        - 'name_set': text variable with the type of data set to load ('train', 'test', 'valid')\n",
    "        - 'data_dir': directory where you have storaged the data set (in my case is '../Data/')\n",
    "        - 'separate': boolean that returns the PDBs and AF2 sets separately (only when True)\n",
    "    \n",
    "    Output:\n",
    "        - 'X_all': all observations from both solved and predicted structures all together\n",
    "        - 'y_all': all labels from both solved and predicted structures all together\n",
    "        - 'N_solved': number of observations from solved structures (in case of wanted to unmerge the 'all' array)\n",
    "        - 'N_af2': number of observations from predicted structures (in case of wanted to unmerge the 'all' array)\n",
    "    '''\n",
    "    \n",
    "    # 'Pathlib module' load to work with windows path\n",
    "    import pathlib\n",
    "    temp = pathlib.PosixPath\n",
    "    pathlib.PosixPath = pathlib.WindowsPath\n",
    "    \n",
    "    # List of all subdirectories inside the data directory\n",
    "    dirs = [d for d in os.listdir(data_dir)]\n",
    "    \n",
    "    # 're' module to use regex for filtering the specific directories according to the type of data set to load\n",
    "    pattern = '.*' + name_set + '.*'\n",
    "    R = re.compile(pattern)\n",
    "    filtered = [folder for folder in dirs if R.match(folder)]\n",
    "    \n",
    "    # Loading the data set for solved structures and AlphaFold2 predicted structures\n",
    "    path_af2 = data_dir + filtered[0] + '/dataset.pt'\n",
    "    path_solved = data_dir + filtered[1] + '/dataset.pt'\n",
    "    set_af2 = torch.load(path_af2)\n",
    "    set_solved = torch.load(path_solved)\n",
    "    \n",
    "    # Stack all features and targets to one big array\n",
    "    X_set_solved = np.concatenate([sample[\"X_arr\"] for sample in set_solved])\n",
    "    y_set_solved = np.concatenate([sample[\"y_arr\"] for sample in set_solved])\n",
    "    X_set_af2 = np.concatenate([sample[\"X_arr\"] for sample in set_af2])\n",
    "    y_set_af2 = np.concatenate([sample[\"y_arr\"] for sample in set_af2])\n",
    "    \n",
    "    # Nº of observations for each subtype of data set\n",
    "    N_set_solved = X_set_solved.shape[0]\n",
    "    N_set_af2 = X_set_af2.shape[0]\n",
    "    \n",
    "    # Stack all features and targets from solved and predicted structures into only one big\n",
    "    X_set_all = np.concatenate((X_set_solved, X_set_af2), axis=0)\n",
    "    y_set_all = np.concatenate((y_set_solved, y_set_af2), axis=0)\n",
    "    \n",
    "    if (separate==True):\n",
    "        return(X_set_all, y_set_all, X_set_solved, y_set_solved, X_set_af2, y_set_af2)\n",
    "    else:\n",
    "        return(X_set_all, y_set_all, N_set_solved, N_set_af2)"
   ]
  },
  {
   "cell_type": "code",
   "execution_count": 5,
   "metadata": {},
   "outputs": [],
   "source": [
    "def dataframe_load(name_set, data_dir):\n",
    "    \n",
    "    '''\n",
    "    Function to load training, validation or test dataframes from the folder/directory you have storaged the whole dataset.\n",
    "    This function is specifically to have the original dataframes of the data, and their corresponding description\n",
    "        - 'name_set': text variable with the type of data set to load ('train', 'test', 'valid')\n",
    "        - 'data_dir': directory where you have storaged the data set (in my case is '../Data/')\n",
    "    \n",
    "    Output:\n",
    "        - 'set_af2': dataframe for AF2 predicted structures\n",
    "        - 'set_solved': dataframe for PDB solved structures\n",
    "    '''\n",
    "    \n",
    "    # 'Pathlib module' load to work with windows path\n",
    "    import pathlib\n",
    "    temp = pathlib.PosixPath\n",
    "    pathlib.PosixPath = pathlib.WindowsPath\n",
    "    \n",
    "    # List of all subdirectories inside the data directory\n",
    "    dirs = [d for d in os.listdir(data_dir)]\n",
    "    \n",
    "    # 're' module to use regex for filtering the specific directories according to the type of data set to load\n",
    "    pattern = '.*' + name_set + '.*'\n",
    "    R = re.compile(pattern)\n",
    "    filtered = [folder for folder in dirs if R.match(folder)]\n",
    "    \n",
    "    # Loading the data set for solved structures and AlphaFold2 predicted structures\n",
    "    path_af2 = data_dir + filtered[0] + '/dataset.pt'\n",
    "    path_solved = data_dir + filtered[1] + '/dataset.pt'\n",
    "    set_af2 = torch.load(path_af2)\n",
    "    set_solved = torch.load(path_solved)\n",
    "    \n",
    "    return(set_af2, set_solved)"
   ]
  },
  {
   "cell_type": "code",
   "execution_count": 6,
   "metadata": {},
   "outputs": [],
   "source": [
    "def remove_NaN(data, y):\n",
    "    \n",
    "    '''\n",
    "    Function to remove NaN values (some PDB entries have RSA NaN values)\n",
    "        - 'data': numpy array with the specific (train, valid, test) data\n",
    "        - 'y': numpy array with the specific (train, valid, test) labels\n",
    "    \n",
    "    Output:\n",
    "        - 'data_noNaN': array withouth the entries/observations that contain NaN values\n",
    "    '''\n",
    "    \n",
    "    # Merging X and y arrays all together\n",
    "    joint_data = np.hstack((data, y.reshape(-1, 1)))\n",
    "    \n",
    "    # Removal of NaN entries\n",
    "    nan_rows = np.isnan(joint_data).any(axis=1)\n",
    "    data_noNaN = joint_data[~nan_rows, :]\n",
    "    \n",
    "    # Demerging the final array into X and y\n",
    "    X_noNaN = data_noNaN[:, 0:data.shape[1]]\n",
    "    y_noNaN = data_noNaN[:,-1]\n",
    "    \n",
    "    return(X_noNaN, y_noNaN)"
   ]
  },
  {
   "cell_type": "code",
   "execution_count": 7,
   "metadata": {},
   "outputs": [],
   "source": [
    "def normalize_train(X):\n",
    "    \n",
    "    '''\n",
    "    Function to normalize the columns 532 (pLLDT) and 533 (length) because they have high length\n",
    "        - 'X': data to normalize\n",
    "    '''\n",
    "    \n",
    "    # Create a copy of the X vector to do the normalization\n",
    "    X_scaled = X.copy()\n",
    "    \n",
    "    # Create an instance of MinMaxScaler\n",
    "    scaler = StandardScaler()\n",
    "    \n",
    "    # Fit the scaler to the data \n",
    "    #scaler.fit(X_scaled[:, 532:534])\n",
    "    scaler.fit(X_scaled)\n",
    "    \n",
    "    # Transform the data\n",
    "    #X_scaled[:, 532:534] = scaler.fit_transform(X_scaled[:, 532:534])\n",
    "    X_scaled = scaler.fit_transform(X_scaled)\n",
    "    return(X_scaled)"
   ]
  },
  {
   "cell_type": "code",
   "execution_count": 8,
   "metadata": {},
   "outputs": [],
   "source": [
    "def Z_transform_train(X):\n",
    "    \n",
    "    '''\n",
    "    Function to normalize the columns 532 (pLLDT) and 533 (length) because they have high length\n",
    "        - 'X': data to normalize\n",
    "    '''\n",
    "    \n",
    "    # Obtain the mean and standard deviation for each feature on the array\n",
    "    X_mean = np.mean(X, axis=0)\n",
    "    X_std = np.std(X, axis=0)\n",
    "    \n",
    "    # Z-transform (standardization)\n",
    "    X_scaled = (X - X_mean)/X_std\n",
    "    return(X_scaled, X_mean, X_std)"
   ]
  },
  {
   "cell_type": "code",
   "execution_count": 9,
   "metadata": {},
   "outputs": [],
   "source": [
    "def Z_transform_valid(X, mean_train, sd_train):\n",
    "    \n",
    "    '''\n",
    "    Function to normalize the columns 532 (pLLDT) and 533 (length) because they have high length\n",
    "        - 'X': data to normalize\n",
    "        - 'mean_train': mean from standardized training set\n",
    "        - 'sd_train': standard deviation from standardized training set\n",
    "    '''\n",
    "    \n",
    "    # Z-transform (standardization)\n",
    "    X_scaled = (X - mean_train)/sd_train\n",
    "    return(X_scaled)"
   ]
  },
  {
   "cell_type": "code",
   "execution_count": 10,
   "metadata": {},
   "outputs": [],
   "source": [
    "def class_weight_calculator(y_train):\n",
    "        \n",
    "    '''\n",
    "    Function to calculate the class weights for the unbalanced data\n",
    "        - 'y_train': training labels (contains 0 and 1)\n",
    "    '''\n",
    "    \n",
    "    # Compute the class weights with sklearn function\n",
    "    class_weights = compute_class_weight('balanced', classes=np.unique(y_train), y=y_train)\n",
    "\n",
    "    # Convert the class weights to a dictionary\n",
    "    class_weight = dict(enumerate(class_weights))\n",
    "    return(class_weight)"
   ]
  },
  {
   "cell_type": "code",
   "execution_count": 25,
   "metadata": {},
   "outputs": [],
   "source": [
    "# Neuronal network model with one layer\n",
    "def nn_model(train_data, y_train, valid_data, y_valid, loss_fun, alpha, class_weight_fn):\n",
    "    \n",
    "    '''\n",
    "    Function to create and train/validate the feed-forward neuronal network with only 1 hidden layer\n",
    "        -'train_data': X train standardized\n",
    "        -'y_train': training labels\n",
    "        -'valid_data': X validation standardized\n",
    "        -'y_valid': validation labels\n",
    "        -'act_fun': activation function\n",
    "        -'loss_fun': loss function\n",
    "        -'class_weight_calculator': function to calculate the weights for each class\n",
    "    \n",
    "    Output:\n",
    "        -'model': neural network model trained\n",
    "        -'history': attributes obtained during fitting the model\n",
    "    '''\n",
    "    \n",
    "    # Calculation of the class weights with function previously defined\n",
    "    class_weight = class_weight_fn(y_train)\n",
    "    \n",
    "    # Normalization of the class_weight to sum 1\n",
    "    tot = class_weight[0] + class_weight[1]\n",
    "    class_weight[0] = class_weight[0]/tot\n",
    "    class_weight[1] = class_weight[1]/tot\n",
    "    \n",
    "    # Implementation of keras for creating a sequential model with 1 layer\n",
    "    tf.random.set_seed(1234)\n",
    "    from keras.layers import Dense, Dropout\n",
    "    from keras import regularizers, metrics\n",
    "    \n",
    "    model = keras.Sequential()\n",
    "    # Input layer with train_data.shape neurons and a hidden layer with 1 neuron\n",
    "    model.add(Dense(1, activation='relu', input_shape=train_data.shape[1:], kernel_regularizer=regularizers.l2(alpha)))\n",
    "    # Output layer with sigmoid activation (better for binary classification)\n",
    "    model.add(Dense(1, activation='sigmoid', kernel_regularizer=regularizers.l2(alpha)))\n",
    "    \n",
    "    opt = tf.keras.optimizers.Adam(learning_rate=0.0001)\n",
    "    model.compile(optimizer=opt, loss=loss_fun, metrics=\n",
    "                  ['accuracy', metrics.Precision(), metrics.Recall(), metrics.AUC(), loss_fun])\n",
    "    \n",
    "    history = model.fit(train_data, y_train, epochs = 50, batch_size=128, verbose=0, class_weight=class_weight, \n",
    "                        validation_data = (valid_data, y_valid))\n",
    "    \n",
    "    return(model, history)"
   ]
  },
  {
   "cell_type": "code",
   "execution_count": 12,
   "metadata": {},
   "outputs": [],
   "source": [
    "def loss_plot(loss_values):\n",
    "    \n",
    "    '''\n",
    "    Function to plot the loss curve of the training of the model\n",
    "        - 'loss_values': array with the loss values for each iteration of the training\n",
    "    '''\n",
    "    \n",
    "    plt.plot(loss_values, label = 'Train')\n",
    "    plt.title('Model loss')\n",
    "    plt.ylabel('Loss')\n",
    "    plt.xlabel('Epoch')\n",
    "    plt.legend(loc='upper right')\n",
    "    plt.show()"
   ]
  },
  {
   "cell_type": "code",
   "execution_count": 13,
   "metadata": {},
   "outputs": [],
   "source": [
    "def ROC_AUC(y_true, y_hat):\n",
    "    \n",
    "    '''\n",
    "    Function to obtain the AUC value based on the ROC curve\n",
    "        - 'y_true': y original values\n",
    "        - 'y_hat': y predicted values\n",
    "        \n",
    "    Output:\n",
    "        - 'ROC_auc': AUC value\n",
    "    '''\n",
    "    \n",
    "    fpr, tpr, _ = metrics.roc_curve(y_true, y_hat)\n",
    "    ROC_auc = metrics.auc(fpr, tpr)\n",
    "    return(ROC_auc)"
   ]
  },
  {
   "cell_type": "code",
   "execution_count": 14,
   "metadata": {},
   "outputs": [],
   "source": [
    "def PR_AUC(y_true, y_hat):\n",
    "    \n",
    "    '''\n",
    "    Function to obtain the AUC value based on the precision and recall parameters\n",
    "        - 'y_true': y original values\n",
    "        - 'y_hat': y predicted values\n",
    "        \n",
    "    Output:\n",
    "        - 'PR_auc': AUC value\n",
    "    '''\n",
    "    \n",
    "    precision, recall, thresholds = metrics.precision_recall_curve(y_true, y_hat)\n",
    "    PR_auc = metrics.auc(recall, precision)\n",
    "    return(PR_auc)"
   ]
  },
  {
   "cell_type": "code",
   "execution_count": 15,
   "metadata": {},
   "outputs": [],
   "source": [
    "# Epitope rank percentile score\n",
    "# https://github.com/Magnushhoie/discotope3/blob/main/src/models/mlscripts.py#L55\n",
    "\n",
    "def get_percentile_score_arr(\n",
    "    scores: np.array,\n",
    "    epitopes: np.array,\n",
    "):\n",
    "    \n",
    "    \"\"\"Find mean predicted epitope rank percentile score from the scores (y_hat) and the epitopes (y_true)\"\"\"\n",
    "    epitopes_bool = epitopes.astype(bool)\n",
    "    assert epitopes_bool.dtype == \"bool\"\n",
    "\n",
    "    c = scores[epitopes_bool].mean()\n",
    "    c_percentile = (c > scores).mean()\n",
    "\n",
    "    return c_percentile"
   ]
  },
  {
   "cell_type": "code",
   "execution_count": 16,
   "metadata": {},
   "outputs": [
    {
     "data": {
      "text/plain": [
       "((480297, 536), (480297,), (119792, 536), (119792,), (14084, 536), (14084,))"
      ]
     },
     "execution_count": 16,
     "metadata": {},
     "output_type": "execute_result"
    }
   ],
   "source": [
    "# Data loading for training, validation, and test data sets (needs a couple of minutes)\n",
    "X_train, y_train, X_train_PDB, y_train_PDB, X_train_af2, y_train_af2 = data_load(name_set='train', data_dir='../Data/', separate = True)\n",
    "X_valid, y_valid, X_valid_PDB, y_valid_PDB, X_valid_af2, y_valid_af2 = data_load(name_set='valid', data_dir='../Data/', separate = True)\n",
    "X_test, y_test, X_test_PDB, y_test_PDB, X_test_af2, y_test_af2 = data_load(name_set='test', data_dir='../Data/', separate = True)\n",
    "\n",
    "X_train.shape, y_train.shape, X_valid.shape, y_valid.shape, X_test.shape, y_test.shape"
   ]
  },
  {
   "cell_type": "code",
   "execution_count": 17,
   "metadata": {
    "scrolled": true
   },
   "outputs": [
    {
     "data": {
      "text/plain": [
       "((463580, 536), (463580,), (118084, 536), (118084,), (12983, 536), (12983,))"
      ]
     },
     "execution_count": 17,
     "metadata": {},
     "output_type": "execute_result"
    }
   ],
   "source": [
    "# Data manipulation to remove all PDB entries with NaN values in the RSA feature (535)\n",
    "X_train, y_train = remove_NaN(data=X_train, y=y_train)\n",
    "X_valid, y_valid = remove_NaN(data=X_valid, y=y_valid)\n",
    "X_test, y_test = remove_NaN(data=X_test, y=y_test)\n",
    "\n",
    "X_train.shape, y_train.shape, X_valid.shape, y_valid.shape, X_test.shape, y_test.shape"
   ]
  },
  {
   "cell_type": "code",
   "execution_count": 18,
   "metadata": {},
   "outputs": [
    {
     "data": {
      "text/plain": [
       "((463580, 536), (118084, 536), (12983, 536))"
      ]
     },
     "execution_count": 18,
     "metadata": {},
     "output_type": "execute_result"
    }
   ],
   "source": [
    "# Data normalization of features 532 (pLLDT) and 533 (length)\n",
    "X_train_sc, mean_X_train, sd_X_train = Z_transform_train(X_train)\n",
    "X_valid_sc = Z_transform_valid(X_valid, mean_X_train, sd_X_train)\n",
    "X_test_sc = Z_transform_valid(X_test, mean_X_train, sd_X_train)\n",
    "\n",
    "X_train_sc.shape, X_valid_sc.shape, X_test_sc.shape"
   ]
  },
  {
   "cell_type": "code",
   "execution_count": 19,
   "metadata": {},
   "outputs": [
    {
     "name": "stdout",
     "output_type": "stream",
     "text": [
      "Class count (train):\n",
      "\n",
      "      Total: 463580\n",
      "      Epitope label: 42458 (9.16% of total)\n"
     ]
    }
   ],
   "source": [
    "# Class unbalanced in train\n",
    "zero, one = np.bincount(y_train.astype(int))\n",
    "total = zero + one\n",
    "print(\"Class count (train):\\n\\n      Total: {}\\n      Epitope label: {} ({:.2f}% of total)\".format(total, one, 100*one/total))"
   ]
  },
  {
   "cell_type": "code",
   "execution_count": 20,
   "metadata": {},
   "outputs": [
    {
     "name": "stdout",
     "output_type": "stream",
     "text": [
      "Class count (validation):\n",
      "\n",
      "      Total: 118084\n",
      "      Epitope label: 9810 (8.31% of total)\n"
     ]
    }
   ],
   "source": [
    "# Class unbalanced in valid\n",
    "zero, one = np.bincount(y_valid.astype(int))\n",
    "total = zero + one\n",
    "print(\"Class count (validation):\\n\\n      Total: {}\\n      Epitope label: {} ({:.2f}% of total)\".format(total, one, 100*one/total))"
   ]
  },
  {
   "cell_type": "code",
   "execution_count": 21,
   "metadata": {},
   "outputs": [
    {
     "name": "stdout",
     "output_type": "stream",
     "text": [
      "Class count (test):\n",
      "\n",
      "      Total: 12983\n",
      "      Epitope label: 792 (6.10% of total)\n"
     ]
    }
   ],
   "source": [
    "# Class unbalanced in train\n",
    "zero, one = np.bincount(y_test.astype(int))\n",
    "total = zero + one\n",
    "print(\"Class count (test):\\n\\n      Total: {}\\n      Epitope label: {} ({:.2f}% of total)\".format(total, one, 100*one/total))"
   ]
  },
  {
   "cell_type": "code",
   "execution_count": 26,
   "metadata": {
    "scrolled": true
   },
   "outputs": [],
   "source": [
    "# Parameters definition\n",
    "loss = 'binary_crossentropy'\n",
    "l2_value = 0.01\n",
    "\n",
    "# Training and validation of the model\n",
    "model, history = nn_model(train_data=X_train_sc, y_train=y_train, valid_data=X_valid_sc, y_valid=y_valid, \n",
    "                          loss_fun=loss, alpha=l2_value, class_weight_fn=class_weight_calculator)"
   ]
  },
  {
   "cell_type": "code",
   "execution_count": 40,
   "metadata": {},
   "outputs": [
    {
     "data": {
      "image/png": "[encoded data removed]",
      "text/plain": [
       "<Figure size 640x480 with 1 Axes>"
      ]
     },
     "metadata": {},
     "output_type": "display_data"
    }
   ],
   "source": [
    "# Summarize history for loss\n",
    "plt.plot(history.history['loss'], label = 'train')\n",
    "plt.plot(history.history['val_loss'], label='validation')\n",
    "plt.title('Model loss')\n",
    "plt.ylabel('Loss')\n",
    "plt.xlabel('Epoch')\n",
    "plt.legend(loc='best')\n",
    "plt.show()"
   ]
  },
  {
   "cell_type": "code",
   "execution_count": 28,
   "metadata": {},
   "outputs": [
    {
     "name": "stdout",
     "output_type": "stream",
     "text": [
      "3691/3691 [==============================] - 8s 2ms/step - loss: 0.5749 - accuracy: 0.6752 - precision_2: 0.1676 - recall_2: 0.7339 - auc_2: 0.7755 - binary_crossentropy: 0.5670\n",
      "loss : 0.5748986601829529\n",
      "accuracy : 0.6751719117164612\n",
      "precision_2 : 0.16764849424362183\n",
      "recall_2 : 0.7339449524879456\n",
      "auc_2 : 0.7754640579223633\n",
      "binary_crossentropy : 0.5669654011726379\n"
     ]
    }
   ],
   "source": [
    "# Metrics from the model\n",
    "metrics_names = model.metrics_names\n",
    "metrics_values = model.evaluate(X_valid_sc, y_valid)\n",
    "\n",
    "for name, value in zip(metrics_names, metrics_values):\n",
    "    print(name, ':', value)"
   ]
  },
  {
   "cell_type": "code",
   "execution_count": 59,
   "metadata": {},
   "outputs": [
    {
     "name": "stdout",
     "output_type": "stream",
     "text": [
      "3691/3691 [==============================] - 6s 2ms/step\n"
     ]
    }
   ],
   "source": [
    "# Obtaining probabilities values\n",
    "y_pred_valid_prob = model.predict(X_valid_sc)\n",
    "\n",
    "# Conversion to 0 or 1 labels (0.5 threshold)\n",
    "y_pred_valid = (y_pred_valid_prob > 0.5).astype(int)"
   ]
  },
  {
   "cell_type": "code",
   "execution_count": 60,
   "metadata": {},
   "outputs": [
    {
     "data": {
      "text/plain": [
       "(108274, 75137)"
      ]
     },
     "execution_count": 60,
     "metadata": {},
     "output_type": "execute_result"
    }
   ],
   "source": [
    "# Count of '0' in the valid and the prediction\n",
    "np.count_nonzero(y_valid == 0), np.count_nonzero(y_pred_valid == 0)"
   ]
  },
  {
   "cell_type": "code",
   "execution_count": 61,
   "metadata": {},
   "outputs": [
    {
     "data": {
      "text/plain": [
       "(9810, 42947)"
      ]
     },
     "execution_count": 61,
     "metadata": {},
     "output_type": "execute_result"
    }
   ],
   "source": [
    "# Count of '1' in the valid and the prediction\n",
    "np.count_nonzero(y_valid == 1), np.count_nonzero(y_pred_valid == 1)"
   ]
  },
  {
   "cell_type": "code",
   "execution_count": 62,
   "metadata": {},
   "outputs": [
    {
     "data": {
      "text/plain": [
       "array([[1],\n",
       "       [0],\n",
       "       [0],\n",
       "       ...,\n",
       "       [1],\n",
       "       [1],\n",
       "       [1]])"
      ]
     },
     "execution_count": 62,
     "metadata": {},
     "output_type": "execute_result"
    }
   ],
   "source": [
    "y_pred_valid"
   ]
  },
  {
   "cell_type": "code",
   "execution_count": 63,
   "metadata": {},
   "outputs": [
    {
     "name": "stdout",
     "output_type": "stream",
     "text": [
      "Valid accuracy: 0.67517\n"
     ]
    }
   ],
   "source": [
    "# Evaluate the model's performance\n",
    "accuracy_valid = accuracy_score(y_valid, y_pred_valid)\n",
    "print(f'Valid accuracy: {accuracy_valid:.5f}')"
   ]
  },
  {
   "cell_type": "code",
   "execution_count": 64,
   "metadata": {},
   "outputs": [
    {
     "data": {
      "text/plain": [
       "array([[72527, 35747],\n",
       "       [ 2610,  7200]], dtype=int64)"
      ]
     },
     "execution_count": 64,
     "metadata": {},
     "output_type": "execute_result"
    }
   ],
   "source": [
    "from sklearn.metrics import confusion_matrix\n",
    "confusion_matrix(y_valid, y_pred_valid)"
   ]
  },
  {
   "cell_type": "code",
   "execution_count": 65,
   "metadata": {},
   "outputs": [
    {
     "name": "stdout",
     "output_type": "stream",
     "text": [
      "(ROC)AUC value for the validation data: 0.776\n",
      "(PR)AUC value for the validation data: 0.237\n"
     ]
    }
   ],
   "source": [
    "# AUC value (valid)\n",
    "ROC_AUC_valid = ROC_AUC(y_valid, y_pred_valid_prob)\n",
    "PR_AUC_valid = PR_AUC(y_valid, y_pred_valid_prob)\n",
    "print(f'(ROC)AUC value for the validation data: {ROC_AUC_valid:.3f}')\n",
    "print(f'(PR)AUC value for the validation data: {PR_AUC_valid:.3f}')"
   ]
  },
  {
   "cell_type": "code",
   "execution_count": 66,
   "metadata": {},
   "outputs": [
    {
     "name": "stdout",
     "output_type": "stream",
     "text": [
      "Validation AUC: 0.7755062881110872\n"
     ]
    }
   ],
   "source": [
    "from sklearn.metrics import roc_auc_score\n",
    "auc_valid = roc_auc_score(y_valid, y_pred_valid_prob)\n",
    "print('Validation AUC:', auc_valid)"
   ]
  },
  {
   "cell_type": "code",
   "execution_count": 67,
   "metadata": {},
   "outputs": [
    {
     "data": {
      "text/plain": [
       "0.6363012770570102"
      ]
     },
     "execution_count": 67,
     "metadata": {},
     "output_type": "execute_result"
    }
   ],
   "source": [
    "# Epitope rank (valid)\n",
    "c_percentile_valid = get_percentile_score_arr(scores = y_pred_valid, epitopes = y_valid)\n",
    "c_percentile_valid"
   ]
  },
  {
   "cell_type": "code",
   "execution_count": 74,
   "metadata": {},
   "outputs": [
    {
     "name": "stdout",
     "output_type": "stream",
     "text": [
      "False positive ratio: 0.30272517868635884\n"
     ]
    }
   ],
   "source": [
    "print('False positive ratio:', confusion_matrix(y_valid, y_pred_valid)[0][1]/len(y_valid))"
   ]
  },
  {
   "cell_type": "code",
   "execution_count": null,
   "metadata": {},
   "outputs": [],
   "source": []
  },
  {
   "cell_type": "code",
   "execution_count": 78,
   "metadata": {},
   "outputs": [
    {
     "data": {
      "text/html": [
       "<div>\n",
       "<style scoped>\n",
       "    .dataframe tbody tr th:only-of-type {\n",
       "        vertical-align: middle;\n",
       "    }\n",
       "\n",
       "    .dataframe tbody tr th {\n",
       "        vertical-align: top;\n",
       "    }\n",
       "\n",
       "    .dataframe thead th {\n",
       "        text-align: right;\n",
       "    }\n",
       "</style>\n",
       "<table border=\"1\" class=\"dataframe\">\n",
       "  <thead>\n",
       "    <tr style=\"text-align: right;\">\n",
       "      <th></th>\n",
       "      <th>0</th>\n",
       "      <th>1</th>\n",
       "      <th>2</th>\n",
       "      <th>3</th>\n",
       "      <th>4</th>\n",
       "      <th>5</th>\n",
       "      <th>6</th>\n",
       "      <th>7</th>\n",
       "      <th>8</th>\n",
       "      <th>9</th>\n",
       "      <th>...</th>\n",
       "      <th>14</th>\n",
       "      <th>15</th>\n",
       "      <th>16</th>\n",
       "      <th>17</th>\n",
       "      <th>18</th>\n",
       "      <th>19</th>\n",
       "      <th>20</th>\n",
       "      <th>21</th>\n",
       "      <th>22</th>\n",
       "      <th>23</th>\n",
       "    </tr>\n",
       "  </thead>\n",
       "  <tbody>\n",
       "    <tr>\n",
       "      <th>count</th>\n",
       "      <td>118084.000000</td>\n",
       "      <td>118084.000000</td>\n",
       "      <td>118084.000000</td>\n",
       "      <td>118084.000000</td>\n",
       "      <td>118084.000000</td>\n",
       "      <td>118084.000000</td>\n",
       "      <td>118084.000000</td>\n",
       "      <td>118084.000000</td>\n",
       "      <td>118084.000000</td>\n",
       "      <td>118084.000000</td>\n",
       "      <td>...</td>\n",
       "      <td>118084.000000</td>\n",
       "      <td>118084.000000</td>\n",
       "      <td>118084.000000</td>\n",
       "      <td>118084.000000</td>\n",
       "      <td>118084.000000</td>\n",
       "      <td>118084.000000</td>\n",
       "      <td>118084.000000</td>\n",
       "      <td>118084.000000</td>\n",
       "      <td>118084.000000</td>\n",
       "      <td>118084.000000</td>\n",
       "    </tr>\n",
       "    <tr>\n",
       "      <th>mean</th>\n",
       "      <td>0.030735</td>\n",
       "      <td>-0.006413</td>\n",
       "      <td>-0.016117</td>\n",
       "      <td>0.008816</td>\n",
       "      <td>-0.027986</td>\n",
       "      <td>0.032439</td>\n",
       "      <td>-0.008042</td>\n",
       "      <td>0.003230</td>\n",
       "      <td>-0.013860</td>\n",
       "      <td>0.010028</td>\n",
       "      <td>...</td>\n",
       "      <td>0.013225</td>\n",
       "      <td>-0.006994</td>\n",
       "      <td>-0.003578</td>\n",
       "      <td>0.006770</td>\n",
       "      <td>0.014987</td>\n",
       "      <td>-0.030313</td>\n",
       "      <td>0.114893</td>\n",
       "      <td>0.044084</td>\n",
       "      <td>-0.021855</td>\n",
       "      <td>-0.030133</td>\n",
       "    </tr>\n",
       "    <tr>\n",
       "      <th>std</th>\n",
       "      <td>1.054753</td>\n",
       "      <td>0.982748</td>\n",
       "      <td>0.966172</td>\n",
       "      <td>1.016889</td>\n",
       "      <td>0.935639</td>\n",
       "      <td>1.052854</td>\n",
       "      <td>0.973852</td>\n",
       "      <td>1.006075</td>\n",
       "      <td>0.972854</td>\n",
       "      <td>1.014922</td>\n",
       "      <td>...</td>\n",
       "      <td>1.028846</td>\n",
       "      <td>0.987984</td>\n",
       "      <td>0.993617</td>\n",
       "      <td>1.011418</td>\n",
       "      <td>1.052383</td>\n",
       "      <td>0.924405</td>\n",
       "      <td>0.817387</td>\n",
       "      <td>0.973777</td>\n",
       "      <td>1.000559</td>\n",
       "      <td>0.999383</td>\n",
       "    </tr>\n",
       "    <tr>\n",
       "      <th>min</th>\n",
       "      <td>-0.253525</td>\n",
       "      <td>-0.181479</td>\n",
       "      <td>-0.230336</td>\n",
       "      <td>-0.243042</td>\n",
       "      <td>-0.215547</td>\n",
       "      <td>-0.273908</td>\n",
       "      <td>-0.152373</td>\n",
       "      <td>-0.248631</td>\n",
       "      <td>-0.244214</td>\n",
       "      <td>-0.302159</td>\n",
       "      <td>...</td>\n",
       "      <td>-0.214933</td>\n",
       "      <td>-0.271648</td>\n",
       "      <td>-0.261953</td>\n",
       "      <td>-0.272444</td>\n",
       "      <td>-0.136528</td>\n",
       "      <td>-0.201199</td>\n",
       "      <td>-7.042226</td>\n",
       "      <td>-1.553949</td>\n",
       "      <td>-1.036988</td>\n",
       "      <td>-1.183899</td>\n",
       "    </tr>\n",
       "    <tr>\n",
       "      <th>25%</th>\n",
       "      <td>-0.253525</td>\n",
       "      <td>-0.181479</td>\n",
       "      <td>-0.230336</td>\n",
       "      <td>-0.243042</td>\n",
       "      <td>-0.215547</td>\n",
       "      <td>-0.273908</td>\n",
       "      <td>-0.152373</td>\n",
       "      <td>-0.248631</td>\n",
       "      <td>-0.244214</td>\n",
       "      <td>-0.302159</td>\n",
       "      <td>...</td>\n",
       "      <td>-0.214933</td>\n",
       "      <td>-0.271648</td>\n",
       "      <td>-0.261953</td>\n",
       "      <td>-0.272444</td>\n",
       "      <td>-0.136528</td>\n",
       "      <td>-0.201199</td>\n",
       "      <td>0.081265</td>\n",
       "      <td>-0.701550</td>\n",
       "      <td>-1.036988</td>\n",
       "      <td>-0.977368</td>\n",
       "    </tr>\n",
       "    <tr>\n",
       "      <th>50%</th>\n",
       "      <td>-0.253525</td>\n",
       "      <td>-0.181479</td>\n",
       "      <td>-0.230336</td>\n",
       "      <td>-0.243042</td>\n",
       "      <td>-0.215547</td>\n",
       "      <td>-0.273908</td>\n",
       "      <td>-0.152373</td>\n",
       "      <td>-0.248631</td>\n",
       "      <td>-0.244214</td>\n",
       "      <td>-0.302159</td>\n",
       "      <td>...</td>\n",
       "      <td>-0.214933</td>\n",
       "      <td>-0.271648</td>\n",
       "      <td>-0.261953</td>\n",
       "      <td>-0.272444</td>\n",
       "      <td>-0.136528</td>\n",
       "      <td>-0.201199</td>\n",
       "      <td>0.409537</td>\n",
       "      <td>0.084771</td>\n",
       "      <td>0.964331</td>\n",
       "      <td>-0.185783</td>\n",
       "    </tr>\n",
       "    <tr>\n",
       "      <th>75%</th>\n",
       "      <td>-0.253525</td>\n",
       "      <td>-0.181479</td>\n",
       "      <td>-0.230336</td>\n",
       "      <td>-0.243042</td>\n",
       "      <td>-0.215547</td>\n",
       "      <td>-0.273908</td>\n",
       "      <td>-0.152373</td>\n",
       "      <td>-0.248631</td>\n",
       "      <td>-0.244214</td>\n",
       "      <td>-0.302159</td>\n",
       "      <td>...</td>\n",
       "      <td>-0.214933</td>\n",
       "      <td>-0.271648</td>\n",
       "      <td>-0.261953</td>\n",
       "      <td>-0.272444</td>\n",
       "      <td>-0.136528</td>\n",
       "      <td>-0.201199</td>\n",
       "      <td>0.521535</td>\n",
       "      <td>0.679468</td>\n",
       "      <td>0.964331</td>\n",
       "      <td>0.696113</td>\n",
       "    </tr>\n",
       "    <tr>\n",
       "      <th>max</th>\n",
       "      <td>3.944389</td>\n",
       "      <td>5.510285</td>\n",
       "      <td>4.341478</td>\n",
       "      <td>4.114523</td>\n",
       "      <td>4.639350</td>\n",
       "      <td>3.650864</td>\n",
       "      <td>6.562829</td>\n",
       "      <td>4.022018</td>\n",
       "      <td>4.094769</td>\n",
       "      <td>3.309512</td>\n",
       "      <td>...</td>\n",
       "      <td>4.652612</td>\n",
       "      <td>3.681229</td>\n",
       "      <td>3.817473</td>\n",
       "      <td>3.670477</td>\n",
       "      <td>7.324488</td>\n",
       "      <td>4.970215</td>\n",
       "      <td>0.521535</td>\n",
       "      <td>3.580266</td>\n",
       "      <td>0.964331</td>\n",
       "      <td>4.776337</td>\n",
       "    </tr>\n",
       "  </tbody>\n",
       "</table>\n",
       "<p>8 rows × 24 columns</p>\n",
       "</div>"
      ],
      "text/plain": [
       "                  0              1              2              3   \\\n",
       "count  118084.000000  118084.000000  118084.000000  118084.000000   \n",
       "mean        0.030735      -0.006413      -0.016117       0.008816   \n",
       "std         1.054753       0.982748       0.966172       1.016889   \n",
       "min        -0.253525      -0.181479      -0.230336      -0.243042   \n",
       "25%        -0.253525      -0.181479      -0.230336      -0.243042   \n",
       "50%        -0.253525      -0.181479      -0.230336      -0.243042   \n",
       "75%        -0.253525      -0.181479      -0.230336      -0.243042   \n",
       "max         3.944389       5.510285       4.341478       4.114523   \n",
       "\n",
       "                  4              5              6              7   \\\n",
       "count  118084.000000  118084.000000  118084.000000  118084.000000   \n",
       "mean       -0.027986       0.032439      -0.008042       0.003230   \n",
       "std         0.935639       1.052854       0.973852       1.006075   \n",
       "min        -0.215547      -0.273908      -0.152373      -0.248631   \n",
       "25%        -0.215547      -0.273908      -0.152373      -0.248631   \n",
       "50%        -0.215547      -0.273908      -0.152373      -0.248631   \n",
       "75%        -0.215547      -0.273908      -0.152373      -0.248631   \n",
       "max         4.639350       3.650864       6.562829       4.022018   \n",
       "\n",
       "                  8              9   ...             14             15  \\\n",
       "count  118084.000000  118084.000000  ...  118084.000000  118084.000000   \n",
       "mean       -0.013860       0.010028  ...       0.013225      -0.006994   \n",
       "std         0.972854       1.014922  ...       1.028846       0.987984   \n",
       "min        -0.244214      -0.302159  ...      -0.214933      -0.271648   \n",
       "25%        -0.244214      -0.302159  ...      -0.214933      -0.271648   \n",
       "50%        -0.244214      -0.302159  ...      -0.214933      -0.271648   \n",
       "75%        -0.244214      -0.302159  ...      -0.214933      -0.271648   \n",
       "max         4.094769       3.309512  ...       4.652612       3.681229   \n",
       "\n",
       "                  16             17             18             19  \\\n",
       "count  118084.000000  118084.000000  118084.000000  118084.000000   \n",
       "mean       -0.003578       0.006770       0.014987      -0.030313   \n",
       "std         0.993617       1.011418       1.052383       0.924405   \n",
       "min        -0.261953      -0.272444      -0.136528      -0.201199   \n",
       "25%        -0.261953      -0.272444      -0.136528      -0.201199   \n",
       "50%        -0.261953      -0.272444      -0.136528      -0.201199   \n",
       "75%        -0.261953      -0.272444      -0.136528      -0.201199   \n",
       "max         3.817473       3.670477       7.324488       4.970215   \n",
       "\n",
       "                  20             21             22             23  \n",
       "count  118084.000000  118084.000000  118084.000000  118084.000000  \n",
       "mean        0.114893       0.044084      -0.021855      -0.030133  \n",
       "std         0.817387       0.973777       1.000559       0.999383  \n",
       "min        -7.042226      -1.553949      -1.036988      -1.183899  \n",
       "25%         0.081265      -0.701550      -1.036988      -0.977368  \n",
       "50%         0.409537       0.084771       0.964331      -0.185783  \n",
       "75%         0.521535       0.679468       0.964331       0.696113  \n",
       "max         0.521535       3.580266       0.964331       4.776337  \n",
       "\n",
       "[8 rows x 24 columns]"
      ]
     },
     "execution_count": 78,
     "metadata": {},
     "output_type": "execute_result"
    }
   ],
   "source": [
    "pd.DataFrame(X_valid_sc[:, 512:]).describe()"
   ]
  },
  {
   "cell_type": "code",
   "execution_count": 80,
   "metadata": {
    "scrolled": false
   },
   "outputs": [
    {
     "data": {
      "text/html": [
       "<div>\n",
       "<style scoped>\n",
       "    .dataframe tbody tr th:only-of-type {\n",
       "        vertical-align: middle;\n",
       "    }\n",
       "\n",
       "    .dataframe tbody tr th {\n",
       "        vertical-align: top;\n",
       "    }\n",
       "\n",
       "    .dataframe thead th {\n",
       "        text-align: right;\n",
       "    }\n",
       "</style>\n",
       "<table border=\"1\" class=\"dataframe\">\n",
       "  <thead>\n",
       "    <tr style=\"text-align: right;\">\n",
       "      <th></th>\n",
       "      <th>0</th>\n",
       "      <th>1</th>\n",
       "      <th>2</th>\n",
       "      <th>3</th>\n",
       "      <th>4</th>\n",
       "      <th>5</th>\n",
       "      <th>6</th>\n",
       "      <th>7</th>\n",
       "      <th>8</th>\n",
       "      <th>9</th>\n",
       "      <th>...</th>\n",
       "      <th>14</th>\n",
       "      <th>15</th>\n",
       "      <th>16</th>\n",
       "      <th>17</th>\n",
       "      <th>18</th>\n",
       "      <th>19</th>\n",
       "      <th>20</th>\n",
       "      <th>21</th>\n",
       "      <th>22</th>\n",
       "      <th>23</th>\n",
       "    </tr>\n",
       "  </thead>\n",
       "  <tbody>\n",
       "    <tr>\n",
       "      <th>0</th>\n",
       "      <td>-0.253525</td>\n",
       "      <td>-0.181479</td>\n",
       "      <td>-0.230336</td>\n",
       "      <td>-0.243042</td>\n",
       "      <td>-0.215547</td>\n",
       "      <td>-0.273908</td>\n",
       "      <td>-0.152373</td>\n",
       "      <td>-0.248631</td>\n",
       "      <td>-0.244214</td>\n",
       "      <td>-0.302159</td>\n",
       "      <td>...</td>\n",
       "      <td>4.652612</td>\n",
       "      <td>-0.271648</td>\n",
       "      <td>-0.261953</td>\n",
       "      <td>-0.272444</td>\n",
       "      <td>-0.136528</td>\n",
       "      <td>-0.201199</td>\n",
       "      <td>0.521535</td>\n",
       "      <td>0.672860</td>\n",
       "      <td>-1.036988</td>\n",
       "      <td>1.219883</td>\n",
       "    </tr>\n",
       "    <tr>\n",
       "      <th>1</th>\n",
       "      <td>-0.253525</td>\n",
       "      <td>-0.181479</td>\n",
       "      <td>4.341478</td>\n",
       "      <td>-0.243042</td>\n",
       "      <td>-0.215547</td>\n",
       "      <td>-0.273908</td>\n",
       "      <td>-0.152373</td>\n",
       "      <td>-0.248631</td>\n",
       "      <td>-0.244214</td>\n",
       "      <td>-0.302159</td>\n",
       "      <td>...</td>\n",
       "      <td>-0.214933</td>\n",
       "      <td>-0.271648</td>\n",
       "      <td>-0.261953</td>\n",
       "      <td>-0.272444</td>\n",
       "      <td>-0.136528</td>\n",
       "      <td>-0.201199</td>\n",
       "      <td>0.521535</td>\n",
       "      <td>0.672860</td>\n",
       "      <td>-1.036988</td>\n",
       "      <td>1.256222</td>\n",
       "    </tr>\n",
       "    <tr>\n",
       "      <th>2</th>\n",
       "      <td>-0.253525</td>\n",
       "      <td>-0.181479</td>\n",
       "      <td>-0.230336</td>\n",
       "      <td>-0.243042</td>\n",
       "      <td>4.639350</td>\n",
       "      <td>-0.273908</td>\n",
       "      <td>-0.152373</td>\n",
       "      <td>-0.248631</td>\n",
       "      <td>-0.244214</td>\n",
       "      <td>-0.302159</td>\n",
       "      <td>...</td>\n",
       "      <td>-0.214933</td>\n",
       "      <td>-0.271648</td>\n",
       "      <td>-0.261953</td>\n",
       "      <td>-0.272444</td>\n",
       "      <td>-0.136528</td>\n",
       "      <td>-0.201199</td>\n",
       "      <td>0.521535</td>\n",
       "      <td>0.672860</td>\n",
       "      <td>-1.036988</td>\n",
       "      <td>-0.554929</td>\n",
       "    </tr>\n",
       "    <tr>\n",
       "      <th>3</th>\n",
       "      <td>-0.253525</td>\n",
       "      <td>-0.181479</td>\n",
       "      <td>-0.230336</td>\n",
       "      <td>-0.243042</td>\n",
       "      <td>-0.215547</td>\n",
       "      <td>-0.273908</td>\n",
       "      <td>-0.152373</td>\n",
       "      <td>-0.248631</td>\n",
       "      <td>-0.244214</td>\n",
       "      <td>-0.302159</td>\n",
       "      <td>...</td>\n",
       "      <td>-0.214933</td>\n",
       "      <td>-0.271648</td>\n",
       "      <td>-0.261953</td>\n",
       "      <td>-0.272444</td>\n",
       "      <td>-0.136528</td>\n",
       "      <td>-0.201199</td>\n",
       "      <td>0.521535</td>\n",
       "      <td>0.672860</td>\n",
       "      <td>-1.036988</td>\n",
       "      <td>-0.591440</td>\n",
       "    </tr>\n",
       "    <tr>\n",
       "      <th>4</th>\n",
       "      <td>-0.253525</td>\n",
       "      <td>-0.181479</td>\n",
       "      <td>-0.230336</td>\n",
       "      <td>-0.243042</td>\n",
       "      <td>-0.215547</td>\n",
       "      <td>-0.273908</td>\n",
       "      <td>-0.152373</td>\n",
       "      <td>-0.248631</td>\n",
       "      <td>-0.244214</td>\n",
       "      <td>-0.302159</td>\n",
       "      <td>...</td>\n",
       "      <td>-0.214933</td>\n",
       "      <td>-0.271648</td>\n",
       "      <td>-0.261953</td>\n",
       "      <td>-0.272444</td>\n",
       "      <td>-0.136528</td>\n",
       "      <td>-0.201199</td>\n",
       "      <td>0.521535</td>\n",
       "      <td>0.672860</td>\n",
       "      <td>-1.036988</td>\n",
       "      <td>0.041361</td>\n",
       "    </tr>\n",
       "    <tr>\n",
       "      <th>...</th>\n",
       "      <td>...</td>\n",
       "      <td>...</td>\n",
       "      <td>...</td>\n",
       "      <td>...</td>\n",
       "      <td>...</td>\n",
       "      <td>...</td>\n",
       "      <td>...</td>\n",
       "      <td>...</td>\n",
       "      <td>...</td>\n",
       "      <td>...</td>\n",
       "      <td>...</td>\n",
       "      <td>...</td>\n",
       "      <td>...</td>\n",
       "      <td>...</td>\n",
       "      <td>...</td>\n",
       "      <td>...</td>\n",
       "      <td>...</td>\n",
       "      <td>...</td>\n",
       "      <td>...</td>\n",
       "      <td>...</td>\n",
       "      <td>...</td>\n",
       "    </tr>\n",
       "    <tr>\n",
       "      <th>118079</th>\n",
       "      <td>-0.253525</td>\n",
       "      <td>-0.181479</td>\n",
       "      <td>-0.230336</td>\n",
       "      <td>-0.243042</td>\n",
       "      <td>-0.215547</td>\n",
       "      <td>3.650864</td>\n",
       "      <td>-0.152373</td>\n",
       "      <td>-0.248631</td>\n",
       "      <td>-0.244214</td>\n",
       "      <td>-0.302159</td>\n",
       "      <td>...</td>\n",
       "      <td>-0.214933</td>\n",
       "      <td>-0.271648</td>\n",
       "      <td>-0.261953</td>\n",
       "      <td>-0.272444</td>\n",
       "      <td>-0.136528</td>\n",
       "      <td>-0.201199</td>\n",
       "      <td>-2.917591</td>\n",
       "      <td>-1.177308</td>\n",
       "      <td>0.964331</td>\n",
       "      <td>0.938345</td>\n",
       "    </tr>\n",
       "    <tr>\n",
       "      <th>118080</th>\n",
       "      <td>-0.253525</td>\n",
       "      <td>-0.181479</td>\n",
       "      <td>-0.230336</td>\n",
       "      <td>-0.243042</td>\n",
       "      <td>-0.215547</td>\n",
       "      <td>-0.273908</td>\n",
       "      <td>-0.152373</td>\n",
       "      <td>-0.248631</td>\n",
       "      <td>-0.244214</td>\n",
       "      <td>3.309512</td>\n",
       "      <td>...</td>\n",
       "      <td>-0.214933</td>\n",
       "      <td>-0.271648</td>\n",
       "      <td>-0.261953</td>\n",
       "      <td>-0.272444</td>\n",
       "      <td>-0.136528</td>\n",
       "      <td>-0.201199</td>\n",
       "      <td>-3.555789</td>\n",
       "      <td>-1.177308</td>\n",
       "      <td>0.964331</td>\n",
       "      <td>-0.198314</td>\n",
       "    </tr>\n",
       "    <tr>\n",
       "      <th>118081</th>\n",
       "      <td>-0.253525</td>\n",
       "      <td>-0.181479</td>\n",
       "      <td>-0.230336</td>\n",
       "      <td>4.114523</td>\n",
       "      <td>-0.215547</td>\n",
       "      <td>-0.273908</td>\n",
       "      <td>-0.152373</td>\n",
       "      <td>-0.248631</td>\n",
       "      <td>-0.244214</td>\n",
       "      <td>-0.302159</td>\n",
       "      <td>...</td>\n",
       "      <td>-0.214933</td>\n",
       "      <td>-0.271648</td>\n",
       "      <td>-0.261953</td>\n",
       "      <td>-0.272444</td>\n",
       "      <td>-0.136528</td>\n",
       "      <td>-0.201199</td>\n",
       "      <td>-4.350400</td>\n",
       "      <td>-1.177308</td>\n",
       "      <td>0.964331</td>\n",
       "      <td>1.618959</td>\n",
       "    </tr>\n",
       "    <tr>\n",
       "      <th>118082</th>\n",
       "      <td>-0.253525</td>\n",
       "      <td>-0.181479</td>\n",
       "      <td>-0.230336</td>\n",
       "      <td>-0.243042</td>\n",
       "      <td>-0.215547</td>\n",
       "      <td>-0.273908</td>\n",
       "      <td>-0.152373</td>\n",
       "      <td>-0.248631</td>\n",
       "      <td>-0.244214</td>\n",
       "      <td>-0.302159</td>\n",
       "      <td>...</td>\n",
       "      <td>-0.214933</td>\n",
       "      <td>-0.271648</td>\n",
       "      <td>-0.261953</td>\n",
       "      <td>3.670477</td>\n",
       "      <td>-0.136528</td>\n",
       "      <td>-0.201199</td>\n",
       "      <td>-5.570797</td>\n",
       "      <td>-1.177308</td>\n",
       "      <td>0.964331</td>\n",
       "      <td>1.940300</td>\n",
       "    </tr>\n",
       "    <tr>\n",
       "      <th>118083</th>\n",
       "      <td>-0.253525</td>\n",
       "      <td>-0.181479</td>\n",
       "      <td>-0.230336</td>\n",
       "      <td>-0.243042</td>\n",
       "      <td>-0.215547</td>\n",
       "      <td>-0.273908</td>\n",
       "      <td>-0.152373</td>\n",
       "      <td>-0.248631</td>\n",
       "      <td>-0.244214</td>\n",
       "      <td>3.309512</td>\n",
       "      <td>...</td>\n",
       "      <td>-0.214933</td>\n",
       "      <td>-0.271648</td>\n",
       "      <td>-0.261953</td>\n",
       "      <td>-0.272444</td>\n",
       "      <td>-0.136528</td>\n",
       "      <td>-0.201199</td>\n",
       "      <td>-5.818932</td>\n",
       "      <td>-1.177308</td>\n",
       "      <td>0.964331</td>\n",
       "      <td>3.255184</td>\n",
       "    </tr>\n",
       "  </tbody>\n",
       "</table>\n",
       "<p>118084 rows × 24 columns</p>\n",
       "</div>"
      ],
      "text/plain": [
       "              0         1         2         3         4         5         6   \\\n",
       "0      -0.253525 -0.181479 -0.230336 -0.243042 -0.215547 -0.273908 -0.152373   \n",
       "1      -0.253525 -0.181479  4.341478 -0.243042 -0.215547 -0.273908 -0.152373   \n",
       "2      -0.253525 -0.181479 -0.230336 -0.243042  4.639350 -0.273908 -0.152373   \n",
       "3      -0.253525 -0.181479 -0.230336 -0.243042 -0.215547 -0.273908 -0.152373   \n",
       "4      -0.253525 -0.181479 -0.230336 -0.243042 -0.215547 -0.273908 -0.152373   \n",
       "...          ...       ...       ...       ...       ...       ...       ...   \n",
       "118079 -0.253525 -0.181479 -0.230336 -0.243042 -0.215547  3.650864 -0.152373   \n",
       "118080 -0.253525 -0.181479 -0.230336 -0.243042 -0.215547 -0.273908 -0.152373   \n",
       "118081 -0.253525 -0.181479 -0.230336  4.114523 -0.215547 -0.273908 -0.152373   \n",
       "118082 -0.253525 -0.181479 -0.230336 -0.243042 -0.215547 -0.273908 -0.152373   \n",
       "118083 -0.253525 -0.181479 -0.230336 -0.243042 -0.215547 -0.273908 -0.152373   \n",
       "\n",
       "              7         8         9   ...        14        15        16  \\\n",
       "0      -0.248631 -0.244214 -0.302159  ...  4.652612 -0.271648 -0.261953   \n",
       "1      -0.248631 -0.244214 -0.302159  ... -0.214933 -0.271648 -0.261953   \n",
       "2      -0.248631 -0.244214 -0.302159  ... -0.214933 -0.271648 -0.261953   \n",
       "3      -0.248631 -0.244214 -0.302159  ... -0.214933 -0.271648 -0.261953   \n",
       "4      -0.248631 -0.244214 -0.302159  ... -0.214933 -0.271648 -0.261953   \n",
       "...          ...       ...       ...  ...       ...       ...       ...   \n",
       "118079 -0.248631 -0.244214 -0.302159  ... -0.214933 -0.271648 -0.261953   \n",
       "118080 -0.248631 -0.244214  3.309512  ... -0.214933 -0.271648 -0.261953   \n",
       "118081 -0.248631 -0.244214 -0.302159  ... -0.214933 -0.271648 -0.261953   \n",
       "118082 -0.248631 -0.244214 -0.302159  ... -0.214933 -0.271648 -0.261953   \n",
       "118083 -0.248631 -0.244214  3.309512  ... -0.214933 -0.271648 -0.261953   \n",
       "\n",
       "              17        18        19        20        21        22        23  \n",
       "0      -0.272444 -0.136528 -0.201199  0.521535  0.672860 -1.036988  1.219883  \n",
       "1      -0.272444 -0.136528 -0.201199  0.521535  0.672860 -1.036988  1.256222  \n",
       "2      -0.272444 -0.136528 -0.201199  0.521535  0.672860 -1.036988 -0.554929  \n",
       "3      -0.272444 -0.136528 -0.201199  0.521535  0.672860 -1.036988 -0.591440  \n",
       "4      -0.272444 -0.136528 -0.201199  0.521535  0.672860 -1.036988  0.041361  \n",
       "...          ...       ...       ...       ...       ...       ...       ...  \n",
       "118079 -0.272444 -0.136528 -0.201199 -2.917591 -1.177308  0.964331  0.938345  \n",
       "118080 -0.272444 -0.136528 -0.201199 -3.555789 -1.177308  0.964331 -0.198314  \n",
       "118081 -0.272444 -0.136528 -0.201199 -4.350400 -1.177308  0.964331  1.618959  \n",
       "118082  3.670477 -0.136528 -0.201199 -5.570797 -1.177308  0.964331  1.940300  \n",
       "118083 -0.272444 -0.136528 -0.201199 -5.818932 -1.177308  0.964331  3.255184  \n",
       "\n",
       "[118084 rows x 24 columns]"
      ]
     },
     "execution_count": 80,
     "metadata": {},
     "output_type": "execute_result"
    }
   ],
   "source": [
    "pd.DataFrame(X_valid_sc[:, 512:])"
   ]
  },
  {
   "cell_type": "markdown",
   "metadata": {},
   "source": [
    "- AUC per feature\n",
    "- Change activation and regularization\n",
    "- Balancing VS not balancing\n",
    "- Check feature normalization only in the relevant\n",
    "- Include performance on validation and test\n",
    "- Resampling from the training data or randoms value in the weights (later): ensemble\n",
    "- Save dataframes of train, valid, test with regularization: no categorical variables"
   ]
  },
  {
   "cell_type": "code",
   "execution_count": null,
   "metadata": {},
   "outputs": [],
   "source": []
  }
 ],
 "metadata": {
  "kernelspec": {
   "display_name": "Python 3 (ipykernel)",
   "language": "python",
   "name": "python3"
  },
  "language_info": {
   "codemirror_mode": {
    "name": "ipython",
    "version": 3
   },
   "file_extension": ".py",
   "mimetype": "text/x-python",
   "name": "python",
   "nbconvert_exporter": "python",
   "pygments_lexer": "ipython3",
   "version": "3.10.9"
  },
  "vscode": {
   "interpreter": {
    "hash": "98d96843242ea63546b941eb98e2ac308b462277a7c4020ae14ccf41d9fe0ade"
   }
  }
 },
 "nbformat": 4,
 "nbformat_minor": 2
}
