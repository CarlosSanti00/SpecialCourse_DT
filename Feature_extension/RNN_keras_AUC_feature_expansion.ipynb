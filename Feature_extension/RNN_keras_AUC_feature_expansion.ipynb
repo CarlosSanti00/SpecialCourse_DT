{
 "cells": [
  {
   "cell_type": "markdown",
   "metadata": {},
   "source": [
    "# RNN for the original whole dataset"
   ]
  },
  {
   "cell_type": "code",
   "execution_count": 1,
   "metadata": {
    "scrolled": false
   },
   "outputs": [
    {
     "name": "stderr",
     "output_type": "stream",
     "text": [
      "C:\\Users\\minij\\anaconda3\\envs\\special_course\\lib\\site-packages\\tqdm\\auto.py:22: TqdmWarning: IProgress not found. Please update jupyter and ipywidgets. See https://ipywidgets.readthedocs.io/en/stable/user_install.html\n",
      "  from .autonotebook import tqdm as notebook_tqdm\n"
     ]
    }
   ],
   "source": [
    "# Import of required libraries and functions from 'make_dataset' script\n",
    "import os\n",
    "from make_dataset import Discotope_Dataset\n",
    "import numpy as np\n",
    "import torch\n",
    "import pandas as pd\n",
    "import re\n",
    "import matplotlib.pyplot as plt\n",
    "from sklearn.utils.class_weight import compute_class_weight\n",
    "from sklearn.preprocessing import MinMaxScaler, StandardScaler\n",
    "from sklearn import metrics\n",
    "from sklearn.metrics import accuracy_score, log_loss, confusion_matrix, roc_auc_score\n",
    "from tqdm import tqdm\n",
    "from IPython.display import clear_output"
   ]
  },
  {
   "cell_type": "code",
   "execution_count": 2,
   "metadata": {},
   "outputs": [],
   "source": [
    "# Import tensorflow and keras\n",
    "import tensorflow as tf\n",
    "from tensorflow import keras"
   ]
  },
  {
   "cell_type": "code",
   "execution_count": 3,
   "metadata": {},
   "outputs": [],
   "source": [
    "tf.random.set_seed(1234)"
   ]
  },
  {
   "cell_type": "code",
   "execution_count": 4,
   "metadata": {},
   "outputs": [],
   "source": [
    "def data_load(name_set, data_dir, separate=False):\n",
    "    \n",
    "    '''\n",
    "    Function to load training, validation or test data from the folder/directory you have storaged the whole dataset\n",
    "        - 'name_set': text variable with the type of data set to load ('train', 'test', 'valid')\n",
    "        - 'data_dir': directory where you have storaged the data set (in my case is '../Data/')\n",
    "        - 'separate': boolean that returns the PDBs and AF2 sets separately (only when True)\n",
    "    \n",
    "    Output:\n",
    "        - 'X_all': all observations from both solved and predicted structures all together\n",
    "        - 'y_all': all labels from both solved and predicted structures all together\n",
    "        - 'N_solved': number of observations from solved structures (in case of wanted to unmerge the 'all' array)\n",
    "        - 'N_af2': number of observations from predicted structures (in case of wanted to unmerge the 'all' array)\n",
    "    '''\n",
    "    \n",
    "    # 'Pathlib module' load to work with windows path\n",
    "    import pathlib\n",
    "    temp = pathlib.PosixPath\n",
    "    pathlib.PosixPath = pathlib.WindowsPath\n",
    "    \n",
    "    # List of all subdirectories inside the data directory\n",
    "    dirs = [d for d in os.listdir(data_dir)]\n",
    "    \n",
    "    # 're' module to use regex for filtering the specific directories according to the type of data set to load\n",
    "    pattern = '.*' + name_set + '.*'\n",
    "    R = re.compile(pattern)\n",
    "    filtered = [folder for folder in dirs if R.match(folder)]\n",
    "    \n",
    "    # Loading the data set for solved structures and AlphaFold2 predicted structures\n",
    "    path_af2 = data_dir + filtered[0] + '/dataset.pt'\n",
    "    path_solved = data_dir + filtered[1] + '/dataset.pt'\n",
    "    set_af2 = torch.load(path_af2)\n",
    "    set_solved = torch.load(path_solved)\n",
    "    \n",
    "    # Stack all features and targets to one big array (removing NaN entries)\n",
    "    X_set_solved = np.concatenate([set_solved[i][\"X_arr\"] for i in range(0, len(set_solved), 1) if not set_solved[i]['df_stats']['rsa'].isna().any()])\n",
    "    y_set_solved = np.concatenate([set_solved[i][\"y_arr\"] for i in range(0, len(set_solved), 1) if not set_solved[i]['df_stats']['rsa'].isna().any()])\n",
    "    X_set_af2 = np.concatenate([set_af2[i][\"X_arr\"] for i in range(0, len(set_solved), 1) if not set_solved[i]['df_stats']['rsa'].isna().any()])\n",
    "    y_set_af2 = np.concatenate([set_af2[i][\"y_arr\"] for i in range(0, len(set_solved), 1) if not set_solved[i]['df_stats']['rsa'].isna().any()])\n",
    "    \n",
    "    # Nº of observations for each subtype of data set\n",
    "    N_set_solved = X_set_solved.shape[0]\n",
    "    N_set_af2 = X_set_af2.shape[0]\n",
    "    \n",
    "    # Stack all features and targets from solved and predicted structures into only one big\n",
    "    X_set_all = np.concatenate((X_set_solved, X_set_af2), axis=0)\n",
    "    y_set_all = np.concatenate((y_set_solved, y_set_af2), axis=0)\n",
    "    \n",
    "    if (separate==True):\n",
    "        return(X_set_all, y_set_all, X_set_solved, y_set_solved, X_set_af2, y_set_af2)\n",
    "    else:\n",
    "        return(X_set_all, y_set_all, N_set_solved, N_set_af2)"
   ]
  },
  {
   "cell_type": "code",
   "execution_count": 5,
   "metadata": {},
   "outputs": [],
   "source": [
    "def results_df_stats_creation(name_set, data_dir):\n",
    "    \n",
    "    '''\n",
    "    Function to store the stats information from each pdb of the original dataset\n",
    "        - 'name_set': text variable with the type of data set to load ('train', 'test', 'valid')\n",
    "        - 'data_dir': directory where you have storaged the data set (in my case is '../Data/')\n",
    "    \n",
    "    Output:\n",
    "        - 'stats_df_solved': dataframe for the solved structures (removing NaN entries of RSA values)\n",
    "        - 'stats_df_af2': dataframe for the AF2 structures (removing NaN entries of RSA values)\n",
    "    '''\n",
    "    \n",
    "    # 'Pathlib module' load to work with windows path\n",
    "    import pathlib\n",
    "    temp = pathlib.PosixPath\n",
    "    pathlib.PosixPath = pathlib.WindowsPath\n",
    "    \n",
    "    # List of all subdirectories inside the data directory\n",
    "    dirs = [d for d in os.listdir(data_dir)]\n",
    "    \n",
    "    # 're' module to use regex for filtering the specific directories according to the type of data set to load\n",
    "    pattern = '.*' + name_set + '.*'\n",
    "    R = re.compile(pattern)\n",
    "    filtered = [folder for folder in dirs if R.match(folder)]\n",
    "    \n",
    "    # Loading the data set for solved structures and AlphaFold2 predicted structures\n",
    "    path_af2 = data_dir + filtered[0] + '/dataset.pt'\n",
    "    path_solved = data_dir + filtered[1] + '/dataset.pt'\n",
    "    set_af2 = torch.load(path_af2)\n",
    "    set_solved = torch.load(path_solved)\n",
    "    \n",
    "    # Stats dataframe creation for SOLVED and AF2 structures (removing 'NaN' entries according the PDB set)\n",
    "    stats_dfs_solved = []\n",
    "    stats_dfs_af2 = []\n",
    "    for i in range(0, len(set_solved), 1):\n",
    "        sample = set_solved[i]\n",
    "        sample_af2 = set_af2[i]\n",
    "        df_sample = sample['df_stats']\n",
    "        df_sample_af2 = sample_af2['df_stats']\n",
    "        \n",
    "        # Removing 'NaN' entries and adding the epitope column\n",
    "        if(df_sample['rsa'].isna().any() == False):\n",
    "            df_sample['epitope'] = sample['y_arr'].astype(bool)\n",
    "            df_sample_af2['epitope'] = sample_af2['y_arr'].astype(bool)\n",
    "            stats_dfs_solved.append(df_sample)\n",
    "            stats_dfs_af2.append(df_sample_af2)\n",
    "    \n",
    "    return(stats_dfs_solved, stats_dfs_af2)"
   ]
  },
  {
   "cell_type": "code",
   "execution_count": 6,
   "metadata": {},
   "outputs": [],
   "source": [
    "def dataframe_load(name_set, data_dir):\n",
    "    \n",
    "    '''\n",
    "    Function to load training, validation or test dataframes from the folder/directory you have storaged the whole dataset.\n",
    "    This function is specifically to have the original dataframes of the data, and their corresponding description\n",
    "        - 'name_set': text variable with the type of data set to load ('train', 'test', 'valid')\n",
    "        - 'data_dir': directory where you have storaged the data set (in my case is '../Data/')\n",
    "    \n",
    "    Output:\n",
    "        - 'set_af2': dataframe for AF2 predicted structures\n",
    "        - 'set_solved': dataframe for PDB solved structures\n",
    "    '''\n",
    "    \n",
    "    # 'Pathlib module' load to work with windows path\n",
    "    import pathlib\n",
    "    temp = pathlib.PosixPath\n",
    "    pathlib.PosixPath = pathlib.WindowsPath\n",
    "    \n",
    "    # List of all subdirectories inside the data directory\n",
    "    dirs = [d for d in os.listdir(data_dir)]\n",
    "    \n",
    "    # 're' module to use regex for filtering the specific directories according to the type of data set to load\n",
    "    pattern = '.*' + name_set + '.*'\n",
    "    R = re.compile(pattern)\n",
    "    filtered = [folder for folder in dirs if R.match(folder)]\n",
    "    \n",
    "    # Loading the data set for solved structures and AlphaFold2 predicted structures\n",
    "    path_af2 = data_dir + filtered[0] + '/dataset.pt'\n",
    "    path_solved = data_dir + filtered[1] + '/dataset.pt'\n",
    "    set_af2 = torch.load(path_af2)\n",
    "    set_solved = torch.load(path_solved)\n",
    "    \n",
    "    return(set_af2, set_solved)"
   ]
  },
  {
   "cell_type": "code",
   "execution_count": 7,
   "metadata": {},
   "outputs": [],
   "source": [
    "def remove_NaN(data, y):\n",
    "    \n",
    "    '''\n",
    "    Function to remove NaN values (some PDB entries have RSA NaN values)\n",
    "        - 'data': numpy array with the specific (train, valid, test) data\n",
    "        - 'y': numpy array with the specific (train, valid, test) labels\n",
    "    \n",
    "    Output:\n",
    "        - 'data_noNaN': array withouth the entries/observations that contain NaN values\n",
    "    '''\n",
    "    \n",
    "    # Merging X and y arrays all together\n",
    "    joint_data = np.hstack((data, y.reshape(-1, 1)))\n",
    "    \n",
    "    # Removal of NaN entries\n",
    "    nan_rows = np.isnan(joint_data).any(axis=1)\n",
    "    data_noNaN = joint_data[~nan_rows, :]\n",
    "    \n",
    "    # Demerging the final array into X and y\n",
    "    X_noNaN = data_noNaN[:, 0:data.shape[1]]\n",
    "    y_noNaN = data_noNaN[:,-1]\n",
    "    \n",
    "    return(X_noNaN, y_noNaN)"
   ]
  },
  {
   "cell_type": "code",
   "execution_count": 8,
   "metadata": {},
   "outputs": [],
   "source": [
    "def normalize_train(X):\n",
    "    \n",
    "    '''\n",
    "    Function to normalize the columns 532 (pLLDT) and 533 (length) because they have high length\n",
    "        - 'X': data to normalize\n",
    "    '''\n",
    "    \n",
    "    # Create a copy of the X vector to do the normalization\n",
    "    X_scaled = X.copy()\n",
    "    \n",
    "    # Create an instance of MinMaxScaler\n",
    "    scaler = StandardScaler()\n",
    "    \n",
    "    # Fit the scaler to the data \n",
    "    #scaler.fit(X_scaled[:, 532:534])\n",
    "    scaler.fit(X_scaled)\n",
    "    \n",
    "    # Transform the data\n",
    "    #X_scaled[:, 532:534] = scaler.fit_transform(X_scaled[:, 532:534])\n",
    "    X_scaled = scaler.fit_transform(X_scaled)\n",
    "    return(X_scaled)"
   ]
  },
  {
   "cell_type": "code",
   "execution_count": 9,
   "metadata": {},
   "outputs": [],
   "source": [
    "def Z_transform_train(X, cols_to_select):\n",
    "    \n",
    "    '''\n",
    "    Function to normalize the columns 532 (pLLDT) and 533 (length) because they have high length\n",
    "        - 'X': data to normalize\n",
    "    '''\n",
    "    \n",
    "    # Obtain the mean and standard deviation for each feature on the array\n",
    "    X_mean = np.mean(X[:, cols_to_select], axis=0)\n",
    "    X_std = np.std(X[:, cols_to_select], axis=0)\n",
    "    \n",
    "    # Correcting pLDDT column sd in case of using only PDB set\n",
    "    X_std[X_std == 0] = 1\n",
    "    \n",
    "    # Z-transform (standardization)\n",
    "    X[:, cols_to_select] = (X[:, cols_to_select] - X_mean)/X_std\n",
    "    return(X, X_mean, X_std)"
   ]
  },
  {
   "cell_type": "code",
   "execution_count": 10,
   "metadata": {},
   "outputs": [],
   "source": [
    "def Z_transform_valid(X, mean_train, sd_train, cols_to_select):\n",
    "    \n",
    "    '''\n",
    "    Function to normalize the columns 532 (pLLDT) and 533 (length) because they have high length\n",
    "        - 'X': data to normalize\n",
    "        - 'mean_train': mean from standardized training set\n",
    "        - 'sd_train': standard deviation from standardized training set\n",
    "    '''\n",
    "    \n",
    "    # Z-transform (standardization)\n",
    "    X[:, cols_to_select] = (X[:, cols_to_select] - mean_train)/sd_train\n",
    "    return(X)"
   ]
  },
  {
   "cell_type": "code",
   "execution_count": 11,
   "metadata": {},
   "outputs": [],
   "source": [
    "def class_weight_calculator(y_train):\n",
    "        \n",
    "    '''\n",
    "    Function to calculate the class weights for the unbalanced data\n",
    "        - 'y_train': training labels (contains 0 and 1)\n",
    "    '''\n",
    "    \n",
    "    # Compute the class weights with sklearn function\n",
    "    class_weights = compute_class_weight('balanced', classes=np.unique(y_train), y=y_train)\n",
    "\n",
    "    # Convert the class weights to a dictionary\n",
    "    class_weight = dict(enumerate(class_weights))\n",
    "    return(class_weight)"
   ]
  },
  {
   "cell_type": "code",
   "execution_count": 40,
   "metadata": {},
   "outputs": [],
   "source": [
    "# Neuronal network model with one layer\n",
    "def nn1_model(train_data, y_train, act_fun, loss_fun, alpha, class_weight_fn, batch = None, balancing=True):\n",
    "    \n",
    "    '''\n",
    "    Function to create and train/validate the feed-forward neuronal network with only 1 hidden layer\n",
    "        -'train_data': X train standardized\n",
    "        -'y_train': training labels\n",
    "        -'act_fun': activation function\n",
    "        -'loss_fun': loss function\n",
    "        -'class_weight_calculator': function to calculate the weights for each class\n",
    "        -'batch': batch_size (baseline is None, but can be changed by adding a integer as new value)\n",
    "        -'balancing': True/False argument for incorporating balancing in classes\n",
    "    \n",
    "    Output:\n",
    "        -'model': neural network model trained\n",
    "        -'history': attributes obtained during fitting the model\n",
    "    '''\n",
    "    \n",
    "    # Calculation of the class weights with function previously defined\n",
    "    class_weight = class_weight_fn(y_train)\n",
    "    \n",
    "    # Normalization of the class_weight to sum 1\n",
    "    tot = class_weight[0] + class_weight[1]\n",
    "    class_weight[0] = class_weight[0]/tot\n",
    "    class_weight[1] = class_weight[1]/tot\n",
    "    \n",
    "    # Implementation of keras for creating a sequential model with 1 layer\n",
    "    tf.random.set_seed(1234)\n",
    "    from keras.layers import Dense, Dropout\n",
    "    from keras import regularizers, metrics\n",
    "    \n",
    "    model = keras.Sequential()\n",
    "    # Input layer with train_data.shape neurons and a hidden layer with 1 neuron\n",
    "    model.add(Dense(1, activation=act_fun, input_shape=train_data.shape[1:], kernel_regularizer=regularizers.l2(alpha)))\n",
    "    # Output layer with sigmoid activation (better for binary classification)\n",
    "    model.add(Dense(1, activation='sigmoid'))\n",
    "    \n",
    "    opt = tf.keras.optimizers.Adam(learning_rate=0.0001)\n",
    "    model.compile(optimizer=opt, loss=loss_fun, metrics=\n",
    "                  ['accuracy', metrics.Precision(), metrics.Recall(), metrics.AUC(), loss_fun])\n",
    "    \n",
    "    if (balancing == True):\n",
    "        history = model.fit(train_data, y_train, epochs = 100, batch_size=batch, verbose=0, class_weight=class_weight)\n",
    "    else:\n",
    "        history = model.fit(train_data, y_train, epochs = 100, batch_size=batch, verbose=0)\n",
    "    \n",
    "    return(model, history)"
   ]
  },
  {
   "cell_type": "code",
   "execution_count": 33,
   "metadata": {},
   "outputs": [],
   "source": [
    "# Neuronal network model with one layer and 10 hidden unit\n",
    "def nn10_model(train_data, y_train, act_fun, loss_fun, alpha, class_weight_fn, drop_rate, batch = None, balancing=True):\n",
    "    \n",
    "    '''\n",
    "    Function to create and train/validate the feed-forward neuronal network with only 1 hidden layer\n",
    "        -'train_data': X train standardized\n",
    "        -'y_train': training labels\n",
    "        -'act_fun': activation function\n",
    "        -'loss_fun': loss function\n",
    "        -'class_weight_calculator': function to calculate the weights for each class\n",
    "        -'batch': batch_size (baseline is None, but can be changed by adding a integer as new value)\n",
    "        -'balancing': True/False argument for incorporating balancing in classes\n",
    "    \n",
    "    Output:\n",
    "        -'model': neural network model trained\n",
    "        -'history': attributes obtained during fitting the model\n",
    "    '''\n",
    "    \n",
    "    # Calculation of the class weights with function previously defined\n",
    "    class_weight = class_weight_fn(y_train)\n",
    "    \n",
    "    # Normalization of the class_weight to sum 1\n",
    "    tot = class_weight[0] + class_weight[1]\n",
    "    class_weight[0] = class_weight[0]/tot\n",
    "    class_weight[1] = class_weight[1]/tot\n",
    "    \n",
    "    # Implementation of keras for creating a sequential model with 1 layer\n",
    "    tf.random.set_seed(1234)\n",
    "    from keras.layers import Dense, Dropout\n",
    "    from keras import regularizers, metrics\n",
    "    \n",
    "    model = keras.Sequential()\n",
    "    # Input layer with train_data.shape neurons and a hidden layer with 1 neuron\n",
    "    model.add(Dense(10, activation=act_fun, input_shape=train_data.shape[1:], kernel_regularizer=regularizers.l2(alpha)))\n",
    "    model.add(Dropout(drop_rate))\n",
    "    # Output layer with sigmoid activation (better for binary classification)\n",
    "    model.add(Dense(1, activation='sigmoid'))\n",
    "    \n",
    "    opt = tf.keras.optimizers.Adam(learning_rate=0.0001)\n",
    "    model.compile(optimizer=opt, loss=loss_fun, metrics=\n",
    "                  ['accuracy', metrics.Precision(), metrics.Recall(), metrics.AUC(), loss_fun])\n",
    "    \n",
    "    if (balancing == True):\n",
    "        history = model.fit(train_data, y_train, epochs = 100, batch_size=batch, verbose=0, class_weight=class_weight)\n",
    "    else:\n",
    "        history = model.fit(train_data, y_train, epochs = 100, batch_size=batch, verbose=0)\n",
    "    \n",
    "    return(model, history)"
   ]
  },
  {
   "cell_type": "code",
   "execution_count": 13,
   "metadata": {},
   "outputs": [],
   "source": [
    "def loss_plot(loss_values):\n",
    "    \n",
    "    '''\n",
    "    Function to plot the loss curve of the training of the model\n",
    "        - 'loss_values': array with the loss values for each iteration of the training\n",
    "    '''\n",
    "    \n",
    "    plt.plot(loss_values, label = 'Train')\n",
    "    plt.title('Model loss')\n",
    "    plt.ylabel('Loss')\n",
    "    plt.xlabel('Epoch')\n",
    "    plt.legend(loc='upper right')\n",
    "    plt.show()"
   ]
  },
  {
   "cell_type": "code",
   "execution_count": 14,
   "metadata": {},
   "outputs": [],
   "source": [
    "def ROC_AUC(y_true, y_hat):\n",
    "    \n",
    "    '''\n",
    "    Function to obtain the AUC value based on the ROC curve\n",
    "        - 'y_true': y original values\n",
    "        - 'y_hat': y predicted values\n",
    "        \n",
    "    Output:\n",
    "        - 'ROC_auc': AUC value\n",
    "    '''\n",
    "    \n",
    "    fpr, tpr, _ = metrics.roc_curve(y_true, y_hat)\n",
    "    ROC_auc = metrics.auc(fpr, tpr)\n",
    "    return(ROC_auc)"
   ]
  },
  {
   "cell_type": "code",
   "execution_count": 15,
   "metadata": {},
   "outputs": [],
   "source": [
    "def PR_AUC(y_true, y_hat):\n",
    "    \n",
    "    '''\n",
    "    Function to obtain the AUC value based on the precision and recall parameters\n",
    "        - 'y_true': y original values\n",
    "        - 'y_hat': y predicted values\n",
    "        \n",
    "    Output:\n",
    "        - 'PR_auc': AUC value\n",
    "    '''\n",
    "    \n",
    "    precision, recall, thresholds = metrics.precision_recall_curve(y_true, y_hat)\n",
    "    PR_auc = metrics.auc(recall, precision)\n",
    "    return(PR_auc)"
   ]
  },
  {
   "cell_type": "code",
   "execution_count": 16,
   "metadata": {},
   "outputs": [],
   "source": [
    "# Epitope rank percentile score\n",
    "# https://github.com/Magnushhoie/discotope3/blob/main/src/models/mlscripts.py#L55\n",
    "\n",
    "def get_percentile_score_arr(\n",
    "    scores: np.array,\n",
    "    epitopes: np.array,\n",
    "):\n",
    "    \n",
    "    \"\"\"Find mean predicted epitope rank percentile score from the scores (y_hat) and the epitopes (y_true)\"\"\"\n",
    "    epitopes_bool = epitopes.astype(bool)\n",
    "    assert epitopes_bool.dtype == \"bool\"\n",
    "\n",
    "    c = scores[epitopes_bool].mean()\n",
    "    c_percentile = (c > scores).mean()\n",
    "\n",
    "    return c_percentile"
   ]
  },
  {
   "cell_type": "code",
   "execution_count": 17,
   "metadata": {
    "scrolled": true
   },
   "outputs": [
    {
     "data": {
      "text/plain": [
       "((446835, 536), (446835,), (115978, 536), (115978,), (11882, 536), (11882,))"
      ]
     },
     "execution_count": 17,
     "metadata": {},
     "output_type": "execute_result"
    }
   ],
   "source": [
    "# Data loading for training, validation, and test data sets (needs a couple of minutes)\n",
    "X_train, y_train, X_train_PDB, y_train_PDB, X_train_af2, y_train_af2 = data_load(name_set='train', data_dir='../Data/', separate = True)\n",
    "X_valid, y_valid, X_valid_PDB, y_valid_PDB, X_valid_af2, y_valid_af2 = data_load(name_set='valid', data_dir='../Data/', separate = True)\n",
    "X_test, y_test, X_test_PDB, y_test_PDB, X_test_af2, y_test_af2 = data_load(name_set='test', data_dir='../Data/', separate = True)\n",
    "\n",
    "X_train.shape, y_train.shape, X_valid.shape, y_valid.shape, X_test.shape, y_test.shape"
   ]
  },
  {
   "cell_type": "code",
   "execution_count": 18,
   "metadata": {
    "scrolled": true
   },
   "outputs": [],
   "source": [
    "## NOT NEEDED: ALREADY REMOVED WHEN LOADING THE DATA\n",
    "# Data manipulation to remove all PDB entries with NaN values in the RSA feature (535)\n",
    "\n",
    "# X_train, y_train = remove_NaN(data=X_train, y=y_train)\n",
    "# X_valid, y_valid = remove_NaN(data=X_valid, y=y_valid)\n",
    "# X_test, y_test = remove_NaN(data=X_test, y=y_test)\n",
    "\n",
    "# X_train.shape, y_train.shape, X_valid.shape, y_valid.shape, X_test.shape, y_test.shape"
   ]
  },
  {
   "cell_type": "code",
   "execution_count": 19,
   "metadata": {},
   "outputs": [
    {
     "data": {
      "text/plain": [
       "((446835, 536), (115978, 536), (11882, 536))"
      ]
     },
     "execution_count": 19,
     "metadata": {},
     "output_type": "execute_result"
    }
   ],
   "source": [
    "# Data normalization\n",
    "cols = list(range(0, 512)) + [532] + [533] + [535]\n",
    "X_train_sc, mean_X_train, sd_X_train = Z_transform_train(X_train, cols_to_select=cols)\n",
    "X_valid_sc = Z_transform_valid(X_valid, mean_X_train, sd_X_train, cols_to_select=cols)\n",
    "X_test_sc = Z_transform_valid(X_test, mean_X_train, sd_X_train, cols_to_select=cols)\n",
    "\n",
    "X_train_sc.shape, X_valid_sc.shape, X_test_sc.shape"
   ]
  },
  {
   "cell_type": "code",
   "execution_count": 20,
   "metadata": {},
   "outputs": [
    {
     "data": {
      "text/plain": [
       "((223346, 536), (57989, 536), (5941, 536))"
      ]
     },
     "execution_count": 20,
     "metadata": {},
     "output_type": "execute_result"
    }
   ],
   "source": [
    "# Data normalization (PDB only)\n",
    "cols = list(range(0, 512)) + [532] + [533] + [535]\n",
    "X_train_PDB_sc, mean_X_train_PDB, sd_X_train_PDB = Z_transform_train(X_train_PDB, cols_to_select=cols)\n",
    "X_valid_PDB_sc = Z_transform_valid(X_valid_PDB, mean_X_train_PDB, sd_X_train_PDB, cols_to_select=cols)\n",
    "X_test_PDB_sc = Z_transform_valid(X_test_PDB, mean_X_train_PDB, sd_X_train_PDB, cols_to_select=cols)\n",
    "\n",
    "X_train_PDB_sc.shape, X_valid_PDB_sc.shape, X_test_PDB_sc.shape"
   ]
  },
  {
   "cell_type": "code",
   "execution_count": 21,
   "metadata": {},
   "outputs": [
    {
     "data": {
      "text/plain": [
       "((223489, 536), (57989, 536), (5941, 536))"
      ]
     },
     "execution_count": 21,
     "metadata": {},
     "output_type": "execute_result"
    }
   ],
   "source": [
    "# Data normalization (AF2 only)\n",
    "cols = list(range(0, 512)) + [532] + [533] + [535]\n",
    "X_train_af2_sc, mean_X_train_af2, sd_X_train_af2 = Z_transform_train(X_train_af2, cols_to_select=cols)\n",
    "X_valid_af2_sc = Z_transform_valid(X_valid_af2, mean_X_train_af2, sd_X_train_af2, cols_to_select=cols)\n",
    "X_test_af2_sc = Z_transform_valid(X_test_af2, mean_X_train_af2, sd_X_train_af2, cols_to_select=cols)\n",
    "\n",
    "X_train_af2_sc.shape, X_valid_af2_sc.shape, X_test_af2_sc.shape"
   ]
  },
  {
   "cell_type": "code",
   "execution_count": 22,
   "metadata": {},
   "outputs": [
    {
     "name": "stdout",
     "output_type": "stream",
     "text": [
      "Class count (train):\n",
      "\n",
      "      Total: 446835\n",
      "      Epitope label: 40938 (9.16% of total)\n"
     ]
    }
   ],
   "source": [
    "# Class unbalanced in train\n",
    "zero, one = np.bincount(y_train.astype(int))\n",
    "total = zero + one\n",
    "print(\"Class count (train):\\n\\n      Total: {}\\n      Epitope label: {} ({:.2f}% of total)\".format(total, one, 100*one/total))"
   ]
  },
  {
   "cell_type": "code",
   "execution_count": 23,
   "metadata": {},
   "outputs": [
    {
     "name": "stdout",
     "output_type": "stream",
     "text": [
      "Class count (validation):\n",
      "\n",
      "      Total: 115978\n",
      "      Epitope label: 9578 (8.26% of total)\n"
     ]
    }
   ],
   "source": [
    "# Class unbalanced in valid\n",
    "zero, one = np.bincount(y_valid.astype(int))\n",
    "total = zero + one\n",
    "print(\"Class count (validation):\\n\\n      Total: {}\\n      Epitope label: {} ({:.2f}% of total)\".format(total, one, 100*one/total))"
   ]
  },
  {
   "cell_type": "code",
   "execution_count": 24,
   "metadata": {},
   "outputs": [
    {
     "name": "stdout",
     "output_type": "stream",
     "text": [
      "Class count (test):\n",
      "\n",
      "      Total: 11882\n",
      "      Epitope label: 712 (5.99% of total)\n"
     ]
    }
   ],
   "source": [
    "# Class unbalanced in train\n",
    "zero, one = np.bincount(y_test.astype(int))\n",
    "total = zero + one\n",
    "print(\"Class count (test):\\n\\n      Total: {}\\n      Epitope label: {} ({:.2f}% of total)\".format(total, one, 100*one/total))"
   ]
  },
  {
   "cell_type": "code",
   "execution_count": 25,
   "metadata": {
    "scrolled": true
   },
   "outputs": [
    {
     "name": "stdout",
     "output_type": "stream",
     "text": [
      "Class weight implemented\n"
     ]
    },
    {
     "data": {
      "text/plain": [
       "{0: 0.09161771123569103, 1: 0.9083822887643089}"
      ]
     },
     "execution_count": 25,
     "metadata": {},
     "output_type": "execute_result"
    }
   ],
   "source": [
    "# Calculation of the class weights with function previously defined\n",
    "class_weight = class_weight_calculator(y_train)\n",
    "    \n",
    "# Normalization of the class_weight to sum 1\n",
    "tot = class_weight[0] + class_weight[1]\n",
    "class_weight[0] = class_weight[0]/tot\n",
    "class_weight[1] = class_weight[1]/tot\n",
    "    \n",
    "print(\"Class weight implemented\")\n",
    "class_weight"
   ]
  },
  {
   "cell_type": "markdown",
   "metadata": {},
   "source": [
    "## Expansion of the feature space"
   ]
  },
  {
   "cell_type": "code",
   "execution_count": 26,
   "metadata": {},
   "outputs": [],
   "source": [
    "# Function to expand the feature space in the shape of (ROWS, 3·COLUMNS)\n",
    "\n",
    "def expand_matrix_feature(matrix):\n",
    "    \n",
    "    # Shape of the input matrix\n",
    "    rows, cols = matrix.shape\n",
    "\n",
    "    # Create arrays of zeros for the FIRST and LAST residue\n",
    "    prev_row = np.zeros(cols)\n",
    "    next_row = np.zeros(cols)\n",
    "\n",
    "    # Horizontally stack the previous, actual, and next row values (residues) of each row in the matrix\n",
    "    prev_row_matrix = np.vstack([prev_row, matrix[:-1],])\n",
    "    actual_row_matrix = np.vstack([matrix,])\n",
    "    next_row_matrix = np.vstack([matrix[1:], next_row])\n",
    "\n",
    "    # Concatenate the previous, actual, and next row (residues) matrices horizontally\n",
    "    expanded_matrix = np.hstack([prev_row_matrix, actual_row_matrix, next_row_matrix])\n",
    "\n",
    "    return expanded_matrix"
   ]
  },
  {
   "cell_type": "code",
   "execution_count": 27,
   "metadata": {
    "scrolled": true
   },
   "outputs": [
    {
     "data": {
      "text/plain": [
       "(1061, 1061, 270, 270, 21, 21)"
      ]
     },
     "execution_count": 27,
     "metadata": {},
     "output_type": "execute_result"
    }
   ],
   "source": [
    "# Loading stats dataframe\n",
    "stats_train_solved, stats_train_AF2 = results_df_stats_creation(name_set='train', data_dir='../Data/')\n",
    "stats_valid_solved, stats_valid_AF2 = results_df_stats_creation(name_set='valid', data_dir='../Data/')\n",
    "stats_test_solved, stats_test_AF2 = results_df_stats_creation(name_set='test', data_dir='../Data/')\n",
    "\n",
    "len(stats_train_solved), len(stats_train_AF2), len(stats_valid_solved), len(stats_valid_AF2), len(stats_test_solved), len(stats_test_AF2)"
   ]
  },
  {
   "cell_type": "code",
   "execution_count": 29,
   "metadata": {},
   "outputs": [
    {
     "name": "stdout",
     "output_type": "stream",
     "text": [
      "Nº of proteins in the train set (PDB): 1061\n",
      "\n",
      "Are the total length equal to the y_train (PDB)? True\n",
      "\n",
      "Original shape of X train PDB matrix:  (223346, 536)\n",
      "Shape of the expanded X train PDB matrix:  (223346, 1608)\n"
     ]
    }
   ],
   "source": [
    "# Expanding the feature space according to the length of each PDB ID (TRAIN SET)\n",
    "\n",
    "n, p = X_train_PDB_sc.shape\n",
    "X_train_PDB_exp = np.empty((n, 3*p), dtype=np.float32)\n",
    "\n",
    "length_PDB = np.empty(len(stats_train_solved))\n",
    "tot_len_PDB = 0\n",
    "for i in range(0, len(stats_train_solved), 1):\n",
    "    \n",
    "    # Storing actual length\n",
    "    sample_PDB = stats_train_solved[i]\n",
    "    actual_len_PDB = sample_PDB['length'][0]\n",
    "    length_PDB[i] = actual_len_PDB\n",
    "    \n",
    "    # Expanding the feature space for each protein\n",
    "    X_train_PDB_exp[tot_len_PDB:tot_len_PDB + actual_len_PDB] = expand_matrix_feature(X_train_PDB_sc[tot_len_PDB:tot_len_PDB + actual_len_PDB])\n",
    "    \n",
    "    # Storing cumulative sum of lengths\n",
    "    tot_len_PDB = tot_len_PDB + actual_len_PDB\n",
    "\n",
    "print('Nº of proteins in the train set (PDB):', length_PDB.shape[0])\n",
    "print('\\nAre the total length equal to the y_train (PDB)?', tot_len_PDB == len(y_train_PDB))\n",
    "\n",
    "print('\\nOriginal shape of X train PDB matrix: ', X_train_PDB_sc.shape)\n",
    "print('Shape of the expanded X train PDB matrix: ', X_train_PDB_exp.shape)"
   ]
  },
  {
   "cell_type": "code",
   "execution_count": 30,
   "metadata": {},
   "outputs": [
    {
     "name": "stdout",
     "output_type": "stream",
     "text": [
      "Nº of proteins in the train set (AF2): 1061\n",
      "Are the total length equal to the y_train (AF2)? True\n",
      "\n",
      "Original shape of X train AF2 matrix:  (223489, 536)\n",
      "Shape of the expanded X train AF2 matrix:  (223489, 1608)\n"
     ]
    }
   ],
   "source": [
    "# Expanding the feature space according to the length of each PDB ID (TRAIN SET)\n",
    "\n",
    "n, p = X_train_af2_sc.shape\n",
    "X_train_af2_exp = np.empty((n, 3*p), dtype=np.float32)\n",
    "\n",
    "length_af2 = np.empty(len(stats_train_AF2))\n",
    "tot_len_af2 = 0\n",
    "for i in range(0, len(stats_train_solved), 1):\n",
    "    \n",
    "    # Storing actual length\n",
    "    sample_af2 = stats_train_AF2[i]\n",
    "    actual_len_af2 = sample_af2['length'][0]\n",
    "    length_af2[i] = actual_len_af2\n",
    "    \n",
    "    # Expanding the feature space for each protein\n",
    "    X_train_af2_exp[tot_len_af2:tot_len_af2 + actual_len_af2] = expand_matrix_feature(X_train_af2_sc[tot_len_af2:tot_len_af2 + actual_len_af2])\n",
    "    \n",
    "    # Storing cumulative sum of lengths\n",
    "    tot_len_af2 = tot_len_af2 + actual_len_af2\n",
    "\n",
    "print('Nº of proteins in the train set (AF2):', length_af2.shape[0])\n",
    "print('Are the total length equal to the y_train (AF2)?', tot_len_af2 == len(y_train_af2))\n",
    "\n",
    "print('\\nOriginal shape of X train AF2 matrix: ', X_train_af2_sc.shape)\n",
    "print('Shape of the expanded X train AF2 matrix: ', X_train_af2_exp.shape)"
   ]
  },
  {
   "cell_type": "code",
   "execution_count": 31,
   "metadata": {},
   "outputs": [
    {
     "name": "stdout",
     "output_type": "stream",
     "text": [
      "Nº of proteins in the valid set (PDB and AF2): 270 and 270\n",
      "\n",
      "Are the total length equal to the y_valid (PDB)? True\n",
      "Are the total length equal to the y_valid (AF2)? True\n",
      "\n",
      "Original shape of X valid PDB matrix:  (57989, 536)\n",
      "Shape of the expanded X valid PDB matrix:  (57989, 1608)\n",
      "\n",
      "Original shape of X valid AF2 matrix:  (57989, 536)\n",
      "Shape of the expanded X valid AF2 matrix:  (57989, 1608)\n"
     ]
    }
   ],
   "source": [
    "# Expanding the feature space according to the length of each PDB ID (VALID SET)\n",
    "\n",
    "n, p = X_valid_PDB_sc.shape\n",
    "X_valid_PDB_exp = np.empty((n, 3*p), dtype=np.float32)\n",
    "X_valid_af2_exp = np.empty((n, 3*p), dtype=np.float32)\n",
    "\n",
    "length_PDB = np.empty(len(stats_valid_solved))\n",
    "length_af2 = np.empty(len(stats_valid_AF2))\n",
    "tot_len_PDB = 0\n",
    "tot_len_af2 = 0\n",
    "for i in range(0, len(stats_valid_solved), 1):\n",
    "    \n",
    "    # Storing actual length\n",
    "    sample_PDB = stats_valid_solved[i]\n",
    "    sample_af2 = stats_valid_AF2[i]\n",
    "    actual_len_PDB = sample_PDB['length'][0]\n",
    "    actual_len_af2 = sample_af2['length'][0]\n",
    "    length_PDB[i] = actual_len_PDB\n",
    "    length_af2[i] = actual_len_af2\n",
    "    \n",
    "    # Expanding the feature space for each protein\n",
    "    X_valid_PDB_exp[tot_len_PDB:tot_len_PDB + actual_len_PDB] = expand_matrix_feature(X_valid_PDB_sc[tot_len_PDB:tot_len_PDB + actual_len_PDB])\n",
    "    X_valid_af2_exp[tot_len_af2:tot_len_af2 + actual_len_af2] = expand_matrix_feature(X_valid_af2_sc[tot_len_af2:tot_len_af2 + actual_len_af2])\n",
    "    \n",
    "    # Storing cumulative sum of lengths\n",
    "    tot_len_PDB = tot_len_PDB + actual_len_PDB\n",
    "    tot_len_af2 = tot_len_af2 + actual_len_af2\n",
    "\n",
    "print('Nº of proteins in the valid set (PDB and AF2):', length_PDB.shape[0], 'and', length_af2.shape[0])\n",
    "print('\\nAre the total length equal to the y_valid (PDB)?', tot_len_PDB == len(y_valid_PDB))\n",
    "print('Are the total length equal to the y_valid (AF2)?', tot_len_af2 == len(y_valid_af2))\n",
    "\n",
    "print('\\nOriginal shape of X valid PDB matrix: ', X_valid_PDB_sc.shape)\n",
    "print('Shape of the expanded X valid PDB matrix: ', X_valid_PDB_exp.shape)\n",
    "\n",
    "print('\\nOriginal shape of X valid AF2 matrix: ', X_valid_af2_sc.shape)\n",
    "print('Shape of the expanded X valid AF2 matrix: ', X_valid_af2_exp.shape)"
   ]
  },
  {
   "cell_type": "code",
   "execution_count": 32,
   "metadata": {
    "scrolled": true
   },
   "outputs": [
    {
     "name": "stdout",
     "output_type": "stream",
     "text": [
      "Nº of proteins in the test set (PDB and AF2): 21 and 21\n",
      "\n",
      "Are the total length equal to the y_test (PDB)? True\n",
      "Are the total length equal to the y_test (AF2)? True\n",
      "\n",
      "Original shape of X test PDB matrix:  (5941, 536)\n",
      "Shape of the expanded X test PDB matrix:  (5941, 1608)\n",
      "\n",
      "Original shape of X test AF2 matrix:  (5941, 536)\n",
      "Shape of the expanded X test AF2 matrix:  (5941, 1608)\n"
     ]
    }
   ],
   "source": [
    "# Expanding the feature space according to the length of each PDB ID (TEST SET)\n",
    "\n",
    "n, p = X_test_PDB_sc.shape\n",
    "X_test_PDB_exp = np.empty((n, 3*p), dtype=np.float32)\n",
    "X_test_af2_exp = np.empty((n, 3*p), dtype=np.float32)\n",
    "\n",
    "length_PDB = np.empty(len(stats_test_solved))\n",
    "length_af2 = np.empty(len(stats_test_AF2))\n",
    "tot_len_PDB = 0\n",
    "tot_len_af2 = 0\n",
    "for i in range(0, len(stats_test_solved), 1):\n",
    "    \n",
    "    # Storing actual length\n",
    "    sample_PDB = stats_test_solved[i]\n",
    "    sample_af2 = stats_test_AF2[i]\n",
    "    actual_len_PDB = sample_PDB['length'][0]\n",
    "    actual_len_af2 = sample_af2['length'][0]\n",
    "    length_PDB[i] = actual_len_PDB\n",
    "    length_af2[i] = actual_len_af2\n",
    "    \n",
    "    # Expanding the feature space for each protein\n",
    "    X_test_PDB_exp[tot_len_PDB:tot_len_PDB + actual_len_PDB] = expand_matrix_feature(X_test_PDB_sc[tot_len_PDB:tot_len_PDB + actual_len_PDB])\n",
    "    X_test_af2_exp[tot_len_af2:tot_len_af2 + actual_len_af2] = expand_matrix_feature(X_test_af2_sc[tot_len_af2:tot_len_af2 + actual_len_af2])\n",
    "    \n",
    "    # Storing cumulative sum of lengths\n",
    "    tot_len_PDB = tot_len_PDB + actual_len_PDB\n",
    "    tot_len_af2 = tot_len_af2 + actual_len_af2\n",
    "\n",
    "print('Nº of proteins in the test set (PDB and AF2):', length_PDB.shape[0], 'and', length_af2.shape[0])\n",
    "print('\\nAre the total length equal to the y_test (PDB)?', tot_len_PDB == len(y_test_PDB))\n",
    "print('Are the total length equal to the y_test (AF2)?', tot_len_af2 == len(y_test_af2))\n",
    "\n",
    "print('\\nOriginal shape of X test PDB matrix: ', X_test_PDB_sc.shape)\n",
    "print('Shape of the expanded X test PDB matrix: ', X_test_PDB_exp.shape)\n",
    "\n",
    "print('\\nOriginal shape of X test AF2 matrix: ', X_test_af2_sc.shape)\n",
    "print('Shape of the expanded X test AF2 matrix: ', X_test_af2_exp.shape)"
   ]
  },
  {
   "cell_type": "code",
   "execution_count": 35,
   "metadata": {},
   "outputs": [
    {
     "data": {
      "text/plain": [
       "((446835, 1608), (446835,))"
      ]
     },
     "execution_count": 35,
     "metadata": {},
     "output_type": "execute_result"
    }
   ],
   "source": [
    "# Stack all features and targets from solved and predicted structures into only one big (training)\n",
    "X_train_exp = np.concatenate((X_train_PDB_exp, X_train_af2_exp), axis=0)\n",
    "y_train_exp = np.concatenate((y_train_PDB, y_train_af2), axis=0)\n",
    "\n",
    "X_train_exp.shape, y_train_exp.shape"
   ]
  },
  {
   "cell_type": "code",
   "execution_count": 36,
   "metadata": {},
   "outputs": [
    {
     "data": {
      "text/plain": [
       "((115978, 1608), (115978,))"
      ]
     },
     "execution_count": 36,
     "metadata": {},
     "output_type": "execute_result"
    }
   ],
   "source": [
    "# Stack all features and targets from solved and predicted structures into only one big (validation)\n",
    "X_valid_exp = np.concatenate((X_valid_PDB_exp, X_valid_af2_exp), axis=0)\n",
    "y_valid_exp = np.concatenate((y_valid_PDB, y_valid_af2), axis=0)\n",
    "\n",
    "X_valid_exp.shape, y_valid_exp.shape"
   ]
  },
  {
   "cell_type": "code",
   "execution_count": 37,
   "metadata": {},
   "outputs": [
    {
     "data": {
      "text/plain": [
       "((11882, 1608), (11882,))"
      ]
     },
     "execution_count": 37,
     "metadata": {},
     "output_type": "execute_result"
    }
   ],
   "source": [
    "# Stack all features and targets from solved and predicted structures into only one big (test)\n",
    "X_test_exp = np.concatenate((X_test_PDB_exp, X_test_af2_exp), axis=0)\n",
    "y_test_exp = np.concatenate((y_test_PDB, y_test_af2), axis=0)\n",
    "\n",
    "X_test_exp.shape, y_test_exp.shape"
   ]
  },
  {
   "cell_type": "markdown",
   "metadata": {},
   "source": [
    "## Training with whole data set (1hu)"
   ]
  },
  {
   "cell_type": "code",
   "execution_count": 38,
   "metadata": {
    "scrolled": true
   },
   "outputs": [],
   "source": [
    "# Parameters definition\n",
    "loss = 'binary_crossentropy'\n",
    "act = 'relu'\n",
    "l2_value = 0.0001\n",
    "batch_size = 128\n",
    "class_balancing = False"
   ]
  },
  {
   "cell_type": "code",
   "execution_count": 41,
   "metadata": {},
   "outputs": [
    {
     "name": "stdout",
     "output_type": "stream",
     "text": [
      "3625/3625 [==============================] - 11s 2ms/step\n",
      "1813/1813 [==============================] - 3s 1ms/step\n",
      "1813/1813 [==============================] - 4s 2ms/step\n",
      "372/372 [==============================] - 1s 1ms/step\n",
      "186/186 [==============================] - 0s 1ms/step\n",
      "186/186 [==============================] - 0s 1ms/step\n"
     ]
    }
   ],
   "source": [
    "# Training and validation of the model\n",
    "model, history = nn1_model(train_data=X_train_exp, y_train=y_train_exp, act_fun=act, loss_fun=loss, alpha=l2_value, \n",
    "                           class_weight_fn=class_weight_calculator, batch = batch_size, balancing = class_balancing)    \n",
    "\n",
    "# Obtaining probabilities values for whole valid, valid_PDB, and valid_AF2\n",
    "y_pred_valid_exp_prob = model.predict(X_valid_exp)\n",
    "y_pred_valid_PDB_exp_prob = model.predict(X_valid_PDB_exp)\n",
    "y_pred_valid_af2_exp_prob = model.predict(X_valid_af2_exp)\n",
    "\n",
    "# Obtaining probabilities values for whole test, test_PDB, and test_AF2\n",
    "y_pred_test_exp_prob = model.predict(X_test_exp)\n",
    "y_pred_test_PDB_exp_prob = model.predict(X_test_PDB_exp)\n",
    "y_pred_test_af2_exp_prob = model.predict(X_test_af2_exp)"
   ]
  },
  {
   "cell_type": "code",
   "execution_count": 46,
   "metadata": {},
   "outputs": [
    {
     "name": "stdout",
     "output_type": "stream",
     "text": [
      "AUC Validation results: \n",
      "\n",
      "Total valid: 0.780764285753536\n",
      "Solved valid: 0.7913879846044428\n",
      "AF2 valid: 0.770143028274382\n",
      "\n",
      "AUC-valid from original features: 0.782217\n"
     ]
    }
   ],
   "source": [
    "print('AUC Validation results: \\n')\n",
    "print('Total valid: {}'.format(ROC_AUC(y_valid_exp, y_pred_valid_exp_prob)))\n",
    "print('Solved valid: {}'.format(ROC_AUC(y_valid_PDB, y_pred_valid_PDB_exp_prob)))\n",
    "print('AF2 valid: {}'.format(ROC_AUC(y_valid_af2, y_pred_valid_af2_exp_prob)))\n",
    "\n",
    "print('\\nAUC-valid from original features: 0.782217')"
   ]
  },
  {
   "cell_type": "code",
   "execution_count": 47,
   "metadata": {},
   "outputs": [
    {
     "name": "stdout",
     "output_type": "stream",
     "text": [
      "AUC Test results: \n",
      "\n",
      "Total test: 0.7736042444147143\n",
      "Solved test: 0.7737174715580458\n",
      "AF2 test: 0.7736100912355527\n",
      "\n",
      "AUC-test from original features: 0.789158\n"
     ]
    }
   ],
   "source": [
    "print('AUC Test results: \\n')\n",
    "print('Total test: {}'.format(ROC_AUC(y_test_exp, y_pred_test_exp_prob)))\n",
    "print('Solved test: {}'.format(ROC_AUC(y_test_PDB, y_pred_test_PDB_exp_prob)))\n",
    "print('AF2 test: {}'.format(ROC_AUC(y_test_af2, y_pred_test_af2_exp_prob)))\n",
    "\n",
    "print('\\nAUC-test from original features: 0.789158')"
   ]
  },
  {
   "cell_type": "markdown",
   "metadata": {},
   "source": [
    "## Training with whole data set (10 hu)"
   ]
  },
  {
   "cell_type": "code",
   "execution_count": 48,
   "metadata": {
    "scrolled": true
   },
   "outputs": [],
   "source": [
    "# Parameters definition\n",
    "loss = 'binary_crossentropy'\n",
    "act = 'relu'\n",
    "l2_value = 0.01\n",
    "drop = 0.4\n",
    "batch_size = 128\n",
    "class_balancing = False"
   ]
  },
  {
   "cell_type": "code",
   "execution_count": 49,
   "metadata": {},
   "outputs": [
    {
     "name": "stdout",
     "output_type": "stream",
     "text": [
      "3625/3625 [==============================] - 9s 2ms/step\n",
      "1813/1813 [==============================] - 3s 2ms/step\n",
      "1813/1813 [==============================] - 5s 3ms/step\n",
      "372/372 [==============================] - 1s 2ms/step\n",
      "186/186 [==============================] - 0s 2ms/step\n",
      "186/186 [==============================] - 1s 3ms/step\n"
     ]
    }
   ],
   "source": [
    "# Training and validation of the model\n",
    "model10, history10 = nn10_model(train_data=X_train_exp, y_train=y_train_exp, act_fun=act, loss_fun=loss, alpha=l2_value, \n",
    "                                class_weight_fn=class_weight_calculator, drop_rate=drop, \n",
    "                                batch = batch_size, balancing = class_balancing)    \n",
    "\n",
    "# Obtaining probabilities values for whole valid, valid_PDB, and valid_AF2\n",
    "y_pred_valid_exp_prob = model10.predict(X_valid_exp)\n",
    "y_pred_valid_PDB_exp_prob = model10.predict(X_valid_PDB_exp)\n",
    "y_pred_valid_af2_exp_prob = model10.predict(X_valid_af2_exp)\n",
    "\n",
    "# Obtaining probabilities values for whole test, test_PDB, and test_AF2\n",
    "y_pred_test_exp_prob = model10.predict(X_test_exp)\n",
    "y_pred_test_PDB_exp_prob = model10.predict(X_test_PDB_exp)\n",
    "y_pred_test_af2_exp_prob = model10.predict(X_test_af2_exp)"
   ]
  },
  {
   "cell_type": "code",
   "execution_count": 52,
   "metadata": {},
   "outputs": [
    {
     "name": "stdout",
     "output_type": "stream",
     "text": [
      "AUC Validation results: \n",
      "\n",
      "Total valid: 0.7917316896137294\n",
      "Solved valid: 0.7984357597376193\n",
      "AF2 valid: 0.7852283604971919\n",
      "\n",
      "AUC-valid from original features: \n",
      "\n",
      "Total valid: 0.794642\n",
      "Solved valid: 0.802523\n",
      "AF2 valid: 0.786897\n"
     ]
    }
   ],
   "source": [
    "print('AUC Validation results: \\n')\n",
    "print('Total valid: {}'.format(ROC_AUC(y_valid_exp, y_pred_valid_exp_prob)))\n",
    "print('Solved valid: {}'.format(ROC_AUC(y_valid_PDB, y_pred_valid_PDB_exp_prob)))\n",
    "print('AF2 valid: {}'.format(ROC_AUC(y_valid_af2, y_pred_valid_af2_exp_prob)))\n",
    "\n",
    "print('\\nAUC-valid from original features: \\n')\n",
    "print('Total valid: 0.794642')\n",
    "print('Solved valid: 0.802523')\n",
    "print('AF2 valid: 0.786897')"
   ]
  },
  {
   "cell_type": "code",
   "execution_count": 53,
   "metadata": {},
   "outputs": [
    {
     "name": "stdout",
     "output_type": "stream",
     "text": [
      "AUC Test results: \n",
      "\n",
      "Total test: 0.7793727932966513\n",
      "Solved test: 0.7836492712220736\n",
      "AF2 test: 0.7758854475772785\n",
      "\n",
      "AUC-test from original features: \n",
      "\n",
      "Total test: 0.780097\n",
      "Solved test: 0.785078\n",
      "AF2 test: 0.775623\n"
     ]
    }
   ],
   "source": [
    "print('AUC Test results: \\n')\n",
    "print('Total test: {}'.format(ROC_AUC(y_test_exp, y_pred_test_exp_prob)))\n",
    "print('Solved test: {}'.format(ROC_AUC(y_test_PDB, y_pred_test_PDB_exp_prob)))\n",
    "print('AF2 test: {}'.format(ROC_AUC(y_test_af2, y_pred_test_af2_exp_prob)))\n",
    "\n",
    "print('\\nAUC-test from original features: \\n')\n",
    "print('Total test: 0.780097')\n",
    "print('Solved test: 0.785078')\n",
    "print('AF2 test: 0.775623')"
   ]
  }
 ],
 "metadata": {
  "kernelspec": {
   "display_name": "Python 3 (ipykernel)",
   "language": "python",
   "name": "python3"
  },
  "language_info": {
   "codemirror_mode": {
    "name": "ipython",
    "version": 3
   },
   "file_extension": ".py",
   "mimetype": "text/x-python",
   "name": "python",
   "nbconvert_exporter": "python",
   "pygments_lexer": "ipython3",
   "version": "3.10.9"
  },
  "vscode": {
   "interpreter": {
    "hash": "98d96843242ea63546b941eb98e2ac308b462277a7c4020ae14ccf41d9fe0ade"
   }
  }
 },
 "nbformat": 4,
 "nbformat_minor": 2
}
