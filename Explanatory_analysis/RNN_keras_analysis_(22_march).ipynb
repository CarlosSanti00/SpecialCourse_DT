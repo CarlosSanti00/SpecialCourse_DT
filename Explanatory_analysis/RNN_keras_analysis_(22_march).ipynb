{
 "cells": [
  {
   "cell_type": "markdown",
   "metadata": {},
   "source": [
    "**TASKS FOR MEETING ON 22 MARCH 2023:**\n",
    "\n",
    "- ~~AUC per feature~~\n",
    "- ~~Change activation and regularization~~\n",
    "- ~~Balancing VS not balancing~~\n",
    "- ~~Check feature normalization only in the relevant~~\n",
    "- ~~Include performance on validation and test~~\n",
    "- Resampling from the training data or randoms value in the weights (later): ensemble\n",
    "- ~~Save dataframes of train, valid, test with regularization: no categorical variables~~"
   ]
  },
  {
   "cell_type": "markdown",
   "metadata": {},
   "source": [
    "# 1. RNN for the original whole dataset"
   ]
  },
  {
   "cell_type": "code",
   "execution_count": 1,
   "metadata": {
    "scrolled": false
   },
   "outputs": [
    {
     "name": "stderr",
     "output_type": "stream",
     "text": [
      "C:\\Users\\minij\\anaconda3\\envs\\special_course\\lib\\site-packages\\tqdm\\auto.py:22: TqdmWarning: IProgress not found. Please update jupyter and ipywidgets. See https://ipywidgets.readthedocs.io/en/stable/user_install.html\n",
      "  from .autonotebook import tqdm as notebook_tqdm\n"
     ]
    }
   ],
   "source": [
    "# Import of required libraries and functions from 'make_dataset' script\n",
    "import os\n",
    "from make_dataset import Discotope_Dataset\n",
    "import numpy as np\n",
    "import torch\n",
    "import pandas as pd\n",
    "import re\n",
    "import matplotlib.pyplot as plt\n",
    "from sklearn.utils.class_weight import compute_class_weight\n",
    "from sklearn.preprocessing import MinMaxScaler, StandardScaler\n",
    "from sklearn import metrics\n",
    "from sklearn.metrics import accuracy_score, log_loss, confusion_matrix, roc_auc_score\n",
    "from tqdm import tqdm"
   ]
  },
  {
   "cell_type": "code",
   "execution_count": 2,
   "metadata": {},
   "outputs": [],
   "source": [
    "# Import tensorflow and keras\n",
    "import tensorflow as tf\n",
    "from tensorflow import keras"
   ]
  },
  {
   "cell_type": "code",
   "execution_count": 3,
   "metadata": {},
   "outputs": [],
   "source": [
    "tf.random.set_seed(1234)"
   ]
  },
  {
   "cell_type": "code",
   "execution_count": 4,
   "metadata": {},
   "outputs": [],
   "source": [
    "def data_load(name_set, data_dir, separate=False):\n",
    "    \n",
    "    '''\n",
    "    Function to load training, validation or test data from the folder/directory you have storaged the whole dataset\n",
    "        - 'name_set': text variable with the type of data set to load ('train', 'test', 'valid')\n",
    "        - 'data_dir': directory where you have storaged the data set (in my case is '../Data/')\n",
    "        - 'separate': boolean that returns the PDBs and AF2 sets separately (only when True)\n",
    "    \n",
    "    Output:\n",
    "        - 'X_all': all observations from both solved and predicted structures all together\n",
    "        - 'y_all': all labels from both solved and predicted structures all together\n",
    "        - 'N_solved': number of observations from solved structures (in case of wanted to unmerge the 'all' array)\n",
    "        - 'N_af2': number of observations from predicted structures (in case of wanted to unmerge the 'all' array)\n",
    "    '''\n",
    "    \n",
    "    # 'Pathlib module' load to work with windows path\n",
    "    import pathlib\n",
    "    temp = pathlib.PosixPath\n",
    "    pathlib.PosixPath = pathlib.WindowsPath\n",
    "    \n",
    "    # List of all subdirectories inside the data directory\n",
    "    dirs = [d for d in os.listdir(data_dir)]\n",
    "    \n",
    "    # 're' module to use regex for filtering the specific directories according to the type of data set to load\n",
    "    pattern = '.*' + name_set + '.*'\n",
    "    R = re.compile(pattern)\n",
    "    filtered = [folder for folder in dirs if R.match(folder)]\n",
    "    \n",
    "    # Loading the data set for solved structures and AlphaFold2 predicted structures\n",
    "    path_af2 = data_dir + filtered[0] + '/dataset.pt'\n",
    "    path_solved = data_dir + filtered[1] + '/dataset.pt'\n",
    "    set_af2 = torch.load(path_af2)\n",
    "    set_solved = torch.load(path_solved)\n",
    "    \n",
    "    # Stack all features and targets to one big array\n",
    "    X_set_solved = np.concatenate([sample[\"X_arr\"] for sample in set_solved])\n",
    "    y_set_solved = np.concatenate([sample[\"y_arr\"] for sample in set_solved])\n",
    "    X_set_af2 = np.concatenate([sample[\"X_arr\"] for sample in set_af2])\n",
    "    y_set_af2 = np.concatenate([sample[\"y_arr\"] for sample in set_af2])\n",
    "    \n",
    "    # Nº of observations for each subtype of data set\n",
    "    N_set_solved = X_set_solved.shape[0]\n",
    "    N_set_af2 = X_set_af2.shape[0]\n",
    "    \n",
    "    # Stack all features and targets from solved and predicted structures into only one big\n",
    "    X_set_all = np.concatenate((X_set_solved, X_set_af2), axis=0)\n",
    "    y_set_all = np.concatenate((y_set_solved, y_set_af2), axis=0)\n",
    "    \n",
    "    if (separate==True):\n",
    "        return(X_set_all, y_set_all, X_set_solved, y_set_solved, X_set_af2, y_set_af2)\n",
    "    else:\n",
    "        return(X_set_all, y_set_all, N_set_solved, N_set_af2)"
   ]
  },
  {
   "cell_type": "code",
   "execution_count": 5,
   "metadata": {},
   "outputs": [],
   "source": [
    "def dataframe_load(name_set, data_dir):\n",
    "    \n",
    "    '''\n",
    "    Function to load training, validation or test dataframes from the folder/directory you have storaged the whole dataset.\n",
    "    This function is specifically to have the original dataframes of the data, and their corresponding description\n",
    "        - 'name_set': text variable with the type of data set to load ('train', 'test', 'valid')\n",
    "        - 'data_dir': directory where you have storaged the data set (in my case is '../Data/')\n",
    "    \n",
    "    Output:\n",
    "        - 'set_af2': dataframe for AF2 predicted structures\n",
    "        - 'set_solved': dataframe for PDB solved structures\n",
    "    '''\n",
    "    \n",
    "    # 'Pathlib module' load to work with windows path\n",
    "    import pathlib\n",
    "    temp = pathlib.PosixPath\n",
    "    pathlib.PosixPath = pathlib.WindowsPath\n",
    "    \n",
    "    # List of all subdirectories inside the data directory\n",
    "    dirs = [d for d in os.listdir(data_dir)]\n",
    "    \n",
    "    # 're' module to use regex for filtering the specific directories according to the type of data set to load\n",
    "    pattern = '.*' + name_set + '.*'\n",
    "    R = re.compile(pattern)\n",
    "    filtered = [folder for folder in dirs if R.match(folder)]\n",
    "    \n",
    "    # Loading the data set for solved structures and AlphaFold2 predicted structures\n",
    "    path_af2 = data_dir + filtered[0] + '/dataset.pt'\n",
    "    path_solved = data_dir + filtered[1] + '/dataset.pt'\n",
    "    set_af2 = torch.load(path_af2)\n",
    "    set_solved = torch.load(path_solved)\n",
    "    \n",
    "    return(set_af2, set_solved)"
   ]
  },
  {
   "cell_type": "code",
   "execution_count": 6,
   "metadata": {},
   "outputs": [],
   "source": [
    "def remove_NaN(data, y):\n",
    "    \n",
    "    '''\n",
    "    Function to remove NaN values (some PDB entries have RSA NaN values)\n",
    "        - 'data': numpy array with the specific (train, valid, test) data\n",
    "        - 'y': numpy array with the specific (train, valid, test) labels\n",
    "    \n",
    "    Output:\n",
    "        - 'data_noNaN': array withouth the entries/observations that contain NaN values\n",
    "    '''\n",
    "    \n",
    "    # Merging X and y arrays all together\n",
    "    joint_data = np.hstack((data, y.reshape(-1, 1)))\n",
    "    \n",
    "    # Removal of NaN entries\n",
    "    nan_rows = np.isnan(joint_data).any(axis=1)\n",
    "    data_noNaN = joint_data[~nan_rows, :]\n",
    "    \n",
    "    # Demerging the final array into X and y\n",
    "    X_noNaN = data_noNaN[:, 0:data.shape[1]]\n",
    "    y_noNaN = data_noNaN[:,-1]\n",
    "    \n",
    "    return(X_noNaN, y_noNaN)"
   ]
  },
  {
   "cell_type": "code",
   "execution_count": 7,
   "metadata": {},
   "outputs": [],
   "source": [
    "def normalize_train(X):\n",
    "    \n",
    "    '''\n",
    "    Function to normalize the columns 532 (pLLDT) and 533 (length) because they have high length\n",
    "        - 'X': data to normalize\n",
    "    '''\n",
    "    \n",
    "    # Create a copy of the X vector to do the normalization\n",
    "    X_scaled = X.copy()\n",
    "    \n",
    "    # Create an instance of MinMaxScaler\n",
    "    scaler = StandardScaler()\n",
    "    \n",
    "    # Fit the scaler to the data \n",
    "    #scaler.fit(X_scaled[:, 532:534])\n",
    "    scaler.fit(X_scaled)\n",
    "    \n",
    "    # Transform the data\n",
    "    #X_scaled[:, 532:534] = scaler.fit_transform(X_scaled[:, 532:534])\n",
    "    X_scaled = scaler.fit_transform(X_scaled)\n",
    "    return(X_scaled)"
   ]
  },
  {
   "cell_type": "code",
   "execution_count": 8,
   "metadata": {},
   "outputs": [],
   "source": [
    "def Z_transform_train(X, cols_to_select):\n",
    "    \n",
    "    '''\n",
    "    Function to normalize the columns 532 (pLLDT) and 533 (length) because they have high length\n",
    "        - 'X': data to normalize\n",
    "    '''\n",
    "    \n",
    "    # Obtain the mean and standard deviation for each feature on the array\n",
    "    X_mean = np.mean(X[:, cols_to_select], axis=0)\n",
    "    X_std = np.std(X[:, cols_to_select], axis=0)\n",
    "    \n",
    "    # Z-transform (standardization)\n",
    "    X[:, cols_to_select] = (X[:, cols_to_select] - X_mean)/X_std\n",
    "    return(X, X_mean, X_std)"
   ]
  },
  {
   "cell_type": "code",
   "execution_count": 9,
   "metadata": {},
   "outputs": [],
   "source": [
    "def Z_transform_valid(X, mean_train, sd_train, cols_to_select):\n",
    "    \n",
    "    '''\n",
    "    Function to normalize the columns 532 (pLLDT) and 533 (length) because they have high length\n",
    "        - 'X': data to normalize\n",
    "        - 'mean_train': mean from standardized training set\n",
    "        - 'sd_train': standard deviation from standardized training set\n",
    "    '''\n",
    "    \n",
    "    # Z-transform (standardization)\n",
    "    X[:, cols_to_select] = (X[:, cols_to_select] - mean_train)/sd_train\n",
    "    return(X)"
   ]
  },
  {
   "cell_type": "code",
   "execution_count": 10,
   "metadata": {},
   "outputs": [],
   "source": [
    "def class_weight_calculator(y_train):\n",
    "        \n",
    "    '''\n",
    "    Function to calculate the class weights for the unbalanced data\n",
    "        - 'y_train': training labels (contains 0 and 1)\n",
    "    '''\n",
    "    \n",
    "    # Compute the class weights with sklearn function\n",
    "    class_weights = compute_class_weight('balanced', classes=np.unique(y_train), y=y_train)\n",
    "\n",
    "    # Convert the class weights to a dictionary\n",
    "    class_weight = dict(enumerate(class_weights))\n",
    "    return(class_weight)"
   ]
  },
  {
   "cell_type": "code",
   "execution_count": 11,
   "metadata": {},
   "outputs": [],
   "source": [
    "# Neuronal network model with one layer\n",
    "def nn_model(train_data, y_train, valid_data, y_valid, act_fun, loss_fun, alpha, class_weight_fn, balancing=True):\n",
    "    \n",
    "    '''\n",
    "    Function to create and train/validate the feed-forward neuronal network with only 1 hidden layer\n",
    "        -'train_data': X train standardized\n",
    "        -'y_train': training labels\n",
    "        -'valid_data': X validation standardized\n",
    "        -'y_valid': validation labels\n",
    "        -'act_fun': activation function\n",
    "        -'loss_fun': loss function\n",
    "        -'class_weight_calculator': function to calculate the weights for each class\n",
    "        -'balancing': True/False argument for incorporating balancing in classes\n",
    "    \n",
    "    Output:\n",
    "        -'model': neural network model trained\n",
    "        -'history': attributes obtained during fitting the model\n",
    "    '''\n",
    "    \n",
    "    # Calculation of the class weights with function previously defined\n",
    "    class_weight = class_weight_fn(y_train)\n",
    "    \n",
    "    # Normalization of the class_weight to sum 1\n",
    "    tot = class_weight[0] + class_weight[1]\n",
    "    class_weight[0] = class_weight[0]/tot\n",
    "    class_weight[1] = class_weight[1]/tot\n",
    "    \n",
    "    # Implementation of keras for creating a sequential model with 1 layer\n",
    "    tf.random.set_seed(1234)\n",
    "    from keras.layers import Dense, Dropout\n",
    "    from keras import regularizers, metrics\n",
    "    \n",
    "    model = keras.Sequential()\n",
    "    # Input layer with train_data.shape neurons and a hidden layer with 1 neuron\n",
    "    model.add(Dense(1, activation=act_fun, input_shape=train_data.shape[1:], kernel_regularizer=regularizers.l2(alpha)))\n",
    "    # Output layer with sigmoid activation (better for binary classification)\n",
    "    model.add(Dense(1, activation='sigmoid', kernel_regularizer=regularizers.l2(alpha)))\n",
    "    \n",
    "    opt = tf.keras.optimizers.Adam(learning_rate=0.0001)\n",
    "    model.compile(optimizer=opt, loss=loss_fun, metrics=\n",
    "                  ['accuracy', metrics.Precision(), metrics.Recall(), metrics.AUC(), loss_fun])\n",
    "    \n",
    "    if (balancing == True):\n",
    "        history = model.fit(train_data, y_train, epochs = 50, batch_size=128, verbose=0, class_weight=class_weight, \n",
    "                            validation_data = (valid_data, y_valid))\n",
    "    else:\n",
    "        history = model.fit(train_data, y_train, epochs = 50, batch_size=128, verbose=0, \n",
    "                            validation_data = (valid_data, y_valid))\n",
    "    \n",
    "    return(model, history)"
   ]
  },
  {
   "cell_type": "code",
   "execution_count": 12,
   "metadata": {},
   "outputs": [],
   "source": [
    "def loss_plot(loss_values):\n",
    "    \n",
    "    '''\n",
    "    Function to plot the loss curve of the training of the model\n",
    "        - 'loss_values': array with the loss values for each iteration of the training\n",
    "    '''\n",
    "    \n",
    "    plt.plot(loss_values, label = 'Train')\n",
    "    plt.title('Model loss')\n",
    "    plt.ylabel('Loss')\n",
    "    plt.xlabel('Epoch')\n",
    "    plt.legend(loc='upper right')\n",
    "    plt.show()"
   ]
  },
  {
   "cell_type": "code",
   "execution_count": 13,
   "metadata": {},
   "outputs": [],
   "source": [
    "def ROC_AUC(y_true, y_hat):\n",
    "    \n",
    "    '''\n",
    "    Function to obtain the AUC value based on the ROC curve\n",
    "        - 'y_true': y original values\n",
    "        - 'y_hat': y predicted values\n",
    "        \n",
    "    Output:\n",
    "        - 'ROC_auc': AUC value\n",
    "    '''\n",
    "    \n",
    "    fpr, tpr, _ = metrics.roc_curve(y_true, y_hat)\n",
    "    ROC_auc = metrics.auc(fpr, tpr)\n",
    "    return(ROC_auc)"
   ]
  },
  {
   "cell_type": "code",
   "execution_count": 14,
   "metadata": {},
   "outputs": [],
   "source": [
    "def PR_AUC(y_true, y_hat):\n",
    "    \n",
    "    '''\n",
    "    Function to obtain the AUC value based on the precision and recall parameters\n",
    "        - 'y_true': y original values\n",
    "        - 'y_hat': y predicted values\n",
    "        \n",
    "    Output:\n",
    "        - 'PR_auc': AUC value\n",
    "    '''\n",
    "    \n",
    "    precision, recall, thresholds = metrics.precision_recall_curve(y_true, y_hat)\n",
    "    PR_auc = metrics.auc(recall, precision)\n",
    "    return(PR_auc)"
   ]
  },
  {
   "cell_type": "code",
   "execution_count": 15,
   "metadata": {},
   "outputs": [],
   "source": [
    "# Epitope rank percentile score\n",
    "# https://github.com/Magnushhoie/discotope3/blob/main/src/models/mlscripts.py#L55\n",
    "\n",
    "def get_percentile_score_arr(\n",
    "    scores: np.array,\n",
    "    epitopes: np.array,\n",
    "):\n",
    "    \n",
    "    \"\"\"Find mean predicted epitope rank percentile score from the scores (y_hat) and the epitopes (y_true)\"\"\"\n",
    "    epitopes_bool = epitopes.astype(bool)\n",
    "    assert epitopes_bool.dtype == \"bool\"\n",
    "\n",
    "    c = scores[epitopes_bool].mean()\n",
    "    c_percentile = (c > scores).mean()\n",
    "\n",
    "    return c_percentile"
   ]
  },
  {
   "cell_type": "code",
   "execution_count": 16,
   "metadata": {},
   "outputs": [
    {
     "data": {
      "text/plain": [
       "((480297, 536), (480297,), (119792, 536), (119792,), (14084, 536), (14084,))"
      ]
     },
     "execution_count": 16,
     "metadata": {},
     "output_type": "execute_result"
    }
   ],
   "source": [
    "# Data loading for training, validation, and test data sets (needs a couple of minutes)\n",
    "X_train, y_train, X_train_PDB, y_train_PDB, X_train_af2, y_train_af2 = data_load(name_set='train', data_dir='../Data/', separate = True)\n",
    "X_valid, y_valid, X_valid_PDB, y_valid_PDB, X_valid_af2, y_valid_af2 = data_load(name_set='valid', data_dir='../Data/', separate = True)\n",
    "X_test, y_test, X_test_PDB, y_test_PDB, X_test_af2, y_test_af2 = data_load(name_set='test', data_dir='../Data/', separate = True)\n",
    "\n",
    "X_train.shape, y_train.shape, X_valid.shape, y_valid.shape, X_test.shape, y_test.shape"
   ]
  },
  {
   "cell_type": "code",
   "execution_count": 17,
   "metadata": {
    "scrolled": true
   },
   "outputs": [
    {
     "data": {
      "text/plain": [
       "((463580, 536), (463580,), (118084, 536), (118084,), (12983, 536), (12983,))"
      ]
     },
     "execution_count": 17,
     "metadata": {},
     "output_type": "execute_result"
    }
   ],
   "source": [
    "# Data manipulation to remove all PDB entries with NaN values in the RSA feature (535)\n",
    "X_train, y_train = remove_NaN(data=X_train, y=y_train)\n",
    "X_valid, y_valid = remove_NaN(data=X_valid, y=y_valid)\n",
    "X_test, y_test = remove_NaN(data=X_test, y=y_test)\n",
    "\n",
    "X_train.shape, y_train.shape, X_valid.shape, y_valid.shape, X_test.shape, y_test.shape"
   ]
  },
  {
   "cell_type": "code",
   "execution_count": 18,
   "metadata": {},
   "outputs": [
    {
     "data": {
      "text/plain": [
       "((463580, 536), (118084, 536), (12983, 536))"
      ]
     },
     "execution_count": 18,
     "metadata": {},
     "output_type": "execute_result"
    }
   ],
   "source": [
    "# Data normalization\n",
    "cols = list(range(0, 512)) + [532] + [533] + [535]\n",
    "X_train_sc, mean_X_train, sd_X_train = Z_transform_train(X_train, cols_to_select=cols)\n",
    "X_valid_sc = Z_transform_valid(X_valid, mean_X_train, sd_X_train, cols_to_select=cols)\n",
    "X_test_sc = Z_transform_valid(X_test, mean_X_train, sd_X_train, cols_to_select=cols)\n",
    "\n",
    "X_train_sc.shape, X_valid_sc.shape, X_test_sc.shape"
   ]
  },
  {
   "cell_type": "code",
   "execution_count": 19,
   "metadata": {},
   "outputs": [
    {
     "name": "stdout",
     "output_type": "stream",
     "text": [
      "Class count (train):\n",
      "\n",
      "      Total: 463580\n",
      "      Epitope label: 42458 (9.16% of total)\n"
     ]
    }
   ],
   "source": [
    "# Class unbalanced in train\n",
    "zero, one = np.bincount(y_train.astype(int))\n",
    "total = zero + one\n",
    "print(\"Class count (train):\\n\\n      Total: {}\\n      Epitope label: {} ({:.2f}% of total)\".format(total, one, 100*one/total))"
   ]
  },
  {
   "cell_type": "code",
   "execution_count": 20,
   "metadata": {},
   "outputs": [
    {
     "name": "stdout",
     "output_type": "stream",
     "text": [
      "Class count (validation):\n",
      "\n",
      "      Total: 118084\n",
      "      Epitope label: 9810 (8.31% of total)\n"
     ]
    }
   ],
   "source": [
    "# Class unbalanced in valid\n",
    "zero, one = np.bincount(y_valid.astype(int))\n",
    "total = zero + one\n",
    "print(\"Class count (validation):\\n\\n      Total: {}\\n      Epitope label: {} ({:.2f}% of total)\".format(total, one, 100*one/total))"
   ]
  },
  {
   "cell_type": "code",
   "execution_count": 21,
   "metadata": {},
   "outputs": [
    {
     "name": "stdout",
     "output_type": "stream",
     "text": [
      "Class count (test):\n",
      "\n",
      "      Total: 12983\n",
      "      Epitope label: 792 (6.10% of total)\n"
     ]
    }
   ],
   "source": [
    "# Class unbalanced in train\n",
    "zero, one = np.bincount(y_test.astype(int))\n",
    "total = zero + one\n",
    "print(\"Class count (test):\\n\\n      Total: {}\\n      Epitope label: {} ({:.2f}% of total)\".format(total, one, 100*one/total))"
   ]
  },
  {
   "cell_type": "code",
   "execution_count": 22,
   "metadata": {
    "scrolled": true
   },
   "outputs": [
    {
     "name": "stdout",
     "output_type": "stream",
     "text": [
      "Class weight implemented\n"
     ]
    },
    {
     "data": {
      "text/plain": [
       "{0: 0.09158721256309592, 1: 0.9084127874369041}"
      ]
     },
     "execution_count": 22,
     "metadata": {},
     "output_type": "execute_result"
    }
   ],
   "source": [
    "# Calculation of the class weights with function previously defined\n",
    "class_weight = class_weight_calculator(y_train)\n",
    "    \n",
    "# Normalization of the class_weight to sum 1\n",
    "tot = class_weight[0] + class_weight[1]\n",
    "class_weight[0] = class_weight[0]/tot\n",
    "class_weight[1] = class_weight[1]/tot\n",
    "    \n",
    "print(\"Class weight implemented\")\n",
    "class_weight"
   ]
  },
  {
   "cell_type": "code",
   "execution_count": 23,
   "metadata": {},
   "outputs": [
    {
     "data": {
      "text/html": [
       "<div>\n",
       "<style scoped>\n",
       "    .dataframe tbody tr th:only-of-type {\n",
       "        vertical-align: middle;\n",
       "    }\n",
       "\n",
       "    .dataframe tbody tr th {\n",
       "        vertical-align: top;\n",
       "    }\n",
       "\n",
       "    .dataframe thead th {\n",
       "        text-align: right;\n",
       "    }\n",
       "</style>\n",
       "<table border=\"1\" class=\"dataframe\">\n",
       "  <thead>\n",
       "    <tr style=\"text-align: right;\">\n",
       "      <th></th>\n",
       "      <th>0</th>\n",
       "      <th>1</th>\n",
       "      <th>2</th>\n",
       "      <th>3</th>\n",
       "      <th>4</th>\n",
       "      <th>5</th>\n",
       "      <th>6</th>\n",
       "      <th>7</th>\n",
       "      <th>8</th>\n",
       "      <th>9</th>\n",
       "      <th>...</th>\n",
       "      <th>502</th>\n",
       "      <th>503</th>\n",
       "      <th>504</th>\n",
       "      <th>505</th>\n",
       "      <th>506</th>\n",
       "      <th>507</th>\n",
       "      <th>508</th>\n",
       "      <th>509</th>\n",
       "      <th>510</th>\n",
       "      <th>511</th>\n",
       "    </tr>\n",
       "  </thead>\n",
       "  <tbody>\n",
       "    <tr>\n",
       "      <th>count</th>\n",
       "      <td>4.635800e+05</td>\n",
       "      <td>4.635800e+05</td>\n",
       "      <td>4.635800e+05</td>\n",
       "      <td>4.635800e+05</td>\n",
       "      <td>4.635800e+05</td>\n",
       "      <td>4.635800e+05</td>\n",
       "      <td>4.635800e+05</td>\n",
       "      <td>4.635800e+05</td>\n",
       "      <td>4.635800e+05</td>\n",
       "      <td>4.635800e+05</td>\n",
       "      <td>...</td>\n",
       "      <td>4.635800e+05</td>\n",
       "      <td>4.635800e+05</td>\n",
       "      <td>4.635800e+05</td>\n",
       "      <td>4.635800e+05</td>\n",
       "      <td>4.635800e+05</td>\n",
       "      <td>4.635800e+05</td>\n",
       "      <td>4.635800e+05</td>\n",
       "      <td>4.635800e+05</td>\n",
       "      <td>4.635800e+05</td>\n",
       "      <td>4.635800e+05</td>\n",
       "    </tr>\n",
       "    <tr>\n",
       "      <th>mean</th>\n",
       "      <td>-2.553527e-17</td>\n",
       "      <td>-3.387332e-17</td>\n",
       "      <td>-9.318995e-18</td>\n",
       "      <td>1.514337e-17</td>\n",
       "      <td>3.923787e-18</td>\n",
       "      <td>3.066992e-17</td>\n",
       "      <td>-2.452367e-19</td>\n",
       "      <td>7.491982e-17</td>\n",
       "      <td>-1.434635e-17</td>\n",
       "      <td>-5.885681e-18</td>\n",
       "      <td>...</td>\n",
       "      <td>-2.532069e-17</td>\n",
       "      <td>2.207130e-18</td>\n",
       "      <td>4.460243e-18</td>\n",
       "      <td>-4.855687e-17</td>\n",
       "      <td>2.035465e-17</td>\n",
       "      <td>3.709205e-17</td>\n",
       "      <td>1.348802e-17</td>\n",
       "      <td>-6.854366e-17</td>\n",
       "      <td>2.489153e-17</td>\n",
       "      <td>6.241274e-17</td>\n",
       "    </tr>\n",
       "    <tr>\n",
       "      <th>std</th>\n",
       "      <td>1.000001e+00</td>\n",
       "      <td>1.000001e+00</td>\n",
       "      <td>1.000001e+00</td>\n",
       "      <td>1.000001e+00</td>\n",
       "      <td>1.000001e+00</td>\n",
       "      <td>1.000001e+00</td>\n",
       "      <td>1.000001e+00</td>\n",
       "      <td>1.000001e+00</td>\n",
       "      <td>1.000001e+00</td>\n",
       "      <td>1.000001e+00</td>\n",
       "      <td>...</td>\n",
       "      <td>1.000001e+00</td>\n",
       "      <td>1.000001e+00</td>\n",
       "      <td>1.000001e+00</td>\n",
       "      <td>1.000001e+00</td>\n",
       "      <td>1.000001e+00</td>\n",
       "      <td>1.000001e+00</td>\n",
       "      <td>1.000001e+00</td>\n",
       "      <td>1.000001e+00</td>\n",
       "      <td>1.000001e+00</td>\n",
       "      <td>1.000001e+00</td>\n",
       "    </tr>\n",
       "    <tr>\n",
       "      <th>min</th>\n",
       "      <td>-3.071463e+00</td>\n",
       "      <td>-3.860723e+00</td>\n",
       "      <td>-4.101170e+00</td>\n",
       "      <td>-3.348363e+00</td>\n",
       "      <td>-3.884329e+00</td>\n",
       "      <td>-3.114238e+00</td>\n",
       "      <td>-5.218233e+00</td>\n",
       "      <td>-5.340275e+00</td>\n",
       "      <td>-3.068301e+00</td>\n",
       "      <td>-4.963747e+00</td>\n",
       "      <td>...</td>\n",
       "      <td>-5.075425e+00</td>\n",
       "      <td>-5.308628e+00</td>\n",
       "      <td>-3.635613e+00</td>\n",
       "      <td>-4.925107e+00</td>\n",
       "      <td>-5.022229e+00</td>\n",
       "      <td>-4.797952e+00</td>\n",
       "      <td>-5.065527e+00</td>\n",
       "      <td>-3.801653e+00</td>\n",
       "      <td>-5.965366e+00</td>\n",
       "      <td>-5.051718e+00</td>\n",
       "    </tr>\n",
       "    <tr>\n",
       "      <th>25%</th>\n",
       "      <td>-8.931421e-01</td>\n",
       "      <td>-7.858756e-01</td>\n",
       "      <td>-7.698285e-01</td>\n",
       "      <td>-8.429507e-01</td>\n",
       "      <td>-7.420640e-01</td>\n",
       "      <td>-8.461446e-01</td>\n",
       "      <td>-6.637493e-01</td>\n",
       "      <td>-6.545336e-01</td>\n",
       "      <td>-8.725848e-01</td>\n",
       "      <td>-6.639516e-01</td>\n",
       "      <td>...</td>\n",
       "      <td>-6.508863e-01</td>\n",
       "      <td>-6.432483e-01</td>\n",
       "      <td>-7.187917e-01</td>\n",
       "      <td>-6.614283e-01</td>\n",
       "      <td>-6.548149e-01</td>\n",
       "      <td>-6.635442e-01</td>\n",
       "      <td>-6.400970e-01</td>\n",
       "      <td>-6.935780e-01</td>\n",
       "      <td>-6.686149e-01</td>\n",
       "      <td>-6.505205e-01</td>\n",
       "    </tr>\n",
       "    <tr>\n",
       "      <th>50%</th>\n",
       "      <td>-5.522672e-03</td>\n",
       "      <td>9.921585e-03</td>\n",
       "      <td>1.626748e-02</td>\n",
       "      <td>-1.835506e-02</td>\n",
       "      <td>-2.410262e-03</td>\n",
       "      <td>1.374349e-02</td>\n",
       "      <td>1.410021e-02</td>\n",
       "      <td>2.610207e-02</td>\n",
       "      <td>-1.533245e-02</td>\n",
       "      <td>4.441873e-03</td>\n",
       "      <td>...</td>\n",
       "      <td>1.615215e-02</td>\n",
       "      <td>3.747167e-02</td>\n",
       "      <td>-4.836494e-02</td>\n",
       "      <td>1.372663e-03</td>\n",
       "      <td>-6.485262e-03</td>\n",
       "      <td>-6.056064e-04</td>\n",
       "      <td>1.978971e-02</td>\n",
       "      <td>3.698102e-02</td>\n",
       "      <td>-6.737442e-03</td>\n",
       "      <td>-9.180802e-03</td>\n",
       "    </tr>\n",
       "    <tr>\n",
       "      <th>75%</th>\n",
       "      <td>8.907820e-01</td>\n",
       "      <td>7.919898e-01</td>\n",
       "      <td>8.087916e-01</td>\n",
       "      <td>8.340961e-01</td>\n",
       "      <td>7.381488e-01</td>\n",
       "      <td>8.601145e-01</td>\n",
       "      <td>6.723804e-01</td>\n",
       "      <td>6.834407e-01</td>\n",
       "      <td>8.567498e-01</td>\n",
       "      <td>6.680017e-01</td>\n",
       "      <td>...</td>\n",
       "      <td>6.791347e-01</td>\n",
       "      <td>6.846305e-01</td>\n",
       "      <td>6.969192e-01</td>\n",
       "      <td>6.604217e-01</td>\n",
       "      <td>6.410500e-01</td>\n",
       "      <td>6.545994e-01</td>\n",
       "      <td>6.587453e-01</td>\n",
       "      <td>7.099541e-01</td>\n",
       "      <td>6.664102e-01</td>\n",
       "      <td>6.467810e-01</td>\n",
       "    </tr>\n",
       "    <tr>\n",
       "      <th>max</th>\n",
       "      <td>3.043463e+00</td>\n",
       "      <td>3.371167e+00</td>\n",
       "      <td>3.373165e+00</td>\n",
       "      <td>4.005215e+00</td>\n",
       "      <td>4.827443e+00</td>\n",
       "      <td>3.506278e+00</td>\n",
       "      <td>5.310732e+00</td>\n",
       "      <td>4.068468e+00</td>\n",
       "      <td>2.956313e+00</td>\n",
       "      <td>5.245353e+00</td>\n",
       "      <td>...</td>\n",
       "      <td>5.525496e+00</td>\n",
       "      <td>4.583018e+00</td>\n",
       "      <td>3.904853e+00</td>\n",
       "      <td>5.123403e+00</td>\n",
       "      <td>4.920964e+00</td>\n",
       "      <td>4.986934e+00</td>\n",
       "      <td>5.428300e+00</td>\n",
       "      <td>4.080605e+00</td>\n",
       "      <td>4.723869e+00</td>\n",
       "      <td>4.780615e+00</td>\n",
       "    </tr>\n",
       "  </tbody>\n",
       "</table>\n",
       "<p>8 rows × 512 columns</p>\n",
       "</div>"
      ],
      "text/plain": [
       "                0             1             2             3             4    \\\n",
       "count  4.635800e+05  4.635800e+05  4.635800e+05  4.635800e+05  4.635800e+05   \n",
       "mean  -2.553527e-17 -3.387332e-17 -9.318995e-18  1.514337e-17  3.923787e-18   \n",
       "std    1.000001e+00  1.000001e+00  1.000001e+00  1.000001e+00  1.000001e+00   \n",
       "min   -3.071463e+00 -3.860723e+00 -4.101170e+00 -3.348363e+00 -3.884329e+00   \n",
       "25%   -8.931421e-01 -7.858756e-01 -7.698285e-01 -8.429507e-01 -7.420640e-01   \n",
       "50%   -5.522672e-03  9.921585e-03  1.626748e-02 -1.835506e-02 -2.410262e-03   \n",
       "75%    8.907820e-01  7.919898e-01  8.087916e-01  8.340961e-01  7.381488e-01   \n",
       "max    3.043463e+00  3.371167e+00  3.373165e+00  4.005215e+00  4.827443e+00   \n",
       "\n",
       "                5             6             7             8             9    \\\n",
       "count  4.635800e+05  4.635800e+05  4.635800e+05  4.635800e+05  4.635800e+05   \n",
       "mean   3.066992e-17 -2.452367e-19  7.491982e-17 -1.434635e-17 -5.885681e-18   \n",
       "std    1.000001e+00  1.000001e+00  1.000001e+00  1.000001e+00  1.000001e+00   \n",
       "min   -3.114238e+00 -5.218233e+00 -5.340275e+00 -3.068301e+00 -4.963747e+00   \n",
       "25%   -8.461446e-01 -6.637493e-01 -6.545336e-01 -8.725848e-01 -6.639516e-01   \n",
       "50%    1.374349e-02  1.410021e-02  2.610207e-02 -1.533245e-02  4.441873e-03   \n",
       "75%    8.601145e-01  6.723804e-01  6.834407e-01  8.567498e-01  6.680017e-01   \n",
       "max    3.506278e+00  5.310732e+00  4.068468e+00  2.956313e+00  5.245353e+00   \n",
       "\n",
       "       ...           502           503           504           505  \\\n",
       "count  ...  4.635800e+05  4.635800e+05  4.635800e+05  4.635800e+05   \n",
       "mean   ... -2.532069e-17  2.207130e-18  4.460243e-18 -4.855687e-17   \n",
       "std    ...  1.000001e+00  1.000001e+00  1.000001e+00  1.000001e+00   \n",
       "min    ... -5.075425e+00 -5.308628e+00 -3.635613e+00 -4.925107e+00   \n",
       "25%    ... -6.508863e-01 -6.432483e-01 -7.187917e-01 -6.614283e-01   \n",
       "50%    ...  1.615215e-02  3.747167e-02 -4.836494e-02  1.372663e-03   \n",
       "75%    ...  6.791347e-01  6.846305e-01  6.969192e-01  6.604217e-01   \n",
       "max    ...  5.525496e+00  4.583018e+00  3.904853e+00  5.123403e+00   \n",
       "\n",
       "                506           507           508           509           510  \\\n",
       "count  4.635800e+05  4.635800e+05  4.635800e+05  4.635800e+05  4.635800e+05   \n",
       "mean   2.035465e-17  3.709205e-17  1.348802e-17 -6.854366e-17  2.489153e-17   \n",
       "std    1.000001e+00  1.000001e+00  1.000001e+00  1.000001e+00  1.000001e+00   \n",
       "min   -5.022229e+00 -4.797952e+00 -5.065527e+00 -3.801653e+00 -5.965366e+00   \n",
       "25%   -6.548149e-01 -6.635442e-01 -6.400970e-01 -6.935780e-01 -6.686149e-01   \n",
       "50%   -6.485262e-03 -6.056064e-04  1.978971e-02  3.698102e-02 -6.737442e-03   \n",
       "75%    6.410500e-01  6.545994e-01  6.587453e-01  7.099541e-01  6.664102e-01   \n",
       "max    4.920964e+00  4.986934e+00  5.428300e+00  4.080605e+00  4.723869e+00   \n",
       "\n",
       "                511  \n",
       "count  4.635800e+05  \n",
       "mean   6.241274e-17  \n",
       "std    1.000001e+00  \n",
       "min   -5.051718e+00  \n",
       "25%   -6.505205e-01  \n",
       "50%   -9.180802e-03  \n",
       "75%    6.467810e-01  \n",
       "max    4.780615e+00  \n",
       "\n",
       "[8 rows x 512 columns]"
      ]
     },
     "execution_count": 23,
     "metadata": {},
     "output_type": "execute_result"
    }
   ],
   "source": [
    "# Checking standarization on numerical features\n",
    "pd.DataFrame(X_train_sc[:, 0:512]).describe()"
   ]
  },
  {
   "cell_type": "code",
   "execution_count": 24,
   "metadata": {},
   "outputs": [
    {
     "data": {
      "text/html": [
       "<div>\n",
       "<style scoped>\n",
       "    .dataframe tbody tr th:only-of-type {\n",
       "        vertical-align: middle;\n",
       "    }\n",
       "\n",
       "    .dataframe tbody tr th {\n",
       "        vertical-align: top;\n",
       "    }\n",
       "\n",
       "    .dataframe thead th {\n",
       "        text-align: right;\n",
       "    }\n",
       "</style>\n",
       "<table border=\"1\" class=\"dataframe\">\n",
       "  <thead>\n",
       "    <tr style=\"text-align: right;\">\n",
       "      <th></th>\n",
       "      <th>0</th>\n",
       "      <th>1</th>\n",
       "      <th>2</th>\n",
       "    </tr>\n",
       "  </thead>\n",
       "  <tbody>\n",
       "    <tr>\n",
       "      <th>count</th>\n",
       "      <td>4.635800e+05</td>\n",
       "      <td>4.635800e+05</td>\n",
       "      <td>4.635800e+05</td>\n",
       "    </tr>\n",
       "    <tr>\n",
       "      <th>mean</th>\n",
       "      <td>-3.543180e-15</td>\n",
       "      <td>3.335219e-17</td>\n",
       "      <td>2.593378e-16</td>\n",
       "    </tr>\n",
       "    <tr>\n",
       "      <th>std</th>\n",
       "      <td>1.000001e+00</td>\n",
       "      <td>1.000001e+00</td>\n",
       "      <td>1.000001e+00</td>\n",
       "    </tr>\n",
       "    <tr>\n",
       "      <th>min</th>\n",
       "      <td>-7.278774e+00</td>\n",
       "      <td>-1.626634e+00</td>\n",
       "      <td>-1.183899e+00</td>\n",
       "    </tr>\n",
       "    <tr>\n",
       "      <th>25%</th>\n",
       "      <td>-4.618117e-02</td>\n",
       "      <td>-7.544124e-01</td>\n",
       "      <td>-9.338628e-01</td>\n",
       "    </tr>\n",
       "    <tr>\n",
       "      <th>50%</th>\n",
       "      <td>3.882958e-01</td>\n",
       "      <td>-1.398924e-01</td>\n",
       "      <td>-1.502753e-01</td>\n",
       "    </tr>\n",
       "    <tr>\n",
       "      <th>75%</th>\n",
       "      <td>5.215354e-01</td>\n",
       "      <td>5.473127e-01</td>\n",
       "      <td>7.260659e-01</td>\n",
       "    </tr>\n",
       "    <tr>\n",
       "      <th>max</th>\n",
       "      <td>5.215354e-01</td>\n",
       "      <td>4.234432e+00</td>\n",
       "      <td>4.917271e+00</td>\n",
       "    </tr>\n",
       "  </tbody>\n",
       "</table>\n",
       "</div>"
      ],
      "text/plain": [
       "                  0             1             2\n",
       "count  4.635800e+05  4.635800e+05  4.635800e+05\n",
       "mean  -3.543180e-15  3.335219e-17  2.593378e-16\n",
       "std    1.000001e+00  1.000001e+00  1.000001e+00\n",
       "min   -7.278774e+00 -1.626634e+00 -1.183899e+00\n",
       "25%   -4.618117e-02 -7.544124e-01 -9.338628e-01\n",
       "50%    3.882958e-01 -1.398924e-01 -1.502753e-01\n",
       "75%    5.215354e-01  5.473127e-01  7.260659e-01\n",
       "max    5.215354e-01  4.234432e+00  4.917271e+00"
      ]
     },
     "execution_count": 24,
     "metadata": {},
     "output_type": "execute_result"
    }
   ],
   "source": [
    "# Checking standarization on numerical features\n",
    "pd.DataFrame(X_train_sc[:, [532,533,535]]).describe()"
   ]
  },
  {
   "cell_type": "code",
   "execution_count": 25,
   "metadata": {},
   "outputs": [
    {
     "name": "stdout",
     "output_type": "stream",
     "text": [
      "Unique values: [0. 1.]\n",
      "Unique values: [0. 1.]\n",
      "Unique values: [0. 1.]\n",
      "Unique values: [0. 1.]\n",
      "Unique values: [0. 1.]\n",
      "Unique values: [0. 1.]\n",
      "Unique values: [0. 1.]\n",
      "Unique values: [0. 1.]\n",
      "Unique values: [0. 1.]\n",
      "Unique values: [0. 1.]\n",
      "Unique values: [0. 1.]\n",
      "Unique values: [0. 1.]\n",
      "Unique values: [0. 1.]\n",
      "Unique values: [0. 1.]\n",
      "Unique values: [0. 1.]\n",
      "Unique values: [0. 1.]\n",
      "Unique values: [0. 1.]\n",
      "Unique values: [0. 1.]\n",
      "Unique values: [0. 1.]\n",
      "Unique values: [0. 1.]\n"
     ]
    },
    {
     "data": {
      "text/html": [
       "<div>\n",
       "<style scoped>\n",
       "    .dataframe tbody tr th:only-of-type {\n",
       "        vertical-align: middle;\n",
       "    }\n",
       "\n",
       "    .dataframe tbody tr th {\n",
       "        vertical-align: top;\n",
       "    }\n",
       "\n",
       "    .dataframe thead th {\n",
       "        text-align: right;\n",
       "    }\n",
       "</style>\n",
       "<table border=\"1\" class=\"dataframe\">\n",
       "  <thead>\n",
       "    <tr style=\"text-align: right;\">\n",
       "      <th></th>\n",
       "      <th>0</th>\n",
       "      <th>1</th>\n",
       "      <th>2</th>\n",
       "      <th>3</th>\n",
       "      <th>4</th>\n",
       "      <th>5</th>\n",
       "      <th>6</th>\n",
       "      <th>7</th>\n",
       "      <th>8</th>\n",
       "      <th>9</th>\n",
       "      <th>10</th>\n",
       "      <th>11</th>\n",
       "      <th>12</th>\n",
       "      <th>13</th>\n",
       "      <th>14</th>\n",
       "      <th>15</th>\n",
       "      <th>16</th>\n",
       "      <th>17</th>\n",
       "      <th>18</th>\n",
       "      <th>19</th>\n",
       "    </tr>\n",
       "  </thead>\n",
       "  <tbody>\n",
       "    <tr>\n",
       "      <th>count</th>\n",
       "      <td>463580.000000</td>\n",
       "      <td>463580.000000</td>\n",
       "      <td>463580.000000</td>\n",
       "      <td>463580.000000</td>\n",
       "      <td>463580.000000</td>\n",
       "      <td>463580.000000</td>\n",
       "      <td>463580.000000</td>\n",
       "      <td>463580.000000</td>\n",
       "      <td>463580.000000</td>\n",
       "      <td>463580.000000</td>\n",
       "      <td>463580.000000</td>\n",
       "      <td>463580.000000</td>\n",
       "      <td>463580.000000</td>\n",
       "      <td>463580.000000</td>\n",
       "      <td>463580.000000</td>\n",
       "      <td>463580.000000</td>\n",
       "      <td>463580.000000</td>\n",
       "      <td>463580.000000</td>\n",
       "      <td>463580.000000</td>\n",
       "      <td>463580.000000</td>\n",
       "    </tr>\n",
       "    <tr>\n",
       "      <th>mean</th>\n",
       "      <td>0.060393</td>\n",
       "      <td>0.031884</td>\n",
       "      <td>0.050382</td>\n",
       "      <td>0.055775</td>\n",
       "      <td>0.044398</td>\n",
       "      <td>0.069789</td>\n",
       "      <td>0.022691</td>\n",
       "      <td>0.058219</td>\n",
       "      <td>0.056284</td>\n",
       "      <td>0.083662</td>\n",
       "      <td>0.017123</td>\n",
       "      <td>0.058734</td>\n",
       "      <td>0.049187</td>\n",
       "      <td>0.038086</td>\n",
       "      <td>0.044156</td>\n",
       "      <td>0.068722</td>\n",
       "      <td>0.064213</td>\n",
       "      <td>0.069097</td>\n",
       "      <td>0.018299</td>\n",
       "      <td>0.038906</td>\n",
       "    </tr>\n",
       "    <tr>\n",
       "      <th>std</th>\n",
       "      <td>0.238214</td>\n",
       "      <td>0.175693</td>\n",
       "      <td>0.218732</td>\n",
       "      <td>0.229486</td>\n",
       "      <td>0.205978</td>\n",
       "      <td>0.254792</td>\n",
       "      <td>0.148916</td>\n",
       "      <td>0.234157</td>\n",
       "      <td>0.230469</td>\n",
       "      <td>0.276880</td>\n",
       "      <td>0.129731</td>\n",
       "      <td>0.235127</td>\n",
       "      <td>0.216258</td>\n",
       "      <td>0.191405</td>\n",
       "      <td>0.205443</td>\n",
       "      <td>0.252981</td>\n",
       "      <td>0.245133</td>\n",
       "      <td>0.253619</td>\n",
       "      <td>0.134030</td>\n",
       "      <td>0.193371</td>\n",
       "    </tr>\n",
       "    <tr>\n",
       "      <th>min</th>\n",
       "      <td>0.000000</td>\n",
       "      <td>0.000000</td>\n",
       "      <td>0.000000</td>\n",
       "      <td>0.000000</td>\n",
       "      <td>0.000000</td>\n",
       "      <td>0.000000</td>\n",
       "      <td>0.000000</td>\n",
       "      <td>0.000000</td>\n",
       "      <td>0.000000</td>\n",
       "      <td>0.000000</td>\n",
       "      <td>0.000000</td>\n",
       "      <td>0.000000</td>\n",
       "      <td>0.000000</td>\n",
       "      <td>0.000000</td>\n",
       "      <td>0.000000</td>\n",
       "      <td>0.000000</td>\n",
       "      <td>0.000000</td>\n",
       "      <td>0.000000</td>\n",
       "      <td>0.000000</td>\n",
       "      <td>0.000000</td>\n",
       "    </tr>\n",
       "    <tr>\n",
       "      <th>25%</th>\n",
       "      <td>0.000000</td>\n",
       "      <td>0.000000</td>\n",
       "      <td>0.000000</td>\n",
       "      <td>0.000000</td>\n",
       "      <td>0.000000</td>\n",
       "      <td>0.000000</td>\n",
       "      <td>0.000000</td>\n",
       "      <td>0.000000</td>\n",
       "      <td>0.000000</td>\n",
       "      <td>0.000000</td>\n",
       "      <td>0.000000</td>\n",
       "      <td>0.000000</td>\n",
       "      <td>0.000000</td>\n",
       "      <td>0.000000</td>\n",
       "      <td>0.000000</td>\n",
       "      <td>0.000000</td>\n",
       "      <td>0.000000</td>\n",
       "      <td>0.000000</td>\n",
       "      <td>0.000000</td>\n",
       "      <td>0.000000</td>\n",
       "    </tr>\n",
       "    <tr>\n",
       "      <th>50%</th>\n",
       "      <td>0.000000</td>\n",
       "      <td>0.000000</td>\n",
       "      <td>0.000000</td>\n",
       "      <td>0.000000</td>\n",
       "      <td>0.000000</td>\n",
       "      <td>0.000000</td>\n",
       "      <td>0.000000</td>\n",
       "      <td>0.000000</td>\n",
       "      <td>0.000000</td>\n",
       "      <td>0.000000</td>\n",
       "      <td>0.000000</td>\n",
       "      <td>0.000000</td>\n",
       "      <td>0.000000</td>\n",
       "      <td>0.000000</td>\n",
       "      <td>0.000000</td>\n",
       "      <td>0.000000</td>\n",
       "      <td>0.000000</td>\n",
       "      <td>0.000000</td>\n",
       "      <td>0.000000</td>\n",
       "      <td>0.000000</td>\n",
       "    </tr>\n",
       "    <tr>\n",
       "      <th>75%</th>\n",
       "      <td>0.000000</td>\n",
       "      <td>0.000000</td>\n",
       "      <td>0.000000</td>\n",
       "      <td>0.000000</td>\n",
       "      <td>0.000000</td>\n",
       "      <td>0.000000</td>\n",
       "      <td>0.000000</td>\n",
       "      <td>0.000000</td>\n",
       "      <td>0.000000</td>\n",
       "      <td>0.000000</td>\n",
       "      <td>0.000000</td>\n",
       "      <td>0.000000</td>\n",
       "      <td>0.000000</td>\n",
       "      <td>0.000000</td>\n",
       "      <td>0.000000</td>\n",
       "      <td>0.000000</td>\n",
       "      <td>0.000000</td>\n",
       "      <td>0.000000</td>\n",
       "      <td>0.000000</td>\n",
       "      <td>0.000000</td>\n",
       "    </tr>\n",
       "    <tr>\n",
       "      <th>max</th>\n",
       "      <td>1.000000</td>\n",
       "      <td>1.000000</td>\n",
       "      <td>1.000000</td>\n",
       "      <td>1.000000</td>\n",
       "      <td>1.000000</td>\n",
       "      <td>1.000000</td>\n",
       "      <td>1.000000</td>\n",
       "      <td>1.000000</td>\n",
       "      <td>1.000000</td>\n",
       "      <td>1.000000</td>\n",
       "      <td>1.000000</td>\n",
       "      <td>1.000000</td>\n",
       "      <td>1.000000</td>\n",
       "      <td>1.000000</td>\n",
       "      <td>1.000000</td>\n",
       "      <td>1.000000</td>\n",
       "      <td>1.000000</td>\n",
       "      <td>1.000000</td>\n",
       "      <td>1.000000</td>\n",
       "      <td>1.000000</td>\n",
       "    </tr>\n",
       "  </tbody>\n",
       "</table>\n",
       "</div>"
      ],
      "text/plain": [
       "                  0              1              2              3   \\\n",
       "count  463580.000000  463580.000000  463580.000000  463580.000000   \n",
       "mean        0.060393       0.031884       0.050382       0.055775   \n",
       "std         0.238214       0.175693       0.218732       0.229486   \n",
       "min         0.000000       0.000000       0.000000       0.000000   \n",
       "25%         0.000000       0.000000       0.000000       0.000000   \n",
       "50%         0.000000       0.000000       0.000000       0.000000   \n",
       "75%         0.000000       0.000000       0.000000       0.000000   \n",
       "max         1.000000       1.000000       1.000000       1.000000   \n",
       "\n",
       "                  4              5              6              7   \\\n",
       "count  463580.000000  463580.000000  463580.000000  463580.000000   \n",
       "mean        0.044398       0.069789       0.022691       0.058219   \n",
       "std         0.205978       0.254792       0.148916       0.234157   \n",
       "min         0.000000       0.000000       0.000000       0.000000   \n",
       "25%         0.000000       0.000000       0.000000       0.000000   \n",
       "50%         0.000000       0.000000       0.000000       0.000000   \n",
       "75%         0.000000       0.000000       0.000000       0.000000   \n",
       "max         1.000000       1.000000       1.000000       1.000000   \n",
       "\n",
       "                  8              9              10             11  \\\n",
       "count  463580.000000  463580.000000  463580.000000  463580.000000   \n",
       "mean        0.056284       0.083662       0.017123       0.058734   \n",
       "std         0.230469       0.276880       0.129731       0.235127   \n",
       "min         0.000000       0.000000       0.000000       0.000000   \n",
       "25%         0.000000       0.000000       0.000000       0.000000   \n",
       "50%         0.000000       0.000000       0.000000       0.000000   \n",
       "75%         0.000000       0.000000       0.000000       0.000000   \n",
       "max         1.000000       1.000000       1.000000       1.000000   \n",
       "\n",
       "                  12             13             14             15  \\\n",
       "count  463580.000000  463580.000000  463580.000000  463580.000000   \n",
       "mean        0.049187       0.038086       0.044156       0.068722   \n",
       "std         0.216258       0.191405       0.205443       0.252981   \n",
       "min         0.000000       0.000000       0.000000       0.000000   \n",
       "25%         0.000000       0.000000       0.000000       0.000000   \n",
       "50%         0.000000       0.000000       0.000000       0.000000   \n",
       "75%         0.000000       0.000000       0.000000       0.000000   \n",
       "max         1.000000       1.000000       1.000000       1.000000   \n",
       "\n",
       "                  16             17             18             19  \n",
       "count  463580.000000  463580.000000  463580.000000  463580.000000  \n",
       "mean        0.064213       0.069097       0.018299       0.038906  \n",
       "std         0.245133       0.253619       0.134030       0.193371  \n",
       "min         0.000000       0.000000       0.000000       0.000000  \n",
       "25%         0.000000       0.000000       0.000000       0.000000  \n",
       "50%         0.000000       0.000000       0.000000       0.000000  \n",
       "75%         0.000000       0.000000       0.000000       0.000000  \n",
       "max         1.000000       1.000000       1.000000       1.000000  "
      ]
     },
     "execution_count": 25,
     "metadata": {},
     "output_type": "execute_result"
    }
   ],
   "source": [
    "# Checking not standarization on categorical features\n",
    "for i in range(512, 532, 1):\n",
    "    print('Unique values:', np.unique(X_train_sc[:, i]))\n",
    "pd.DataFrame(X_train_sc[:, 512:532]).describe()"
   ]
  },
  {
   "cell_type": "code",
   "execution_count": 26,
   "metadata": {},
   "outputs": [
    {
     "name": "stdout",
     "output_type": "stream",
     "text": [
      "Unique values: [0. 1.]\n"
     ]
    },
    {
     "data": {
      "text/html": [
       "<div>\n",
       "<style scoped>\n",
       "    .dataframe tbody tr th:only-of-type {\n",
       "        vertical-align: middle;\n",
       "    }\n",
       "\n",
       "    .dataframe tbody tr th {\n",
       "        vertical-align: top;\n",
       "    }\n",
       "\n",
       "    .dataframe thead th {\n",
       "        text-align: right;\n",
       "    }\n",
       "</style>\n",
       "<table border=\"1\" class=\"dataframe\">\n",
       "  <thead>\n",
       "    <tr style=\"text-align: right;\">\n",
       "      <th></th>\n",
       "      <th>0</th>\n",
       "    </tr>\n",
       "  </thead>\n",
       "  <tbody>\n",
       "    <tr>\n",
       "      <th>count</th>\n",
       "      <td>463580.000000</td>\n",
       "    </tr>\n",
       "    <tr>\n",
       "      <th>mean</th>\n",
       "      <td>0.518152</td>\n",
       "    </tr>\n",
       "    <tr>\n",
       "      <th>std</th>\n",
       "      <td>0.499671</td>\n",
       "    </tr>\n",
       "    <tr>\n",
       "      <th>min</th>\n",
       "      <td>0.000000</td>\n",
       "    </tr>\n",
       "    <tr>\n",
       "      <th>25%</th>\n",
       "      <td>0.000000</td>\n",
       "    </tr>\n",
       "    <tr>\n",
       "      <th>50%</th>\n",
       "      <td>1.000000</td>\n",
       "    </tr>\n",
       "    <tr>\n",
       "      <th>75%</th>\n",
       "      <td>1.000000</td>\n",
       "    </tr>\n",
       "    <tr>\n",
       "      <th>max</th>\n",
       "      <td>1.000000</td>\n",
       "    </tr>\n",
       "  </tbody>\n",
       "</table>\n",
       "</div>"
      ],
      "text/plain": [
       "                   0\n",
       "count  463580.000000\n",
       "mean        0.518152\n",
       "std         0.499671\n",
       "min         0.000000\n",
       "25%         0.000000\n",
       "50%         1.000000\n",
       "75%         1.000000\n",
       "max         1.000000"
      ]
     },
     "execution_count": 26,
     "metadata": {},
     "output_type": "execute_result"
    }
   ],
   "source": [
    "# Checking not standarization on categorical features\n",
    "print('Unique values:', np.unique(X_train_sc[:, 534]))\n",
    "pd.DataFrame(X_train_sc[:, 534]).describe()"
   ]
  },
  {
   "cell_type": "markdown",
   "metadata": {},
   "source": [
    "## Dataframe creation for each standarized set"
   ]
  },
  {
   "cell_type": "code",
   "execution_count": 27,
   "metadata": {},
   "outputs": [],
   "source": [
    "# Feature names creation\n",
    "feature_names = []\n",
    "for i in range(0, 512, 1):\n",
    "    feature_names.append('IF_tensor_' + str(i))\n",
    "for i in range(0, 20, 1):\n",
    "    feature_names.append('Sequence_' + str(i))\n",
    "feature_names.append('pLDDTs')\n",
    "feature_names.append('Length')\n",
    "feature_names.append('Struct_type')\n",
    "feature_names.append('RSA')\n",
    "feature_names.append('Epitope(y)')\n",
    "\n",
    "# Dataframe creation\n",
    "X_train_sc_df = pd.DataFrame(np.hstack((X_train_sc, np.expand_dims(y_train, axis=1))), columns=np.array(feature_names))\n",
    "X_valid_sc_df = pd.DataFrame(np.hstack((X_valid_sc, np.expand_dims(y_valid, axis=1))), columns=np.array(feature_names))\n",
    "X_test_sc_df = pd.DataFrame(np.hstack((X_test_sc, np.expand_dims(y_test, axis=1))), columns=np.array(feature_names))\n",
    "\n",
    "# Export in csv\n",
    "X_train_sc_df.to_csv('Train_DiscoTope_sc.csv', index=False)\n",
    "X_valid_sc_df.to_csv('Validation_DiscoTope_sc.csv', index=False)\n",
    "X_test_sc_df.to_csv('Test_DiscoTope_sc.csv', index=False)"
   ]
  },
  {
   "cell_type": "markdown",
   "metadata": {},
   "source": [
    "## AUC-Feature calculation"
   ]
  },
  {
   "cell_type": "code",
   "execution_count": 28,
   "metadata": {},
   "outputs": [],
   "source": [
    "# Nº of observations and features\n",
    "[n, p] = X_train.shape\n",
    "\n",
    "# Empyt AUC-feature array relationship\n",
    "AUC_feature = np.zeros(p)\n",
    "\n",
    "# Loop for calculating AUC values for each feature\n",
    "from sklearn.metrics import roc_auc_score\n",
    "for i in range(p):\n",
    "    AUC_feature[i] = roc_auc_score(y_train, X_train_sc[:,i])"
   ]
  },
  {
   "cell_type": "code",
   "execution_count": 29,
   "metadata": {
    "scrolled": true
   },
   "outputs": [
    {
     "name": "stdout",
     "output_type": "stream",
     "text": [
      "Feature 0 (IF_tensor): 0.5082097343365479\n",
      "Feature 1 (IF_tensor): 0.5103230893415124\n",
      "Feature 2 (IF_tensor): 0.5060767449892062\n",
      "Feature 3 (IF_tensor): 0.4836112394401718\n",
      "Feature 4 (IF_tensor): 0.49597115754713295\n",
      "Feature 5 (IF_tensor): 0.5043962369036693\n",
      "Feature 6 (IF_tensor): 0.5163319269960298\n",
      "Feature 7 (IF_tensor): 0.5003004872280893\n",
      "Feature 8 (IF_tensor): 0.4868066305915707\n",
      "Feature 9 (IF_tensor): 0.481757448140538\n",
      "Feature 10 (IF_tensor): 0.5070861052601167\n",
      "Feature 11 (IF_tensor): 0.49130084644983213\n",
      "Feature 12 (IF_tensor): 0.47885768012269087\n",
      "Feature 13 (IF_tensor): 0.4901916828672893\n",
      "Feature 14 (IF_tensor): 0.5066941173779813\n",
      "Feature 15 (IF_tensor): 0.48361137677240285\n",
      "Feature 16 (IF_tensor): 0.5056614291400937\n",
      "Feature 17 (IF_tensor): 0.48833315468230537\n",
      "Feature 18 (IF_tensor): 0.4779157948597958\n",
      "Feature 19 (IF_tensor): 0.4982734780946794\n",
      "Feature 20 (IF_tensor): 0.4900286705157101\n",
      "Feature 21 (IF_tensor): 0.516305022015205\n",
      "Feature 22 (IF_tensor): 0.5271640663700491\n",
      "Feature 23 (IF_tensor): 0.48637176501977786\n",
      "Feature 24 (IF_tensor): 0.526646975452918\n",
      "Feature 25 (IF_tensor): 0.509136176728481\n",
      "Feature 26 (IF_tensor): 0.5352310507176036\n",
      "Feature 27 (IF_tensor): 0.5260283800214921\n",
      "Feature 28 (IF_tensor): 0.5282579305380226\n",
      "Feature 29 (IF_tensor): 0.49979848339328736\n",
      "Feature 30 (IF_tensor): 0.5014290665288219\n",
      "Feature 31 (IF_tensor): 0.5374013119373818\n",
      "Feature 32 (IF_tensor): 0.5113184111879365\n",
      "Feature 33 (IF_tensor): 0.5151904810550662\n",
      "Feature 34 (IF_tensor): 0.532359468105789\n",
      "Feature 35 (IF_tensor): 0.5073030902691144\n",
      "Feature 36 (IF_tensor): 0.5185718652934364\n",
      "Feature 37 (IF_tensor): 0.475161023587361\n",
      "Feature 38 (IF_tensor): 0.5070137167727704\n",
      "Feature 39 (IF_tensor): 0.5105140232288471\n",
      "Feature 40 (IF_tensor): 0.49667934020955923\n",
      "Feature 41 (IF_tensor): 0.4843135650269582\n",
      "Feature 42 (IF_tensor): 0.49619575927963044\n",
      "Feature 43 (IF_tensor): 0.4948218652965124\n",
      "Feature 44 (IF_tensor): 0.5265632072103049\n",
      "Feature 45 (IF_tensor): 0.47368423798128195\n",
      "Feature 46 (IF_tensor): 0.5091417748555441\n",
      "Feature 47 (IF_tensor): 0.5179302595964135\n",
      "Feature 48 (IF_tensor): 0.5269319056601436\n",
      "Feature 49 (IF_tensor): 0.4720957770543306\n",
      "Feature 50 (IF_tensor): 0.4790396710279789\n",
      "Feature 51 (IF_tensor): 0.5072407389194254\n",
      "Feature 52 (IF_tensor): 0.4799913597036715\n",
      "Feature 53 (IF_tensor): 0.5206520910718703\n",
      "Feature 54 (IF_tensor): 0.49915258286913233\n",
      "Feature 55 (IF_tensor): 0.4800483985806935\n",
      "Feature 56 (IF_tensor): 0.48573144721440686\n",
      "Feature 57 (IF_tensor): 0.4877832182075814\n",
      "Feature 58 (IF_tensor): 0.4968705544101263\n",
      "Feature 59 (IF_tensor): 0.5303501517876803\n",
      "Feature 60 (IF_tensor): 0.47669429230976934\n",
      "Feature 61 (IF_tensor): 0.4779331137656562\n",
      "Feature 62 (IF_tensor): 0.5419719563841408\n",
      "Feature 63 (IF_tensor): 0.49184545761631715\n",
      "Feature 64 (IF_tensor): 0.5334814022994686\n",
      "Feature 65 (IF_tensor): 0.5249595820198072\n",
      "Feature 66 (IF_tensor): 0.4607897616452715\n",
      "Feature 67 (IF_tensor): 0.5235188605958647\n",
      "Feature 68 (IF_tensor): 0.5257556323940136\n",
      "Feature 69 (IF_tensor): 0.5154559300239594\n",
      "Feature 70 (IF_tensor): 0.5161484945357607\n",
      "Feature 71 (IF_tensor): 0.5350295294688322\n",
      "Feature 72 (IF_tensor): 0.4916861451812848\n",
      "Feature 73 (IF_tensor): 0.4934627297044093\n",
      "Feature 74 (IF_tensor): 0.4812174993068215\n",
      "Feature 75 (IF_tensor): 0.5027325900058177\n",
      "Feature 76 (IF_tensor): 0.5214126070738466\n",
      "Feature 77 (IF_tensor): 0.45345581236801713\n",
      "Feature 78 (IF_tensor): 0.5154777700712967\n",
      "Feature 79 (IF_tensor): 0.5065844616043287\n",
      "Feature 80 (IF_tensor): 0.5292921494248617\n",
      "Feature 81 (IF_tensor): 0.45557406611517426\n",
      "Feature 82 (IF_tensor): 0.4984422185789301\n",
      "Feature 83 (IF_tensor): 0.49854342429565063\n",
      "Feature 84 (IF_tensor): 0.5042260428677916\n",
      "Feature 85 (IF_tensor): 0.48194108311760964\n",
      "Feature 86 (IF_tensor): 0.4891316530993083\n",
      "Feature 87 (IF_tensor): 0.5128721848624451\n",
      "Feature 88 (IF_tensor): 0.5750985936806159\n",
      "Feature 89 (IF_tensor): 0.5137326819445311\n",
      "Feature 90 (IF_tensor): 0.4682000360434495\n",
      "Feature 91 (IF_tensor): 0.4961234569220482\n",
      "Feature 92 (IF_tensor): 0.45111620135183517\n",
      "Feature 93 (IF_tensor): 0.5329605965329031\n",
      "Feature 94 (IF_tensor): 0.511568315552075\n",
      "Feature 95 (IF_tensor): 0.51952925153692\n",
      "Feature 96 (IF_tensor): 0.5182924869045438\n",
      "Feature 97 (IF_tensor): 0.5195011034351423\n",
      "Feature 98 (IF_tensor): 0.5088290245107857\n",
      "Feature 99 (IF_tensor): 0.5032747159930367\n",
      "Feature 100 (IF_tensor): 0.5198660730534417\n",
      "Feature 101 (IF_tensor): 0.4265849028280947\n",
      "Feature 102 (IF_tensor): 0.4887078206384458\n",
      "Feature 103 (IF_tensor): 0.48169423370349845\n",
      "Feature 104 (IF_tensor): 0.5134002243547022\n",
      "Feature 105 (IF_tensor): 0.4708950780861938\n",
      "Feature 106 (IF_tensor): 0.5261643130354027\n",
      "Feature 107 (IF_tensor): 0.46406593479731795\n",
      "Feature 108 (IF_tensor): 0.6191973856082352\n",
      "Feature 109 (IF_tensor): 0.47881592399356954\n",
      "Feature 110 (IF_tensor): 0.4643393254338214\n",
      "Feature 111 (IF_tensor): 0.46522388241809426\n",
      "Feature 112 (IF_tensor): 0.5216840737168329\n",
      "Feature 113 (IF_tensor): 0.5233042232940811\n",
      "Feature 114 (IF_tensor): 0.5105058664885045\n",
      "Feature 115 (IF_tensor): 0.5272517232037283\n",
      "Feature 116 (IF_tensor): 0.5193112761195274\n",
      "Feature 117 (IF_tensor): 0.5272056905081033\n",
      "Feature 118 (IF_tensor): 0.5015134332614393\n",
      "Feature 119 (IF_tensor): 0.49854879924036066\n",
      "Feature 120 (IF_tensor): 0.4080756389403052\n",
      "Feature 121 (IF_tensor): 0.5107011271380981\n",
      "Feature 122 (IF_tensor): 0.5073061312929655\n",
      "Feature 123 (IF_tensor): 0.5008671490403704\n",
      "Feature 124 (IF_tensor): 0.5101937973239165\n",
      "Feature 125 (IF_tensor): 0.542639480764332\n",
      "Feature 126 (IF_tensor): 0.45432733727579777\n",
      "Feature 127 (IF_tensor): 0.47003470701083433\n",
      "Feature 128 (IF_tensor): 0.5382751591049462\n",
      "Feature 129 (IF_tensor): 0.5155060703822647\n",
      "Feature 130 (IF_tensor): 0.5106004300064493\n",
      "Feature 131 (IF_tensor): 0.487036128297804\n",
      "Feature 132 (IF_tensor): 0.49344122321415873\n",
      "Feature 133 (IF_tensor): 0.4966869718659468\n",
      "Feature 134 (IF_tensor): 0.47955388311367164\n",
      "Feature 135 (IF_tensor): 0.5074408856993535\n",
      "Feature 136 (IF_tensor): 0.5049374533829503\n",
      "Feature 137 (IF_tensor): 0.5021297497496414\n",
      "Feature 138 (IF_tensor): 0.530247015701603\n",
      "Feature 139 (IF_tensor): 0.5183639878078921\n",
      "Feature 140 (IF_tensor): 0.4296989926275537\n",
      "Feature 141 (IF_tensor): 0.5009007644526411\n",
      "Feature 142 (IF_tensor): 0.5000991635464554\n",
      "Feature 143 (IF_tensor): 0.48771845634306493\n",
      "Feature 144 (IF_tensor): 0.5103373241306755\n",
      "Feature 145 (IF_tensor): 0.48389053883017363\n",
      "Feature 146 (IF_tensor): 0.4902217247892027\n",
      "Feature 147 (IF_tensor): 0.4894955161738522\n",
      "Feature 148 (IF_tensor): 0.48537781685919923\n",
      "Feature 149 (IF_tensor): 0.5219228140136497\n",
      "Feature 150 (IF_tensor): 0.4814358098193323\n",
      "Feature 151 (IF_tensor): 0.4717641795876464\n",
      "Feature 152 (IF_tensor): 0.46989567891825623\n",
      "Feature 153 (IF_tensor): 0.49716835422178884\n",
      "Feature 154 (IF_tensor): 0.5197403184523733\n",
      "Feature 155 (IF_tensor): 0.5289059233443054\n",
      "Feature 156 (IF_tensor): 0.5180274821750768\n",
      "Feature 157 (IF_tensor): 0.5349594496786281\n",
      "Feature 158 (IF_tensor): 0.48237635078676566\n",
      "Feature 159 (IF_tensor): 0.5122667094829134\n",
      "Feature 160 (IF_tensor): 0.4896789317996673\n",
      "Feature 161 (IF_tensor): 0.46363958443906467\n",
      "Feature 162 (IF_tensor): 0.48890138503504144\n",
      "Feature 163 (IF_tensor): 0.4534768838470303\n",
      "Feature 164 (IF_tensor): 0.4381231308486314\n",
      "Feature 165 (IF_tensor): 0.48008204343927635\n",
      "Feature 166 (IF_tensor): 0.47087889108762665\n",
      "Feature 167 (IF_tensor): 0.5366187138019098\n",
      "Feature 168 (IF_tensor): 0.4804380927265385\n",
      "Feature 169 (IF_tensor): 0.47868752134968096\n",
      "Feature 170 (IF_tensor): 0.5495565052157728\n",
      "Feature 171 (IF_tensor): 0.5185373125488396\n",
      "Feature 172 (IF_tensor): 0.5473654812698144\n",
      "Feature 173 (IF_tensor): 0.5316475068355315\n",
      "Feature 174 (IF_tensor): 0.4897013885696727\n",
      "Feature 175 (IF_tensor): 0.5056940816327868\n",
      "Feature 176 (IF_tensor): 0.47614393103074437\n",
      "Feature 177 (IF_tensor): 0.44478298482768797\n",
      "Feature 178 (IF_tensor): 0.5174999203954044\n",
      "Feature 179 (IF_tensor): 0.47888930518237605\n",
      "Feature 180 (IF_tensor): 0.449991282901649\n",
      "Feature 181 (IF_tensor): 0.5071801061102095\n",
      "Feature 182 (IF_tensor): 0.47292277600603894\n",
      "Feature 183 (IF_tensor): 0.4816202255291588\n",
      "Feature 184 (IF_tensor): 0.4969749411395288\n",
      "Feature 185 (IF_tensor): 0.5223080150381557\n",
      "Feature 186 (IF_tensor): 0.5418356410994911\n",
      "Feature 187 (IF_tensor): 0.47308025960975786\n",
      "Feature 188 (IF_tensor): 0.49830328866869045\n",
      "Feature 189 (IF_tensor): 0.5092121538627861\n",
      "Feature 190 (IF_tensor): 0.4991873255466375\n",
      "Feature 191 (IF_tensor): 0.5033389183496568\n",
      "Feature 192 (IF_tensor): 0.5010991599180433\n",
      "Feature 193 (IF_tensor): 0.46960648621052437\n",
      "Feature 194 (IF_tensor): 0.5208469056923282\n",
      "Feature 195 (IF_tensor): 0.4638115681843272\n",
      "Feature 196 (IF_tensor): 0.4743253674198591\n",
      "Feature 197 (IF_tensor): 0.4707602100332598\n",
      "Feature 198 (IF_tensor): 0.511134436333867\n",
      "Feature 199 (IF_tensor): 0.46708629589436756\n",
      "Feature 200 (IF_tensor): 0.4384075179909155\n",
      "Feature 201 (IF_tensor): 0.4919991386189133\n",
      "Feature 202 (IF_tensor): 0.5079781833302942\n",
      "Feature 203 (IF_tensor): 0.48601976816588294\n",
      "Feature 204 (IF_tensor): 0.5109026352716555\n",
      "Feature 205 (IF_tensor): 0.49926166708231434\n",
      "Feature 206 (IF_tensor): 0.4781670267408705\n",
      "Feature 207 (IF_tensor): 0.5457320558240988\n",
      "Feature 208 (IF_tensor): 0.4684145716394044\n",
      "Feature 209 (IF_tensor): 0.46992042595699024\n",
      "Feature 210 (IF_tensor): 0.49131627419215695\n",
      "Feature 211 (IF_tensor): 0.5316316272195513\n",
      "Feature 212 (IF_tensor): 0.5068723503969169\n",
      "Feature 213 (IF_tensor): 0.5280172972879609\n",
      "Feature 214 (IF_tensor): 0.5095018052394763\n",
      "Feature 215 (IF_tensor): 0.4910055424158709\n",
      "Feature 216 (IF_tensor): 0.544397108545831\n",
      "Feature 217 (IF_tensor): 0.5091054737885921\n",
      "Feature 218 (IF_tensor): 0.5010532371776888\n",
      "Feature 219 (IF_tensor): 0.516473978467043\n",
      "Feature 220 (IF_tensor): 0.4653018903691955\n",
      "Feature 221 (IF_tensor): 0.5291971730992615\n",
      "Feature 222 (IF_tensor): 0.5183922288347368\n",
      "Feature 223 (IF_tensor): 0.44290665202649493\n",
      "Feature 224 (IF_tensor): 0.4640796354421223\n",
      "Feature 225 (IF_tensor): 0.48652778494882637\n",
      "Feature 226 (IF_tensor): 0.47624430567913345\n",
      "Feature 227 (IF_tensor): 0.5344958235888775\n",
      "Feature 228 (IF_tensor): 0.5051071084646253\n",
      "Feature 229 (IF_tensor): 0.5232155241504348\n",
      "Feature 230 (IF_tensor): 0.47568463503099356\n",
      "Feature 231 (IF_tensor): 0.47979761180593555\n",
      "Feature 232 (IF_tensor): 0.49058487253927674\n",
      "Feature 233 (IF_tensor): 0.5486160861163628\n",
      "Feature 234 (IF_tensor): 0.4865933149342394\n",
      "Feature 235 (IF_tensor): 0.49203712651492487\n",
      "Feature 236 (IF_tensor): 0.5237764668624841\n",
      "Feature 237 (IF_tensor): 0.5095527816437421\n",
      "Feature 238 (IF_tensor): 0.459566615778495\n",
      "Feature 239 (IF_tensor): 0.4776504993864463\n",
      "Feature 240 (IF_tensor): 0.48234850615258545\n",
      "Feature 241 (IF_tensor): 0.5211037635248543\n",
      "Feature 242 (IF_tensor): 0.517899655929467\n",
      "Feature 243 (IF_tensor): 0.5050391492563284\n",
      "Feature 244 (IF_tensor): 0.4563642419361102\n",
      "Feature 245 (IF_tensor): 0.5835377395936331\n",
      "Feature 246 (IF_tensor): 0.4742422923260978\n",
      "Feature 247 (IF_tensor): 0.48503570454227274\n",
      "Feature 248 (IF_tensor): 0.5333065506008452\n",
      "Feature 249 (IF_tensor): 0.3940333387822601\n",
      "Feature 250 (IF_tensor): 0.4642441592871697\n",
      "Feature 251 (IF_tensor): 0.48054394380175264\n",
      "Feature 252 (IF_tensor): 0.43685061970753447\n",
      "Feature 253 (IF_tensor): 0.4908948330067464\n",
      "Feature 254 (IF_tensor): 0.5115609594829686\n",
      "Feature 255 (IF_tensor): 0.47100926355837114\n",
      "Feature 256 (IF_tensor): 0.5145280004953844\n",
      "Feature 257 (IF_tensor): 0.4844833713950045\n",
      "Feature 258 (IF_tensor): 0.49812889700927165\n",
      "Feature 259 (IF_tensor): 0.4871836125435119\n",
      "Feature 260 (IF_tensor): 0.49052758844410504\n",
      "Feature 261 (IF_tensor): 0.5107757100048997\n",
      "Feature 262 (IF_tensor): 0.478253226303683\n",
      "Feature 263 (IF_tensor): 0.5037108347808621\n",
      "Feature 264 (IF_tensor): 0.5078754650295015\n",
      "Feature 265 (IF_tensor): 0.49508303423134026\n",
      "Feature 266 (IF_tensor): 0.5281848754957873\n",
      "Feature 267 (IF_tensor): 0.5065331852000271\n",
      "Feature 268 (IF_tensor): 0.4976777426491904\n",
      "Feature 269 (IF_tensor): 0.5270273498269626\n",
      "Feature 270 (IF_tensor): 0.4952187223067431\n",
      "Feature 271 (IF_tensor): 0.5025538992407428\n",
      "Feature 272 (IF_tensor): 0.5117650033830463\n",
      "Feature 273 (IF_tensor): 0.47669780125873207\n",
      "Feature 274 (IF_tensor): 0.5013535849203028\n",
      "Feature 275 (IF_tensor): 0.5045537775823391\n",
      "Feature 276 (IF_tensor): 0.45663426856214695\n",
      "Feature 277 (IF_tensor): 0.5253338259401032\n",
      "Feature 278 (IF_tensor): 0.5121144843250092\n",
      "Feature 279 (IF_tensor): 0.49994676495452617\n",
      "Feature 280 (IF_tensor): 0.49407666023035934\n",
      "Feature 281 (IF_tensor): 0.49742670587440296\n",
      "Feature 282 (IF_tensor): 0.5208209487541218\n",
      "Feature 283 (IF_tensor): 0.5151552974379112\n",
      "Feature 284 (IF_tensor): 0.5127470192715139\n",
      "Feature 285 (IF_tensor): 0.4712897593411325\n",
      "Feature 286 (IF_tensor): 0.5106050324119177\n",
      "Feature 287 (IF_tensor): 0.4641292690889579\n",
      "Feature 288 (IF_tensor): 0.5398973843815461\n",
      "Feature 289 (IF_tensor): 0.4948999079232329\n",
      "Feature 290 (IF_tensor): 0.5034283737294108\n",
      "Feature 291 (IF_tensor): 0.4550588276870777\n",
      "Feature 292 (IF_tensor): 0.5096544078303111\n",
      "Feature 293 (IF_tensor): 0.4869700503537129\n",
      "Feature 294 (IF_tensor): 0.48749140550513115\n",
      "Feature 295 (IF_tensor): 0.4806122843579694\n",
      "Feature 296 (IF_tensor): 0.5252551891857954\n",
      "Feature 297 (IF_tensor): 0.5007978815545134\n",
      "Feature 298 (IF_tensor): 0.5095167939716817\n",
      "Feature 299 (IF_tensor): 0.4621393638749446\n",
      "Feature 300 (IF_tensor): 0.4491609756162143\n",
      "Feature 301 (IF_tensor): 0.5206679086073064\n",
      "Feature 302 (IF_tensor): 0.5447177932315769\n",
      "Feature 303 (IF_tensor): 0.49964698796142076\n",
      "Feature 304 (IF_tensor): 0.5370144168410862\n",
      "Feature 305 (IF_tensor): 0.5173686432265658\n",
      "Feature 306 (IF_tensor): 0.48991781158195924\n",
      "Feature 307 (IF_tensor): 0.4929789804019773\n",
      "Feature 308 (IF_tensor): 0.4958521294848951\n",
      "Feature 309 (IF_tensor): 0.4996258474667393\n",
      "Feature 310 (IF_tensor): 0.513765041036742\n",
      "Feature 311 (IF_tensor): 0.5132013430111662\n",
      "Feature 312 (IF_tensor): 0.48976489814097557\n",
      "Feature 313 (IF_tensor): 0.5036136556865439\n",
      "Feature 314 (IF_tensor): 0.5000502704757704\n",
      "Feature 315 (IF_tensor): 0.5054504431250973\n",
      "Feature 316 (IF_tensor): 0.5488032578108568\n",
      "Feature 317 (IF_tensor): 0.5006308308075998\n",
      "Feature 318 (IF_tensor): 0.47189388832788703\n",
      "Feature 319 (IF_tensor): 0.5042974588997653\n",
      "Feature 320 (IF_tensor): 0.5071532209839732\n",
      "Feature 321 (IF_tensor): 0.5279605037129815\n",
      "Feature 322 (IF_tensor): 0.4845648175735835\n",
      "Feature 323 (IF_tensor): 0.49622313526162976\n",
      "Feature 324 (IF_tensor): 0.46299031618520314\n",
      "Feature 325 (IF_tensor): 0.5031068895189617\n",
      "Feature 326 (IF_tensor): 0.5646433830426479\n",
      "Feature 327 (IF_tensor): 0.4786846578426293\n",
      "Feature 328 (IF_tensor): 0.489181879503485\n",
      "Feature 329 (IF_tensor): 0.4811271622714817\n",
      "Feature 330 (IF_tensor): 0.5027947518140969\n",
      "Feature 331 (IF_tensor): 0.5265719463612313\n",
      "Feature 332 (IF_tensor): 0.5034118687498216\n",
      "Feature 333 (IF_tensor): 0.5065349062852428\n",
      "Feature 334 (IF_tensor): 0.4701427494174049\n",
      "Feature 335 (IF_tensor): 0.5174940458980622\n",
      "Feature 336 (IF_tensor): 0.5118145289761779\n",
      "Feature 337 (IF_tensor): 0.48501236840974665\n",
      "Feature 338 (IF_tensor): 0.5153812881247123\n",
      "Feature 339 (IF_tensor): 0.4899187265708823\n",
      "Feature 340 (IF_tensor): 0.5279498073470577\n",
      "Feature 341 (IF_tensor): 0.5540065505150957\n",
      "Feature 342 (IF_tensor): 0.5041052405324122\n",
      "Feature 343 (IF_tensor): 0.5020545299979766\n",
      "Feature 344 (IF_tensor): 0.507317878302191\n",
      "Feature 345 (IF_tensor): 0.5171081970546875\n",
      "Feature 346 (IF_tensor): 0.4665081443435849\n",
      "Feature 347 (IF_tensor): 0.5156706771691565\n",
      "Feature 348 (IF_tensor): 0.5042071203543581\n",
      "Feature 349 (IF_tensor): 0.4438995860650291\n",
      "Feature 350 (IF_tensor): 0.5036327443912723\n",
      "Feature 351 (IF_tensor): 0.5043144998134227\n",
      "Feature 352 (IF_tensor): 0.5185300625759426\n",
      "Feature 353 (IF_tensor): 0.5114296374315743\n",
      "Feature 354 (IF_tensor): 0.47232889145562446\n",
      "Feature 355 (IF_tensor): 0.51176629633622\n",
      "Feature 356 (IF_tensor): 0.4912544405998004\n",
      "Feature 357 (IF_tensor): 0.4618191346982015\n",
      "Feature 358 (IF_tensor): 0.5077030554732265\n",
      "Feature 359 (IF_tensor): 0.5537361526921469\n",
      "Feature 360 (IF_tensor): 0.4605308370060122\n",
      "Feature 361 (IF_tensor): 0.5138666381405335\n",
      "Feature 362 (IF_tensor): 0.529967188123619\n",
      "Feature 363 (IF_tensor): 0.5190663024606725\n",
      "Feature 364 (IF_tensor): 0.4830342655181644\n",
      "Feature 365 (IF_tensor): 0.4731725675066294\n",
      "Feature 366 (IF_tensor): 0.45570049549260916\n",
      "Feature 367 (IF_tensor): 0.44511812684177304\n",
      "Feature 368 (IF_tensor): 0.5109951930846639\n",
      "Feature 369 (IF_tensor): 0.5336834387328648\n",
      "Feature 370 (IF_tensor): 0.5443488909226535\n",
      "Feature 371 (IF_tensor): 0.5481713139718049\n",
      "Feature 372 (IF_tensor): 0.47769358183004296\n",
      "Feature 373 (IF_tensor): 0.5178224867368546\n",
      "Feature 374 (IF_tensor): 0.5113446332548099\n",
      "Feature 375 (IF_tensor): 0.567811617954803\n",
      "Feature 376 (IF_tensor): 0.5181717255087664\n",
      "Feature 377 (IF_tensor): 0.5176261030725864\n",
      "Feature 378 (IF_tensor): 0.4899566759601779\n",
      "Feature 379 (IF_tensor): 0.5227666164908441\n",
      "Feature 380 (IF_tensor): 0.46832036818861644\n",
      "Feature 381 (IF_tensor): 0.4808562312269931\n",
      "Feature 382 (IF_tensor): 0.47839175962550884\n",
      "Feature 383 (IF_tensor): 0.48568104449589145\n",
      "Feature 384 (IF_tensor): 0.5357945634243654\n",
      "Feature 385 (IF_tensor): 0.4477516838660278\n",
      "Feature 386 (IF_tensor): 0.4636413506305496\n",
      "Feature 387 (IF_tensor): 0.5280181101795562\n",
      "Feature 388 (IF_tensor): 0.5685963924887437\n",
      "Feature 389 (IF_tensor): 0.48290908650441267\n",
      "Feature 390 (IF_tensor): 0.4563822113174394\n",
      "Feature 391 (IF_tensor): 0.4840588286711942\n",
      "Feature 392 (IF_tensor): 0.4951364273584884\n",
      "Feature 393 (IF_tensor): 0.49985100789617115\n",
      "Feature 394 (IF_tensor): 0.49148002980445094\n",
      "Feature 395 (IF_tensor): 0.4995187364361184\n",
      "Feature 396 (IF_tensor): 0.4894891739471479\n",
      "Feature 397 (IF_tensor): 0.47361273176473395\n",
      "Feature 398 (IF_tensor): 0.5674305457059552\n",
      "Feature 399 (IF_tensor): 0.49866978082632063\n",
      "Feature 400 (IF_tensor): 0.5371880882822987\n",
      "Feature 401 (IF_tensor): 0.4896310883935365\n",
      "Feature 402 (IF_tensor): 0.5000677792306467\n",
      "Feature 403 (IF_tensor): 0.484492515859178\n",
      "Feature 404 (IF_tensor): 0.5024350672635393\n",
      "Feature 405 (IF_tensor): 0.4849879064661249\n",
      "Feature 406 (IF_tensor): 0.47264504965872967\n",
      "Feature 407 (IF_tensor): 0.47746944668037505\n",
      "Feature 408 (IF_tensor): 0.5234387273089405\n",
      "Feature 409 (IF_tensor): 0.4957354369654401\n",
      "Feature 410 (IF_tensor): 0.5101974463176384\n",
      "Feature 411 (IF_tensor): 0.6063560246868119\n",
      "Feature 412 (IF_tensor): 0.4865217325991141\n",
      "Feature 413 (IF_tensor): 0.5275542421155038\n",
      "Feature 414 (IF_tensor): 0.5336020922466915\n",
      "Feature 415 (IF_tensor): 0.4900714400118422\n",
      "Feature 416 (IF_tensor): 0.4715143390937616\n",
      "Feature 417 (IF_tensor): 0.5334896795375883\n",
      "Feature 418 (IF_tensor): 0.5429926789606515\n",
      "Feature 419 (IF_tensor): 0.49754418659305666\n",
      "Feature 420 (IF_tensor): 0.4874755743511253\n",
      "Feature 421 (IF_tensor): 0.5029662725559487\n",
      "Feature 422 (IF_tensor): 0.5276852509118273\n",
      "Feature 423 (IF_tensor): 0.49402893785332574\n",
      "Feature 424 (IF_tensor): 0.5450784133527153\n",
      "Feature 425 (IF_tensor): 0.5259895957048043\n",
      "Feature 426 (IF_tensor): 0.48429722576327217\n",
      "Feature 427 (IF_tensor): 0.47910373515751303\n",
      "Feature 428 (IF_tensor): 0.4181413365286465\n",
      "Feature 429 (IF_tensor): 0.5605891425722226\n",
      "Feature 430 (IF_tensor): 0.5187970034633577\n",
      "Feature 431 (IF_tensor): 0.5370139269361063\n",
      "Feature 432 (IF_tensor): 0.484262439629386\n",
      "Feature 433 (IF_tensor): 0.5062493709325315\n",
      "Feature 434 (IF_tensor): 0.49825512001084316\n",
      "Feature 435 (IF_tensor): 0.5208001971576968\n",
      "Feature 436 (IF_tensor): 0.49934665434073233\n",
      "Feature 437 (IF_tensor): 0.4832217858424538\n",
      "Feature 438 (IF_tensor): 0.4834114238963012\n",
      "Feature 439 (IF_tensor): 0.48280481258262986\n",
      "Feature 440 (IF_tensor): 0.5427828880240969\n",
      "Feature 441 (IF_tensor): 0.5177659295712994\n",
      "Feature 442 (IF_tensor): 0.4597132352589996\n",
      "Feature 443 (IF_tensor): 0.5067343299107223\n",
      "Feature 444 (IF_tensor): 0.4929012858737322\n",
      "Feature 445 (IF_tensor): 0.5045912624022283\n",
      "Feature 446 (IF_tensor): 0.438069195998824\n",
      "Feature 447 (IF_tensor): 0.5066173524919048\n",
      "Feature 448 (IF_tensor): 0.5059377741952927\n",
      "Feature 449 (IF_tensor): 0.5025129672168648\n",
      "Feature 450 (IF_tensor): 0.5304699682448665\n",
      "Feature 451 (IF_tensor): 0.526807987692403\n",
      "Feature 452 (IF_tensor): 0.5209025796642662\n",
      "Feature 453 (IF_tensor): 0.44110747597384115\n",
      "Feature 454 (IF_tensor): 0.4726307043829762\n",
      "Feature 455 (IF_tensor): 0.4987778801959853\n",
      "Feature 456 (IF_tensor): 0.5162983555994243\n",
      "Feature 457 (IF_tensor): 0.5080492492503694\n",
      "Feature 458 (IF_tensor): 0.519818859960585\n",
      "Feature 459 (IF_tensor): 0.45837132592733204\n",
      "Feature 460 (IF_tensor): 0.5162865829749833\n",
      "Feature 461 (IF_tensor): 0.5278255583669735\n",
      "Feature 462 (IF_tensor): 0.4884839317695677\n",
      "Feature 463 (IF_tensor): 0.48091655861111693\n",
      "Feature 464 (IF_tensor): 0.47426051769179745\n",
      "Feature 465 (IF_tensor): 0.5010847733950816\n",
      "Feature 466 (IF_tensor): 0.48314861239975676\n",
      "Feature 467 (IF_tensor): 0.5154908346981282\n",
      "Feature 468 (IF_tensor): 0.47077957625479977\n",
      "Feature 469 (IF_tensor): 0.5270398089727379\n",
      "Feature 470 (IF_tensor): 0.49111042693616036\n",
      "Feature 471 (IF_tensor): 0.44752950277140174\n",
      "Feature 472 (IF_tensor): 0.496322336364018\n",
      "Feature 473 (IF_tensor): 0.496487433363496\n",
      "Feature 474 (IF_tensor): 0.45934266564003473\n",
      "Feature 475 (IF_tensor): 0.43816769206757145\n",
      "Feature 476 (IF_tensor): 0.5104537259342121\n",
      "Feature 477 (IF_tensor): 0.5112852036895845\n",
      "Feature 478 (IF_tensor): 0.5101560616091428\n",
      "Feature 479 (IF_tensor): 0.4590164207466934\n",
      "Feature 480 (IF_tensor): 0.5161746945109089\n",
      "Feature 481 (IF_tensor): 0.4927082663317873\n",
      "Feature 482 (IF_tensor): 0.46883541682362556\n",
      "Feature 483 (IF_tensor): 0.5033374305698379\n",
      "Feature 484 (IF_tensor): 0.5007190262039828\n",
      "Feature 485 (IF_tensor): 0.4770058487226187\n",
      "Feature 486 (IF_tensor): 0.4860445573187159\n",
      "Feature 487 (IF_tensor): 0.4852382711770743\n",
      "Feature 488 (IF_tensor): 0.5302557458200897\n",
      "Feature 489 (IF_tensor): 0.5009676220948114\n",
      "Feature 490 (IF_tensor): 0.46260277970180663\n",
      "Feature 491 (IF_tensor): 0.49765460377619564\n",
      "Feature 492 (IF_tensor): 0.499571264266743\n",
      "Feature 493 (IF_tensor): 0.5202152038835063\n",
      "Feature 494 (IF_tensor): 0.4790698284141116\n",
      "Feature 495 (IF_tensor): 0.5082163008362093\n",
      "Feature 496 (IF_tensor): 0.5134280910526434\n",
      "Feature 497 (IF_tensor): 0.5629992895587522\n",
      "Feature 498 (IF_tensor): 0.5167108941271779\n",
      "Feature 499 (IF_tensor): 0.5042133203271304\n",
      "Feature 500 (IF_tensor): 0.4910016231201033\n",
      "Feature 501 (IF_tensor): 0.5741571763148682\n",
      "Feature 502 (IF_tensor): 0.5316243523864723\n",
      "Feature 503 (IF_tensor): 0.4938368137253576\n",
      "Feature 504 (IF_tensor): 0.49847864727453284\n",
      "Feature 505 (IF_tensor): 0.5036814299395614\n",
      "Feature 506 (IF_tensor): 0.5227397841330705\n",
      "Feature 507 (IF_tensor): 0.5104310244773769\n",
      "Feature 508 (IF_tensor): 0.5185629109858849\n",
      "Feature 509 (IF_tensor): 0.6092233861851494\n",
      "Feature 510 (IF_tensor): 0.47133491513508724\n",
      "Feature 511 (IF_tensor): 0.48137723475644556\n",
      "Feature 512 (sequence): 0.48866760419071537\n",
      "Feature 513 (sequence): 0.49002122426202904\n",
      "Feature 514 (sequence): 0.5090860791554156\n",
      "Feature 515 (sequence): 0.5075049285201604\n",
      "Feature 516 (sequence): 0.4964862290009368\n",
      "Feature 517 (sequence): 0.5008281037337188\n",
      "Feature 518 (sequence): 0.5010059027481285\n",
      "Feature 519 (sequence): 0.4907200077902291\n",
      "Feature 520 (sequence): 0.5104915639979911\n",
      "Feature 521 (sequence): 0.4881367264430877\n",
      "Feature 522 (sequence): 0.4975236931062821\n",
      "Feature 523 (sequence): 0.5084168219170766\n",
      "Feature 524 (sequence): 0.5001118552705582\n",
      "Feature 525 (sequence): 0.5062865419101016\n",
      "Feature 526 (sequence): 0.5151312965402055\n",
      "Feature 527 (sequence): 0.4972415247282438\n",
      "Feature 528 (sequence): 0.5003971006064565\n",
      "Feature 529 (sequence): 0.48353977612072063\n",
      "Feature 530 (sequence): 0.5003767971924115\n",
      "Feature 531 (sequence): 0.5080262227655312\n",
      "Feature 532 (pLDDTs): 0.4827202153130726\n",
      "Feature 533 (length): 0.34618533958599906\n",
      "Feature 534 (struct. type): 0.4998093514874197\n",
      "Feature 535 (RSA): 0.6774304566198149\n"
     ]
    }
   ],
   "source": [
    "# Print result (IF_tensor features)\n",
    "for i in range(0, 512, 1):\n",
    "    print('Feature {} (IF_tensor): {}'.format(i, AUC_feature[i]))\n",
    "# Print result (sequence features)\n",
    "for i in range(512, 532, 1):\n",
    "    print('Feature {} (sequence): {}'.format(i, AUC_feature[i]))\n",
    "# Print result (pLDDT)\n",
    "print('Feature 532 (pLDDTs): {}'.format(AUC_feature[i+1]))\n",
    "# Print result (Length)\n",
    "print('Feature 533 (length): {}'.format(AUC_feature[i+2]))\n",
    "# Print result (Struct. type)\n",
    "print('Feature 534 (struct. type): {}'.format(AUC_feature[i+3]))\n",
    "# Print result (RSA)\n",
    "print('Feature 535 (RSA): {}'.format(AUC_feature[i+4]))"
   ]
  },
  {
   "cell_type": "markdown",
   "metadata": {},
   "source": [
    "## First training (relu and sigmoid, with regularization and balancing)"
   ]
  },
  {
   "cell_type": "code",
   "execution_count": 30,
   "metadata": {
    "scrolled": true
   },
   "outputs": [],
   "source": [
    "# Parameters definition\n",
    "loss = 'binary_crossentropy'\n",
    "act = 'relu'\n",
    "l2_value = 0.01\n",
    "\n",
    "# Training and validation of the model\n",
    "model, history = nn_model(train_data=X_train_sc, y_train=y_train, valid_data=X_valid_sc, y_valid=y_valid, act_fun=act,\n",
    "                          loss_fun=loss, alpha=l2_value, class_weight_fn=class_weight_calculator)"
   ]
  },
  {
   "cell_type": "code",
   "execution_count": 31,
   "metadata": {},
   "outputs": [
    {
     "data": {
      "image/png": "[encoded data removed]",
      "text/plain": [
       "<Figure size 640x480 with 1 Axes>"
      ]
     },
     "metadata": {},
     "output_type": "display_data"
    }
   ],
   "source": [
    "# Summarize history for loss\n",
    "plt.plot(history.history['loss'], label = 'train')\n",
    "plt.plot(history.history['val_loss'], label='validation')\n",
    "plt.title('Model (relu and sigmoid with balanced classes) loss')\n",
    "plt.ylabel('Loss')\n",
    "plt.xlabel('Epoch')\n",
    "plt.legend(loc='best')\n",
    "plt.show()"
   ]
  },
  {
   "cell_type": "code",
   "execution_count": 32,
   "metadata": {},
   "outputs": [
    {
     "name": "stdout",
     "output_type": "stream",
     "text": [
      "3691/3691 [==============================] - 8s 2ms/step - loss: 0.5767 - accuracy: 0.6741 - precision: 0.1671 - recall: 0.7334 - auc: 0.7741 - binary_crossentropy: 0.5689\n",
      "loss : 0.5766728520393372\n",
      "accuracy : 0.6741387248039246\n",
      "precision : 0.1670963168144226\n",
      "recall : 0.7334352731704712\n",
      "auc : 0.7740998268127441\n",
      "binary_crossentropy : 0.5688828825950623\n"
     ]
    }
   ],
   "source": [
    "# Metrics from the model\n",
    "metrics_names = model.metrics_names\n",
    "metrics_values = model.evaluate(X_valid_sc, y_valid)\n",
    "\n",
    "for name, value in zip(metrics_names, metrics_values):\n",
    "    print(name, ':', value)"
   ]
  },
  {
   "cell_type": "code",
   "execution_count": 33,
   "metadata": {},
   "outputs": [
    {
     "name": "stdout",
     "output_type": "stream",
     "text": [
      "3691/3691 [==============================] - 6s 2ms/step\n",
      "406/406 [==============================] - 1s 1ms/step\n"
     ]
    }
   ],
   "source": [
    "# Obtaining probabilities values\n",
    "y_pred_valid_prob = model.predict(X_valid_sc)\n",
    "y_pred_test_prob = model.predict(X_test_sc)\n",
    "\n",
    "# Conversion to 0 or 1 labels (0.5 threshold)\n",
    "y_pred_valid = (y_pred_valid_prob > 0.5).astype(int)\n",
    "y_pred_test = (y_pred_test_prob > 0.5).astype(int)"
   ]
  },
  {
   "cell_type": "code",
   "execution_count": 34,
   "metadata": {},
   "outputs": [
    {
     "name": "stdout",
     "output_type": "stream",
     "text": [
      "Valid accuracy: 0.67414\n",
      "Test accuracy: 0.77085\n"
     ]
    }
   ],
   "source": [
    "# Evaluate the model's performance\n",
    "accuracy_valid = accuracy_score(y_valid, y_pred_valid)\n",
    "accuracy_test = accuracy_score(y_test, y_pred_test)\n",
    "print(f'Valid accuracy: {accuracy_valid:.5f}')\n",
    "print(f'Test accuracy: {accuracy_test:.5f}')"
   ]
  },
  {
   "cell_type": "code",
   "execution_count": 35,
   "metadata": {},
   "outputs": [
    {
     "data": {
      "text/plain": [
       "array([[72410, 35864],\n",
       "       [ 2615,  7195]], dtype=int64)"
      ]
     },
     "execution_count": 35,
     "metadata": {},
     "output_type": "execute_result"
    }
   ],
   "source": [
    "# Validation confusion matrix\n",
    "confusion_matrix(y_valid, y_pred_valid)"
   ]
  },
  {
   "cell_type": "code",
   "execution_count": 36,
   "metadata": {},
   "outputs": [
    {
     "data": {
      "text/plain": [
       "array([[9533, 2658],\n",
       "       [ 317,  475]], dtype=int64)"
      ]
     },
     "execution_count": 36,
     "metadata": {},
     "output_type": "execute_result"
    }
   ],
   "source": [
    "# Test confusion matrix\n",
    "confusion_matrix(y_test, y_pred_test)"
   ]
  },
  {
   "cell_type": "code",
   "execution_count": 38,
   "metadata": {},
   "outputs": [
    {
     "name": "stdout",
     "output_type": "stream",
     "text": [
      "(ROC)AUC value for the validation data: 0.774\n",
      "(PR)AUC value for the validation data: 0.232\n",
      "\n",
      "(ROC)AUC value for the test data: 0.786\n",
      "(PR)AUC value for the test data: 0.200\n"
     ]
    }
   ],
   "source": [
    "# AUC value (valid)\n",
    "ROC_AUC_valid = ROC_AUC(y_valid, y_pred_valid_prob)\n",
    "PR_AUC_valid = PR_AUC(y_valid, y_pred_valid_prob)\n",
    "print(f'(ROC)AUC value for the validation data: {ROC_AUC_valid:.3f}')\n",
    "print(f'(PR)AUC value for the validation data: {PR_AUC_valid:.3f}')\n",
    "print('')\n",
    "\n",
    "# AUC value (test)\n",
    "ROC_AUC_test = ROC_AUC(y_test, y_pred_test_prob)\n",
    "PR_AUC_test = PR_AUC(y_test, y_pred_test_prob)\n",
    "print(f'(ROC)AUC value for the test data: {ROC_AUC_test:.3f}')\n",
    "print(f'(PR)AUC value for the test data: {PR_AUC_test:.3f}')"
   ]
  },
  {
   "cell_type": "code",
   "execution_count": 39,
   "metadata": {},
   "outputs": [
    {
     "name": "stdout",
     "output_type": "stream",
     "text": [
      "Validation AUC: 0.7741105276628855\n",
      "Test AUC: 0.7855599510816476\n"
     ]
    }
   ],
   "source": [
    "# AUC calculation with sklearn function\n",
    "auc_valid = roc_auc_score(y_valid, y_pred_valid_prob)\n",
    "auc_test = roc_auc_score(y_test, y_pred_test_prob)\n",
    "print('Validation AUC:', auc_valid)\n",
    "print('Test AUC:', auc_test)"
   ]
  },
  {
   "cell_type": "code",
   "execution_count": 40,
   "metadata": {},
   "outputs": [
    {
     "data": {
      "text/plain": [
       "(0.6353527997019072, 0.7586844334899484)"
      ]
     },
     "execution_count": 40,
     "metadata": {},
     "output_type": "execute_result"
    }
   ],
   "source": [
    "# Epitope rank (valid and test)\n",
    "c_percentile_valid = get_percentile_score_arr(scores = y_pred_valid, epitopes = y_valid)\n",
    "c_percentile_test = get_percentile_score_arr(scores = y_pred_test, epitopes = y_test)\n",
    "c_percentile_valid, c_percentile_test"
   ]
  },
  {
   "cell_type": "code",
   "execution_count": 41,
   "metadata": {},
   "outputs": [
    {
     "name": "stdout",
     "output_type": "stream",
     "text": [
      "False positive ratio (valid): 0.30371599878052913\n",
      "False positive ratio (test): 0.2047292613417546\n"
     ]
    }
   ],
   "source": [
    "print('False positive ratio (valid):', confusion_matrix(y_valid, y_pred_valid)[0][1]/len(y_valid))\n",
    "print('False positive ratio (test):', confusion_matrix(y_test, y_pred_test)[0][1]/len(y_test))"
   ]
  },
  {
   "cell_type": "markdown",
   "metadata": {},
   "source": [
    "## Change 1: only sigmoid activations with balanced classes"
   ]
  },
  {
   "cell_type": "code",
   "execution_count": 42,
   "metadata": {
    "scrolled": true
   },
   "outputs": [],
   "source": [
    "# Parameters definition\n",
    "loss = 'binary_crossentropy'\n",
    "act = 'sigmoid'\n",
    "l2_value = 0.01\n",
    "\n",
    "# Training and validation of the model\n",
    "model1, history1 = nn_model(train_data=X_train_sc, y_train=y_train, valid_data=X_valid_sc, y_valid=y_valid, act_fun=act,\n",
    "                          loss_fun=loss, alpha=l2_value, class_weight_fn=class_weight_calculator)"
   ]
  },
  {
   "cell_type": "code",
   "execution_count": 43,
   "metadata": {},
   "outputs": [
    {
     "data": {
      "image/png": "[encoded data removed]",
      "text/plain": [
       "<Figure size 640x480 with 1 Axes>"
      ]
     },
     "metadata": {},
     "output_type": "display_data"
    }
   ],
   "source": [
    "# Summarize history for loss\n",
    "plt.plot(history1.history['loss'], label = 'train')\n",
    "plt.plot(history1.history['val_loss'], label='validation')\n",
    "plt.title('Model (all sigmoid and balanced classes) loss')\n",
    "plt.ylabel('Loss')\n",
    "plt.xlabel('Epoch')\n",
    "plt.legend(loc='best')\n",
    "plt.show()"
   ]
  },
  {
   "cell_type": "code",
   "execution_count": 44,
   "metadata": {},
   "outputs": [
    {
     "name": "stdout",
     "output_type": "stream",
     "text": [
      "3691/3691 [==============================] - 8s 2ms/step - loss: 0.6877 - accuracy: 0.6499 - precision_1: 0.1453 - recall_1: 0.6585 - auc_1: 0.7085 - binary_crossentropy: 0.6868\n",
      "loss : 0.6876513361930847\n",
      "accuracy : 0.6498678922653198\n",
      "precision : 0.145315483212471\n",
      "recall : 0.6585116982460022\n",
      "auc : 0.7084625959396362\n",
      "binary_crossentropy : 0.6868183016777039\n"
     ]
    }
   ],
   "source": [
    "# Metrics from the model\n",
    "metrics_names = model.metrics_names\n",
    "metrics_values = model1.evaluate(X_valid_sc, y_valid)\n",
    "\n",
    "for name, value in zip(metrics_names, metrics_values):\n",
    "    print(name, ':', value)"
   ]
  },
  {
   "cell_type": "code",
   "execution_count": 45,
   "metadata": {},
   "outputs": [
    {
     "name": "stdout",
     "output_type": "stream",
     "text": [
      "3691/3691 [==============================] - 9s 2ms/step\n",
      "406/406 [==============================] - 1s 1ms/step\n"
     ]
    }
   ],
   "source": [
    "# Obtaining probabilities values\n",
    "y_pred_valid_prob1 = model1.predict(X_valid_sc)\n",
    "y_pred_test_prob1 = model1.predict(X_test_sc)\n",
    "\n",
    "# Conversion to 0 or 1 labels (0.5 threshold)\n",
    "y_pred_valid1 = (y_pred_valid_prob1 > 0.5).astype(int)\n",
    "y_pred_test1 = (y_pred_test_prob1 > 0.5).astype(int)"
   ]
  },
  {
   "cell_type": "code",
   "execution_count": 46,
   "metadata": {},
   "outputs": [
    {
     "name": "stdout",
     "output_type": "stream",
     "text": [
      "Valid accuracy: 0.64987\n",
      "Test accuracy: 0.69999\n"
     ]
    }
   ],
   "source": [
    "# Evaluate the model's performance\n",
    "accuracy_valid1 = accuracy_score(y_valid, y_pred_valid1)\n",
    "accuracy_test1 = accuracy_score(y_test, y_pred_test1)\n",
    "print(f'Valid accuracy: {accuracy_valid1:.5f}')\n",
    "print(f'Test accuracy: {accuracy_test1:.5f}')"
   ]
  },
  {
   "cell_type": "code",
   "execution_count": 47,
   "metadata": {},
   "outputs": [
    {
     "data": {
      "text/plain": [
       "array([[70279, 37995],\n",
       "       [ 3350,  6460]], dtype=int64)"
      ]
     },
     "execution_count": 47,
     "metadata": {},
     "output_type": "execute_result"
    }
   ],
   "source": [
    "# Validation confusion matrix\n",
    "confusion_matrix(y_valid, y_pred_valid1)"
   ]
  },
  {
   "cell_type": "code",
   "execution_count": 48,
   "metadata": {},
   "outputs": [
    {
     "data": {
      "text/plain": [
       "array([[8601, 3590],\n",
       "       [ 305,  487]], dtype=int64)"
      ]
     },
     "execution_count": 48,
     "metadata": {},
     "output_type": "execute_result"
    }
   ],
   "source": [
    "# Test confusion matrix\n",
    "confusion_matrix(y_test, y_pred_test1)"
   ]
  },
  {
   "cell_type": "code",
   "execution_count": 49,
   "metadata": {},
   "outputs": [
    {
     "name": "stdout",
     "output_type": "stream",
     "text": [
      "(ROC)AUC value for the validation data: 0.715\n",
      "(PR)AUC value for the validation data: 0.152\n",
      "\n",
      "(ROC)AUC value for the test data: 0.740\n",
      "(PR)AUC value for the test data: 0.138\n"
     ]
    }
   ],
   "source": [
    "# AUC value (valid)\n",
    "ROC_AUC_valid1 = ROC_AUC(y_valid, y_pred_valid_prob1)\n",
    "PR_AUC_valid1 = PR_AUC(y_valid, y_pred_valid_prob1)\n",
    "print(f'(ROC)AUC value for the validation data: {ROC_AUC_valid1:.3f}')\n",
    "print(f'(PR)AUC value for the validation data: {PR_AUC_valid1:.3f}')\n",
    "print('')\n",
    "\n",
    "# AUC value (test)\n",
    "ROC_AUC_test1 = ROC_AUC(y_test, y_pred_test_prob1)\n",
    "PR_AUC_test1 = PR_AUC(y_test, y_pred_test_prob1)\n",
    "print(f'(ROC)AUC value for the test data: {ROC_AUC_test1:.3f}')\n",
    "print(f'(PR)AUC value for the test data: {PR_AUC_test1:.3f}')"
   ]
  },
  {
   "cell_type": "code",
   "execution_count": 50,
   "metadata": {},
   "outputs": [
    {
     "name": "stdout",
     "output_type": "stream",
     "text": [
      "Validation AUC: 0.7152751583709069\n",
      "Test AUC: 0.7398251442320839\n"
     ]
    }
   ],
   "source": [
    "# AUC calculation with sklearn function\n",
    "auc_valid1 = roc_auc_score(y_valid, y_pred_valid_prob1)\n",
    "auc_test1 = roc_auc_score(y_test, y_pred_test_prob1)\n",
    "print('Validation AUC:', auc_valid1)\n",
    "print('Test AUC:', auc_test1)"
   ]
  },
  {
   "cell_type": "code",
   "execution_count": 51,
   "metadata": {},
   "outputs": [
    {
     "data": {
      "text/plain": [
       "(0.6235307069543715, 0.6859739659554802)"
      ]
     },
     "execution_count": 51,
     "metadata": {},
     "output_type": "execute_result"
    }
   ],
   "source": [
    "# Epitope rank (valid and test)\n",
    "c_percentile_valid1 = get_percentile_score_arr(scores = y_pred_valid1, epitopes = y_valid)\n",
    "c_percentile_test1 = get_percentile_score_arr(scores = y_pred_test1, epitopes = y_test)\n",
    "c_percentile_valid1, c_percentile_test1"
   ]
  },
  {
   "cell_type": "code",
   "execution_count": 52,
   "metadata": {},
   "outputs": [
    {
     "name": "stdout",
     "output_type": "stream",
     "text": [
      "False positive ratio (validation): 0.3217624741709292\n",
      "False positive ratio (test): 0.27651544327197103\n"
     ]
    }
   ],
   "source": [
    "print('False positive ratio (validation):', confusion_matrix(y_valid, y_pred_valid1)[0][1]/len(y_valid))\n",
    "print('False positive ratio (test):', confusion_matrix(y_test, y_pred_test1)[0][1]/len(y_test))"
   ]
  },
  {
   "cell_type": "markdown",
   "metadata": {},
   "source": [
    "## Change 2: only sigmoid activations without balanced classes"
   ]
  },
  {
   "cell_type": "code",
   "execution_count": 53,
   "metadata": {
    "scrolled": true
   },
   "outputs": [],
   "source": [
    "# Parameters definition\n",
    "loss = 'binary_crossentropy'\n",
    "act = 'sigmoid'\n",
    "l2_value = 0.01\n",
    "\n",
    "# Training and validation of the model\n",
    "model2, history2 = nn_model(train_data=X_train_sc, y_train=y_train, valid_data=X_valid_sc, y_valid=y_valid, act_fun=act,\n",
    "                            loss_fun=loss, alpha=l2_value, class_weight_fn=class_weight_calculator, balancing=False)"
   ]
  },
  {
   "cell_type": "code",
   "execution_count": 54,
   "metadata": {},
   "outputs": [
    {
     "data": {
      "image/png": "[encoded data removed]",
      "text/plain": [
       "<Figure size 640x480 with 1 Axes>"
      ]
     },
     "metadata": {},
     "output_type": "display_data"
    }
   ],
   "source": [
    "# Summarize history for loss\n",
    "plt.plot(history2.history['loss'], label = 'train')\n",
    "plt.plot(history2.history['val_loss'], label='validation')\n",
    "plt.title('Model loss')\n",
    "plt.ylabel('Loss')\n",
    "plt.xlabel('Epoch')\n",
    "plt.legend(loc='best')\n",
    "plt.show()"
   ]
  },
  {
   "cell_type": "code",
   "execution_count": 55,
   "metadata": {},
   "outputs": [
    {
     "name": "stdout",
     "output_type": "stream",
     "text": [
      "3691/3691 [==============================] - 6s 1ms/step - loss: 0.2834 - accuracy: 0.9169 - precision_2: 0.0000e+00 - recall_2: 0.0000e+00 - auc_2: 0.7524 - binary_crossentropy: 0.2752\n",
      "loss : 0.2834497094154358\n",
      "accuracy : 0.9169235229492188\n",
      "precision : 0.0\n",
      "recall : 0.0\n",
      "auc : 0.7524168491363525\n",
      "binary_crossentropy : 0.27517178654670715\n"
     ]
    }
   ],
   "source": [
    "# Metrics from the model\n",
    "metrics_names = model.metrics_names\n",
    "metrics_values = model2.evaluate(X_valid_sc, y_valid)\n",
    "\n",
    "for name, value in zip(metrics_names, metrics_values):\n",
    "    print(name, ':', value)"
   ]
  },
  {
   "cell_type": "code",
   "execution_count": 56,
   "metadata": {},
   "outputs": [
    {
     "name": "stdout",
     "output_type": "stream",
     "text": [
      "3691/3691 [==============================] - 6s 2ms/step\n",
      "406/406 [==============================] - 0s 1ms/step\n"
     ]
    }
   ],
   "source": [
    "# Obtaining probabilities values\n",
    "y_pred_valid_prob2 = model2.predict(X_valid_sc)\n",
    "y_pred_test_prob2 = model2.predict(X_test_sc)\n",
    "\n",
    "# Conversion to 0 or 1 labels (0.5 threshold)\n",
    "y_pred_valid2 = (y_pred_valid_prob2 > 0.5).astype(int)\n",
    "y_pred_test2 = (y_pred_test_prob2 > 0.5).astype(int)"
   ]
  },
  {
   "cell_type": "code",
   "execution_count": 57,
   "metadata": {},
   "outputs": [
    {
     "name": "stdout",
     "output_type": "stream",
     "text": [
      "Valid accuracy: 0.91692\n",
      "Test accuracy: 0.93900\n"
     ]
    }
   ],
   "source": [
    "# Evaluate the model's performance\n",
    "accuracy_valid2 = accuracy_score(y_valid, y_pred_valid2)\n",
    "accuracy_test2 = accuracy_score(y_test, y_pred_test2)\n",
    "print(f'Valid accuracy: {accuracy_valid2:.5f}')\n",
    "print(f'Test accuracy: {accuracy_test2:.5f}')"
   ]
  },
  {
   "cell_type": "code",
   "execution_count": 58,
   "metadata": {},
   "outputs": [
    {
     "data": {
      "text/plain": [
       "array([[108274,      0],\n",
       "       [  9810,      0]], dtype=int64)"
      ]
     },
     "execution_count": 58,
     "metadata": {},
     "output_type": "execute_result"
    }
   ],
   "source": [
    "# Validation confusion matrix\n",
    "confusion_matrix(y_valid, y_pred_valid2)"
   ]
  },
  {
   "cell_type": "code",
   "execution_count": 59,
   "metadata": {},
   "outputs": [
    {
     "data": {
      "text/plain": [
       "array([[12191,     0],\n",
       "       [  792,     0]], dtype=int64)"
      ]
     },
     "execution_count": 59,
     "metadata": {},
     "output_type": "execute_result"
    }
   ],
   "source": [
    "# Test confusion matrix\n",
    "confusion_matrix(y_test, y_pred_test2)"
   ]
  },
  {
   "cell_type": "code",
   "execution_count": 60,
   "metadata": {},
   "outputs": [
    {
     "name": "stdout",
     "output_type": "stream",
     "text": [
      "(ROC)AUC value for the validation data: 0.754\n",
      "(PR)AUC value for the validation data: 0.193\n",
      "\n",
      "(ROC)AUC value for the test data: 0.774\n",
      "(PR)AUC value for the test data: 0.175\n"
     ]
    }
   ],
   "source": [
    "# AUC value (valid)\n",
    "ROC_AUC_valid2 = ROC_AUC(y_valid, y_pred_valid_prob2)\n",
    "PR_AUC_valid2 = PR_AUC(y_valid, y_pred_valid_prob2)\n",
    "print(f'(ROC)AUC value for the validation data: {ROC_AUC_valid2:.3f}')\n",
    "print(f'(PR)AUC value for the validation data: {PR_AUC_valid2:.3f}')\n",
    "print('')\n",
    "\n",
    "# AUC value (test)\n",
    "ROC_AUC_test2 = ROC_AUC(y_test, y_pred_test_prob2)\n",
    "PR_AUC_test2 = PR_AUC(y_test, y_pred_test_prob2)\n",
    "print(f'(ROC)AUC value for the test data: {ROC_AUC_test2:.3f}')\n",
    "print(f'(PR)AUC value for the test data: {PR_AUC_test2:.3f}')"
   ]
  },
  {
   "cell_type": "code",
   "execution_count": 61,
   "metadata": {},
   "outputs": [
    {
     "name": "stdout",
     "output_type": "stream",
     "text": [
      "Validation AUC: 0.7741105276628855\n",
      "Test AUC: 0.7855599510816476\n"
     ]
    }
   ],
   "source": [
    "# AUC calculation with sklearn function\n",
    "auc_valid2 = roc_auc_score(y_valid, y_pred_valid_prob2)\n",
    "auc_test2 = roc_auc_score(y_test, y_pred_test_prob2)\n",
    "print('Validation AUC:', auc_valid)\n",
    "print('Test AUC:', auc_test)"
   ]
  },
  {
   "cell_type": "code",
   "execution_count": 62,
   "metadata": {},
   "outputs": [
    {
     "data": {
      "text/plain": [
       "(0.0, 0.0)"
      ]
     },
     "execution_count": 62,
     "metadata": {},
     "output_type": "execute_result"
    }
   ],
   "source": [
    "# Epitope rank (valid and test)\n",
    "c_percentile_valid2 = get_percentile_score_arr(scores = y_pred_valid2, epitopes = y_valid)\n",
    "c_percentile_test2 = get_percentile_score_arr(scores = y_pred_test2, epitopes = y_test)\n",
    "c_percentile_valid2, c_percentile_test2"
   ]
  },
  {
   "cell_type": "code",
   "execution_count": 63,
   "metadata": {
    "scrolled": true
   },
   "outputs": [
    {
     "name": "stdout",
     "output_type": "stream",
     "text": [
      "False positive ratio (validation): 0.0\n",
      "False positive ratio (test): 0.0\n"
     ]
    }
   ],
   "source": [
    "print('False positive ratio (validation):', confusion_matrix(y_valid, y_pred_valid2)[0][1]/len(y_valid))\n",
    "print('False positive ratio (test):', confusion_matrix(y_test, y_pred_test2)[0][1]/len(y_test))"
   ]
  },
  {
   "cell_type": "markdown",
   "metadata": {},
   "source": [
    "## Change 3: only sigmoid activations without balanced classes and without regularization (no batch)"
   ]
  },
  {
   "cell_type": "code",
   "execution_count": 78,
   "metadata": {},
   "outputs": [],
   "source": [
    "# Neuronal network model with one layer\n",
    "def nn_model_nobatch(train_data, y_train, valid_data, y_valid, act_fun, loss_fun, alpha, class_weight_fn, balancing=True):\n",
    "    \n",
    "    '''\n",
    "    Function to create and train/validate the feed-forward neuronal network with only 1 hidden layer\n",
    "        -'train_data': X train standardized\n",
    "        -'y_train': training labels\n",
    "        -'valid_data': X validation standardized\n",
    "        -'y_valid': validation labels\n",
    "        -'act_fun': activation function\n",
    "        -'loss_fun': loss function\n",
    "        -'class_weight_calculator': function to calculate the weights for each class\n",
    "        -'balancing': True/False argument for incorporating balancing in classes\n",
    "    \n",
    "    Output:\n",
    "        -'model': neural network model trained\n",
    "        -'history': attributes obtained during fitting the model\n",
    "    '''\n",
    "    \n",
    "    # Calculation of the class weights with function previously defined\n",
    "    class_weight = class_weight_fn(y_train)\n",
    "    \n",
    "    # Normalization of the class_weight to sum 1\n",
    "    tot = class_weight[0] + class_weight[1]\n",
    "    class_weight[0] = class_weight[0]/tot\n",
    "    class_weight[1] = class_weight[1]/tot\n",
    "    \n",
    "    # Implementation of keras for creating a sequential model with 1 layer\n",
    "    tf.random.set_seed(1234)\n",
    "    from keras.layers import Dense, Dropout\n",
    "    from keras import regularizers, metrics\n",
    "    \n",
    "    model = keras.Sequential()\n",
    "    # Input layer with train_data.shape neurons and a hidden layer with 1 neuron\n",
    "    model.add(Dense(1, activation=act_fun, input_shape=train_data.shape[1:], kernel_regularizer=regularizers.l2(alpha)))\n",
    "    # Output layer with sigmoid activation (better for binary classification)\n",
    "    model.add(Dense(1, activation='sigmoid', kernel_regularizer=regularizers.l2(alpha)))\n",
    "    \n",
    "    opt = tf.keras.optimizers.Adam(learning_rate=0.0001)\n",
    "    model.compile(optimizer=opt, loss=loss_fun, metrics=\n",
    "                  ['accuracy', metrics.Precision(), metrics.Recall(), metrics.AUC(), loss_fun])\n",
    "    \n",
    "    if (balancing == True):\n",
    "        history = model.fit(train_data, y_train, epochs = 50, verbose=0, class_weight=class_weight, \n",
    "                            validation_data = (valid_data, y_valid))\n",
    "    else:\n",
    "        history = model.fit(train_data, y_train, epochs = 50, verbose=0, \n",
    "                            validation_data = (valid_data, y_valid))\n",
    "    \n",
    "    return(model, history)"
   ]
  },
  {
   "cell_type": "code",
   "execution_count": 79,
   "metadata": {
    "scrolled": true
   },
   "outputs": [],
   "source": [
    "# Parameters definition\n",
    "loss = 'binary_crossentropy'\n",
    "act = 'sigmoid'\n",
    "l2_value = None\n",
    "\n",
    "# Training and validation of the model\n",
    "model3, history3 = nn_model_nobatch(train_data=X_train_sc, y_train=y_train, valid_data=X_valid_sc, y_valid=y_valid, act_fun=act,\n",
    "                            loss_fun=loss, alpha=l2_value, class_weight_fn=class_weight_calculator, balancing=False)"
   ]
  },
  {
   "cell_type": "code",
   "execution_count": 80,
   "metadata": {},
   "outputs": [
    {
     "data": {
      "image/png": "[encoded data removed]",
      "text/plain": [
       "<Figure size 640x480 with 1 Axes>"
      ]
     },
     "metadata": {},
     "output_type": "display_data"
    }
   ],
   "source": [
    "# Summarize history for loss\n",
    "plt.plot(history3.history['loss'], label = 'train')\n",
    "plt.plot(history3.history['val_loss'], label='validation')\n",
    "plt.title('Model loss')\n",
    "plt.ylabel('Loss')\n",
    "plt.xlabel('Epoch')\n",
    "plt.legend(loc='best')\n",
    "plt.show()"
   ]
  },
  {
   "cell_type": "code",
   "execution_count": 81,
   "metadata": {},
   "outputs": [
    {
     "name": "stdout",
     "output_type": "stream",
     "text": [
      "3691/3691 [==============================] - 9s 2ms/step - loss: 0.2835 - accuracy: 0.9169 - precision_4: 0.0000e+00 - recall_4: 0.0000e+00 - auc_4: 0.7503 - binary_crossentropy: 0.2752\n",
      "loss : 0.283510684967041\n",
      "accuracy : 0.9169235229492188\n",
      "precision : 0.0\n",
      "recall : 0.0\n",
      "auc : 0.7502709627151489\n",
      "binary_crossentropy : 0.27517881989479065\n"
     ]
    }
   ],
   "source": [
    "# Metrics from the model\n",
    "metrics_names = model.metrics_names\n",
    "metrics_values = model3.evaluate(X_valid_sc, y_valid)\n",
    "\n",
    "for name, value in zip(metrics_names, metrics_values):\n",
    "    print(name, ':', value)"
   ]
  },
  {
   "cell_type": "code",
   "execution_count": 82,
   "metadata": {},
   "outputs": [
    {
     "name": "stdout",
     "output_type": "stream",
     "text": [
      "3691/3691 [==============================] - 8s 2ms/step\n",
      "406/406 [==============================] - 1s 3ms/step\n"
     ]
    }
   ],
   "source": [
    "# Obtaining probabilities values\n",
    "y_pred_valid_prob3 = model3.predict(X_valid_sc)\n",
    "y_pred_test_prob3 = model3.predict(X_test_sc)\n",
    "\n",
    "# Conversion to 0 or 1 labels (0.5 threshold)\n",
    "y_pred_valid3 = (y_pred_valid_prob3 > 0.5).astype(int)\n",
    "y_pred_test3 = (y_pred_test_prob3 > 0.5).astype(int)"
   ]
  },
  {
   "cell_type": "code",
   "execution_count": 83,
   "metadata": {},
   "outputs": [
    {
     "name": "stdout",
     "output_type": "stream",
     "text": [
      "Valid accuracy: 0.91692\n",
      "Valid accuracy: 0.93900\n"
     ]
    }
   ],
   "source": [
    "# Evaluate the model's performance\n",
    "accuracy_valid3 = accuracy_score(y_valid, y_pred_valid3)\n",
    "accuracy_test3 = accuracy_score(y_test, y_pred_test3)\n",
    "print(f'Valid accuracy: {accuracy_valid3:.5f}')\n",
    "print(f'Valid accuracy: {accuracy_test3:.5f}')"
   ]
  },
  {
   "cell_type": "code",
   "execution_count": 84,
   "metadata": {},
   "outputs": [
    {
     "data": {
      "text/plain": [
       "array([[108274,      0],\n",
       "       [  9810,      0]], dtype=int64)"
      ]
     },
     "execution_count": 84,
     "metadata": {},
     "output_type": "execute_result"
    }
   ],
   "source": [
    "# Validation confusion matrix\n",
    "confusion_matrix(y_valid, y_pred_valid3)"
   ]
  },
  {
   "cell_type": "code",
   "execution_count": 85,
   "metadata": {},
   "outputs": [
    {
     "data": {
      "text/plain": [
       "array([[12191,     0],\n",
       "       [  792,     0]], dtype=int64)"
      ]
     },
     "execution_count": 85,
     "metadata": {},
     "output_type": "execute_result"
    }
   ],
   "source": [
    "# Test confusion matrix\n",
    "confusion_matrix(y_test, y_pred_test3)"
   ]
  },
  {
   "cell_type": "code",
   "execution_count": 86,
   "metadata": {},
   "outputs": [
    {
     "name": "stdout",
     "output_type": "stream",
     "text": [
      "(ROC)AUC value for the validation data: 0.753\n",
      "(PR)AUC value for the validation data: 0.191\n",
      "\n",
      "(ROC)AUC value for the test data: 0.773\n",
      "(PR)AUC value for the test data: 0.174\n"
     ]
    }
   ],
   "source": [
    "# AUC value (valid)\n",
    "ROC_AUC_valid3 = ROC_AUC(y_valid, y_pred_valid_prob3)\n",
    "PR_AUC_valid3 = PR_AUC(y_valid, y_pred_valid_prob3)\n",
    "print(f'(ROC)AUC value for the validation data: {ROC_AUC_valid3:.3f}')\n",
    "print(f'(PR)AUC value for the validation data: {PR_AUC_valid3:.3f}')\n",
    "print('')\n",
    "\n",
    "# AUC value (test)\n",
    "ROC_AUC_test3 = ROC_AUC(y_test, y_pred_test_prob3)\n",
    "PR_AUC_test3 = PR_AUC(y_test, y_pred_test_prob3)\n",
    "print(f'(ROC)AUC value for the test data: {ROC_AUC_test3:.3f}')\n",
    "print(f'(PR)AUC value for the test data: {PR_AUC_test3:.3f}')"
   ]
  },
  {
   "cell_type": "code",
   "execution_count": 87,
   "metadata": {},
   "outputs": [
    {
     "name": "stdout",
     "output_type": "stream",
     "text": [
      "Validation AUC: 0.7525838136293213\n",
      "Test AUC: 0.7726335933363658\n"
     ]
    }
   ],
   "source": [
    "# AUC calculation with sklearn function\n",
    "auc_valid3 = roc_auc_score(y_valid, y_pred_valid_prob3)\n",
    "auc_test3 = roc_auc_score(y_test, y_pred_test_prob3)\n",
    "print('Validation AUC:', auc_valid3)\n",
    "print('Test AUC:', auc_test3)"
   ]
  },
  {
   "cell_type": "code",
   "execution_count": 88,
   "metadata": {},
   "outputs": [
    {
     "data": {
      "text/plain": [
       "(0.0, 0.0)"
      ]
     },
     "execution_count": 88,
     "metadata": {},
     "output_type": "execute_result"
    }
   ],
   "source": [
    "# Epitope rank (valid and test)\n",
    "c_percentile_valid3 = get_percentile_score_arr(scores = y_pred_valid3, epitopes = y_valid)\n",
    "c_percentile_test3 = get_percentile_score_arr(scores = y_pred_test3, epitopes = y_test)\n",
    "c_percentile_valid3, c_percentile_test3"
   ]
  },
  {
   "cell_type": "code",
   "execution_count": 89,
   "metadata": {
    "scrolled": true
   },
   "outputs": [
    {
     "name": "stdout",
     "output_type": "stream",
     "text": [
      "False positive ratio (validation): 0.0\n",
      "False positive ratio (test): 0.0\n"
     ]
    }
   ],
   "source": [
    "print('False positive ratio (validation):', confusion_matrix(y_valid, y_pred_valid3)[0][1]/len(y_valid))\n",
    "print('False positive ratio (test):', confusion_matrix(y_test, y_pred_test3)[0][1]/len(y_test))"
   ]
  },
  {
   "cell_type": "markdown",
   "metadata": {},
   "source": [
    "## Change 4: relu and sigmoid activations without balanced classes and without regularization (no batch)"
   ]
  },
  {
   "cell_type": "code",
   "execution_count": 90,
   "metadata": {
    "scrolled": true
   },
   "outputs": [],
   "source": [
    "# Parameters definition\n",
    "loss = 'binary_crossentropy'\n",
    "act = 'relu'\n",
    "l2_value = None\n",
    "\n",
    "# Training and validation of the model\n",
    "model4, history4 = nn_model_nobatch(train_data=X_train_sc, y_train=y_train, valid_data=X_valid_sc, y_valid=y_valid, act_fun=act,\n",
    "                            loss_fun=loss, alpha=l2_value, class_weight_fn=class_weight_calculator, balancing=False)"
   ]
  },
  {
   "cell_type": "code",
   "execution_count": 91,
   "metadata": {},
   "outputs": [
    {
     "data": {
      "image/png": "[encoded data removed]",
      "text/plain": [
       "<Figure size 640x480 with 1 Axes>"
      ]
     },
     "metadata": {},
     "output_type": "display_data"
    }
   ],
   "source": [
    "# Summarize history for loss\n",
    "plt.plot(history4.history['loss'], label = 'train')\n",
    "plt.plot(history4.history['val_loss'], label='validation')\n",
    "plt.title('Model loss')\n",
    "plt.ylabel('Loss')\n",
    "plt.xlabel('Epoch')\n",
    "plt.legend(loc='best')\n",
    "plt.show()"
   ]
  },
  {
   "cell_type": "code",
   "execution_count": 92,
   "metadata": {},
   "outputs": [
    {
     "name": "stdout",
     "output_type": "stream",
     "text": [
      "3691/3691 [==============================] - 8s 2ms/step - loss: 0.2867 - accuracy: 0.9169 - precision_5: 0.0000e+00 - recall_5: 0.0000e+00 - auc_5: 0.5000 - binary_crossentropy: 0.2867\n",
      "loss : 0.28666624426841736\n",
      "accuracy : 0.9169235229492188\n",
      "precision : 0.0\n",
      "recall : 0.0\n",
      "auc : 0.5\n",
      "binary_crossentropy : 0.28666624426841736\n"
     ]
    }
   ],
   "source": [
    "# Metrics from the model\n",
    "metrics_names = model.metrics_names\n",
    "metrics_values = model4.evaluate(X_valid_sc, y_valid)\n",
    "\n",
    "for name, value in zip(metrics_names, metrics_values):\n",
    "    print(name, ':', value)"
   ]
  },
  {
   "cell_type": "code",
   "execution_count": 93,
   "metadata": {},
   "outputs": [
    {
     "name": "stdout",
     "output_type": "stream",
     "text": [
      "3691/3691 [==============================] - 9s 2ms/step\n",
      "406/406 [==============================] - 0s 1ms/step\n"
     ]
    }
   ],
   "source": [
    "# Obtaining probabilities values\n",
    "y_pred_valid_prob4 = model4.predict(X_valid_sc)\n",
    "y_pred_test_prob4 = model4.predict(X_test_sc)\n",
    "\n",
    "# Conversion to 0 or 1 labels (0.5 threshold)\n",
    "y_pred_valid4 = (y_pred_valid_prob4 > 0.5).astype(int)\n",
    "y_pred_test4 = (y_pred_test_prob4 > 0.5).astype(int)"
   ]
  },
  {
   "cell_type": "code",
   "execution_count": 94,
   "metadata": {},
   "outputs": [
    {
     "name": "stdout",
     "output_type": "stream",
     "text": [
      "Valid accuracy: 0.91692\n",
      "Valid accuracy: 0.93900\n"
     ]
    }
   ],
   "source": [
    "# Evaluate the model's performance\n",
    "accuracy_valid4 = accuracy_score(y_valid, y_pred_valid4)\n",
    "accuracy_test4 = accuracy_score(y_test, y_pred_test4)\n",
    "print(f'Valid accuracy: {accuracy_valid4:.5f}')\n",
    "print(f'Valid accuracy: {accuracy_test4:.5f}')"
   ]
  },
  {
   "cell_type": "code",
   "execution_count": 95,
   "metadata": {},
   "outputs": [
    {
     "data": {
      "text/plain": [
       "array([[108274,      0],\n",
       "       [  9810,      0]], dtype=int64)"
      ]
     },
     "execution_count": 95,
     "metadata": {},
     "output_type": "execute_result"
    }
   ],
   "source": [
    "# Validation confusion matrix\n",
    "confusion_matrix(y_valid, y_pred_valid4)"
   ]
  },
  {
   "cell_type": "code",
   "execution_count": 96,
   "metadata": {},
   "outputs": [
    {
     "data": {
      "text/plain": [
       "array([[12191,     0],\n",
       "       [  792,     0]], dtype=int64)"
      ]
     },
     "execution_count": 96,
     "metadata": {},
     "output_type": "execute_result"
    }
   ],
   "source": [
    "# Test confusion matrix\n",
    "confusion_matrix(y_test, y_pred_test4)"
   ]
  },
  {
   "cell_type": "code",
   "execution_count": 97,
   "metadata": {},
   "outputs": [
    {
     "name": "stdout",
     "output_type": "stream",
     "text": [
      "(ROC)AUC value for the validation data: 0.500\n",
      "(PR)AUC value for the validation data: 0.542\n",
      "\n",
      "(ROC)AUC value for the test data: 0.500\n",
      "(PR)AUC value for the test data: 0.531\n"
     ]
    }
   ],
   "source": [
    "# AUC value (valid)\n",
    "ROC_AUC_valid4 = ROC_AUC(y_valid, y_pred_valid_prob4)\n",
    "PR_AUC_valid4 = PR_AUC(y_valid, y_pred_valid_prob4)\n",
    "print(f'(ROC)AUC value for the validation data: {ROC_AUC_valid4:.3f}')\n",
    "print(f'(PR)AUC value for the validation data: {PR_AUC_valid4:.3f}')\n",
    "print('')\n",
    "\n",
    "# AUC value (test)\n",
    "ROC_AUC_test4 = ROC_AUC(y_test, y_pred_test_prob4)\n",
    "PR_AUC_test4 = PR_AUC(y_test, y_pred_test_prob4)\n",
    "print(f'(ROC)AUC value for the test data: {ROC_AUC_test4:.3f}')\n",
    "print(f'(PR)AUC value for the test data: {PR_AUC_test4:.3f}')"
   ]
  },
  {
   "cell_type": "code",
   "execution_count": 98,
   "metadata": {},
   "outputs": [
    {
     "name": "stdout",
     "output_type": "stream",
     "text": [
      "Validation AUC: 0.5\n",
      "Test AUC: 0.5001230415880568\n"
     ]
    }
   ],
   "source": [
    "# AUC calculation with sklearn function\n",
    "auc_valid4 = roc_auc_score(y_valid, y_pred_valid_prob4)\n",
    "auc_test4 = roc_auc_score(y_test, y_pred_test_prob4)\n",
    "print('Validation AUC:', auc_valid4)\n",
    "print('Test AUC:', auc_test4)"
   ]
  },
  {
   "cell_type": "code",
   "execution_count": 99,
   "metadata": {},
   "outputs": [
    {
     "data": {
      "text/plain": [
       "(0.0, 0.0)"
      ]
     },
     "execution_count": 99,
     "metadata": {},
     "output_type": "execute_result"
    }
   ],
   "source": [
    "# Epitope rank (valid and test)\n",
    "c_percentile_valid4 = get_percentile_score_arr(scores = y_pred_valid4, epitopes = y_valid)\n",
    "c_percentile_test4 = get_percentile_score_arr(scores = y_pred_test4, epitopes = y_test)\n",
    "c_percentile_valid4, c_percentile_test4"
   ]
  },
  {
   "cell_type": "code",
   "execution_count": 100,
   "metadata": {
    "scrolled": false
   },
   "outputs": [
    {
     "name": "stdout",
     "output_type": "stream",
     "text": [
      "False positive ratio (validation): 0.0\n",
      "False positive ratio (test): 0.0\n"
     ]
    }
   ],
   "source": [
    "print('False positive ratio (validation):', confusion_matrix(y_valid, y_pred_valid4)[0][1]/len(y_valid))\n",
    "print('False positive ratio (test):', confusion_matrix(y_test, y_pred_test4)[0][1]/len(y_test))"
   ]
  },
  {
   "cell_type": "markdown",
   "metadata": {},
   "source": [
    "## Change 5: relu and sigmoid activations without balanced classes and without regularization (with batch)"
   ]
  },
  {
   "cell_type": "code",
   "execution_count": 101,
   "metadata": {
    "scrolled": true
   },
   "outputs": [],
   "source": [
    "# Parameters definition\n",
    "loss = 'binary_crossentropy'\n",
    "act = 'relu'\n",
    "l2_value = None\n",
    "\n",
    "# Training and validation of the model\n",
    "model5, history5 = nn_model(train_data=X_train_sc, y_train=y_train, valid_data=X_valid_sc, y_valid=y_valid, act_fun=act,\n",
    "                            loss_fun=loss, alpha=l2_value, class_weight_fn=class_weight_calculator, balancing=False)"
   ]
  },
  {
   "cell_type": "code",
   "execution_count": 102,
   "metadata": {},
   "outputs": [
    {
     "data": {
      "image/png": "[encoded data removed]",
      "text/plain": [
       "<Figure size 640x480 with 1 Axes>"
      ]
     },
     "metadata": {},
     "output_type": "display_data"
    }
   ],
   "source": [
    "# Summarize history for loss\n",
    "plt.plot(history5.history['loss'], label = 'train')\n",
    "plt.plot(history5.history['val_loss'], label='validation')\n",
    "plt.title('Model loss')\n",
    "plt.ylabel('Loss')\n",
    "plt.xlabel('Epoch')\n",
    "plt.legend(loc='best')\n",
    "plt.show()"
   ]
  },
  {
   "cell_type": "code",
   "execution_count": 103,
   "metadata": {},
   "outputs": [
    {
     "name": "stdout",
     "output_type": "stream",
     "text": [
      "3691/3691 [==============================] - 8s 2ms/step - loss: 0.2592 - accuracy: 0.9169 - precision_6: 0.3000 - recall_6: 3.0581e-04 - auc_6: 0.7815 - binary_crossentropy: 0.2477\n",
      "loss : 0.2592238783836365\n",
      "accuracy : 0.9168896675109863\n",
      "precision : 0.30000001192092896\n",
      "recall : 0.0003058103902731091\n",
      "auc : 0.7814557552337646\n",
      "binary_crossentropy : 0.24770700931549072\n"
     ]
    }
   ],
   "source": [
    "# Metrics from the model\n",
    "metrics_names = model.metrics_names\n",
    "metrics_values = model5.evaluate(X_valid_sc, y_valid)\n",
    "\n",
    "for name, value in zip(metrics_names, metrics_values):\n",
    "    print(name, ':', value)"
   ]
  },
  {
   "cell_type": "code",
   "execution_count": 104,
   "metadata": {},
   "outputs": [
    {
     "name": "stdout",
     "output_type": "stream",
     "text": [
      "3691/3691 [==============================] - 6s 2ms/step\n",
      "406/406 [==============================] - 1s 2ms/step\n"
     ]
    }
   ],
   "source": [
    "# Obtaining probabilities values\n",
    "y_pred_valid_prob5 = model5.predict(X_valid_sc)\n",
    "y_pred_test_prob5 = model5.predict(X_test_sc)\n",
    "\n",
    "# Conversion to 0 or 1 labels (0.5 threshold)\n",
    "y_pred_valid5 = (y_pred_valid_prob5 > 0.5).astype(int)\n",
    "y_pred_test5 = (y_pred_test_prob5 > 0.5).astype(int)"
   ]
  },
  {
   "cell_type": "code",
   "execution_count": 105,
   "metadata": {},
   "outputs": [
    {
     "name": "stdout",
     "output_type": "stream",
     "text": [
      "Valid accuracy: 0.91689\n",
      "Valid accuracy: 0.93900\n"
     ]
    }
   ],
   "source": [
    "# Evaluate the model's performance\n",
    "accuracy_valid5 = accuracy_score(y_valid, y_pred_valid5)\n",
    "accuracy_test5 = accuracy_score(y_test, y_pred_test5)\n",
    "print(f'Valid accuracy: {accuracy_valid5:.5f}')\n",
    "print(f'Valid accuracy: {accuracy_test5:.5f}')"
   ]
  },
  {
   "cell_type": "code",
   "execution_count": 106,
   "metadata": {},
   "outputs": [
    {
     "data": {
      "text/plain": [
       "array([[108267,      7],\n",
       "       [  9807,      3]], dtype=int64)"
      ]
     },
     "execution_count": 106,
     "metadata": {},
     "output_type": "execute_result"
    }
   ],
   "source": [
    "# Validation confusion matrix\n",
    "confusion_matrix(y_valid, y_pred_valid5)"
   ]
  },
  {
   "cell_type": "code",
   "execution_count": 107,
   "metadata": {},
   "outputs": [
    {
     "data": {
      "text/plain": [
       "array([[12191,     0],\n",
       "       [  792,     0]], dtype=int64)"
      ]
     },
     "execution_count": 107,
     "metadata": {},
     "output_type": "execute_result"
    }
   ],
   "source": [
    "# Test confusion matrix\n",
    "confusion_matrix(y_test, y_pred_test5)"
   ]
  },
  {
   "cell_type": "code",
   "execution_count": 108,
   "metadata": {},
   "outputs": [
    {
     "name": "stdout",
     "output_type": "stream",
     "text": [
      "(ROC)AUC value for the validation data: 0.782\n",
      "(PR)AUC value for the validation data: 0.241\n",
      "\n",
      "(ROC)AUC value for the test data: 0.787\n",
      "(PR)AUC value for the test data: 0.213\n"
     ]
    }
   ],
   "source": [
    "# AUC value (valid)\n",
    "ROC_AUC_valid5 = ROC_AUC(y_valid, y_pred_valid_prob5)\n",
    "PR_AUC_valid5 = PR_AUC(y_valid, y_pred_valid_prob5)\n",
    "print(f'(ROC)AUC value for the validation data: {ROC_AUC_valid5:.3f}')\n",
    "print(f'(PR)AUC value for the validation data: {PR_AUC_valid5:.3f}')\n",
    "print('')\n",
    "\n",
    "# AUC value (test)\n",
    "ROC_AUC_test5 = ROC_AUC(y_test, y_pred_test_prob5)\n",
    "PR_AUC_test5 = PR_AUC(y_test, y_pred_test_prob5)\n",
    "print(f'(ROC)AUC value for the test data: {ROC_AUC_test5:.3f}')\n",
    "print(f'(PR)AUC value for the test data: {PR_AUC_test5:.3f}')"
   ]
  },
  {
   "cell_type": "code",
   "execution_count": 109,
   "metadata": {},
   "outputs": [
    {
     "name": "stdout",
     "output_type": "stream",
     "text": [
      "Validation AUC: 0.7817045715953355\n",
      "Test AUC: 0.7873190418664539\n"
     ]
    }
   ],
   "source": [
    "# AUC calculation with sklearn function\n",
    "auc_valid5 = roc_auc_score(y_valid, y_pred_valid_prob5)\n",
    "auc_test5 = roc_auc_score(y_test, y_pred_test_prob5)\n",
    "print('Validation AUC:', auc_valid5)\n",
    "print('Test AUC:', auc_test5)"
   ]
  },
  {
   "cell_type": "code",
   "execution_count": 110,
   "metadata": {},
   "outputs": [
    {
     "data": {
      "text/plain": [
       "(0.9999153145218658, 0.0)"
      ]
     },
     "execution_count": 110,
     "metadata": {},
     "output_type": "execute_result"
    }
   ],
   "source": [
    "# Epitope rank (valid and test)\n",
    "c_percentile_valid5 = get_percentile_score_arr(scores = y_pred_valid5, epitopes = y_valid)\n",
    "c_percentile_test5 = get_percentile_score_arr(scores = y_pred_test5, epitopes = y_test)\n",
    "c_percentile_valid5, c_percentile_test5"
   ]
  },
  {
   "cell_type": "code",
   "execution_count": 111,
   "metadata": {
    "scrolled": false
   },
   "outputs": [
    {
     "name": "stdout",
     "output_type": "stream",
     "text": [
      "False positive ratio (validation): 5.9279834693946685e-05\n",
      "False positive ratio (test): 0.0\n"
     ]
    }
   ],
   "source": [
    "print('False positive ratio (validation):', confusion_matrix(y_valid, y_pred_valid5)[0][1]/len(y_valid))\n",
    "print('False positive ratio (test):', confusion_matrix(y_test, y_pred_test5)[0][1]/len(y_test))"
   ]
  },
  {
   "cell_type": "markdown",
   "metadata": {},
   "source": [
    "## Change 6: relu and sigmoid activations without balanced classes and with regularization (with batch)"
   ]
  },
  {
   "cell_type": "code",
   "execution_count": 112,
   "metadata": {
    "scrolled": true
   },
   "outputs": [],
   "source": [
    "# Parameters definition\n",
    "loss = 'binary_crossentropy'\n",
    "act = 'relu'\n",
    "l2_value = 0.01\n",
    "\n",
    "# Training and validation of the model\n",
    "model6, history6 = nn_model(train_data=X_train_sc, y_train=y_train, valid_data=X_valid_sc, y_valid=y_valid, act_fun=act,\n",
    "                            loss_fun=loss, alpha=l2_value, class_weight_fn=class_weight_calculator, balancing=False)"
   ]
  },
  {
   "cell_type": "code",
   "execution_count": 113,
   "metadata": {},
   "outputs": [
    {
     "data": {
      "image/png": "[encoded data removed]",
      "text/plain": [
       "<Figure size 640x480 with 1 Axes>"
      ]
     },
     "metadata": {},
     "output_type": "display_data"
    }
   ],
   "source": [
    "# Summarize history for loss\n",
    "plt.plot(history6.history['loss'], label = 'train')\n",
    "plt.plot(history6.history['val_loss'], label='validation')\n",
    "plt.title('Model loss')\n",
    "plt.ylabel('Loss')\n",
    "plt.xlabel('Epoch')\n",
    "plt.legend(loc='best')\n",
    "plt.show()"
   ]
  },
  {
   "cell_type": "code",
   "execution_count": 114,
   "metadata": {},
   "outputs": [
    {
     "name": "stdout",
     "output_type": "stream",
     "text": [
      "3691/3691 [==============================] - 8s 2ms/step - loss: 0.2585 - accuracy: 0.9169 - precision_7: 0.0000e+00 - recall_7: 0.0000e+00 - auc_7: 0.7820 - binary_crossentropy: 0.2468\n",
      "loss : 0.25854671001434326\n",
      "accuracy : 0.9169235229492188\n",
      "precision : 0.0\n",
      "recall : 0.0\n",
      "auc : 0.7820013761520386\n",
      "binary_crossentropy : 0.24683313071727753\n"
     ]
    }
   ],
   "source": [
    "# Metrics from the model\n",
    "metrics_names = model.metrics_names\n",
    "metrics_values = model6.evaluate(X_valid_sc, y_valid)\n",
    "\n",
    "for name, value in zip(metrics_names, metrics_values):\n",
    "    print(name, ':', value)"
   ]
  },
  {
   "cell_type": "code",
   "execution_count": 115,
   "metadata": {},
   "outputs": [
    {
     "name": "stdout",
     "output_type": "stream",
     "text": [
      "3691/3691 [==============================] - 6s 2ms/step\n",
      "406/406 [==============================] - 1s 2ms/step\n"
     ]
    }
   ],
   "source": [
    "# Obtaining probabilities values\n",
    "y_pred_valid_prob6 = model6.predict(X_valid_sc)\n",
    "y_pred_test_prob6 = model6.predict(X_test_sc)\n",
    "\n",
    "# Conversion to 0 or 1 labels (0.5 threshold)\n",
    "y_pred_valid6 = (y_pred_valid_prob6 > 0.5).astype(int)\n",
    "y_pred_test6 = (y_pred_test_prob6 > 0.5).astype(int)"
   ]
  },
  {
   "cell_type": "code",
   "execution_count": 116,
   "metadata": {},
   "outputs": [
    {
     "name": "stdout",
     "output_type": "stream",
     "text": [
      "Valid accuracy: 0.91692\n",
      "Valid accuracy: 0.93900\n"
     ]
    }
   ],
   "source": [
    "# Evaluate the model's performance\n",
    "accuracy_valid6 = accuracy_score(y_valid, y_pred_valid6)\n",
    "accuracy_test6 = accuracy_score(y_test, y_pred_test6)\n",
    "print(f'Valid accuracy: {accuracy_valid6:.5f}')\n",
    "print(f'Valid accuracy: {accuracy_test6:.5f}')"
   ]
  },
  {
   "cell_type": "code",
   "execution_count": 117,
   "metadata": {},
   "outputs": [
    {
     "data": {
      "text/plain": [
       "array([[108274,      0],\n",
       "       [  9810,      0]], dtype=int64)"
      ]
     },
     "execution_count": 117,
     "metadata": {},
     "output_type": "execute_result"
    }
   ],
   "source": [
    "# Validation confusion matrix\n",
    "confusion_matrix(y_valid, y_pred_valid6)"
   ]
  },
  {
   "cell_type": "code",
   "execution_count": 118,
   "metadata": {},
   "outputs": [
    {
     "data": {
      "text/plain": [
       "array([[12191,     0],\n",
       "       [  792,     0]], dtype=int64)"
      ]
     },
     "execution_count": 118,
     "metadata": {},
     "output_type": "execute_result"
    }
   ],
   "source": [
    "# Test confusion matrix\n",
    "confusion_matrix(y_test, y_pred_test6)"
   ]
  },
  {
   "cell_type": "code",
   "execution_count": 120,
   "metadata": {},
   "outputs": [
    {
     "name": "stdout",
     "output_type": "stream",
     "text": [
      "(ROC)AUC value for the validation data: 0.782\n",
      "(PR)AUC value for the validation data: 0.249\n",
      "\n",
      "(ROC)AUC value for the test data: 0.789\n",
      "(PR)AUC value for the test data: 0.214\n"
     ]
    }
   ],
   "source": [
    "# AUC value (valid)\n",
    "ROC_AUC_valid6 = ROC_AUC(y_valid, y_pred_valid_prob6)\n",
    "PR_AUC_valid6 = PR_AUC(y_valid, y_pred_valid_prob6)\n",
    "print(f'(ROC)AUC value for the validation data: {ROC_AUC_valid6:.3f}')\n",
    "print(f'(PR)AUC value for the validation data: {PR_AUC_valid6:.3f}')\n",
    "print('')\n",
    "\n",
    "# AUC value (test)\n",
    "ROC_AUC_test6 = ROC_AUC(y_test, y_pred_test_prob6)\n",
    "PR_AUC_test6 = PR_AUC(y_test, y_pred_test_prob6)\n",
    "print(f'(ROC)AUC value for the test data: {ROC_AUC_test6:.3f}')\n",
    "print(f'(PR)AUC value for the test data: {PR_AUC_test6:.3f}')"
   ]
  },
  {
   "cell_type": "code",
   "execution_count": 121,
   "metadata": {},
   "outputs": [
    {
     "name": "stdout",
     "output_type": "stream",
     "text": [
      "Validation AUC: 0.7822224393253671\n",
      "Test AUC: 0.7891392391638474\n"
     ]
    }
   ],
   "source": [
    "# AUC calculation with sklearn function\n",
    "auc_valid6 = roc_auc_score(y_valid, y_pred_valid_prob6)\n",
    "auc_test6 = roc_auc_score(y_test, y_pred_test_prob6)\n",
    "print('Validation AUC:', auc_valid6)\n",
    "print('Test AUC:', auc_test6)"
   ]
  },
  {
   "cell_type": "code",
   "execution_count": 122,
   "metadata": {},
   "outputs": [
    {
     "data": {
      "text/plain": [
       "(0.0, 0.0)"
      ]
     },
     "execution_count": 122,
     "metadata": {},
     "output_type": "execute_result"
    }
   ],
   "source": [
    "# Epitope rank (valid and test)\n",
    "c_percentile_valid6 = get_percentile_score_arr(scores = y_pred_valid6, epitopes = y_valid)\n",
    "c_percentile_test6 = get_percentile_score_arr(scores = y_pred_test6, epitopes = y_test)\n",
    "c_percentile_valid6, c_percentile_test6"
   ]
  },
  {
   "cell_type": "code",
   "execution_count": 123,
   "metadata": {
    "scrolled": false
   },
   "outputs": [
    {
     "name": "stdout",
     "output_type": "stream",
     "text": [
      "False positive ratio (validation): 0.0\n",
      "False positive ratio (test): 0.0\n"
     ]
    }
   ],
   "source": [
    "print('False positive ratio (validation):', confusion_matrix(y_valid, y_pred_valid6)[0][1]/len(y_valid))\n",
    "print('False positive ratio (test):', confusion_matrix(y_test, y_pred_test6)[0][1]/len(y_test))"
   ]
  },
  {
   "cell_type": "code",
   "execution_count": null,
   "metadata": {},
   "outputs": [],
   "source": []
  }
 ],
 "metadata": {
  "kernelspec": {
   "display_name": "Python 3 (ipykernel)",
   "language": "python",
   "name": "python3"
  },
  "language_info": {
   "codemirror_mode": {
    "name": "ipython",
    "version": 3
   },
   "file_extension": ".py",
   "mimetype": "text/x-python",
   "name": "python",
   "nbconvert_exporter": "python",
   "pygments_lexer": "ipython3",
   "version": "3.10.9"
  },
  "vscode": {
   "interpreter": {
    "hash": "98d96843242ea63546b941eb98e2ac308b462277a7c4020ae14ccf41d9fe0ade"
   }
  }
 },
 "nbformat": 4,
 "nbformat_minor": 2
}
