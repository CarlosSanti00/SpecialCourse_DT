{
 "cells": [
  {
   "cell_type": "markdown",
   "metadata": {},
   "source": [
    "# RNN for the original whole dataset"
   ]
  },
  {
   "cell_type": "code",
   "execution_count": 1,
   "metadata": {
    "scrolled": false
   },
   "outputs": [
    {
     "name": "stderr",
     "output_type": "stream",
     "text": [
      "C:\\Users\\minij\\anaconda3\\envs\\special_course\\lib\\site-packages\\tqdm\\auto.py:22: TqdmWarning: IProgress not found. Please update jupyter and ipywidgets. See https://ipywidgets.readthedocs.io/en/stable/user_install.html\n",
      "  from .autonotebook import tqdm as notebook_tqdm\n"
     ]
    }
   ],
   "source": [
    "# Import of required libraries and functions from 'make_dataset' script\n",
    "import os\n",
    "from make_dataset import Discotope_Dataset\n",
    "import numpy as np\n",
    "import torch\n",
    "import pandas as pd\n",
    "import re\n",
    "import matplotlib.pyplot as plt\n",
    "from sklearn.utils.class_weight import compute_class_weight\n",
    "from sklearn.preprocessing import MinMaxScaler, StandardScaler\n",
    "from sklearn import metrics\n",
    "from sklearn.metrics import accuracy_score, log_loss, confusion_matrix, roc_auc_score\n",
    "from tqdm import tqdm\n",
    "from IPython.display import clear_output"
   ]
  },
  {
   "cell_type": "code",
   "execution_count": 2,
   "metadata": {},
   "outputs": [],
   "source": [
    "# Import tensorflow and keras\n",
    "import tensorflow as tf\n",
    "from tensorflow import keras"
   ]
  },
  {
   "cell_type": "code",
   "execution_count": 3,
   "metadata": {},
   "outputs": [],
   "source": [
    "tf.random.set_seed(1234)"
   ]
  },
  {
   "cell_type": "code",
   "execution_count": 4,
   "metadata": {},
   "outputs": [],
   "source": [
    "def data_load(name_set, data_dir, separate=False):\n",
    "    \n",
    "    '''\n",
    "    Function to load training, validation or test data from the folder/directory you have storaged the whole dataset\n",
    "        - 'name_set': text variable with the type of data set to load ('train', 'test', 'valid')\n",
    "        - 'data_dir': directory where you have storaged the data set (in my case is '../Data/')\n",
    "        - 'separate': boolean that returns the PDBs and AF2 sets separately (only when True)\n",
    "    \n",
    "    Output:\n",
    "        - 'X_all': all observations from both solved and predicted structures all together\n",
    "        - 'y_all': all labels from both solved and predicted structures all together\n",
    "        - 'N_solved': number of observations from solved structures (in case of wanted to unmerge the 'all' array)\n",
    "        - 'N_af2': number of observations from predicted structures (in case of wanted to unmerge the 'all' array)\n",
    "    '''\n",
    "    \n",
    "    # 'Pathlib module' load to work with windows path\n",
    "    import pathlib\n",
    "    temp = pathlib.PosixPath\n",
    "    pathlib.PosixPath = pathlib.WindowsPath\n",
    "    \n",
    "    # List of all subdirectories inside the data directory\n",
    "    dirs = [d for d in os.listdir(data_dir)]\n",
    "    \n",
    "    # 're' module to use regex for filtering the specific directories according to the type of data set to load\n",
    "    pattern = '.*' + name_set + '.*'\n",
    "    R = re.compile(pattern)\n",
    "    filtered = [folder for folder in dirs if R.match(folder)]\n",
    "    \n",
    "    # Loading the data set for solved structures and AlphaFold2 predicted structures\n",
    "    path_af2 = data_dir + filtered[0] + '/dataset.pt'\n",
    "    path_solved = data_dir + filtered[1] + '/dataset.pt'\n",
    "    set_af2 = torch.load(path_af2)\n",
    "    set_solved = torch.load(path_solved)\n",
    "    \n",
    "    # Stack all features and targets to one big array (removing NaN entries)\n",
    "    X_set_solved = np.concatenate([set_solved[i][\"X_arr\"] for i in range(0, len(set_solved), 1) if not set_solved[i]['df_stats']['rsa'].isna().any()])\n",
    "    y_set_solved = np.concatenate([set_solved[i][\"y_arr\"] for i in range(0, len(set_solved), 1) if not set_solved[i]['df_stats']['rsa'].isna().any()])\n",
    "    X_set_af2 = np.concatenate([set_af2[i][\"X_arr\"] for i in range(0, len(set_solved), 1) if not set_solved[i]['df_stats']['rsa'].isna().any()])\n",
    "    y_set_af2 = np.concatenate([set_af2[i][\"y_arr\"] for i in range(0, len(set_solved), 1) if not set_solved[i]['df_stats']['rsa'].isna().any()])\n",
    "    \n",
    "    # Nº of observations for each subtype of data set\n",
    "    N_set_solved = X_set_solved.shape[0]\n",
    "    N_set_af2 = X_set_af2.shape[0]\n",
    "    \n",
    "    # Stack all features and targets from solved and predicted structures into only one big\n",
    "    X_set_all = np.concatenate((X_set_solved, X_set_af2), axis=0)\n",
    "    y_set_all = np.concatenate((y_set_solved, y_set_af2), axis=0)\n",
    "    \n",
    "    if (separate==True):\n",
    "        return(X_set_all, y_set_all, X_set_solved, y_set_solved, X_set_af2, y_set_af2)\n",
    "    else:\n",
    "        return(X_set_all, y_set_all, N_set_solved, N_set_af2)"
   ]
  },
  {
   "cell_type": "code",
   "execution_count": 5,
   "metadata": {},
   "outputs": [],
   "source": [
    "def results_df_stats_creation(name_set, data_dir):\n",
    "    \n",
    "    '''\n",
    "    Function to store the stats information from each pdb of the original dataset\n",
    "        - 'name_set': text variable with the type of data set to load ('train', 'test', 'valid')\n",
    "        - 'data_dir': directory where you have storaged the data set (in my case is '../Data/')\n",
    "    \n",
    "    Output:\n",
    "        - 'stats_df_solved': dataframe for the solved structures (removing NaN entries of RSA values)\n",
    "        - 'stats_df_af2': dataframe for the AF2 structures (removing NaN entries of RSA values)\n",
    "    '''\n",
    "    \n",
    "    # 'Pathlib module' load to work with windows path\n",
    "    import pathlib\n",
    "    temp = pathlib.PosixPath\n",
    "    pathlib.PosixPath = pathlib.WindowsPath\n",
    "    \n",
    "    # List of all subdirectories inside the data directory\n",
    "    dirs = [d for d in os.listdir(data_dir)]\n",
    "    \n",
    "    # 're' module to use regex for filtering the specific directories according to the type of data set to load\n",
    "    pattern = '.*' + name_set + '.*'\n",
    "    R = re.compile(pattern)\n",
    "    filtered = [folder for folder in dirs if R.match(folder)]\n",
    "    \n",
    "    # Loading the data set for solved structures and AlphaFold2 predicted structures\n",
    "    path_af2 = data_dir + filtered[0] + '/dataset.pt'\n",
    "    path_solved = data_dir + filtered[1] + '/dataset.pt'\n",
    "    set_af2 = torch.load(path_af2)\n",
    "    set_solved = torch.load(path_solved)\n",
    "    \n",
    "    # Stats dataframe creation for SOLVED and AF2 structures (removing 'NaN' entries according the PDB set)\n",
    "    stats_dfs_solved = []\n",
    "    stats_dfs_af2 = []\n",
    "    for i in range(0, len(set_solved), 1):\n",
    "        sample = set_solved[i]\n",
    "        sample_af2 = set_af2[i]\n",
    "        df_sample = sample['df_stats']\n",
    "        df_sample_af2 = sample_af2['df_stats']\n",
    "        \n",
    "        # Removing 'NaN' entries and adding the epitope column\n",
    "        if(df_sample['rsa'].isna().any() == False):\n",
    "            df_sample['epitope'] = sample['y_arr'].astype(bool)\n",
    "            df_sample_af2['epitope'] = sample_af2['y_arr'].astype(bool)\n",
    "            stats_dfs_solved.append(df_sample)\n",
    "            stats_dfs_af2.append(df_sample_af2)\n",
    "    \n",
    "    return(stats_dfs_solved, stats_dfs_af2)"
   ]
  },
  {
   "cell_type": "code",
   "execution_count": 6,
   "metadata": {},
   "outputs": [],
   "source": [
    "def dataframe_load(name_set, data_dir):\n",
    "    \n",
    "    '''\n",
    "    Function to load training, validation or test dataframes from the folder/directory you have storaged the whole dataset.\n",
    "    This function is specifically to have the original dataframes of the data, and their corresponding description\n",
    "        - 'name_set': text variable with the type of data set to load ('train', 'test', 'valid')\n",
    "        - 'data_dir': directory where you have storaged the data set (in my case is '../Data/')\n",
    "    \n",
    "    Output:\n",
    "        - 'set_af2': dataframe for AF2 predicted structures\n",
    "        - 'set_solved': dataframe for PDB solved structures\n",
    "    '''\n",
    "    \n",
    "    # 'Pathlib module' load to work with windows path\n",
    "    import pathlib\n",
    "    temp = pathlib.PosixPath\n",
    "    pathlib.PosixPath = pathlib.WindowsPath\n",
    "    \n",
    "    # List of all subdirectories inside the data directory\n",
    "    dirs = [d for d in os.listdir(data_dir)]\n",
    "    \n",
    "    # 're' module to use regex for filtering the specific directories according to the type of data set to load\n",
    "    pattern = '.*' + name_set + '.*'\n",
    "    R = re.compile(pattern)\n",
    "    filtered = [folder for folder in dirs if R.match(folder)]\n",
    "    \n",
    "    # Loading the data set for solved structures and AlphaFold2 predicted structures\n",
    "    path_af2 = data_dir + filtered[0] + '/dataset.pt'\n",
    "    path_solved = data_dir + filtered[1] + '/dataset.pt'\n",
    "    set_af2 = torch.load(path_af2)\n",
    "    set_solved = torch.load(path_solved)\n",
    "    \n",
    "    return(set_af2, set_solved)"
   ]
  },
  {
   "cell_type": "code",
   "execution_count": 7,
   "metadata": {},
   "outputs": [],
   "source": [
    "def remove_NaN(data, y):\n",
    "    \n",
    "    '''\n",
    "    Function to remove NaN values (some PDB entries have RSA NaN values)\n",
    "        - 'data': numpy array with the specific (train, valid, test) data\n",
    "        - 'y': numpy array with the specific (train, valid, test) labels\n",
    "    \n",
    "    Output:\n",
    "        - 'data_noNaN': array withouth the entries/observations that contain NaN values\n",
    "    '''\n",
    "    \n",
    "    # Merging X and y arrays all together\n",
    "    joint_data = np.hstack((data, y.reshape(-1, 1)))\n",
    "    \n",
    "    # Removal of NaN entries\n",
    "    nan_rows = np.isnan(joint_data).any(axis=1)\n",
    "    data_noNaN = joint_data[~nan_rows, :]\n",
    "    \n",
    "    # Demerging the final array into X and y\n",
    "    X_noNaN = data_noNaN[:, 0:data.shape[1]]\n",
    "    y_noNaN = data_noNaN[:,-1]\n",
    "    \n",
    "    return(X_noNaN, y_noNaN)"
   ]
  },
  {
   "cell_type": "code",
   "execution_count": 8,
   "metadata": {},
   "outputs": [],
   "source": [
    "def normalize_train(X):\n",
    "    \n",
    "    '''\n",
    "    Function to normalize the columns 532 (pLLDT) and 533 (length) because they have high length\n",
    "        - 'X': data to normalize\n",
    "    '''\n",
    "    \n",
    "    # Create a copy of the X vector to do the normalization\n",
    "    X_scaled = X.copy()\n",
    "    \n",
    "    # Create an instance of MinMaxScaler\n",
    "    scaler = StandardScaler()\n",
    "    \n",
    "    # Fit the scaler to the data \n",
    "    #scaler.fit(X_scaled[:, 532:534])\n",
    "    scaler.fit(X_scaled)\n",
    "    \n",
    "    # Transform the data\n",
    "    #X_scaled[:, 532:534] = scaler.fit_transform(X_scaled[:, 532:534])\n",
    "    X_scaled = scaler.fit_transform(X_scaled)\n",
    "    return(X_scaled)"
   ]
  },
  {
   "cell_type": "code",
   "execution_count": 9,
   "metadata": {},
   "outputs": [],
   "source": [
    "def Z_transform_train(X, cols_to_select):\n",
    "    \n",
    "    '''\n",
    "    Function to normalize the columns 532 (pLLDT) and 533 (length) because they have high length\n",
    "        - 'X': data to normalize\n",
    "    '''\n",
    "    \n",
    "    # Obtain the mean and standard deviation for each feature on the array\n",
    "    X_mean = np.mean(X[:, cols_to_select], axis=0)\n",
    "    X_std = np.std(X[:, cols_to_select], axis=0)\n",
    "    \n",
    "    # Correcting pLDDT column sd in case of using only PDB set\n",
    "    X_std[X_std == 0] = 1\n",
    "    \n",
    "    # Z-transform (standardization)\n",
    "    X[:, cols_to_select] = (X[:, cols_to_select] - X_mean)/X_std\n",
    "    return(X, X_mean, X_std)"
   ]
  },
  {
   "cell_type": "code",
   "execution_count": 10,
   "metadata": {},
   "outputs": [],
   "source": [
    "def Z_transform_valid(X, mean_train, sd_train, cols_to_select):\n",
    "    \n",
    "    '''\n",
    "    Function to normalize the columns 532 (pLLDT) and 533 (length) because they have high length\n",
    "        - 'X': data to normalize\n",
    "        - 'mean_train': mean from standardized training set\n",
    "        - 'sd_train': standard deviation from standardized training set\n",
    "    '''\n",
    "    \n",
    "    # Z-transform (standardization)\n",
    "    X[:, cols_to_select] = (X[:, cols_to_select] - mean_train)/sd_train\n",
    "    return(X)"
   ]
  },
  {
   "cell_type": "code",
   "execution_count": 11,
   "metadata": {},
   "outputs": [],
   "source": [
    "def class_weight_calculator(y_train):\n",
    "        \n",
    "    '''\n",
    "    Function to calculate the class weights for the unbalanced data\n",
    "        - 'y_train': training labels (contains 0 and 1)\n",
    "    '''\n",
    "    \n",
    "    # Compute the class weights with sklearn function\n",
    "    class_weights = compute_class_weight('balanced', classes=np.unique(y_train), y=y_train)\n",
    "\n",
    "    # Convert the class weights to a dictionary\n",
    "    class_weight = dict(enumerate(class_weights))\n",
    "    return(class_weight)"
   ]
  },
  {
   "cell_type": "code",
   "execution_count": 12,
   "metadata": {},
   "outputs": [],
   "source": [
    "# Neuronal network model with one layer\n",
    "def nn_model(train_data, y_train, act_fun, loss_fun, alpha, class_weight_fn, batch = None, balancing=True):\n",
    "    \n",
    "    '''\n",
    "    Function to create and train/validate the feed-forward neuronal network with only 1 hidden layer\n",
    "        -'train_data': X train standardized\n",
    "        -'y_train': training labels\n",
    "        -'act_fun': activation function\n",
    "        -'loss_fun': loss function\n",
    "        -'class_weight_calculator': function to calculate the weights for each class\n",
    "        -'batch': batch_size (baseline is None, but can be changed by adding a integer as new value)\n",
    "        -'balancing': True/False argument for incorporating balancing in classes\n",
    "    \n",
    "    Output:\n",
    "        -'model': neural network model trained\n",
    "        -'history': attributes obtained during fitting the model\n",
    "    '''\n",
    "    \n",
    "    # Calculation of the class weights with function previously defined\n",
    "    class_weight = class_weight_fn(y_train)\n",
    "    \n",
    "    # Normalization of the class_weight to sum 1\n",
    "    tot = class_weight[0] + class_weight[1]\n",
    "    class_weight[0] = class_weight[0]/tot\n",
    "    class_weight[1] = class_weight[1]/tot\n",
    "    \n",
    "    # Implementation of keras for creating a sequential model with 1 layer\n",
    "    tf.random.set_seed(1234)\n",
    "    from keras.layers import Dense, Dropout\n",
    "    from keras import regularizers, metrics\n",
    "    \n",
    "    model = keras.Sequential()\n",
    "    # Input layer with train_data.shape neurons and a hidden layer with 1 neuron\n",
    "    model.add(Dense(1, activation=act_fun, input_shape=train_data.shape[1:], kernel_regularizer=regularizers.l2(alpha)))\n",
    "    # Output layer with sigmoid activation (better for binary classification)\n",
    "    model.add(Dense(1, activation='sigmoid'))\n",
    "    \n",
    "    opt = tf.keras.optimizers.Adam(learning_rate=0.0001)\n",
    "    model.compile(optimizer=opt, loss=loss_fun, metrics=\n",
    "                  ['accuracy', metrics.Precision(), metrics.Recall(), metrics.AUC(), loss_fun])\n",
    "    \n",
    "    if (balancing == True):\n",
    "        history = model.fit(train_data, y_train, epochs = 50, batch_size=batch, verbose=0, class_weight=class_weight)\n",
    "    else:\n",
    "        history = model.fit(train_data, y_train, epochs = 50, batch_size=batch, verbose=0)\n",
    "    \n",
    "    return(model, history)"
   ]
  },
  {
   "cell_type": "code",
   "execution_count": 13,
   "metadata": {},
   "outputs": [],
   "source": [
    "def loss_plot(loss_values):\n",
    "    \n",
    "    '''\n",
    "    Function to plot the loss curve of the training of the model\n",
    "        - 'loss_values': array with the loss values for each iteration of the training\n",
    "    '''\n",
    "    \n",
    "    plt.plot(loss_values, label = 'Train')\n",
    "    plt.title('Model loss')\n",
    "    plt.ylabel('Loss')\n",
    "    plt.xlabel('Epoch')\n",
    "    plt.legend(loc='upper right')\n",
    "    plt.show()"
   ]
  },
  {
   "cell_type": "code",
   "execution_count": 14,
   "metadata": {},
   "outputs": [],
   "source": [
    "def ROC_AUC(y_true, y_hat):\n",
    "    \n",
    "    '''\n",
    "    Function to obtain the AUC value based on the ROC curve\n",
    "        - 'y_true': y original values\n",
    "        - 'y_hat': y predicted values\n",
    "        \n",
    "    Output:\n",
    "        - 'ROC_auc': AUC value\n",
    "    '''\n",
    "    \n",
    "    fpr, tpr, _ = metrics.roc_curve(y_true, y_hat)\n",
    "    ROC_auc = metrics.auc(fpr, tpr)\n",
    "    return(ROC_auc)"
   ]
  },
  {
   "cell_type": "code",
   "execution_count": 15,
   "metadata": {},
   "outputs": [],
   "source": [
    "def PR_AUC(y_true, y_hat):\n",
    "    \n",
    "    '''\n",
    "    Function to obtain the AUC value based on the precision and recall parameters\n",
    "        - 'y_true': y original values\n",
    "        - 'y_hat': y predicted values\n",
    "        \n",
    "    Output:\n",
    "        - 'PR_auc': AUC value\n",
    "    '''\n",
    "    \n",
    "    precision, recall, thresholds = metrics.precision_recall_curve(y_true, y_hat)\n",
    "    PR_auc = metrics.auc(recall, precision)\n",
    "    return(PR_auc)"
   ]
  },
  {
   "cell_type": "code",
   "execution_count": 16,
   "metadata": {},
   "outputs": [],
   "source": [
    "# Epitope rank percentile score\n",
    "# https://github.com/Magnushhoie/discotope3/blob/main/src/models/mlscripts.py#L55\n",
    "\n",
    "def get_percentile_score_arr(\n",
    "    scores: np.array,\n",
    "    epitopes: np.array,\n",
    "):\n",
    "    \n",
    "    \"\"\"Find mean predicted epitope rank percentile score from the scores (y_hat) and the epitopes (y_true)\"\"\"\n",
    "    epitopes_bool = epitopes.astype(bool)\n",
    "    assert epitopes_bool.dtype == \"bool\"\n",
    "\n",
    "    c = scores[epitopes_bool].mean()\n",
    "    c_percentile = (c > scores).mean()\n",
    "\n",
    "    return c_percentile"
   ]
  },
  {
   "cell_type": "code",
   "execution_count": 17,
   "metadata": {
    "scrolled": true
   },
   "outputs": [
    {
     "data": {
      "text/plain": [
       "((446835, 536), (446835,), (115978, 536), (115978,), (11882, 536), (11882,))"
      ]
     },
     "execution_count": 17,
     "metadata": {},
     "output_type": "execute_result"
    }
   ],
   "source": [
    "# Data loading for training, validation, and test data sets (needs a couple of minutes)\n",
    "X_train, y_train, X_train_PDB, y_train_PDB, X_train_af2, y_train_af2 = data_load(name_set='train', data_dir='../Data/', separate = True)\n",
    "X_valid, y_valid, X_valid_PDB, y_valid_PDB, X_valid_af2, y_valid_af2 = data_load(name_set='valid', data_dir='../Data/', separate = True)\n",
    "X_test, y_test, X_test_PDB, y_test_PDB, X_test_af2, y_test_af2 = data_load(name_set='test', data_dir='../Data/', separate = True)\n",
    "\n",
    "X_train.shape, y_train.shape, X_valid.shape, y_valid.shape, X_test.shape, y_test.shape"
   ]
  },
  {
   "cell_type": "code",
   "execution_count": 18,
   "metadata": {
    "scrolled": true
   },
   "outputs": [],
   "source": [
    "## NOT NEEDED: ALREADY REMOVED WHEN LOADING THE DATA\n",
    "# Data manipulation to remove all PDB entries with NaN values in the RSA feature (535)\n",
    "\n",
    "# X_train, y_train = remove_NaN(data=X_train, y=y_train)\n",
    "# X_valid, y_valid = remove_NaN(data=X_valid, y=y_valid)\n",
    "# X_test, y_test = remove_NaN(data=X_test, y=y_test)\n",
    "\n",
    "# X_train.shape, y_train.shape, X_valid.shape, y_valid.shape, X_test.shape, y_test.shape"
   ]
  },
  {
   "cell_type": "code",
   "execution_count": 19,
   "metadata": {},
   "outputs": [
    {
     "data": {
      "text/plain": [
       "((446835, 536), (115978, 536), (11882, 536))"
      ]
     },
     "execution_count": 19,
     "metadata": {},
     "output_type": "execute_result"
    }
   ],
   "source": [
    "# Data normalization\n",
    "cols = list(range(0, 512)) + [532] + [533] + [535]\n",
    "X_train_sc, mean_X_train, sd_X_train = Z_transform_train(X_train, cols_to_select=cols)\n",
    "X_valid_sc = Z_transform_valid(X_valid, mean_X_train, sd_X_train, cols_to_select=cols)\n",
    "X_test_sc = Z_transform_valid(X_test, mean_X_train, sd_X_train, cols_to_select=cols)\n",
    "\n",
    "X_train_sc.shape, X_valid_sc.shape, X_test_sc.shape"
   ]
  },
  {
   "cell_type": "code",
   "execution_count": 20,
   "metadata": {},
   "outputs": [
    {
     "data": {
      "text/plain": [
       "((223346, 536), (57989, 536), (5941, 536))"
      ]
     },
     "execution_count": 20,
     "metadata": {},
     "output_type": "execute_result"
    }
   ],
   "source": [
    "# Data normalization (PDB only)\n",
    "cols = list(range(0, 512)) + [532] + [533] + [535]\n",
    "X_train_PDB_sc, mean_X_train_PDB, sd_X_train_PDB = Z_transform_train(X_train_PDB, cols_to_select=cols)\n",
    "X_valid_PDB_sc = Z_transform_valid(X_valid_PDB, mean_X_train_PDB, sd_X_train_PDB, cols_to_select=cols)\n",
    "X_test_PDB_sc = Z_transform_valid(X_test_PDB, mean_X_train_PDB, sd_X_train_PDB, cols_to_select=cols)\n",
    "\n",
    "X_train_PDB_sc.shape, X_valid_PDB_sc.shape, X_test_PDB_sc.shape"
   ]
  },
  {
   "cell_type": "code",
   "execution_count": 21,
   "metadata": {},
   "outputs": [
    {
     "data": {
      "text/plain": [
       "((223489, 536), (57989, 536), (5941, 536))"
      ]
     },
     "execution_count": 21,
     "metadata": {},
     "output_type": "execute_result"
    }
   ],
   "source": [
    "# Data normalization (AF2 only)\n",
    "cols = list(range(0, 512)) + [532] + [533] + [535]\n",
    "X_train_af2_sc, mean_X_train_af2, sd_X_train_af2 = Z_transform_train(X_train_af2, cols_to_select=cols)\n",
    "X_valid_af2_sc = Z_transform_valid(X_valid_af2, mean_X_train_af2, sd_X_train_af2, cols_to_select=cols)\n",
    "X_test_af2_sc = Z_transform_valid(X_test_af2, mean_X_train_af2, sd_X_train_af2, cols_to_select=cols)\n",
    "\n",
    "X_train_af2_sc.shape, X_valid_af2_sc.shape, X_test_af2_sc.shape"
   ]
  },
  {
   "cell_type": "code",
   "execution_count": 22,
   "metadata": {},
   "outputs": [
    {
     "name": "stdout",
     "output_type": "stream",
     "text": [
      "Class count (train):\n",
      "\n",
      "      Total: 446835\n",
      "      Epitope label: 40938 (9.16% of total)\n"
     ]
    }
   ],
   "source": [
    "# Class unbalanced in train\n",
    "zero, one = np.bincount(y_train.astype(int))\n",
    "total = zero + one\n",
    "print(\"Class count (train):\\n\\n      Total: {}\\n      Epitope label: {} ({:.2f}% of total)\".format(total, one, 100*one/total))"
   ]
  },
  {
   "cell_type": "code",
   "execution_count": 23,
   "metadata": {},
   "outputs": [
    {
     "name": "stdout",
     "output_type": "stream",
     "text": [
      "Class count (validation):\n",
      "\n",
      "      Total: 115978\n",
      "      Epitope label: 9578 (8.26% of total)\n"
     ]
    }
   ],
   "source": [
    "# Class unbalanced in valid\n",
    "zero, one = np.bincount(y_valid.astype(int))\n",
    "total = zero + one\n",
    "print(\"Class count (validation):\\n\\n      Total: {}\\n      Epitope label: {} ({:.2f}% of total)\".format(total, one, 100*one/total))"
   ]
  },
  {
   "cell_type": "code",
   "execution_count": 24,
   "metadata": {},
   "outputs": [
    {
     "name": "stdout",
     "output_type": "stream",
     "text": [
      "Class count (test):\n",
      "\n",
      "      Total: 11882\n",
      "      Epitope label: 712 (5.99% of total)\n"
     ]
    }
   ],
   "source": [
    "# Class unbalanced in train\n",
    "zero, one = np.bincount(y_test.astype(int))\n",
    "total = zero + one\n",
    "print(\"Class count (test):\\n\\n      Total: {}\\n      Epitope label: {} ({:.2f}% of total)\".format(total, one, 100*one/total))"
   ]
  },
  {
   "cell_type": "code",
   "execution_count": 25,
   "metadata": {
    "scrolled": true
   },
   "outputs": [
    {
     "name": "stdout",
     "output_type": "stream",
     "text": [
      "Class weight implemented\n"
     ]
    },
    {
     "data": {
      "text/plain": [
       "{0: 0.09161771123569103, 1: 0.9083822887643089}"
      ]
     },
     "execution_count": 25,
     "metadata": {},
     "output_type": "execute_result"
    }
   ],
   "source": [
    "# Calculation of the class weights with function previously defined\n",
    "class_weight = class_weight_calculator(y_train)\n",
    "    \n",
    "# Normalization of the class_weight to sum 1\n",
    "tot = class_weight[0] + class_weight[1]\n",
    "class_weight[0] = class_weight[0]/tot\n",
    "class_weight[1] = class_weight[1]/tot\n",
    "    \n",
    "print(\"Class weight implemented\")\n",
    "class_weight"
   ]
  },
  {
   "cell_type": "markdown",
   "metadata": {},
   "source": [
    "## Results dataframes for each PDB in the validation (comparison with DiscoTope results) "
   ]
  },
  {
   "cell_type": "code",
   "execution_count": 26,
   "metadata": {
    "scrolled": true
   },
   "outputs": [
    {
     "data": {
      "text/plain": [
       "(21, 21)"
      ]
     },
     "execution_count": 26,
     "metadata": {},
     "output_type": "execute_result"
    }
   ],
   "source": [
    "# Loading stats dataframe for comparison with DISCOTOPE results\n",
    "stats_test_solved, stats_test_AF2 = results_df_stats_creation(name_set='test', data_dir='../Data/')\n",
    "\n",
    "len(stats_test_solved), len(stats_test_AF2)"
   ]
  },
  {
   "cell_type": "code",
   "execution_count": 27,
   "metadata": {},
   "outputs": [
    {
     "name": "stdout",
     "output_type": "stream",
     "text": [
      "Nº of proteins in the test set: 21\n",
      "\n",
      "Are the total length equal to the y_test? True\n"
     ]
    }
   ],
   "source": [
    "# Checking that the sum of the length of each PDB ID is equal to the y_valid array\n",
    "# And creating a dictionary with the PDB_id and the protein length\n",
    "\n",
    "PDB_id = []\n",
    "length_PDB = np.empty(len(stats_test_solved))\n",
    "tot_len = 0\n",
    "for i in range(0, len(stats_test_solved), 1):\n",
    "    \n",
    "    # Sum of all the lengths\n",
    "    sample = stats_test_solved[i]\n",
    "    tot_len = tot_len + sample['length'][0]\n",
    "    \n",
    "    # Storing PDB and length\n",
    "    PDB_id.append(sample['pdb'][0][0:6])\n",
    "    length_PDB[i] = sample['length'][0]\n",
    "\n",
    "# Creating the dictionary of PDB -> Length\n",
    "PDB_length_dict = dict(zip(PDB_id, length_PDB))\n",
    "\n",
    "print('Nº of proteins in the test set:', len(PDB_id))\n",
    "print('\\nAre the total length equal to the y_test?', tot_len == len(y_test_PDB))"
   ]
  },
  {
   "cell_type": "markdown",
   "metadata": {},
   "source": [
    "## Training with whole data set"
   ]
  },
  {
   "cell_type": "code",
   "execution_count": 28,
   "metadata": {
    "scrolled": true
   },
   "outputs": [],
   "source": [
    "# Parameters definition\n",
    "loss = 'binary_crossentropy'\n",
    "act = 'relu'\n",
    "l2_value = 0.0001\n",
    "batch_size = 128\n",
    "class_balancing = False"
   ]
  },
  {
   "cell_type": "code",
   "execution_count": 29,
   "metadata": {},
   "outputs": [
    {
     "name": "stdout",
     "output_type": "stream",
     "text": [
      "372/372 [==============================] - 1s 1ms/step\n",
      "186/186 [==============================] - 0s 1ms/step\n",
      "186/186 [==============================] - 0s 1ms/step\n"
     ]
    }
   ],
   "source": [
    "# Training and validation of the model\n",
    "model, history = nn_model(train_data=X_train_sc, y_train=y_train, act_fun=act, loss_fun=loss, alpha=l2_value, \n",
    "                          class_weight_fn=class_weight_calculator, batch = batch_size, balancing = class_balancing)    \n",
    "\n",
    "# Obtaining probabilities values for whole test, test_PDB, and test_AF2\n",
    "y_pred_test_prob = model.predict(X_test_sc)\n",
    "y_pred_test_PDB_prob = model.predict(X_test_PDB_sc)\n",
    "y_pred_test_af2_prob = model.predict(X_test_af2_sc)"
   ]
  },
  {
   "cell_type": "code",
   "execution_count": 30,
   "metadata": {},
   "outputs": [],
   "source": [
    "# Mean of the y_pred_valid_prob\n",
    "y_pred_test_prob_mean = np.empty(len(y_pred_test_PDB_prob))\n",
    "for i in range(0, len(y_pred_test_PDB_prob), 1):\n",
    "    y_pred_test_prob_mean[i] = (y_pred_test_prob[i] + y_pred_test_prob[len(y_pred_test_PDB_prob)+i])/2"
   ]
  },
  {
   "cell_type": "code",
   "execution_count": 31,
   "metadata": {},
   "outputs": [],
   "source": [
    "# Loop to calculate the AUC for each PDB id (protein)\n",
    "\n",
    "k = 0\n",
    "cont = 0\n",
    "AUC_id_total = np.empty(len(PDB_id))\n",
    "AUC_id_solved = np.empty(len(PDB_id))\n",
    "AUC_id_af2 = np.empty(len(PDB_id))\n",
    "\n",
    "for i in PDB_id:\n",
    "    \n",
    "    # Predicted values for a protein\n",
    "    y_pred_id = np.concatenate((y_pred_test_prob[cont:(cont+int(PDB_length_dict[i]))], \n",
    "                               y_pred_test_prob[(cont+len(y_test_PDB)):(cont+len(y_test_PDB)+int(PDB_length_dict[i]))]))\n",
    "    y_pred_id_solved = y_pred_test_PDB_prob[cont:(cont+int(PDB_length_dict[i]))]\n",
    "    y_pred_id_af2 = y_pred_test_af2_prob[cont:(cont+int(PDB_length_dict[i]))]\n",
    "    \n",
    "    # Real values for a protein\n",
    "    y_test_id = np.concatenate((y_test[cont:(cont+int(PDB_length_dict[i]))], \n",
    "                               y_test[(cont+len(y_test_PDB)):(cont+len(y_test_PDB)+int(PDB_length_dict[i]))]))\n",
    "    y_test_id_solved = y_test_PDB[cont:(cont+int(PDB_length_dict[i]))]\n",
    "    y_test_id_af2 = y_test_af2[cont:(cont+int(PDB_length_dict[i]))]\n",
    "    \n",
    "    # AUC value for each protein\n",
    "    AUC_id_total[k] = ROC_AUC(y_test_id, y_pred_id)\n",
    "    AUC_id_solved[k] = ROC_AUC(y_test_id_solved, y_pred_id_solved)\n",
    "    AUC_id_af2[k] = ROC_AUC(y_test_id_af2, y_pred_id_af2)\n",
    "    \n",
    "    k += 1\n",
    "    cont = cont + int(PDB_length_dict[i])"
   ]
  },
  {
   "cell_type": "code",
   "execution_count": 32,
   "metadata": {},
   "outputs": [
    {
     "data": {
      "text/plain": [
       "(array([0.67976343, 0.55717489, 0.55313506, 0.86492979, 0.86264164,\n",
       "        0.90964579, 0.45625   , 0.5129644 , 0.5052454 , 0.84183673,\n",
       "        0.7707302 , 0.68463776, 0.721777  , 0.67057851, 0.68565188,\n",
       "        0.90943044, 0.61732784, 0.87961926, 0.43181818, 0.7018837 ,\n",
       "        0.60717593]),\n",
       " array([0.68158568, 0.73991031, 0.56540825, 0.88322247, 0.85573654,\n",
       "        0.91574945, 0.45      , 0.5       , 0.55689066, 0.8494898 ,\n",
       "        0.77784653, 0.69031532, 0.7300813 , 0.64099174, 0.66330645,\n",
       "        0.91569961, 0.67689621, 0.85386338, 0.27272727, 0.67895168,\n",
       "        0.6087963 ]),\n",
       " array([0.6741688 , 0.34977578, 0.54777583, 0.83665928, 0.86869688,\n",
       "        0.9013408 , 0.45      , 0.52593925, 0.45096589, 0.83482143,\n",
       "        0.76670792, 0.68219782, 0.71370499, 0.7077686 , 0.73051075,\n",
       "        0.8978258 , 0.56636727, 0.90257559, 0.56818182, 0.72563473,\n",
       "        0.61435185]))"
      ]
     },
     "execution_count": 32,
     "metadata": {},
     "output_type": "execute_result"
    }
   ],
   "source": [
    "# AUC scores for each type of test set\n",
    "AUC_id_total, AUC_id_solved, AUC_id_af2"
   ]
  },
  {
   "cell_type": "code",
   "execution_count": 33,
   "metadata": {
    "scrolled": true
   },
   "outputs": [
    {
     "name": "stdout",
     "output_type": "stream",
     "text": [
      "All results stored correctly as .csv and .xlsx files\n"
     ]
    }
   ],
   "source": [
    "# Dataframe with the AUC results of each protein (PDB ID)\n",
    "\n",
    "import warnings\n",
    "warnings.filterwarnings('ignore')\n",
    "\n",
    "# Create an empty DataFrame with the required columns\n",
    "df_results = pd.DataFrame(columns=['PDB_ID', 'Length', 'AUC_total', 'AUC_af2', 'AUC_DT_af2', 'AUC_solved', 'AUC_DT_solved'])\n",
    "\n",
    "cont = 0\n",
    "for i in range(0, len(stats_test_solved), 1):\n",
    "    \n",
    "    # Loading results dataframe and important variables\n",
    "    sample = stats_test_solved[i]\n",
    "    pdb_id = sample['pdb'][0][0:6]\n",
    "    length_pdb = sample['length'][0]\n",
    "    \n",
    "    # Calculate the AUC value for each protain according from the DiscoTope model (AF2)\n",
    "    df_discotope = pd.read_csv('discotope3_testset_benchmark.csv')\n",
    "    y_pred_af2_discotope = df_discotope.loc[df_discotope['pdb'] == pdb_id, 'DT3_af2']\n",
    "    y_test_id_af2 = y_test_af2[cont:(cont+int(length_pdb))]\n",
    "    AUC_af2_discotope = ROC_AUC(y_test_id_af2, y_pred_af2_discotope)\n",
    "    \n",
    "    # Calculate the AUC value for each protain according from the DiscoTope model (solved)\n",
    "    y_pred_solved_discotope = df_discotope.loc[df_discotope['pdb'] == pdb_id, 'DT3_solved']\n",
    "    y_test_id_solved = y_test_PDB[cont:(cont+int(length_pdb))]\n",
    "    AUC_solved_discotope = ROC_AUC(y_test_id_solved, y_pred_solved_discotope)\n",
    "    \n",
    "    # Create a new row with the specific values\n",
    "    new_row = pd.DataFrame([[pdb_id, length_pdb, AUC_id_total[i], AUC_id_af2[i], AUC_af2_discotope, AUC_id_solved[i], AUC_solved_discotope]], \n",
    "                           columns=['PDB_ID', 'Length', 'AUC_total', 'AUC_af2', 'AUC_DT_af2', 'AUC_solved', 'AUC_DT_solved'])\n",
    "    \n",
    "    # Add the new row to the DataFrame\n",
    "    df_results = df_results.append(new_row, ignore_index=True)\n",
    "    \n",
    "    # Update cont variable\n",
    "    cont = cont + int(length_pdb)\n",
    "    \n",
    "# Save the dataframe to a .csv file in the 'output' folder\n",
    "df_results.to_csv(('output_test/test_comparison.csv'), index=False)\n",
    "df_results.to_excel(('output_test/test_comparison.xlsx'), index=False, engine='xlsxwriter')\n",
    "\n",
    "print('All results stored correctly as .csv and .xlsx files')"
   ]
  },
  {
   "cell_type": "code",
   "execution_count": 34,
   "metadata": {},
   "outputs": [
    {
     "data": {
      "text/plain": [
       "Text(0.5, 1.0, 'ROC-AUC Scores by PDB ID')"
      ]
     },
     "execution_count": 34,
     "metadata": {},
     "output_type": "execute_result"
    },
    {
     "data": {
      "image/png": "[encoded data removed]",
      "text/plain": [
       "<Figure size 800x600 with 1 Axes>"
      ]
     },
     "metadata": {},
     "output_type": "display_data"
    }
   ],
   "source": [
    "# Plot columns on bar chart\n",
    "df_results[['PDB_ID', 'AUC_total', 'AUC_af2', 'AUC_DT_af2', 'AUC_solved', 'AUC_DT_solved']].plot(x='PDB_ID', kind='bar', figsize=(8, 6))\n",
    "\n",
    "plt.ylabel('ROC-AUC')\n",
    "plt.title('ROC-AUC Scores by PDB ID')"
   ]
  },
  {
   "cell_type": "code",
   "execution_count": 35,
   "metadata": {},
   "outputs": [
    {
     "data": {
      "text/plain": [
       "Text(0.5, 1.0, 'ROC-AUC Scores by PDB ID (AF2)')"
      ]
     },
     "execution_count": 35,
     "metadata": {},
     "output_type": "execute_result"
    },
    {
     "data": {
      "image/png": "[encoded data removed]",
      "text/plain": [
       "<Figure size 800x600 with 1 Axes>"
      ]
     },
     "metadata": {},
     "output_type": "display_data"
    }
   ],
   "source": [
    "# Plot columns on bar chart\n",
    "df_results[['PDB_ID', 'AUC_total', 'AUC_af2', 'AUC_DT_af2']].plot(x='PDB_ID', kind='bar', figsize=(8, 6))\n",
    "\n",
    "plt.ylabel('ROC-AUC')\n",
    "plt.title('ROC-AUC Scores by PDB ID (AF2)')"
   ]
  },
  {
   "cell_type": "code",
   "execution_count": 36,
   "metadata": {},
   "outputs": [
    {
     "name": "stdout",
     "output_type": "stream",
     "text": [
      "AUC_af2 (network) has bigger values than AUC_af2_DT 8 times out of 21 ( 0.38095238095238093 )\n"
     ]
    }
   ],
   "source": [
    "# Check how many AUC values for the network are higher than DT, for all of the AF2 test set\n",
    "\n",
    "AUC_af2 = df_results['AUC_af2'].values\n",
    "AUC_af2_DT = df_results['AUC_DT_af2'].values\n",
    "\n",
    "count = 0\n",
    "for i in range(len(AUC_af2)):\n",
    "    if AUC_af2[i] > AUC_af2_DT[i]:\n",
    "        count += 1\n",
    "\n",
    "print(\"AUC_af2 (network) has bigger values than AUC_af2_DT\", count, \"times\", \"out of\", str(len(AUC_af2)), \"(\", str(count/len(AUC_af2)), \")\")"
   ]
  },
  {
   "cell_type": "code",
   "execution_count": 37,
   "metadata": {},
   "outputs": [
    {
     "data": {
      "text/plain": [
       "Text(0.5, 1.0, 'ROC-AUC Scores by PDB ID (Solved)')"
      ]
     },
     "execution_count": 37,
     "metadata": {},
     "output_type": "execute_result"
    },
    {
     "data": {
      "image/png": "[encoded data removed]",
      "text/plain": [
       "<Figure size 800x600 with 1 Axes>"
      ]
     },
     "metadata": {},
     "output_type": "display_data"
    }
   ],
   "source": [
    "# Plot columns on bar chart\n",
    "df_results[['PDB_ID', 'AUC_total', 'AUC_solved', 'AUC_DT_solved']].plot(x='PDB_ID', kind='bar', figsize=(8, 6))\n",
    "\n",
    "plt.ylabel('ROC-AUC')\n",
    "plt.title('ROC-AUC Scores by PDB ID (Solved)')"
   ]
  },
  {
   "cell_type": "code",
   "execution_count": 38,
   "metadata": {},
   "outputs": [
    {
     "name": "stdout",
     "output_type": "stream",
     "text": [
      "AUC_solved (network) has bigger values than AUC_solved_DT 9 times out of 21 ( 0.42857142857142855 )\n"
     ]
    }
   ],
   "source": [
    "# Check how many AUC values for the network are higher than DT, for all of the PDB test set\n",
    "\n",
    "AUC_solved = df_results['AUC_solved'].values\n",
    "AUC_solved_DT = df_results['AUC_DT_solved'].values\n",
    "\n",
    "count = 0\n",
    "for i in range(len(AUC_solved)):\n",
    "    if AUC_solved[i] > AUC_solved_DT[i]:\n",
    "        count += 1\n",
    "\n",
    "print(\"AUC_solved (network) has bigger values than AUC_solved_DT\", count, \"times\", \"out of\", str(len(AUC_solved)), \"(\", str(count/len(AUC_solved)), \")\")"
   ]
  }
 ],
 "metadata": {
  "kernelspec": {
   "display_name": "Python 3 (ipykernel)",
   "language": "python",
   "name": "python3"
  },
  "language_info": {
   "codemirror_mode": {
    "name": "ipython",
    "version": 3
   },
   "file_extension": ".py",
   "mimetype": "text/x-python",
   "name": "python",
   "nbconvert_exporter": "python",
   "pygments_lexer": "ipython3",
   "version": "3.10.9"
  },
  "vscode": {
   "interpreter": {
    "hash": "98d96843242ea63546b941eb98e2ac308b462277a7c4020ae14ccf41d9fe0ade"
   }
  }
 },
 "nbformat": 4,
 "nbformat_minor": 2
}
